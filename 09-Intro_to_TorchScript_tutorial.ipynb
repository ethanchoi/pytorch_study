{
 "cells": [
  {
   "cell_type": "code",
   "execution_count": 3,
   "metadata": {},
   "outputs": [
    {
     "name": "stdout",
     "output_type": "stream",
     "text": [
      "Requirement already up-to-date: torch in /Users/ec932586/anaconda3/envs/pytorch/lib/python3.7/site-packages (1.2.0)\r\n",
      "Requirement already satisfied, skipping upgrade: numpy in /Users/ec932586/anaconda3/envs/pytorch/lib/python3.7/site-packages (from torch) (1.16.4)\r\n"
     ]
    }
   ],
   "source": [
    "!pip install --upgrade torch\n",
    "%matplotlib inline"
   ]
  },
  {
   "cell_type": "markdown",
   "metadata": {},
   "source": [
    "### This code is brought from PyTorch Tutorial examples and it is slightly modified or added\n",
    "### @AI Robotics KR, Study-Pytorch"
   ]
  },
  {
   "cell_type": "markdown",
   "metadata": {},
   "source": [
    "\n",
    "Introduction to TorchScript\n",
    "===========================\n",
    "\n",
    "*James Reed (jamesreed@fb.com), Michael Suo (suo@fb.com)*, rev2\n",
    "\n",
    "In this tutorial we will cover:\n",
    "\n",
    "1. The basics of model authoring in PyTorch, including:\n",
    "\n",
    "-  Modules\n",
    "-  Defining ``forward`` functions\n",
    "-  Composing modules into a hierarchy of modules\n",
    "\n",
    "2. Methods for converting PyTorch modules to TorchScript, our\n",
    "   high-performance deployment runtime\n",
    "\n",
    "-  Tracing an existing module\n",
    "-  Using scripting to directly compile a module\n",
    "-  How to compose both approaches\n",
    "-  Saving and loading TorchScript modules\n",
    "\n",
    "\n"
   ]
  },
  {
   "cell_type": "code",
   "execution_count": 18,
   "metadata": {},
   "outputs": [
    {
     "name": "stdout",
     "output_type": "stream",
     "text": [
      "1.2.0\n"
     ]
    }
   ],
   "source": [
    "import torch # This is all you need to use both PyTorch and TorchScript!\n",
    "print(torch.__version__)"
   ]
  },
  {
   "cell_type": "markdown",
   "metadata": {},
   "source": [
    "Basics of PyTorch Model Authoring\n",
    "---------------------------------\n",
    "\n",
    "Let’s start out be defining a simple ``Module``. A ``Module`` is the\n",
    "basic unit of composition in PyTorch. It contains:\n",
    "\n",
    "1. A constructor, which prepares the module for invocation\n",
    "2. A set of ``Parameters`` and sub-\\ ``Modules``. These are initialized\n",
    "   by the constructor and can be used by the module during invocation.\n",
    "3. A ``forward`` function. This is the code that is run when the module\n",
    "   is invoked.\n",
    "\n",
    "Let’s examine a small example:\n",
    "\n",
    "\n"
   ]
  },
  {
   "cell_type": "code",
   "execution_count": 19,
   "metadata": {},
   "outputs": [
    {
     "name": "stdout",
     "output_type": "stream",
     "text": [
      "(tensor([[0.8476, 0.7678, 0.7432, 0.9465],\n",
      "        [0.9451, 0.7765, 0.7623, 0.9383],\n",
      "        [0.8880, 0.7865, 0.7809, 0.8359]]), tensor([[0.8476, 0.7678, 0.7432, 0.9465],\n",
      "        [0.9451, 0.7765, 0.7623, 0.9383],\n",
      "        [0.8880, 0.7865, 0.7809, 0.8359]]))\n"
     ]
    }
   ],
   "source": [
    "class MyCell(torch.nn.Module):\n",
    "    def __init__(self):\n",
    "        super(MyCell, self).__init__()\n",
    "\n",
    "    def forward(self, x, h):\n",
    "        new_h = torch.tanh(x + h)\n",
    "        return new_h, new_h\n",
    "      \n",
    "my_cell = MyCell()\n",
    "x = torch.rand(3, 4)\n",
    "h = torch.rand(3, 4)\n",
    "print(my_cell(x, h))"
   ]
  },
  {
   "cell_type": "markdown",
   "metadata": {},
   "source": [
    "So we’ve:\n",
    "\n",
    "1. Created a class that subclasses ``torch.nn.Module``.\n",
    "2. Defined a constructor. The constructor doesn’t do much, just calls\n",
    "   the constructor for ``super``.\n",
    "3. Defined a ``forward`` function, which takes two inputs and returns\n",
    "   two outputs. The actual contents of the ``forward`` function are not\n",
    "   really important, but it’s sort of a fake `RNN\n",
    "   cell <https://colah.github.io/posts/2015-08-Understanding-LSTMs/>`__–that\n",
    "   is–it’s a function that is applied on a loop.\n",
    "\n",
    "We instantiated the module, and made ``x`` and ``y``, which are just 3x4\n",
    "matrices of random values. Then we invoked the cell with\n",
    "``my_cell(x, h)``. This in turn calls our ``forward`` function.\n",
    "\n",
    "Let’s do something a little more interesting:\n",
    "\n",
    "\n"
   ]
  },
  {
   "cell_type": "code",
   "execution_count": 6,
   "metadata": {},
   "outputs": [
    {
     "name": "stdout",
     "output_type": "stream",
     "text": [
      "MyCell(\n",
      "  (linear): Linear(in_features=4, out_features=4, bias=True)\n",
      ")\n",
      "(tensor([[0.4079, 0.5702, 0.7032, 0.8396],\n",
      "        [0.7945, 0.7680, 0.5097, 0.8453],\n",
      "        [0.4677, 0.2363, 0.8760, 0.7393]], grad_fn=<TanhBackward>), tensor([[0.4079, 0.5702, 0.7032, 0.8396],\n",
      "        [0.7945, 0.7680, 0.5097, 0.8453],\n",
      "        [0.4677, 0.2363, 0.8760, 0.7393]], grad_fn=<TanhBackward>))\n"
     ]
    }
   ],
   "source": [
    "class MyCell(torch.nn.Module):\n",
    "    def __init__(self):\n",
    "        super(MyCell, self).__init__()\n",
    "        self.linear = torch.nn.Linear(4, 4)\n",
    "\n",
    "    def forward(self, x, h):\n",
    "        new_h = torch.tanh(self.linear(x) + h)\n",
    "        return new_h, new_h\n",
    "\n",
    "my_cell = MyCell()\n",
    "print(my_cell)\n",
    "print(my_cell(x, h))"
   ]
  },
  {
   "cell_type": "markdown",
   "metadata": {},
   "source": [
    "We’ve redefined our module ``MyCell``, but this time we’ve added a\n",
    "``self.linear`` attribute, and we invoke ``self.linear`` in the forward\n",
    "function.\n",
    "\n",
    "What exactly is happening here? ``torch.nn.Linear`` is a ``Module`` from\n",
    "the PyTorch standard library. Just like ``MyCell``, it can be invoked\n",
    "using the call syntax. We are building a hierarchy of ``Module``\\ s.\n",
    "\n",
    "``print`` on a ``Module`` will give a visual representation of the\n",
    "``Module``\\ ’s subclass hierarchy. In our example, we can see our\n",
    "``Linear`` subclass and its parameters.\n",
    "\n",
    "By composing ``Module``\\ s in this way, we can succintly and readably\n",
    "author models with reusable components.\n",
    "\n",
    "You may have noticed ``grad_fn`` on the outputs. This is a detail of\n",
    "PyTorch’s method of automatic differentiation, called\n",
    "`autograd <https://pytorch.org/tutorials/beginner/blitz/autograd_tutorial.html>`__.\n",
    "In short, this system allows us to compute derivatives through\n",
    "potentially complex programs. The design allows for a massive amount of\n",
    "flexibility in model authoring.\n",
    "\n",
    "Now let’s examine said flexibility:\n",
    "\n",
    "\n"
   ]
  },
  {
   "cell_type": "code",
   "execution_count": 7,
   "metadata": {},
   "outputs": [
    {
     "name": "stdout",
     "output_type": "stream",
     "text": [
      "MyCell(\n",
      "  (dg): MyDecisionGate()\n",
      "  (linear): Linear(in_features=4, out_features=4, bias=True)\n",
      ")\n",
      "(tensor([[0.7191, 0.1609, 0.4906, 0.7070],\n",
      "        [0.9104, 0.1886, 0.1653, 0.7033],\n",
      "        [0.7365, 0.3463, 0.8268, 0.4874]], grad_fn=<TanhBackward>), tensor([[0.7191, 0.1609, 0.4906, 0.7070],\n",
      "        [0.9104, 0.1886, 0.1653, 0.7033],\n",
      "        [0.7365, 0.3463, 0.8268, 0.4874]], grad_fn=<TanhBackward>))\n"
     ]
    }
   ],
   "source": [
    "class MyDecisionGate(torch.nn.Module):\n",
    "  def forward(self, x):\n",
    "    if x.sum() > 0:\n",
    "      return x\n",
    "    else:\n",
    "      return -x\n",
    "\n",
    "class MyCell(torch.nn.Module):\n",
    "    def __init__(self):\n",
    "        super(MyCell, self).__init__()\n",
    "        self.dg = MyDecisionGate()\n",
    "        self.linear = torch.nn.Linear(4, 4)\n",
    "\n",
    "    def forward(self, x, h):\n",
    "        new_h = torch.tanh(self.dg(self.linear(x)) + h)\n",
    "        return new_h, new_h\n",
    "\n",
    "my_cell = MyCell()\n",
    "print(my_cell)\n",
    "print(my_cell(x, h))"
   ]
  },
  {
   "cell_type": "markdown",
   "metadata": {},
   "source": [
    "We’ve once again redefined our MyCell class, but here we’ve defined\n",
    "``MyDecisionGate``. This module utilizes **control flow**. Control flow\n",
    "consists of things like loops and ``if``-statements.\n",
    "\n",
    "Many frameworks take the approach of computing symbolic derivatives\n",
    "given a full program representation. However, in PyTorch, we use a\n",
    "gradient tape. We record operations as they occur, and replay them\n",
    "backwards in computing derivatives. In this way, the framework does not\n",
    "have to explicitly define derivatives for all constructs in the\n",
    "language.\n",
    "\n",
    ".. figure:: https://github.com/pytorch/pytorch/raw/master/docs/source/_static/img/dynamic_graph.gif\n",
    "   :alt: How autograd works\n",
    "\n",
    "   How autograd works\n",
    "\n",
    "<img src=\"./data/dynamic_graph.gif\" />\n"
   ]
  },
  {
   "cell_type": "markdown",
   "metadata": {},
   "source": [
    "Basics of TorchScript\n",
    "---------------------\n",
    "\n",
    "Now let’s take our running example and see how we can apply TorchScript.\n",
    "\n",
    "In short, TorchScript provides tools to capture the definition of your\n",
    "model, even in light of the flexible and dynamic nature of PyTorch.\n",
    "Let’s begin by examining what we call **tracing**.\n",
    "\n",
    "Tracing ``Modules``\n",
    "~~~~~~~~~~~~~~~~~~~\n",
    "\n",
    "\n"
   ]
  },
  {
   "cell_type": "code",
   "execution_count": 20,
   "metadata": {},
   "outputs": [
    {
     "name": "stdout",
     "output_type": "stream",
     "text": [
      "TracedModule[MyCell](\n",
      "  (linear): TracedModule[Linear]()\n",
      ")\n"
     ]
    },
    {
     "data": {
      "text/plain": [
       "(tensor([[ 0.7177,  0.8447,  0.7951, -0.2914],\n",
       "         [ 0.1463,  0.6168,  0.7242,  0.7223],\n",
       "         [ 0.7285,  0.5909,  0.8445,  0.6603]],\n",
       "        grad_fn=<DifferentiableGraphBackward>),\n",
       " tensor([[ 0.7177,  0.8447,  0.7951, -0.2914],\n",
       "         [ 0.1463,  0.6168,  0.7242,  0.7223],\n",
       "         [ 0.7285,  0.5909,  0.8445,  0.6603]],\n",
       "        grad_fn=<DifferentiableGraphBackward>))"
      ]
     },
     "execution_count": 20,
     "metadata": {},
     "output_type": "execute_result"
    }
   ],
   "source": [
    "class MyCell(torch.nn.Module):\n",
    "    def __init__(self):\n",
    "        super(MyCell, self).__init__()\n",
    "        self.linear = torch.nn.Linear(4, 4)\n",
    "\n",
    "    def forward(self, x, h):\n",
    "        new_h = torch.tanh(self.linear(x) + h)\n",
    "        return new_h, new_h\n",
    "      \n",
    "my_cell = MyCell()\n",
    "x, h = torch.rand(3, 4), torch.rand(3, 4)\n",
    "traced_cell = torch.jit.trace(my_cell, (x, h))\n",
    "print(traced_cell)\n",
    "traced_cell(x, h)"
   ]
  },
  {
   "cell_type": "markdown",
   "metadata": {},
   "source": [
    "We’ve rewinded a bit and taken the second version of our ``MyCell``\n",
    "class. As before, we’ve instantiated it, but this time, we’ve called\n",
    "``torch.jit.trace``, passed in the ``Module``, and passed in *example\n",
    "inputs* the network might see.\n",
    "\n",
    "What exactly has this done? It has invoked the ``Module``, recorded the\n",
    "operations that occured when the ``Module`` was run, and created an\n",
    "instance of ``torch.jit.ScriptModule`` (of which ``TracedModule`` is an\n",
    "instance)\n",
    "\n",
    "TorchScript records its definitions in an Intermediate Representation\n",
    "(or IR), commonly referred to in Deep learning as a *graph*. We can\n",
    "examine the graph with the ``.graph`` property:\n",
    "\n",
    "\n"
   ]
  },
  {
   "cell_type": "code",
   "execution_count": 21,
   "metadata": {},
   "outputs": [
    {
     "name": "stdout",
     "output_type": "stream",
     "text": [
      "graph(%self : ClassType<MyCell>,\n",
      "      %input : Float(3, 4),\n",
      "      %h : Float(3, 4)):\n",
      "  %1 : ClassType<Linear> = prim::GetAttr[name=\"linear\"](%self)\n",
      "  %weight : Tensor = prim::GetAttr[name=\"weight\"](%1)\n",
      "  %bias : Tensor = prim::GetAttr[name=\"bias\"](%1)\n",
      "  %6 : Float(4!, 4!) = aten::t(%weight), scope: MyCell/Linear[linear] # /Users/ec932586/anaconda3/envs/pytorch/lib/python3.7/site-packages/torch/nn/functional.py:1369:0\n",
      "  %7 : int = prim::Constant[value=1](), scope: MyCell/Linear[linear] # /Users/ec932586/anaconda3/envs/pytorch/lib/python3.7/site-packages/torch/nn/functional.py:1369:0\n",
      "  %8 : int = prim::Constant[value=1](), scope: MyCell/Linear[linear] # /Users/ec932586/anaconda3/envs/pytorch/lib/python3.7/site-packages/torch/nn/functional.py:1369:0\n",
      "  %9 : Float(3, 4) = aten::addmm(%bias, %input, %6, %7, %8), scope: MyCell/Linear[linear] # /Users/ec932586/anaconda3/envs/pytorch/lib/python3.7/site-packages/torch/nn/functional.py:1369:0\n",
      "  %10 : int = prim::Constant[value=1](), scope: MyCell # <ipython-input-20-daf2479549f6>:7:0\n",
      "  %11 : Float(3, 4) = aten::add(%9, %h, %10), scope: MyCell # <ipython-input-20-daf2479549f6>:7:0\n",
      "  %12 : Float(3, 4) = aten::tanh(%11), scope: MyCell # <ipython-input-20-daf2479549f6>:7:0\n",
      "  %13 : (Float(3, 4), Float(3, 4)) = prim::TupleConstruct(%12, %12)\n",
      "  return (%13)\n",
      "\n"
     ]
    }
   ],
   "source": [
    "print(traced_cell.graph)"
   ]
  },
  {
   "cell_type": "markdown",
   "metadata": {},
   "source": [
    "However, this is a very low-level representation and most of the\n",
    "information contained in the graph is not useful for end users. Instead,\n",
    "we can use the ``.code`` property to give a Python-syntax interpretation\n",
    "of the code:\n",
    "\n",
    "\n"
   ]
  },
  {
   "cell_type": "code",
   "execution_count": 22,
   "metadata": {},
   "outputs": [
    {
     "name": "stdout",
     "output_type": "stream",
     "text": [
      "def forward(self,\n",
      "    input: Tensor,\n",
      "    h: Tensor) -> Tuple[Tensor, Tensor]:\n",
      "  _0 = self.linear\n",
      "  weight = _0.weight\n",
      "  bias = _0.bias\n",
      "  _1 = torch.addmm(bias, input, torch.t(weight), beta=1, alpha=1)\n",
      "  _2 = torch.tanh(torch.add(_1, h, alpha=1))\n",
      "  return (_2, _2)\n",
      "\n"
     ]
    }
   ],
   "source": [
    "print(traced_cell.code)"
   ]
  },
  {
   "cell_type": "markdown",
   "metadata": {},
   "source": [
    "So **why** did we do all this? There are several reasons:\n",
    "\n",
    "1. TorchScript code can be invoked in its own interpreter, which is\n",
    "   basically a restricted Python interpreter. This interpreter does not\n",
    "   acquire the Global Interpreter Lock, and so many requests can be\n",
    "   processed on the same instance simultaneously.\n",
    "2. This format allows us to save the whole model to disk and load it\n",
    "   into another environment, such as in a server written in a language\n",
    "   other than Python\n",
    "3. TorchScript gives us a representation in which we can do compiler\n",
    "   optimizations on the code to provide more efficient execution\n",
    "4. TorchScript allows us to interface with many backend/device runtimes\n",
    "   that require a broader view of the program than individual operators.\n",
    "\n",
    "We can see that invoking ``traced_cell`` produces the same results as\n",
    "the Python module:\n",
    "\n",
    "\n"
   ]
  },
  {
   "cell_type": "code",
   "execution_count": 11,
   "metadata": {},
   "outputs": [
    {
     "name": "stdout",
     "output_type": "stream",
     "text": [
      "(tensor([[ 0.6119,  0.5223,  0.4141, -0.1379],\n",
      "        [ 0.8640,  0.6076,  0.4444, -0.1320],\n",
      "        [ 0.4779,  0.3923,  0.5432,  0.2379]], grad_fn=<TanhBackward>), tensor([[ 0.6119,  0.5223,  0.4141, -0.1379],\n",
      "        [ 0.8640,  0.6076,  0.4444, -0.1320],\n",
      "        [ 0.4779,  0.3923,  0.5432,  0.2379]], grad_fn=<TanhBackward>))\n",
      "(tensor([[ 0.6119,  0.5223,  0.4141, -0.1379],\n",
      "        [ 0.8640,  0.6076,  0.4444, -0.1320],\n",
      "        [ 0.4779,  0.3923,  0.5432,  0.2379]],\n",
      "       grad_fn=<DifferentiableGraphBackward>), tensor([[ 0.6119,  0.5223,  0.4141, -0.1379],\n",
      "        [ 0.8640,  0.6076,  0.4444, -0.1320],\n",
      "        [ 0.4779,  0.3923,  0.5432,  0.2379]],\n",
      "       grad_fn=<DifferentiableGraphBackward>))\n"
     ]
    }
   ],
   "source": [
    "print(my_cell(x, h))\n",
    "print(traced_cell(x, h))"
   ]
  },
  {
   "cell_type": "markdown",
   "metadata": {},
   "source": [
    "Using Scripting to Convert Modules\n",
    "----------------------------------\n",
    "\n",
    "There’s a reason we used version two of our module, and not the one with\n",
    "the control-flow-laden submodule. Let’s examine that now:\n",
    "\n",
    "\n"
   ]
  },
  {
   "cell_type": "code",
   "execution_count": 23,
   "metadata": {},
   "outputs": [
    {
     "name": "stdout",
     "output_type": "stream",
     "text": [
      "def forward(self,\n",
      "    input: Tensor,\n",
      "    h: Tensor) -> Tuple[Tensor, Tensor]:\n",
      "  _0 = self.linear\n",
      "  weight = _0.weight\n",
      "  bias = _0.bias\n",
      "  x = torch.addmm(bias, input, torch.t(weight), beta=1, alpha=1)\n",
      "  _1 = torch.tanh(torch.add(torch.neg(x), h, alpha=1))\n",
      "  return (_1, _1)\n",
      "\n"
     ]
    },
    {
     "name": "stderr",
     "output_type": "stream",
     "text": [
      "/Users/ec932586/anaconda3/envs/pytorch/lib/python3.7/site-packages/ipykernel_launcher.py:3: TracerWarning: Converting a tensor to a Python boolean might cause the trace to be incorrect. We can't record the data flow of Python values, so this value will be treated as a constant in the future. This means that the trace might not generalize to other inputs!\n",
      "  This is separate from the ipykernel package so we can avoid doing imports until\n"
     ]
    }
   ],
   "source": [
    "class MyDecisionGate(torch.nn.Module):\n",
    "  def forward(self, x):\n",
    "    if x.sum() > 0:\n",
    "      return x\n",
    "    else:\n",
    "      return -x\n",
    "\n",
    "class MyCell(torch.nn.Module):\n",
    "    def __init__(self, dg):\n",
    "        super(MyCell, self).__init__()\n",
    "        self.dg = dg\n",
    "        self.linear = torch.nn.Linear(4, 4)\n",
    "\n",
    "    def forward(self, x, h):\n",
    "        new_h = torch.tanh(self.dg(self.linear(x)) + h)\n",
    "        return new_h, new_h\n",
    "      \n",
    "my_cell = MyCell(MyDecisionGate())\n",
    "traced_cell = torch.jit.trace(my_cell, (x, h))\n",
    "print(traced_cell.code)"
   ]
  },
  {
   "cell_type": "markdown",
   "metadata": {},
   "source": [
    "Looking at the ``.code`` output, we can see that the ``if-else`` branch\n",
    "is nowhere to be found! Why? Tracing does exactly what we said it would:\n",
    "run the code, record the operations *that happen* and construct a\n",
    "ScriptModule that does exactly that. Unfortunately, things like control\n",
    "flow are erased.\n",
    "\n",
    "How can we faithfully represent this module in TorchScript? We provide a\n",
    "**script compiler**, which does direct analysis of your Python source\n",
    "code to transform it into TorchScript. Let’s convert ``MyDecisionGate``\n",
    "using the script compiler:\n",
    "\n",
    "\n"
   ]
  },
  {
   "cell_type": "code",
   "execution_count": 24,
   "metadata": {},
   "outputs": [
    {
     "name": "stdout",
     "output_type": "stream",
     "text": [
      "def forward(self,\n",
      "    x: Tensor,\n",
      "    h: Tensor) -> Tuple[Tensor, Tensor]:\n",
      "  _0 = self.linear\n",
      "  _1 = _0.weight\n",
      "  _2 = _0.bias\n",
      "  if torch.eq(torch.dim(x), 2):\n",
      "    _3 = torch.__isnot__(_2, None)\n",
      "  else:\n",
      "    _3 = False\n",
      "  if _3:\n",
      "    bias = ops.prim.unchecked_unwrap_optional(_2)\n",
      "    ret = torch.addmm(bias, x, torch.t(_1), beta=1, alpha=1)\n",
      "  else:\n",
      "    output = torch.matmul(x, torch.t(_1))\n",
      "    if torch.__isnot__(_2, None):\n",
      "      bias0 = ops.prim.unchecked_unwrap_optional(_2)\n",
      "      output0 = torch.add_(output, bias0, alpha=1)\n",
      "    else:\n",
      "      output0 = output\n",
      "    ret = output0\n",
      "  _4 = torch.gt(torch.sum(ret, dtype=None), 0)\n",
      "  if bool(_4):\n",
      "    _5 = ret\n",
      "  else:\n",
      "    _5 = torch.neg(ret)\n",
      "  new_h = torch.tanh(torch.add(_5, h, alpha=1))\n",
      "  return (new_h, new_h)\n",
      "\n"
     ]
    }
   ],
   "source": [
    "# if you encounter errors here, you need to check up torch version, it should be >=1.2\n",
    "scripted_gate = torch.jit.script(MyDecisionGate())\n",
    "\n",
    "my_cell = MyCell(scripted_gate)\n",
    "traced_cell = torch.jit.script(my_cell)\n",
    "print(traced_cell.code)"
   ]
  },
  {
   "cell_type": "markdown",
   "metadata": {},
   "source": [
    "Hooray! We’ve now faithfully captured the behavior of our program in\n",
    "TorchScript. Let’s now try running the program:\n",
    "\n",
    "\n"
   ]
  },
  {
   "cell_type": "code",
   "execution_count": 25,
   "metadata": {},
   "outputs": [
    {
     "data": {
      "text/plain": [
       "(tensor([[0.3919, 0.6940, 0.5271, 0.4456],\n",
       "         [0.2453, 0.7834, 0.6163, 0.6912],\n",
       "         [0.0766, 0.7447, 0.5965, 0.2945]],\n",
       "        grad_fn=<DifferentiableGraphBackward>),\n",
       " tensor([[0.3919, 0.6940, 0.5271, 0.4456],\n",
       "         [0.2453, 0.7834, 0.6163, 0.6912],\n",
       "         [0.0766, 0.7447, 0.5965, 0.2945]],\n",
       "        grad_fn=<DifferentiableGraphBackward>))"
      ]
     },
     "execution_count": 25,
     "metadata": {},
     "output_type": "execute_result"
    }
   ],
   "source": [
    "# New inputs\n",
    "x, h = torch.rand(3, 4), torch.rand(3, 4)\n",
    "traced_cell(x, h)"
   ]
  },
  {
   "cell_type": "markdown",
   "metadata": {},
   "source": [
    "Mixing Scripting and Tracing\n",
    "~~~~~~~~~~~~~~~~~~~~~~~~~~~~\n",
    "\n",
    "Some situations call for using tracing rather than scripting (e.g. a\n",
    "module has many architectural decisions that are made based on constant\n",
    "Python values that we would like to not appear in TorchScript). In this\n",
    "case, scripting can be composed with tracing: ``torch.jit.script`` will\n",
    "inline the code for a traced module, and tracing will inline the code\n",
    "for a scripted module.\n",
    "\n",
    "An example of the first case:\n",
    "\n",
    "\n"
   ]
  },
  {
   "cell_type": "code",
   "execution_count": 28,
   "metadata": {},
   "outputs": [
    {
     "name": "stdout",
     "output_type": "stream",
     "text": [
      "def forward(self,\n",
      "    xs: Tensor) -> Tuple[Tensor, Tensor]:\n",
      "  h = torch.zeros([3, 4], dtype=None, layout=None, device=None, pin_memory=None)\n",
      "  y = torch.zeros([3, 4], dtype=None, layout=None, device=None, pin_memory=None)\n",
      "  y0, h0 = y, h\n",
      "  for i in range(torch.size(xs, 0)):\n",
      "    _0 = self.cell\n",
      "    _1 = torch.select(xs, 0, i)\n",
      "    _2 = _0.linear\n",
      "    weight = _2.weight\n",
      "    bias = _2.bias\n",
      "    _3 = torch.addmm(bias, _1, torch.t(weight), beta=1, alpha=1)\n",
      "    _4 = torch.gt(torch.sum(_3, dtype=None), 0)\n",
      "    if bool(_4):\n",
      "      _5 = _3\n",
      "    else:\n",
      "      _5 = torch.neg(_3)\n",
      "    _6 = torch.tanh(torch.add(_5, h0, alpha=1))\n",
      "    y0, h0 = _6, _6\n",
      "  return (y0, h0)\n",
      "\n"
     ]
    }
   ],
   "source": [
    "class MyRNNLoop(torch.nn.Module):\n",
    "    def __init__(self):\n",
    "        super(MyRNNLoop, self).__init__()\n",
    "        self.cell = torch.jit.trace(MyCell(scripted_gate), (x, h))\n",
    "\n",
    "    def forward(self, xs):\n",
    "        h, y = torch.zeros(3, 4), torch.zeros(3, 4)\n",
    "        for i in range(xs.size(0)):\n",
    "            y, h = self.cell(xs[i], h)\n",
    "        return y, h\n",
    "      \n",
    "rnn_loop = torch.jit.script(MyRNNLoop())\n",
    "print(rnn_loop.code)"
   ]
  },
  {
   "cell_type": "markdown",
   "metadata": {},
   "source": [
    "And an example of the second case:\n",
    "\n",
    "\n"
   ]
  },
  {
   "cell_type": "code",
   "execution_count": 29,
   "metadata": {},
   "outputs": [
    {
     "name": "stdout",
     "output_type": "stream",
     "text": [
      "def forward(self,\n",
      "    argument_1: Tensor) -> Tensor:\n",
      "  _0 = self.loop\n",
      "  h = torch.zeros([3, 4], dtype=None, layout=None, device=None, pin_memory=None)\n",
      "  h0 = h\n",
      "  for i in range(torch.size(argument_1, 0)):\n",
      "    _1 = _0.cell\n",
      "    _2 = torch.select(argument_1, 0, i)\n",
      "    _3 = _1.linear\n",
      "    weight = _3.weight\n",
      "    bias = _3.bias\n",
      "    _4 = torch.addmm(bias, _2, torch.t(weight), beta=1, alpha=1)\n",
      "    _5 = torch.gt(torch.sum(_4, dtype=None), 0)\n",
      "    if bool(_5):\n",
      "      _6 = _4\n",
      "    else:\n",
      "      _6 = torch.neg(_4)\n",
      "    h0 = torch.tanh(torch.add(_6, h0, alpha=1))\n",
      "  return torch.relu(h0)\n",
      "\n"
     ]
    }
   ],
   "source": [
    "class WrapRNN(torch.nn.Module):\n",
    "  def __init__(self):\n",
    "    super(WrapRNN, self).__init__()\n",
    "    self.loop = torch.jit.script(MyRNNLoop())\n",
    "    \n",
    "  def forward(self, xs):\n",
    "    y, h = self.loop(xs)\n",
    "    return torch.relu(y)\n",
    "  \n",
    "traced = torch.jit.trace(WrapRNN(), (torch.rand(10, 3, 4)))\n",
    "print(traced.code)"
   ]
  },
  {
   "cell_type": "markdown",
   "metadata": {},
   "source": [
    "This way, scripting and tracing can be used when the situation calls for\n",
    "each of them and used together.\n",
    "\n",
    "Saving and Loading models\n",
    "-------------------------\n",
    "\n",
    "We provide APIs to save and load TorchScript modules to/from disk in an\n",
    "archive format. This format includes code, parameters, attributes, and\n",
    "debug information, meaning that the archive is a freestanding\n",
    "representation of the model that can be loaded in an entirely separate\n",
    "process. Let’s save and load our wrapped RNN module:\n",
    "\n",
    "\n"
   ]
  },
  {
   "cell_type": "code",
   "execution_count": 17,
   "metadata": {},
   "outputs": [
    {
     "name": "stdout",
     "output_type": "stream",
     "text": [
      "ScriptModule(\n",
      "  (loop): ScriptModule(\n",
      "    (cell): ScriptModule(\n",
      "      (dg): ScriptModule()\n",
      "      (linear): ScriptModule()\n",
      "    )\n",
      "  )\n",
      ")\n",
      "def forward(self,\n",
      "    argument_1: Tensor) -> Tensor:\n",
      "  _0 = self.loop\n",
      "  h = torch.zeros([3, 4], dtype=None, layout=None, device=None, pin_memory=None)\n",
      "  h0 = h\n",
      "  for i in range(torch.size(argument_1, 0)):\n",
      "    _1 = _0.cell\n",
      "    _2 = torch.select(argument_1, 0, i)\n",
      "    _3 = _1.linear\n",
      "    weight = _3.weight\n",
      "    bias = _3.bias\n",
      "    _4 = torch.addmm(bias, _2, torch.t(weight), beta=1, alpha=1)\n",
      "    _5 = torch.gt(torch.sum(_4, dtype=None), 0)\n",
      "    if bool(_5):\n",
      "      _6 = _4\n",
      "    else:\n",
      "      _6 = torch.neg(_4)\n",
      "    h0 = torch.tanh(torch.add(_6, h0, alpha=1))\n",
      "  return torch.relu(h0)\n",
      "\n"
     ]
    }
   ],
   "source": [
    "traced.save('wrapped_rnn.zip')\n",
    "\n",
    "loaded = torch.jit.load('wrapped_rnn.zip')\n",
    "\n",
    "print(loaded)\n",
    "print(loaded.code)"
   ]
  },
  {
   "cell_type": "markdown",
   "metadata": {},
   "source": [
    "As you can see, serialization preserves the module hierarchy and the\n",
    "code we’ve been examining throughout. The model can also be loaded, for\n",
    "example, `into\n",
    "C++ <https://pytorch.org/tutorials/advanced/cpp_export.html>`__ for\n",
    "python-free execution.\n",
    "\n",
    "Further Reading\n",
    "~~~~~~~~~~~~~~~\n",
    "\n",
    "We’ve completed our tutorial! For a more involved demonstration, check\n",
    "out the NeurIPS demo for converting machine translation models using\n",
    "TorchScript:\n",
    "https://colab.research.google.com/drive/1HiICg6jRkBnr5hvK2-VnMi88Vi9pUzEJ\n",
    "\n",
    "\n"
   ]
  },
  {
   "cell_type": "code",
   "execution_count": null,
   "metadata": {},
   "outputs": [],
   "source": []
  }
 ],
 "metadata": {
  "kernelspec": {
   "display_name": "Python 3",
   "language": "python",
   "name": "python3"
  },
  "language_info": {
   "codemirror_mode": {
    "name": "ipython",
    "version": 3
   },
   "file_extension": ".py",
   "mimetype": "text/x-python",
   "name": "python",
   "nbconvert_exporter": "python",
   "pygments_lexer": "ipython3",
   "version": "3.7.3"
  }
 },
 "nbformat": 4,
 "nbformat_minor": 1
}
