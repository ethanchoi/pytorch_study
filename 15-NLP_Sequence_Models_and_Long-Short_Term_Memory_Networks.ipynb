{
 "cells": [
  {
   "cell_type": "code",
   "execution_count": 2,
   "metadata": {},
   "outputs": [],
   "source": [
    "%matplotlib inline"
   ]
  },
  {
   "cell_type": "markdown",
   "metadata": {},
   "source": [
    "\n",
    "Sequence Models and Long-Short Term Memory Networks\n",
    "===================================================\n",
    "\n",
    "https://pytorch.org/tutorials/beginner/nlp/sequence_models_tutorial.html#sphx-glr-beginner-nlp-sequence-models-tutorial-py\n",
    "\n",
    "At this point, we have seen various feed-forward networks. That is,\n",
    "there is no state maintained by the network at all. This might not be\n",
    "the behavior we want. Sequence models are central to NLP: they are\n",
    "models where there is some sort of dependence through time between your\n",
    "inputs. The classical example of a sequence model is the Hidden Markov\n",
    "Model for part-of-speech tagging. Another example is the conditional\n",
    "random field.\n",
    "\n",
    "A recurrent neural network is a network that maintains some kind of\n",
    "state. For example, its output could be used as part of the next input,\n",
    "so that information can propogate along as the network passes over the\n",
    "sequence. In the case of an LSTM, for each element in the sequence,\n",
    "there is a corresponding *hidden state* $h_t$, which in principle\n",
    "can contain information from arbitrary points earlier in the sequence.\n",
    "We can use the hidden state to predict words in a language model,\n",
    "part-of-speech tags, and a myriad of other things.\n",
    "\n",
    "\n",
    "LSTM's in Pytorch\n",
    "~~~~~~~~~~~~~~~~~\n",
    "\n",
    "Before getting to the example, note a few things. Pytorch's LSTM expects\n",
    "all of its inputs to be 3D tensors. The semantics of the axes of these\n",
    "tensors is important. The first axis is the sequence itself, the second\n",
    "indexes instances in the mini-batch, and the third indexes elements of\n",
    "the input. We haven't discussed mini-batching, so lets just ignore that\n",
    "and assume we will always have just 1 dimension on the second axis. If\n",
    "we want to run the sequence model over the sentence \"The cow jumped\",\n",
    "our input should look like\n",
    "\n",
    "\\begin{align}\\begin{bmatrix}\n",
    "   \\overbrace{q_\\text{The}}^\\text{row vector} \\\\\n",
    "   q_\\text{cow} \\\\\n",
    "   q_\\text{jumped}\n",
    "   \\end{bmatrix}\\end{align}\n",
    "\n",
    "Except remember there is an additional 2nd dimension with size 1.\n",
    "\n",
    "In addition, you could go through the sequence one at a time, in which\n",
    "case the 1st axis will have size 1 also.\n",
    "\n",
    "Let's see a quick example.\n",
    "\n"
   ]
  },
  {
   "cell_type": "code",
   "execution_count": 1,
   "metadata": {},
   "outputs": [
    {
     "data": {
      "text/plain": [
       "<torch._C.Generator at 0x229889cad90>"
      ]
     },
     "execution_count": 1,
     "metadata": {},
     "output_type": "execute_result"
    }
   ],
   "source": [
    "# Author: Robert Guthrie\n",
    "\n",
    "import torch\n",
    "import torch.nn as nn\n",
    "import torch.nn.functional as F\n",
    "import torch.optim as optim\n",
    "\n",
    "torch.manual_seed(1)"
   ]
  },
  {
   "cell_type": "code",
   "execution_count": 2,
   "metadata": {},
   "outputs": [],
   "source": [
    "lstm = nn.LSTM(3, 3)  # Input dim is 3, output dim is 3\n",
    "inputs = [torch.randn(1, 3) for _ in range(5)]  # make a sequence of length 5"
   ]
  },
  {
   "cell_type": "code",
   "execution_count": 3,
   "metadata": {},
   "outputs": [
    {
     "name": "stdout",
     "output_type": "stream",
     "text": [
      "out: tensor([[[-0.2682,  0.0304, -0.1526]]], grad_fn=<StackBackward>) \n",
      "hidden: (tensor([[[-0.2682,  0.0304, -0.1526]]], grad_fn=<StackBackward>), tensor([[[-1.0766,  0.0972, -0.5498]]], grad_fn=<StackBackward>)) \n",
      "\n",
      "out: tensor([[[-0.5370,  0.0346, -0.1958]]], grad_fn=<StackBackward>) \n",
      "hidden: (tensor([[[-0.5370,  0.0346, -0.1958]]], grad_fn=<StackBackward>), tensor([[[-1.1552,  0.1214, -0.2974]]], grad_fn=<StackBackward>)) \n",
      "\n",
      "out: tensor([[[-0.3947,  0.0391, -0.1217]]], grad_fn=<StackBackward>) \n",
      "hidden: (tensor([[[-0.3947,  0.0391, -0.1217]]], grad_fn=<StackBackward>), tensor([[[-1.0727,  0.1104, -0.2179]]], grad_fn=<StackBackward>)) \n",
      "\n",
      "out: tensor([[[-0.1854,  0.0740, -0.0979]]], grad_fn=<StackBackward>) \n",
      "hidden: (tensor([[[-0.1854,  0.0740, -0.0979]]], grad_fn=<StackBackward>), tensor([[[-1.0530,  0.1836, -0.1731]]], grad_fn=<StackBackward>)) \n",
      "\n",
      "out: tensor([[[-0.3600,  0.0893,  0.0215]]], grad_fn=<StackBackward>) \n",
      "hidden: (tensor([[[-0.3600,  0.0893,  0.0215]]], grad_fn=<StackBackward>), tensor([[[-1.1298,  0.4467,  0.0254]]], grad_fn=<StackBackward>)) \n",
      "\n"
     ]
    }
   ],
   "source": [
    "# initialize the hidden state.\n",
    "hidden = (torch.randn(1, 1, 3),\n",
    "          torch.randn(1, 1, 3))\n",
    "for i in inputs:\n",
    "    # Step through the sequence one element at a time.\n",
    "    # after each step, hidden contains the hidden state.\n",
    "    out, hidden = lstm(i.view(1, 1, -1), hidden)\n",
    "    print(\"out:\", out, \"\\nhidden:\", hidden, '\\n')"
   ]
  },
  {
   "cell_type": "code",
   "execution_count": 4,
   "metadata": {},
   "outputs": [
    {
     "name": "stdout",
     "output_type": "stream",
     "text": [
      "tensor([[[-0.5525,  0.6355, -0.3968]],\n",
      "\n",
      "        [[-0.6571, -1.6428,  0.9803]],\n",
      "\n",
      "        [[-0.0421, -0.8206,  0.3133]],\n",
      "\n",
      "        [[-1.1352,  0.3773, -0.2824]],\n",
      "\n",
      "        [[-2.5667, -1.4303,  0.5009]]])\n",
      "tensor([[[-0.0187,  0.1713, -0.2944]],\n",
      "\n",
      "        [[-0.3521,  0.1026, -0.2971]],\n",
      "\n",
      "        [[-0.3191,  0.0781, -0.1957]],\n",
      "\n",
      "        [[-0.1634,  0.0941, -0.1637]],\n",
      "\n",
      "        [[-0.3368,  0.0959, -0.0538]]], grad_fn=<StackBackward>)\n",
      "(tensor([[[-0.3368,  0.0959, -0.0538]]], grad_fn=<StackBackward>), tensor([[[-0.9825,  0.4715, -0.0633]]], grad_fn=<StackBackward>))\n"
     ]
    }
   ],
   "source": [
    "# alternatively, we can do the entire sequence all at once.\n",
    "# the first value returned by LSTM is all of the hidden states throughout\n",
    "# the sequence. the second is just the most recent hidden state\n",
    "# (compare the last slice of \"out\" with \"hidden\" below, they are the same)\n",
    "# The reason for this is that:\n",
    "# \"out\" will give you access to all hidden states in the sequence\n",
    "# \"hidden\" will allow you to continue the sequence and backpropagate,\n",
    "# by passing it as an argument  to the lstm at a later time\n",
    "# Add the extra 2nd dimension\n",
    "inputs = torch.cat(inputs).view(len(inputs), 1, -1)\n",
    "hidden = (torch.randn(1, 1, 3), torch.randn(1, 1, 3))  # clean out hidden state\n",
    "out, hidden = lstm(inputs, hidden)\n",
    "print(inputs)\n",
    "print(out)\n",
    "print(hidden)"
   ]
  },
  {
   "cell_type": "markdown",
   "metadata": {},
   "source": [
    "Example: An LSTM for Part-of-Speech Tagging\n",
    "~~~~~~~~~~~~~~~~~~~~~~~~~~~~~~~~~~~~~~~~~~~\n",
    "\n",
    "In this section, we will use an LSTM to get part of speech tags. We will\n",
    "not use Viterbi or Forward-Backward or anything like that, but as a\n",
    "(challenging) exercise to the reader, think about how Viterbi could be\n",
    "used after you have seen what is going on.\n",
    "\n",
    "The model is as follows: let our input sentence be\n",
    "$w_1, \\dots, w_M$, where $w_i \\in V$, our vocab. Also, let\n",
    "$T$ be our tag set, and $y_i$ the tag of word $w_i$.\n",
    "Denote our prediction of the tag of word $w_i$ by\n",
    "$\\hat{y}_i$.\n",
    "\n",
    "This is a structure prediction, model, where our output is a sequence\n",
    "$\\hat{y}_1, \\dots, \\hat{y}_M$, where $\\hat{y}_i \\in T$.\n",
    "\n",
    "To do the prediction, pass an LSTM over the sentence. Denote the hidden\n",
    "state at timestep $i$ as $h_i$. Also, assign each tag a\n",
    "unique index (like how we had word\\_to\\_ix in the word embeddings\n",
    "section). Then our prediction rule for $\\hat{y}_i$ is\n",
    "\n",
    "\\begin{align}\\hat{y}_i = \\text{argmax}_j \\  (\\log \\text{Softmax}(Ah_i + b))_j\\end{align}\n",
    "\n",
    "That is, take the log softmax of the affine map of the hidden state,\n",
    "and the predicted tag is the tag that has the maximum value in this\n",
    "vector. Note this implies immediately that the dimensionality of the\n",
    "target space of $A$ is $|T|$.\n",
    "\n",
    "\n",
    "Prepare data:\n",
    "\n"
   ]
  },
  {
   "cell_type": "code",
   "execution_count": 5,
   "metadata": {},
   "outputs": [
    {
     "name": "stdout",
     "output_type": "stream",
     "text": [
      "{'The': 0, 'dog': 1, 'ate': 2, 'the': 3, 'apple': 4, 'Everybody': 5, 'read': 6, 'that': 7, 'book': 8}\n"
     ]
    }
   ],
   "source": [
    "def prepare_sequence(seq, to_ix):\n",
    "    idxs = [to_ix[w] for w in seq]\n",
    "    return torch.tensor(idxs, dtype=torch.long)\n",
    "\n",
    "\n",
    "training_data = [\n",
    "    (\"The dog ate the apple\".split(), [\"DET\", \"NN\", \"V\", \"DET\", \"NN\"]),\n",
    "    (\"Everybody read that book\".split(), [\"NN\", \"V\", \"DET\", \"NN\"])\n",
    "]\n",
    "word_to_ix = {}\n",
    "for sent, tags in training_data:\n",
    "    for word in sent:\n",
    "        if word not in word_to_ix:\n",
    "            word_to_ix[word] = len(word_to_ix)\n",
    "print(word_to_ix)\n",
    "tag_to_ix = {\"DET\": 0, \"NN\": 1, \"V\": 2}\n",
    "\n",
    "# These will usually be more like 32 or 64 dimensional.\n",
    "# We will keep them small, so we can see how the weights change as we train.\n",
    "EMBEDDING_DIM = 6\n",
    "HIDDEN_DIM = 6"
   ]
  },
  {
   "cell_type": "markdown",
   "metadata": {},
   "source": [
    "Create the model:\n",
    "\n"
   ]
  },
  {
   "cell_type": "code",
   "execution_count": 6,
   "metadata": {},
   "outputs": [],
   "source": [
    "class LSTMTagger(nn.Module):\n",
    "\n",
    "    def __init__(self, embedding_dim, hidden_dim, vocab_size, tagset_size):\n",
    "        super(LSTMTagger, self).__init__()\n",
    "        self.hidden_dim = hidden_dim\n",
    "\n",
    "        self.word_embeddings = nn.Embedding(vocab_size, embedding_dim)\n",
    "\n",
    "        # The LSTM takes word embeddings as inputs, and outputs hidden states\n",
    "        # with dimensionality hidden_dim.\n",
    "        self.lstm = nn.LSTM(embedding_dim, hidden_dim)\n",
    "\n",
    "        # The linear layer that maps from hidden state space to tag space\n",
    "        self.hidden2tag = nn.Linear(hidden_dim, tagset_size)\n",
    "\n",
    "    def forward(self, sentence):\n",
    "        embeds = self.word_embeddings(sentence)\n",
    "        lstm_out, _ = self.lstm(embeds.view(len(sentence), 1, -1))\n",
    "        tag_space = self.hidden2tag(lstm_out.view(len(sentence), -1))\n",
    "        tag_scores = F.log_softmax(tag_space, dim=1)\n",
    "        return tag_scores"
   ]
  },
  {
   "cell_type": "markdown",
   "metadata": {},
   "source": [
    "Train the model:\n",
    "\n"
   ]
  },
  {
   "cell_type": "code",
   "execution_count": 7,
   "metadata": {},
   "outputs": [
    {
     "name": "stdout",
     "output_type": "stream",
     "text": [
      "tensor([[-1.1389, -1.2024, -0.9693],\n",
      "        [-1.1065, -1.2200, -0.9834],\n",
      "        [-1.1286, -1.2093, -0.9726],\n",
      "        [-1.1190, -1.1960, -0.9916],\n",
      "        [-1.0137, -1.2642, -1.0366]])\n",
      "tensor([[-0.0462, -4.0106, -3.6096],\n",
      "        [-4.8205, -0.0286, -3.9045],\n",
      "        [-3.7876, -4.1355, -0.0394],\n",
      "        [-0.0185, -4.7874, -4.6013],\n",
      "        [-5.7881, -0.0186, -4.1778]])\n"
     ]
    }
   ],
   "source": [
    "model = LSTMTagger(EMBEDDING_DIM, HIDDEN_DIM, len(word_to_ix), len(tag_to_ix))\n",
    "loss_function = nn.NLLLoss()\n",
    "optimizer = optim.SGD(model.parameters(), lr=0.1)\n",
    "\n",
    "# See what the scores are before training\n",
    "# Note that element i,j of the output is the score for tag j for word i.\n",
    "# Here we don't need to train, so the code is wrapped in torch.no_grad()\n",
    "with torch.no_grad():\n",
    "    inputs = prepare_sequence(training_data[0][0], word_to_ix)\n",
    "    tag_scores = model(inputs)\n",
    "    print(tag_scores)\n",
    "\n",
    "for epoch in range(300):  # again, normally you would NOT do 300 epochs, it is toy data\n",
    "    for sentence, tags in training_data:\n",
    "        # Step 1. Remember that Pytorch accumulates gradients.\n",
    "        # We need to clear them out before each instance\n",
    "        model.zero_grad()\n",
    "\n",
    "        # Step 2. Get our inputs ready for the network, that is, turn them into\n",
    "        # Tensors of word indices.\n",
    "        sentence_in = prepare_sequence(sentence, word_to_ix)\n",
    "        targets = prepare_sequence(tags, tag_to_ix)\n",
    "\n",
    "        # Step 3. Run our forward pass.\n",
    "        tag_scores = model(sentence_in)\n",
    "\n",
    "        # Step 4. Compute the loss, gradients, and update the parameters by\n",
    "        #  calling optimizer.step()\n",
    "        loss = loss_function(tag_scores, targets)\n",
    "        loss.backward()\n",
    "        optimizer.step()\n",
    "\n",
    "# See what the scores are after training\n",
    "with torch.no_grad():\n",
    "    inputs = prepare_sequence(training_data[0][0], word_to_ix)\n",
    "    tag_scores = model(inputs)\n",
    "\n",
    "    # The sentence is \"the dog ate the apple\".  i,j corresponds to score for tag j\n",
    "    # for word i. The predicted tag is the maximum scoring tag.\n",
    "    # Here, we can see the predicted sequence below is 0 1 2 0 1\n",
    "    # since 0 is index of the maximum value of row 1,\n",
    "    # 1 is the index of maximum value of row 2, etc.\n",
    "    # Which is DET NOUN VERB DET NOUN, the correct sequence!\n",
    "    print(tag_scores)"
   ]
  },
  {
   "cell_type": "markdown",
   "metadata": {},
   "source": [
    "Exercise: Augmenting the LSTM part-of-speech tagger with character-level features\n",
    "~~~~~~~~~~~~~~~~~~~~~~~~~~~~~~~~~~~~~~~~~~~~~~~~~~~~~~~~~~~~~~~~~~~~~~~~~~~~~~~~~\n",
    "\n",
    "In the example above, each word had an embedding, which served as the\n",
    "inputs to our sequence model. Let's augment the word embeddings with a\n",
    "representation derived from the characters of the word. We expect that\n",
    "this should help significantly, since character-level information like\n",
    "affixes have a large bearing on part-of-speech. For example, words with\n",
    "the affix *-ly* are almost always tagged as adverbs in English.\n",
    "\n",
    "To do this, let $c_w$ be the character-level representation of\n",
    "word $w$. Let $x_w$ be the word embedding as before. Then\n",
    "the input to our sequence model is the concatenation of $x_w$ and\n",
    "$c_w$. So if $x_w$ has dimension 5, and $c_w$\n",
    "dimension 3, then our LSTM should accept an input of dimension 8.\n",
    "\n",
    "To get the character level representation, do an LSTM over the\n",
    "characters of a word, and let $c_w$ be the final hidden state of\n",
    "this LSTM. Hints:\n",
    "\n",
    "* There are going to be two LSTM's in your new model.\n",
    "  The original one that outputs POS tag scores, and the new one that\n",
    "  outputs a character-level representation of each word.\n",
    "* To do a sequence model over characters, you will have to embed characters.\n",
    "  The character embeddings will be the input to the character LSTM.\n",
    "\n",
    "\n"
   ]
  },
  {
   "cell_type": "code",
   "execution_count": 8,
   "metadata": {},
   "outputs": [],
   "source": [
    "character_to_ix = {}\n",
    "for sent, _ in training_data:\n",
    "    for word in sent:\n",
    "        for char in word:\n",
    "            if char not in character_to_ix.keys():\n",
    "                character_to_ix[char]=len(character_to_ix)"
   ]
  },
  {
   "cell_type": "code",
   "execution_count": 9,
   "metadata": {},
   "outputs": [],
   "source": [
    "def word_to_char_ix_tensor(word):\n",
    "    indices = []\n",
    "    for char in word:\n",
    "        indices.append(character_to_ix[char])\n",
    "    return torch.tensor(indices, dtype=torch.long)"
   ]
  },
  {
   "cell_type": "code",
   "execution_count": 10,
   "metadata": {},
   "outputs": [],
   "source": [
    "char_dim = 5"
   ]
  },
  {
   "cell_type": "code",
   "execution_count": 11,
   "metadata": {},
   "outputs": [],
   "source": [
    "class LSTMCharTagger(nn.Module):\n",
    "\n",
    "    def __init__(self, embedding_dim, hidden_dim, char_emb_dim, char_hidden_dim, vocab_size, char_size, tagset_size):\n",
    "        super().__init__()\n",
    "        self.hidden_dim = hidden_dim\n",
    "        self.char_hidden_dim = char_hidden_dim\n",
    "        self.embedding_dim = embedding_dim\n",
    "\n",
    "        self.word_embeddings = nn.Embedding(vocab_size, embedding_dim)\n",
    "        self.char_embeddings = nn.Embedding(char_size, char_emb_dim)\n",
    "\n",
    "        # The LSTM takes word embeddings as inputs, and outputs hidden states\n",
    "        # with dimensionality hidden_dim.\n",
    "        self.char_lstm = nn.LSTM(char_emb_dim, char_hidden_dim)\n",
    "        self.lstm = nn.LSTM(embedding_dim+char_emb_dim, hidden_dim)\n",
    "\n",
    "        # The linear layer that maps from hidden state space to tag space\n",
    "        self.hidden2tag = nn.Linear(hidden_dim, tagset_size)\n",
    "\n",
    "    def forward(self, sentence):\n",
    "        embeds = self.word_embeddings(prepare_sequence(sentence,word_to_ix))\n",
    "        res = []\n",
    "        for word in sentence:\n",
    "            char_emb = self.char_embeddings(word_to_char_ix_tensor(word))\n",
    "            hidden, _ = self.char_lstm(char_emb.view(len(word),1,-1))\n",
    "            res.append(hidden[-1])\n",
    "        res = torch.cat(res)\n",
    "        vec = torch.cat((embeds, res),dim=1)\n",
    "       \n",
    "        lstm_out, _ = self.lstm(vec.view(len(sentence), 1, -1))\n",
    "       \n",
    "        tag_space = self.hidden2tag(lstm_out.view(len(sentence), -1))\n",
    "        tag_scores = F.log_softmax(tag_space, dim=1)\n",
    "        return tag_scores"
   ]
  },
  {
   "cell_type": "code",
   "execution_count": 12,
   "metadata": {},
   "outputs": [],
   "source": [
    "model = LSTMCharTagger(EMBEDDING_DIM, HIDDEN_DIM, char_dim, char_dim, len(word_to_ix), len(character_to_ix), len(tag_to_ix))\n",
    "loss_function = nn.NLLLoss()\n",
    "optimizer = optim.Adam(model.parameters(), lr=0.1)"
   ]
  },
  {
   "cell_type": "code",
   "execution_count": 13,
   "metadata": {},
   "outputs": [
    {
     "name": "stdout",
     "output_type": "stream",
     "text": [
      "tensor([[-1.2465, -1.4033, -0.7621],\n",
      "        [-1.2876, -1.3773, -0.7512],\n",
      "        [-1.2925, -1.4044, -0.7342],\n",
      "        [-1.2500, -1.4602, -0.7313],\n",
      "        [-1.3286, -1.4408, -0.6963]])\n",
      "tensor([0, 1, 2, 0, 1])\n",
      "tensor([[-8.0109e-05, -9.4504e+00, -1.3301e+01],\n",
      "        [-1.2197e+01, -1.0777e-04, -9.1805e+00],\n",
      "        [-1.0943e+01, -8.4406e+00, -2.3365e-04],\n",
      "        [-3.1471e-05, -1.0417e+01, -1.3120e+01],\n",
      "        [-1.1806e+01, -9.5367e-06, -1.2933e+01]])\n"
     ]
    }
   ],
   "source": [
    "\n",
    "# See what the scores are before training\n",
    "# Note that element i,j of the output is the score for tag j for word i.\n",
    "# Here we don't need to train, so the code is wrapped in torch.no_grad()\n",
    "with torch.no_grad():\n",
    "    inputs = training_data[0][0]\n",
    "    tag_scores = model(inputs)\n",
    "    print(tag_scores)\n",
    "\n",
    "for epoch in range(300):  # again, normally you would NOT do 300 epochs, it is toy data\n",
    "    for sentence, tags in training_data:\n",
    "        # Step 1. Remember that Pytorch accumulates gradients.\n",
    "        # We need to clear them out before each instance\n",
    "        model.zero_grad()\n",
    "\n",
    "        # Step 2. Get our inputs ready for the network, that is, turn them into\n",
    "        # Tensors of word indices.\n",
    "        sentence_in = sentence\n",
    "        targets = prepare_sequence(tags, tag_to_ix)\n",
    "\n",
    "        # Step 3. Run our forward pass.\n",
    "        tag_scores = model(sentence_in)\n",
    "\n",
    "        # Step 4. Compute the loss, gradients, and update the parameters by\n",
    "        #  calling optimizer.step()\n",
    "        loss = loss_function(tag_scores, targets)\n",
    "        loss.backward()\n",
    "        optimizer.step()\n",
    "\n",
    "# See what the scores are after training\n",
    "with torch.no_grad():\n",
    "    inputs = training_data[0][0]\n",
    "    tag_scores = model(inputs)\n",
    "    print(prepare_sequence(training_data[0][1], tag_to_ix))\n",
    "\n",
    "    # The sentence is \"the dog ate the apple\".  i,j corresponds to score for tag j\n",
    "    # for word i. The predicted tag is the maximum scoring tag.\n",
    "    # Here, we can see the predicted sequence below is 0 1 2 0 1\n",
    "    # since 0 is index of the maximum value of row 1,\n",
    "    # 1 is the index of maximum value of row 2, etc.\n",
    "    # Which is DET NOUN VERB DET NOUN, the correct sequence!\n",
    "    print(tag_scores)"
   ]
  },
  {
   "cell_type": "code",
   "execution_count": null,
   "metadata": {},
   "outputs": [],
   "source": []
  },
  {
   "cell_type": "code",
   "execution_count": 14,
   "metadata": {},
   "outputs": [
    {
     "name": "stderr",
     "output_type": "stream",
     "text": [
      "[nltk_data] Downloading package treebank to\n",
      "[nltk_data]     C:\\Users\\lih09\\AppData\\Roaming\\nltk_data...\n",
      "[nltk_data]   Package treebank is already up-to-date!\n"
     ]
    },
    {
     "data": {
      "text/plain": [
       "True"
      ]
     },
     "execution_count": 14,
     "metadata": {},
     "output_type": "execute_result"
    }
   ],
   "source": [
    "import nltk\n",
    "nltk.download('treebank')"
   ]
  },
  {
   "cell_type": "code",
   "execution_count": 15,
   "metadata": {},
   "outputs": [],
   "source": [
    "wsj = list(nltk.corpus.treebank.tagged_sents())"
   ]
  },
  {
   "cell_type": "code",
   "execution_count": 16,
   "metadata": {},
   "outputs": [
    {
     "data": {
      "text/plain": [
       "[('Pierre', 'NNP'),\n",
       " ('Vinken', 'NNP'),\n",
       " (',', ','),\n",
       " ('61', 'CD'),\n",
       " ('years', 'NNS'),\n",
       " ('old', 'JJ'),\n",
       " (',', ','),\n",
       " ('will', 'MD'),\n",
       " ('join', 'VB'),\n",
       " ('the', 'DT'),\n",
       " ('board', 'NN'),\n",
       " ('as', 'IN'),\n",
       " ('a', 'DT'),\n",
       " ('nonexecutive', 'JJ'),\n",
       " ('director', 'NN'),\n",
       " ('Nov.', 'NNP'),\n",
       " ('29', 'CD'),\n",
       " ('.', '.')]"
      ]
     },
     "execution_count": 16,
     "metadata": {},
     "output_type": "execute_result"
    }
   ],
   "source": [
    "wsj[0]"
   ]
  },
  {
   "cell_type": "markdown",
   "metadata": {},
   "source": [
    "POS tagger의 정의는 다음과 같다.\n",
    "\n",
    "|Number|Tag|Description|\n",
    "|:-:|:-:|:-:|\n",
    "|1|CC|Coordinating conjunction|\n",
    "|2|CD|Cardinal number|\n",
    "|3|DT|Determiner|\n",
    "|4|EX|Existential there|\n",
    "|5|FW|Foreign word|\n",
    "|6|IN|Preposition or subordinating conjunction|\n",
    "|7|JJ|Adjective|\n",
    "|8|JJR|Adjective, comparative|\n",
    "|9|JJS|Adjective, superlative|\n",
    "|10|LS|List item marker|\n",
    "|11|MD|Modal|\n",
    "|12|NN|Noun, singular or mass|\n",
    "|13|NNS|Noun, plural|\n",
    "|14|NNP|Proper noun, singular|\n",
    "|15|NNPS|Proper noun, plural|\n",
    "|16|PDT|Predeterminer|\n",
    "|17|POS|Possessive ending|\n",
    "|18|PRP|Personal pronoun|\n",
    "|19|PRP_dollar|Possessive pronoun|\n",
    "|20|RB|Adverb|\n",
    "|21|RBR|Adverb, comparative|\n",
    "|22|RBS|Adverb, superlative|\n",
    "|23|RP|Particle|\n",
    "|24|SYM|Symbol|\n",
    "|25|TO|to|\n",
    "|26|UH|Interjection|\n",
    "|27|VB|Verb, base form|\n",
    "|28|VBD|Verb, past tense|\n",
    "|29|VBG|Verb, gerund or present participle|\n",
    "|30|VBN|Verb, past participle|\n",
    "|31|VBP|Verb, non-3rd person singular present|\n",
    "|32|VBZ|Verb, 3rd person singular present|\n",
    "|33|WDT|Wh-determiner|\n",
    "|34|WP|Wh-pronoun|\n",
    "|35|WP_dollar|Possessive wh-pronoun|\n",
    "|36|WRB|Wh-adverb|\n"
   ]
  },
  {
   "cell_type": "code",
   "execution_count": 42,
   "metadata": {},
   "outputs": [],
   "source": [
    "data = []\n",
    "for example in wsj:\n",
    "    sent = []\n",
    "    tt = []\n",
    "    for word, vv in example:\n",
    "        sent.append(word)\n",
    "        tt.append(vv)\n",
    "    data.append((sent,tt))"
   ]
  },
  {
   "cell_type": "code",
   "execution_count": 43,
   "metadata": {},
   "outputs": [
    {
     "data": {
      "text/plain": [
       "(['Pierre',\n",
       "  'Vinken',\n",
       "  ',',\n",
       "  '61',\n",
       "  'years',\n",
       "  'old',\n",
       "  ',',\n",
       "  'will',\n",
       "  'join',\n",
       "  'the',\n",
       "  'board',\n",
       "  'as',\n",
       "  'a',\n",
       "  'nonexecutive',\n",
       "  'director',\n",
       "  'Nov.',\n",
       "  '29',\n",
       "  '.'],\n",
       " ['NNP',\n",
       "  'NNP',\n",
       "  ',',\n",
       "  'CD',\n",
       "  'NNS',\n",
       "  'JJ',\n",
       "  ',',\n",
       "  'MD',\n",
       "  'VB',\n",
       "  'DT',\n",
       "  'NN',\n",
       "  'IN',\n",
       "  'DT',\n",
       "  'JJ',\n",
       "  'NN',\n",
       "  'NNP',\n",
       "  'CD',\n",
       "  '.'])"
      ]
     },
     "execution_count": 43,
     "metadata": {},
     "output_type": "execute_result"
    }
   ],
   "source": [
    "data[0]"
   ]
  },
  {
   "cell_type": "code",
   "execution_count": 20,
   "metadata": {},
   "outputs": [],
   "source": [
    "character_to_ix = {}\n",
    "for sent, _ in data:\n",
    "    for word in sent:\n",
    "        for char in word:\n",
    "            if char not in character_to_ix.keys():\n",
    "                character_to_ix[char]=len(character_to_ix)"
   ]
  },
  {
   "cell_type": "code",
   "execution_count": 37,
   "metadata": {},
   "outputs": [
    {
     "name": "stdout",
     "output_type": "stream",
     "text": [
      "{'Pierre': 0, 'Vinken': 1, ',': 2, '61': 3, 'years': 4, 'old': 5, 'will': 6, 'join': 7, 'the': 8, 'board': 9, 'as': 10, 'a': 11, 'nonexecutive': 12, 'director': 13, 'Nov.': 14, '29': 15, '.': 16, 'Mr.': 17, 'is': 18, 'chairman': 19, 'of': 20, 'Elsevier': 21, 'N.V.': 22, 'Dutch': 23, 'publishing': 24, 'group': 25, 'Rudolph': 26, 'Agnew': 27, '55': 28, 'and': 29, 'former': 30, 'Consolidated': 31, 'Gold': 32, 'Fields': 33, 'PLC': 34, 'was': 35, 'named': 36, '*-1': 37, 'this': 38, 'British': 39, 'industrial': 40, 'conglomerate': 41, 'A': 42, 'form': 43, 'asbestos': 44, 'once': 45, 'used': 46, '*': 47, 'to': 48, 'make': 49, 'Kent': 50, 'cigarette': 51, 'filters': 52, 'has': 53, 'caused': 54, 'high': 55, 'percentage': 56, 'cancer': 57, 'deaths': 58, 'among': 59, 'workers': 60, 'exposed': 61, 'it': 62, 'more': 63, 'than': 64, '30': 65, 'ago': 66, 'researchers': 67, 'reported': 68, '0': 69, '*T*-1': 70, 'The': 71, 'fiber': 72, 'crocidolite': 73, 'unusually': 74, 'resilient': 75, 'enters': 76, 'lungs': 77, 'with': 78, 'even': 79, 'brief': 80, 'exposures': 81, 'causing': 82, 'symptoms': 83, 'that': 84, 'show': 85, 'up': 86, 'decades': 87, 'later': 88, 'said': 89, '*T*-2': 90, 'Lorillard': 91, 'Inc.': 92, 'unit': 93, 'New': 94, 'York-based': 95, 'Loews': 96, 'Corp.': 97, 'makes': 98, 'cigarettes': 99, 'stopped': 100, 'using': 101, 'in': 102, 'its': 103, 'Micronite': 104, '1956': 105, 'Although': 106, 'preliminary': 107, 'findings': 108, 'were': 109, '*-2': 110, 'year': 111, 'latest': 112, 'results': 113, 'appear': 114, 'today': 115, \"'s\": 116, 'England': 117, 'Journal': 118, 'Medicine': 119, 'forum': 120, 'likely': 121, 'bring': 122, 'new': 123, 'attention': 124, 'problem': 125, 'spokewoman': 126, '``': 127, 'This': 128, 'an': 129, 'story': 130, 'We': 131, \"'re\": 132, 'talking': 133, 'about': 134, 'before': 135, 'anyone': 136, 'heard': 137, 'having': 138, 'any': 139, 'questionable': 140, 'properties': 141, 'There': 142, 'no': 143, 'our': 144, 'products': 145, 'now': 146, \"''\": 147, 'Neither': 148, 'nor': 149, 'who': 150, '*T*-3': 151, 'studied': 152, 'aware': 153, 'research': 154, 'on': 155, 'smokers': 156, 'have': 157, 'useful': 158, 'information': 159, 'whether': 160, 'users': 161, 'are': 162, 'at': 163, 'risk': 164, 'James': 165, 'A.': 166, 'Talcott': 167, 'Boston': 168, 'Dana-Farber': 169, 'Cancer': 170, 'Institute': 171, 'Dr.': 172, 'led': 173, 'team': 174, 'from': 175, 'National': 176, 'medical': 177, 'schools': 178, 'Harvard': 179, 'University': 180, 'spokeswoman': 181, 'very': 182, 'modest': 183, 'amounts': 184, 'making': 185, 'paper': 186, 'for': 187, 'early': 188, '1950s': 189, 'replaced': 190, 'different': 191, 'type': 192, 'filter': 193, 'From': 194, '1953': 195, '1955': 196, '9.8': 197, 'billion': 198, 'sold': 199, '*-3': 200, 'company': 201, 'Among': 202, '33': 203, 'men': 204, '*T*-4': 205, 'worked': 206, 'closely': 207, 'substance': 208, '28': 209, '*ICH*-1': 210, 'died': 211, '--': 212, 'three': 213, 'times': 214, 'expected': 215, 'number': 216, 'Four': 217, 'five': 218, 'surviving': 219, 'asbestos-related': 220, 'diseases': 221, 'including': 222, 'recently': 223, 'diagnosed': 224, 'total': 225, '18': 226, 'malignant': 227, 'mesothelioma': 228, 'lung': 229, 'asbestosis': 230, 'far': 231, 'higher': 232, '*?*': 233, 'morbidity': 234, 'rate': 235, 'striking': 236, 'finding': 237, 'those': 238, 'us': 239, '*T*-5': 240, 'study': 241, 'West': 242, 'Groton': 243, 'Mass.': 244, 'factory': 245, 'appears': 246, 'be': 247, 'highest': 248, 'Western': 249, 'industrialized': 250, 'countries': 251, 'he': 252, 'plant': 253, 'which': 254, 'owned': 255, '*-4': 256, 'by': 257, 'Hollingsworth': 258, '&': 259, 'Vose': 260, 'Co.': 261, 'under': 262, 'contract': 263, '*ICH*-2': 264, 'probably': 265, 'support': 266, '*T*-6': 267, 'argue': 268, 'U.S.': 269, 'should': 270, 'regulate': 271, 'class': 272, 'stringently': 273, 'common': 274, 'kind': 275, 'chrysotile': 276, 'found': 277, 'most': 278, 'other': 279, 'buildings': 280, 'one': 281, 'few': 282, 'nations': 283, '*T*-7': 284, 'does': 285, \"n't\": 286, 'standard': 287, 'regulation': 288, 'smooth': 289, 'needle-like': 290, 'fibers': 291, 'such': 292, 'classified': 293, '*-5': 294, 'amphobiles': 295, 'according': 296, 'Brooke': 297, 'T.': 298, 'Mossman': 299, 'professor': 300, 'pathlogy': 301, 'Vermont': 302, 'College': 303, 'More': 304, 'curly': 305, 'easily': 306, 'rejected': 307, 'body': 308, 'explained': 309, 'In': 310, 'July': 311, 'Environmental': 312, 'Protection': 313, 'Agency': 314, 'imposed': 315, 'gradual': 316, 'ban': 317, 'virtually': 318, 'all': 319, 'uses': 320, 'By': 321, '1997': 322, 'almost': 323, 'remaining': 324, 'cancer-causing': 325, 'outlawed': 326, '*-6': 327, 'About': 328, '160': 329, '*T*-8': 330, 'made': 331, '*-7': 332, 'Areas': 333, 'particularly': 334, 'dusty': 335, 'where': 336, '*-8': 337, 'Workers': 338, 'dumped': 339, 'large': 340, 'burlap': 341, 'sacks': 342, 'imported': 343, 'material': 344, 'into': 345, 'huge': 346, 'bin': 347, 'poured': 348, 'cotton': 349, 'acetate': 350, 'mechanically': 351, 'mixed': 352, 'dry': 353, 'process': 354, 'described': 355, 'clouds': 356, 'blue': 357, 'dust': 358, 'hung': 359, 'over': 360, 'parts': 361, 'though': 362, 'exhaust': 363, 'fans': 364, 'ventilated': 365, 'area': 366, 'question': 367, 'some': 368, 'managers': 369, 'contracted': 370, 'Darrell': 371, 'Phillips': 372, 'vice': 373, 'president': 374, 'human': 375, 'resources': 376, 'But': 377, 'you': 378, 'recognize': 379, 'these': 380, 'events': 381, 'took': 382, 'place': 383, '35': 384, 'It': 385, 'bearing': 386, 'work': 387, 'force': 388, 'Yields': 389, 'money-market': 390, 'mutual': 391, 'funds': 392, 'continued': 393, 'slide': 394, 'amid': 395, 'signs': 396, 'portfolio': 397, 'expect': 398, 'further': 399, 'declines': 400, 'interest': 401, 'rates': 402, 'average': 403, 'seven-day': 404, 'compound': 405, 'yield': 406, '400': 407, 'taxable': 408, 'tracked': 409, 'IBC': 410, 'Money': 411, 'Fund': 412, 'Report': 413, 'eased': 414, 'fraction': 415, 'point': 416, '8.45': 417, '%': 418, '8.47': 419, 'week': 420, 'ended': 421, 'Tuesday': 422, 'Compound': 423, 'yields': 424, 'assume': 425, 'reinvestment': 426, 'dividends': 427, 'current': 428, 'continues': 429, 'Average': 430, 'maturity': 431, \"'\": 432, 'investments': 433, 'lengthened': 434, 'day': 435, '41': 436, 'days': 437, 'longest': 438, 'since': 439, 'August': 440, 'Donoghue': 441, 'Longer': 442, 'maturities': 443, 'thought': 444, 'indicate': 445, 'declining': 446, 'because': 447, 'they': 448, 'permit': 449, 'retain': 450, 'relatively': 451, 'longer': 452, 'period': 453, 'Shorter': 454, 'considered': 455, '*-9': 456, 'sign': 457, 'rising': 458, 'can': 459, 'capture': 460, 'sooner': 461, 'open': 462, 'only': 463, 'institutions': 464, 'stronger': 465, 'indicator': 466, 'watch': 467, 'market': 468, 'reached': 469, 'Nevertheless': 470, 'Brenda': 471, 'Malizia': 472, 'Negus': 473, 'editor': 474, 'may': 475, 'blip': 476, 'again': 477, 'down': 478, 'recent': 479, 'rises': 480, 'short-term': 481, 'six-month': 482, 'Treasury': 483, 'bills': 484, 'Monday': 485, 'auction': 486, 'example': 487, 'rose': 488, '8.04': 489, '7.90': 490, 'Despite': 491, 'investors': 492, 'continue': 493, 'pour': 494, 'cash': 495, 'money': 496, 'Assets': 497, 'grew': 498, '$': 499, '1.5': 500, '*U*': 501, 'during': 502, '352.7': 503, 'Typically': 504, 'money-fund': 505, 'beat': 506, 'comparable': 507, 'vary': 508, 'go': 509, 'after': 510, 'top': 511, 'currently': 512, 'yielding': 513, 'well': 514, '9': 515, 'Dreyfus': 516, 'World-Wide': 517, 'Dollar': 518, 'top-yielding': 519, 'fund': 520, 'had': 521, '9.37': 522, '9.45': 523, 'earlier': 524, 'invests': 525, 'heavily': 526, 'dollar-denominated': 527, 'securities': 528, 'overseas': 529, 'waiving': 530, 'management': 531, 'fees': 532, '*T*-9': 533, 'boosts': 534, 'simple': 535, '8.12': 536, '8.14': 537, '30-day': 538, 'fell': 539, '8.19': 540, '8.22': 541, ';': 542, 'slid': 543, '8.53': 544, '8.56': 545, 'J.P.': 546, 'Bolduc': 547, 'W.R.': 548, 'Grace': 549, '*T*-10': 550, 'holds': 551, '83.4': 552, 'energy-services': 553, 'elected': 554, '*-10': 555, 'He': 556, 'succeeds': 557, 'Terrence': 558, 'D.': 559, 'Daniels': 560, 'formerly': 561, '*T*-11': 562, 'resigned': 563, 'Energy': 564, 'seven': 565, 'seats': 566, 'Pacific': 567, 'First': 568, 'Financial': 569, 'shareholders': 570, 'approved': 571, 'acquisition': 572, 'Royal': 573, 'Trustco': 574, 'Ltd.': 575, 'Toronto': 576, '27': 577, 'share': 578, 'or': 579, '212': 580, 'million': 581, 'thrift': 582, 'holding': 583, 'expects': 584, 'obtain': 585, 'regulatory': 586, 'approval': 587, 'complete': 588, 'transaction': 589, 'year-end': 590, 'McDermott': 591, 'International': 592, 'Babcock': 593, 'Wilcox': 594, 'completed': 595, 'sale': 596, 'Bailey': 597, 'Controls': 598, 'Operations': 599, 'Finmeccanica': 600, 'S.p': 601, '295': 602, 'Italian': 603, 'state-owned': 604, 'interests': 605, 'mechanical': 606, 'engineering': 607, 'industry': 608, 'based': 609, 'Wickliffe': 610, 'Ohio': 611, 'computerized': 612, 'controls': 613, 'systems': 614, 'employs': 615, '2,700': 616, 'people': 617, 'annual': 618, 'revenue': 619, '370': 620, 'federal': 621, 'government': 622, 'suspended': 623, 'sales': 624, 'savings': 625, 'bonds': 626, 'Congress': 627, 'lifted': 628, 'ceiling': 629, 'debt': 630, 'Until': 631, 'acts': 632, 'authority': 633, 'issue': 634, 'obligations': 635, 'borrowing': 636, 'dropped': 637, 'midnight': 638, '2.80': 639, 'trillion': 640, '2.87': 641, 'Legislation': 642, 'lift': 643, 'ensnarled': 644, '*-11': 645, 'fight': 646, 'cutting': 647, 'capital-gains': 648, 'taxes': 649, 'House': 650, 'voted': 651, 'raise': 652, '3.1': 653, 'but': 654, 'Senate': 655, 'act': 656, 'until': 657, 'next': 658, 'earliest': 659, 'default': 660, 'if': 661, 'then': 662, 'Clark': 663, 'J.': 664, 'Vitulli': 665, '*-12': 666, 'senior': 667, '*RNR*-1': 668, 'general': 669, 'manager': 670, 'marketing': 671, 'arm': 672, 'Japanese': 673, 'auto': 674, 'maker': 675, 'Mazda': 676, 'Motor': 677, 'Corp': 678, 'position': 679, 'oversee': 680, 'service': 681, 'operations': 682, 'Previously': 683, '43': 684, 'Chrysler': 685, 'division': 686, 'been': 687, 'executive': 688, '20': 689, 'When': 690, 'time': 691, 'their': 692, 'biannual': 693, 'powwow': 694, 'nation': 695, 'manufacturing': 696, 'titans': 697, 'typically': 698, 'jet': 699, 'off': 700, 'sunny': 701, 'confines': 702, 'resort': 703, 'towns': 704, 'like': 705, 'Boca': 706, 'Raton': 707, 'Hot': 708, 'Springs': 709, 'Not': 710, 'Association': 711, 'Manufacturers': 712, 'settled': 713, 'Hoosier': 714, 'capital': 715, 'Indianapolis': 716, 'fall': 717, 'meeting': 718, 'And': 719, 'city': 720, 'decided': 721, 'treat': 722, 'guests': 723, 'royalty': 724, 'rock': 725, 'stars': 726, 'owners': 727, 'idea': 728, 'course': 729, ':': 730, 'prove': 731, '125': 732, 'corporate': 733, 'decision': 734, 'makers': 735, 'buckle': 736, 'Rust': 737, 'Belt': 738, 'so': 739, 'rusty': 740, 'good': 741, 'expand': 742, 'On': 743, 'receiving': 744, 'end': 745, 'message': 746, 'officials': 747, 'giants': 748, 'Du': 749, 'Pont': 750, 'Maytag': 751, 'along': 752, 'lesser': 753, 'knowns': 754, 'Trojan': 755, 'Steel': 756, 'Valley': 757, 'Queen': 758, 'Cheese': 759, 'Factory': 760, 'For': 761, 'starters': 762, 'executives': 763, 'joined': 764, 'Mayor': 765, 'William': 766, 'H.': 767, 'Hudnut': 768, 'III': 769, 'evening': 770, 'Symphony': 771, 'Orchestra': 772, 'guest': 773, 'pianist-comedian': 774, 'Victor': 775, 'Borge': 776, 'Champagne': 777, 'dessert': 778, 'followed': 779, 'morning': 780, 'police': 781, 'escort': 782, 'busloads': 783, 'wives': 784, 'raced': 785, 'Speedway': 786, 'unimpeded': 787, 'traffic': 788, 'red': 789, 'lights': 790, 'governor': 791, 'could': 792, 'lieutenant': 793, 'welcomed': 794, 'special': 795, 'buffet': 796, 'breakfast': 797, 'held': 798, 'museum': 799, 'food': 800, 'drinks': 801, 'banned': 802, 'everyday': 803, 'visitors': 804, 'Then': 805, 'honor': 806, 'speedway': 807, 'hauled': 808, 'out': 809, 'four': 810, 'drivers': 811, 'crews': 812, 'official': 813, '500': 814, 'announcer': 815, '10-lap': 816, 'exhibition': 817, 'race': 818, 'After': 819, 'Fortune': 820, 'drooled': 821, 'schoolboys': 822, 'cars': 823, 'No': 824, 'dummies': 825, 'pointed': 826, 'still': 827, 'space': 828, 'machines': 829, 'another': 830, 'sponsor': 831, 'name': 832, 'two': 833, 'Back': 834, 'downtown': 835, 'execs': 836, 'squeezed': 837, 'meetings': 838, 'hotel': 839, 'boarding': 840, 'buses': 841, 'dinner': 842, 'dancing': 843, 'block': 844, 'away': 845, 'Under': 846, 'moons': 847, 'renovated': 848, 'Indiana': 849, 'Roof': 850, 'ballroom': 851, 'nine': 852, 'hottest': 853, 'chefs': 854, 'town': 855, 'fed': 856, 'them': 857, 'duckling': 858, 'mousseline': 859, 'lobster': 860, 'consomme': 861, 'veal': 862, 'mignon': 863, 'chocolate': 864, 'terrine': 865, 'raspberry': 866, 'sauce': 867, 'Knowing': 868, 'tasty': 869, 'free': 870, 'meal': 871, 'when': 872, 'eat': 873, 'gave': 874, 'standing': 875, 'ovation': 876, 'CEOs': 877, 'say': 878, 'red-carpet': 879, 'treatment': 880, 'tempts': 881, 'return': 882, 'heartland': 883, 'future': 884, 'looking': 885, 'forward': 886, 'winter': 887, 'February': 888, 'South': 889, 'Korea': 890, 'registered': 891, 'trade': 892, 'deficit': 893, '101': 894, 'October': 895, 'reflecting': 896, 'country': 897, 'economic': 898, 'sluggishness': 899, 'figures': 900, 'released': 901, 'Wednesday': 902, 'Preliminary': 903, 'tallies': 904, 'Trade': 905, 'Industry': 906, 'Ministry': 907, 'showed': 908, 'fifth': 909, 'monthly': 910, 'setback': 911, 'casting': 912, 'cloud': 913, 'export-oriented': 914, 'economy': 915, 'Exports': 916, 'stood': 917, '5.29': 918, 'mere': 919, '0.7': 920, 'increase': 921, 'while': 922, 'imports': 923, 'increased': 924, 'sharply': 925, '5.39': 926, 'last': 927, 'boom': 928, '*T*-12': 929, 'began': 930, '1986': 931, 'prolonged': 932, 'labor': 933, 'disputes': 934, 'conflicts': 935, 'sluggish': 936, 'exports': 937, 'Government': 938, 'would': 939, 'remain': 940, 'target': 941, '68': 942, 'gloomy': 943, 'forecast': 944, 'recorded': 945, 'surplus': 946, '71': 947, 'January': 948, 'accumulated': 949, '4': 950, 'same': 951, '50.45': 952, 'Imports': 953, '50.38': 954, '19': 955, 'Newsweek': 956, 'trying': 957, 'keep': 958, 'pace': 959, 'rival': 960, 'Time': 961, 'magazine': 962, 'announced': 963, 'advertising': 964, '1990': 965, 'introduce': 966, 'incentive': 967, 'plan': 968, 'advertisers': 969, 'ad': 970, 'Washington': 971, 'Post': 972, 'second': 973, 'offered': 974, 'Plans': 975, '*T*-13': 976, 'give': 977, 'discounts': 978, 'maintaining': 979, 'increasing': 980, 'spending': 981, 'become': 982, 'permanent': 983, 'fixtures': 984, 'news': 985, 'weeklies': 986, 'underscore': 987, 'fierce': 988, 'competition': 989, 'between': 990, 'Warner': 991, 'Mortimer': 992, 'B.': 993, 'Zuckerman': 994, 'News': 995, 'World': 996, 'Alan': 997, 'Spoon': 998, '5': 999, 'full': 1000, 'four-color': 1001, 'page': 1002, 'cost': 1003, '100,980': 1004, 'mid-October': 1005, 'lowered': 1006, 'guaranteed': 1007, 'circulation': 1008, 'base': 1009, 'not': 1010, 'lower': 1011, 'effectively': 1012, '7.5': 1013, 'per': 1014, 'subscriber': 1015, 'costs': 1016, '120,000': 1017, 'yet': 1018, 'announce': 1019, 'Circulation': 1020, 'Credit': 1021, 'Plan': 1022, 'awards': 1023, 'credits': 1024, 'renewal': 1025, 'reward': 1026, 'bonuses': 1027, 'meet': 1028, 'exceed': 1029, '1989': 1030, 'long': 1031, 'spent': 1032, '325,000': 1033, '340,000': 1034, 'attempt': 1035, 'shore': 1036, 'decline': 1037, 'pages': 1038, 'first': 1039, 'months': 1040, 'totaled': 1041, '1,620': 1042, 'drop': 1043, '3.2': 1044, 'Publishers': 1045, 'Information': 1046, 'Bureau': 1047, 'What': 1048, '*T*-14': 1049, 'matters': 1050, 'what': 1051, 'paying': 1052, '*T*-15': 1053, 'department': 1054, 'we': 1055, 'doing': 1056, 'fine': 1057, 'Both': 1058, 'gaining': 1059, 'without': 1060, 'heavy': 1061, 'use': 1062, 'electronic': 1063, 'giveaways': 1064, 'subscribers': 1065, 'telephones': 1066, 'watches': 1067, 'However': 1068, 'none': 1069, 'big': 1070, 'gains': 1071, 'According': 1072, 'Audit': 1073, 'Circulations': 1074, 'largest': 1075, 'newsweekly': 1076, '4,393,237': 1077, 'decrease': 1078, '7.3': 1079, 'six': 1080, '3,288,453': 1081, 'flat': 1082, '2,303,328': 1083, '2.6': 1084, 'Electric': 1085, 'System': 1086, 'bowed': 1087, 'bidding': 1088, 'Public': 1089, 'Service': 1090, 'Hampshire': 1091, 'saying': 1092, 'risks': 1093, 'too': 1094, '*RNR*-4': 1095, 'potential': 1096, 'payoff': 1097, 'justify': 1098, 'offer': 1099, 'move': 1100, 'leaves': 1101, 'United': 1102, 'Illuminating': 1103, 'Northeast': 1104, 'Utilities': 1105, 'outside': 1106, 'bidders': 1107, 'PS': 1108, 'also': 1109, 'proposed': 1110, 'internal': 1111, 'reorganization': 1112, 'Chapter': 1113, '11': 1114, 'bankruptcy': 1115, 'proceedings': 1116, 'independent': 1117, 'Westborough': 1118, '2': 1119, 'acquire': 1120, 'below': 1121, '2.29': 1122, 'value': 1123, 'places': 1124, 'bid': 1125, '2.25': 1126, 'says': 1127, 'worth': 1128, '*-13': 1129, 'Haven': 1130, 'Conn.': 1131, '*-14': 1132, 'Hartford': 1133, 'Conn': 1134, 'Manchester': 1135, 'N.H.': 1136, 'values': 1137, '2.2': 1138, 'John': 1139, 'Rowe': 1140, 'chief': 1141, 'officer': 1142, 'equity': 1143, 'suffer': 1144, 'forecasts': 1145, 'related': 1146, 'growth': 1147, 'electricity': 1148, 'demand': 1149, 'improved': 1150, 'operating': 1151, 'efficiencies': 1152, 'did': 1153, 'come': 1154, 'true': 1155, 'evaluated': 1156, 'raising': 1157, 'seemed': 1158, 'substantial': 1159, 'persistent': 1160, 'rewards': 1161, 'way': 1162, 'That': 1163, 'got': 1164, 'hard': 1165, 'take': 1166, 'added': 1167, 'noted': 1168, 'political': 1169, 'concerns': 1170, 'worried': 1171, 'matter': 1172, '*T*-16': 1173, 'owns': 1174, 'emerges': 1175, 'attracts': 1176, '...': 1177, 'just': 1178, 'factors': 1179, '*T*-17': 1180, 'withdraw': 1181, 'Wilbur': 1182, 'Ross': 1183, 'Jr.': 1184, 'Rothschild': 1185, 'financial': 1186, 'adviser': 1187, 'troubled': 1188, 'holders': 1189, 'withdrawal': 1190, 'might': 1191, 'speed': 1192, 'fact': 1193, 'increases': 1194, '4.8': 1195, 'against': 1196, 'around': 1197, '5.5': 1198, 'complicated': 1199, 'negotiations': 1200, 'state': 1201, 'asserted': 1202, 'Now': 1203, 'field': 1204, 'less': 1205, 'cluttered': 1206, 'Separately': 1207, 'Federal': 1208, 'Regulatory': 1209, 'Commission': 1210, 'turned': 1211, 'request': 1212, 'seeking': 1213, 'possible': 1214, 'purchase': 1215, 'refile': 1216, 'hopes': 1217, 'expedited': 1218, 'review': 1219, 'FERC': 1220, 'summer': 1221, 'court': 1222, 'shares': 1223, 'closed': 1224, 'yesterday': 1225, '3.75': 1226, '25': 1227, 'cents': 1228, 'York': 1229, 'Stock': 1230, 'Exchange': 1231, 'composite': 1232, 'trading': 1233, 'Norman': 1234, 'Ricken': 1235, '52': 1236, 'Toys': 1237, 'R': 1238, 'Us': 1239, 'Frederick': 1240, 'Deane': 1241, '63': 1242, 'Signet': 1243, 'Banking': 1244, '*-15': 1245, 'directors': 1246, 'consumer': 1247, 'electronics': 1248, 'appliances': 1249, 'retailing': 1250, 'chain': 1251, 'They': 1252, 'succeed': 1253, 'Daniel': 1254, 'M.': 1255, 'Rexinger': 1256, 'retired': 1257, 'Circuit': 1258, 'City': 1259, 'Robert': 1260, 'R.': 1261, 'Glauber': 1262, 'undersecretary': 1263, '12-member': 1264, 'Commonwealth': 1265, 'Edison': 1266, 'ordered': 1267, 'refund': 1268, '250': 1269, 'ratepayers': 1270, 'illegal': 1271, 'collected': 1272, 'overruns': 1273, 'nuclear': 1274, 'power': 1275, 'previously': 1276, 'Illinois': 1277, 'Commerce': 1278, 'groups': 1279, 'ever': 1280, 'required': 1281, 'local': 1282, 'utility': 1283, 'State': 1284, 'Judge': 1285, 'Richard': 1286, 'Curry': 1287, 'refunds': 1288, '45': 1289, '50': 1290, 'each': 1291, 'customers': 1292, '*T*-18': 1293, 'received': 1294, 'electric': 1295, 'April': 1296, '*T*-19': 1297, 'moved': 1298, 'begin': 1299, 'Feb.': 1300, '1': 1301, 'entertain': 1302, 'appeals': 1303, 'attempts': 1304, 'his': 1305, 'order': 1306, 'pool': 1307, 'hostage': 1308, 'through': 1309, 'round': 1310, 'already': 1311, 'appealing': 1312, 'underlying': 1313, 'commission': 1314, 'considering': 1315, 'exact': 1316, 'amount': 1317, 'determined': 1318, '*-16': 1319, 'actual': 1320, 'collections': 1321, 'Dec.': 1322, '31': 1323, 'ruling': 1324, 'slash': 1325, 'earnings': 1326, '1.55': 1327, '1988': 1328, '737.5': 1329, '3.01': 1330, 'spokesman': 1331, 'tracking': 1332, 'whose': 1333, 'addresses': 1334, '*T*-20': 1335, 'changed': 1336, 'past': 1337, '3': 1338, '1\\\\/2': 1339, 'administrative': 1340, 'nightmare': 1341, '38.375': 1342, '12.5': 1343, '2.5': 1344, 'Byron': 1345, 'near': 1346, 'Rockford': 1347, 'Ill.': 1348, '*-17': 1349, '1985': 1350, 'disputed': 1351, '49': 1352, 'pay': 1353, 'courts': 1354, 'upheld': 1355, 'challenge': 1356, 'Supreme': 1357, 'Court': 1358, 'audit': 1359, 'construction': 1360, 'expenses': 1361, 'unreasonable': 1362, 'collecting': 1363, 'subject': 1364, 'ruled': 1365, '190': 1366, '195': 1367, 'refunded': 1368, 'plus': 1369, 'additional': 1370, 'calculations': 1371, 'Last': 1372, 'month': 1373, 'set': 1374, 'faces': 1375, 'court-ordered': 1376, 'summer\\\\/winter': 1377, 'differential': 1378, 'Appellate': 1379, 'estimated': 1380, '140': 1381, 'hope': 1382, 'precedent': 1383, 'case': 1384, 'involving': 1385, 'Braidwood': 1386, '245': 1387, 'rule': 1388, '72.7': 1389, 'poor': 1390, 'performance': 1391, 'LaSalle': 1392, 'I': 1393, 'Japan': 1394, 'domestic': 1395, 'trucks': 1396, '500,004': 1397, 'units': 1398, 'record': 1399, 'Automobile': 1400, 'Dealers': 1401, 'strong': 1402, 'year-to-year': 1403, '21': 1404, '12': 1405, 'September': 1406, 'setting': 1407, 'records': 1408, 'every': 1409, 'March': 1410, 'compared': 1411, 'previous': 1412, 'inched': 1413, '0.4': 1414, 'Sales': 1415, 'passenger': 1416, '22': 1417, '361,376': 1418, 'medium-sized': 1419, '*T*-21': 1420, 'benefited': 1421, 'price': 1422, 'reductions': 1423, 'arising': 1424, 'introduction': 1425, 'consumption': 1426, 'tax': 1427, 'doubled': 1428, '30,841': 1429, '13,056': 1430, 'Texas': 1431, 'Instruments': 1432, 'opened': 1433, '*ICH*-3': 1434, 'manufacture': 1435, 'control': 1436, 'devices': 1437, 'located': 1438, 'Chinchon': 1439, '60': 1440, 'miles': 1441, 'Seoul': 1442, 'help': 1443, 'diversifying': 1444, 'produce': 1445, 'motor': 1446, 'vehicles': 1447, 'household': 1448, 'survival': 1449, 'spinoff': 1450, 'Cray': 1451, 'Computer': 1452, 'fledgling': 1453, 'supercomputer': 1454, 'business': 1455, 'depend': 1456, 'creativity': 1457, 'longevity': 1458, 'designer': 1459, 'Seymour': 1460, 'development': 1461, 'initial': 1462, 'machine': 1463, 'tied': 1464, 'directly': 1465, 'balance': 1466, 'sheet': 1467, 'Documents': 1468, 'filed': 1469, 'Securities': 1470, 'pending': 1471, 'disclosed': 1472, 'Research': 1473, '100': 1474, 'financing': 1475, 'providing': 1476, 'firm': 1477, 'product-design': 1478, 'project': 1479, 'heads': 1480, 'scrapped': 1481, '*-18': 1482, 'documents': 1483, 'although': 1484, '64-year-old': 1485, 'working': 1486, 'Cray-3': 1487, 'least': 1488, 'fully': 1489, 'operational': 1490, 'prototype': 1491, 'Moreover': 1492, 'there': 1493, 'orders': 1494, 'several': 1495, 'prospects': 1496, 'While': 1497, 'many': 1498, 'anticipated': 1499, '*-19': 1500, 'Minneapolis-based': 1501, 'May': 1502, 'strings': 1503, 'attached': 1504, 'public': 1505, 'much': 1506, 'choice': 1507, 'Gregory': 1508, 'Barnum': 1509, 'interview': 1510, 'theory': 1511, 'him': 1512, '*-20': 1513, 'want': 1514, '*T*-22': 1515, 'include': 1516, 'anticipates': 1517, 'needing': 1518, 'perhaps': 1519, '120': 1520, 'beginning': 1521, 'called': 1522, 'worst-case': 1523, 'scenario': 1524, 'filing': 1525, 'details': 1526, 'stock': 1527, 'jump': 1528, '2.875': 1529, 'close': 1530, '38': 1531, 'Analysts': 1532, 'link': 1533, '98.3': 1534, 'promissory': 1535, 'note': 1536, 'presence': 1537, 'complicate': 1538, 'valuation': 1539, '*-21': 1540, 'investor': 1541, 'Gary': 1542, 'P.': 1543, 'Smaby': 1544, 'Group': 1545, 'Minneapolis': 1546, 'concept': 1547, 'You': 1548, 'either': 1549, 'believe': 1550, 'do': 1551, 'Besides': 1552, 'age': 1553, 'tricky': 1554, 'unproven': 1555, 'chip': 1556, 'technology': 1557, 'SEC': 1558, 'describe': 1559, 'chips': 1560, '*-22': 1561, 'gallium': 1562, 'arsenide': 1563, 'being': 1564, 'fragile': 1565, 'minute': 1566, 'require': 1567, 'robotic': 1568, 'handling': 1569, 'equipment': 1570, 'addition': 1571, 'contain': 1572, '16': 1573, 'processors': 1574, 'twice': 1575, 'face': 1576, 'intense': 1577, '*T*-23': 1578, 'world-wide': 1579, '*T*-24': 1580, 'roll': 1581, 'C-90': 1582, 'direct': 1583, 'competitor': 1584, '1991': 1585, 'compete': 1586, 'Business': 1587, 'Machines': 1588, 'Big': 1589, 'Three': 1590, 'Hitachi': 1591, 'NEC': 1592, 'Fujitsu': 1593, 'Ltd': 1594, 'believes': 1595, 'fewer': 1596, 'supercomputers': 1597, 'priced': 1598, '15': 1599, 'presumably': 1600, 'range': 1601, 'terms': 1602, 'stockholders': 1603, 'receive': 1604, 'own': 1605, 'distribution': 1606, 'occur': 1607, 'weeks': 1608, '*-23': 1609, 'Instead': 1610, 'companies': 1611, 'leave': 1612, 'marketplace': 1613, 'decide': 1614, 'applied': 1615, 'Nasdaq': 1616, 'calculate': 1617, 'book': 1618, '4.75': 1619, 'Along': 1620, 'transferring': 1621, '53': 1622, 'assets': 1623, 'primarily': 1624, '*T*-25': 1625, 'drain': 1626, 'Pro-forma': 1627, 'sheets': 1628, 'clearly': 1629, 'why': 1630, 'favored': 1631, 'Without': 1632, 'able': 1633, 'report': 1634, 'profit': 1635, '19.3': 1636, 'half': 1637, 'rather': 1638, '5.9': 1639, 'posted': 1640, 'hand': 1641, 'existed': 1642, 'incurred': 1643, '20.5': 1644, 'loss': 1645, '*-24': 1646, 'comment': 1647, 'Colorado': 1648, 'Colo.': 1649, 'contractor': 1650, 'arrangement': 1651, '*-25': 1652, 'Regarded': 1653, 'father': 1654, 'paid': 1655, '600,000': 1656, 'At': 1657, '*-26': 1658, '240,000': 1659, 'Messrs.': 1660, 'includes': 1661, 'Neil': 1662, 'Davenport': 1663, '47': 1664, 'Joseph': 1665, 'Blanchard': 1666, '37': 1667, 'Malcolm': 1668, 'Hammerton': 1669, '40': 1670, 'software': 1671, 'Douglas': 1672, 'Wheeland': 1673, 'hardware': 1674, 'All': 1675, 'came': 1676, '*T*-26': 1677, '241': 1678, '450': 1679, 'Stevens': 1680, '*-27': 1681, 'both': 1682, 'positions': 1683, 'Donald': 1684, 'Pardus': 1685, 'electric-utility': 1686, 'Arthur': 1687, 'Hatch': 1688, '59': 1689, '*-28': 1690, 'Eastern': 1691, 'Carney': 1692, 'Tassinari': 1693, '*-29': 1694, 'claiming': 1695, 'success': 1696, 'diplomacy': 1697, 'removed': 1698, 'Taiwan': 1699, 'Saudi': 1700, 'Arabia': 1701, 'list': 1702, 'watching': 1703, 'allegedly': 1704, 'failing': 1705, 'patents': 1706, 'copyrights': 1707, 'intellectual-property': 1708, 'rights': 1709, 'China': 1710, 'Thailand': 1711, 'India': 1712, 'Brazil': 1713, 'Mexico': 1714, 'so-called': 1715, 'priority': 1716, 'result': 1717, 'interim': 1718, 'Representative': 1719, 'Carla': 1720, 'Hills': 1721, 'law': 1722, 'accelerated': 1723, 'unfair-trade': 1724, 'investigations': 1725, 'stiff': 1726, 'sanctions': 1727, 'improve': 1728, 'protection': 1729, 'intellectual': 1730, 'property': 1731, 'spring': 1732, 'Mrs.': 1733, 'she': 1734, 'placed': 1735, 'varying': 1736, 'degrees': 1737, 'scrutiny': 1738, 'genuine': 1739, 'progress': 1740, 'touchy': 1741, 'She': 1742, 'growing': 1743, 'realization': 1744, 'world': 1745, 'denial': 1746, 'harms': 1747, 'inventiveness': 1748, '-LCB-': 1749, 'offending': 1750, '-RCB-': 1751, 'citizens': 1752, 'negotiators': 1753, 'inadequate': 1754, 'protections': 1755, 'hurting': 1756, 'themselves': 1757, 'discouraging': 1758, 'scientists': 1759, 'authors': 1760, 'deterring': 1761, 'high-technology': 1762, 'firms': 1763, 'investing': 1764, 'best': 1765, 'lauded': 1766, 'creating': 1767, 'task': 1768, 'enforcement': 1769, 'teams': 1770, 'officers': 1771, 'prosecutors': 1772, 'trained': 1773, 'pursue': 1774, 'movie': 1775, 'pirates': 1776, 'instituted': 1777, 'effective': 1778, 'search-and-seizure': 1779, 'procedures': 1780, 'aid': 1781, 'initialing': 1782, 'bilateral': 1783, 'copyright': 1784, 'agreement': 1785, 'amending': 1786, 'trademark': 1787, 'introducing': 1788, 'legislation': 1789, 'protect': 1790, 'foreign': 1791, 'producers': 1792, 'unauthorized': 1793, 'showings': 1794, 'films': 1795, 'measure': 1796, 'compel': 1797, 'Taipei': 1798, 'small': 1799, 'video-viewing': 1800, 'parlors': 1801, 'showing': 1802, 'part': 1803, 'vowed': 1804, 'enact': 1805, 'compatible': 1806, 'international': 1807, 'standards': 1808, 'apply': 1809, 'computer': 1810, 'literary': 1811, 'works': 1812, 'These': 1813, 'completely': 1814, 'hook': 1815, 'lower-priority': 1816, '*T*-27': 1817, '17': 1818, 'Those': 1819, 'Italy': 1820, 'Canada': 1821, 'Greece': 1822, 'Spain': 1823, 'concern': 1824, 'deemed': 1825, 'pose': 1826, 'less-serious': 1827, 'problems': 1828, 'American': 1829, 'patent': 1830, 'Hoffman': 1831, 'lawyer': 1832, 'specializing': 1833, 'cases': 1834, 'threat': 1835, 'retaliation': 1836, 'combined': 1837, 'recognition': 1838, 'protecting': 1839, 'prompted': 1840, 'improvements': 1841, 'tells': 1842, '*T*-28': 1843, 'efforts': 1844, 'craft': 1845, 'concerned': 1846, 'disturbing': 1847, 'developments': 1848, 'Turkey': 1849, 'continuing': 1850, 'slow': 1851, 'Malaysia': 1852, 'elaborate': 1853, 'reports': 1854, 'complained': 1855, 'videocassette': 1856, 'piracy': 1857, 'disregard': 1858, 'pharmaceutical': 1859, 'requires': 1860, 'So': 1861, 'bad': 1862, 'enough': 1863, 'merit': 1864, 'investigation': 1865, '301': 1866, 'provision': 1867, 'Argentina': 1868, 'ask': 1869, 'creditor': 1870, 'banks': 1871, 'halve': 1872, '64': 1873, 'third-highest': 1874, 'developing': 1875, 'declaration': 1876, 'Economy': 1877, 'Minister': 1878, 'Nestor': 1879, 'Rapanelli': 1880, 'believed': 1881, 'action': 1882, 'Argentine': 1883, 'stature': 1884, 'Latin': 1885, 'little': 1886, 'aspires': 1887, 'reach': 1888, 'reduction': 1889, 'external': 1890, 'Miguel': 1891, 'Alurralde': 1892, 'met': 1893, 'Assistant': 1894, 'Secretary': 1895, 'David': 1896, 'Mulford': 1897, 'negotiator': 1898, 'Carlos': 1899, 'Carballo': 1900, 'President': 1901, 'Menem': 1902, '*T*-29': 1903, 'office': 1904, '8': 1905, 'feels': 1906, 'significant': 1907, 'principal': 1908, 'solved': 1909, '*-31': 1910, 'wants': 1911, 'forgiven': 1912, '-LRB-': 1913, 'During': 1914, 'centennial': 1915, 'Wall': 1916, 'Street': 1917, 'century': 1918, '*T*-30': 1919, 'stand': 1920, 'milestones': 1921, 'history': 1922, '-RRB-': 1923, 'THREE': 1924, 'COMPUTERS': 1925, 'THAT': 1926, '*T*-31': 1927, 'CHANGED': 1928, 'personal': 1929, 'computing': 1930, 'launched': 1931, '*-32': 1932, '1977': 1933, 'Apple': 1934, 'II': 1935, 'Commodore': 1936, 'Pet': 1937, 'Tandy': 1938, 'TRS-80': 1939, 'computers': 1940, 'crude': 1941, 'television': 1942, 'sets': 1943, 'screens': 1944, 'stored': 1945, 'data': 1946, 'audiocassettes': 1947, 'major': 1948, 'advance': 1949, 'built': 1950, '*-33': 1951, 'garage': 1952, 'Stephen': 1953, 'Wozniak': 1954, 'Steven': 1955, 'Jobs': 1956, 'hobbyists': 1957, 'Homebrew': 1958, 'Club': 1959, 'affordable': 1960, '1,298': 1961, 'Crude': 1962, 'PCs': 1963, 'triggered': 1964, 'explosive': 1965, 'product': 1966, 'desktop': 1967, 'models': 1968, 'home': 1969, 'mainframe': 1970, 'unlike': 1971, 'built-from-kit': 1972, 'types': 1973, 'Altair': 1974, 'Sol': 1975, 'IMSAI': 1976, 'keyboards': 1977, 'store': 1978, 'memories': 1979, 'Current': 1980, 'faster': 1981, 'memory': 1982, 'capacity': 1983, 'greater': 1984, 'counterparts': 1985, 'pioneer': 1986, 'PC': 1987, 'contributors': 1988, 'Gates': 1989, 'Paul': 1990, 'Allen': 1991, '1975': 1992, 'developed': 1993, 'language-housekeeper': 1994, 'system': 1995, 'became': 1996, 'billionaire': 1997, 'IBM': 1998, 'adapted': 1999, 'versions': 2000, '1981': 2001, 'F.': 2002, 'Shugart': 2003, 'Seagate': 2004, 'Technology': 2005, '*T*-32': 2006, 'disk': 2007, 'drives': 2008, 'Dennis': 2009, 'Hayes': 2010, 'Dale': 2011, 'Heatherington': 2012, 'Atlanta': 2013, 'engineers': 2014, 'co-developers': 2015, 'modems': 2016, '*T*-33': 2017, 'allow': 2018, 'via': 2019, 'telephone': 2020, 'leader': 2021, 'entered': 2022, 'Today': 2023, 'shipments': 2024, 'annually': 2025, '38.3': 2026, 'F.H.': 2027, 'Faulding': 2028, 'Australian': 2029, 'pharmaceuticals': 2030, 'Moleculon': 2031, 'affiliate': 2032, 'acquired': 2033, 'Kalipharma': 2034, '23': 2035, 'Jersey-based': 2036, '*T*-34': 2037, 'sells': 2038, 'Purepac': 2039, 'label': 2040, 'voting': 2041, 'stake': 2042, 'together': 2043, 'convertible': 2044, 'preferred': 2045, 'holdings': 2046, 'gives': 2047, 'right': 2048, '70': 2049, 'Oil': 2050, 'production': 2051, 'Australia': 2052, 'Bass': 2053, 'Strait': 2054, 'fields': 2055, 'raised': 2056, '*-34': 2057, '11,000': 2058, 'barrels': 2059, '321,000': 2060, 'launch': 2061, 'Whiting': 2062, 'scheduled': 2063, 'brought': 2064, '*-35': 2065, 'Esso': 2066, 'Exxon': 2067, 'Broken': 2068, 'Hill': 2069, 'Pty.': 2070, 'operate': 2071, 'joint': 2072, 'venture': 2073, 'started': 2074, 'Output': 2075, 'gradually': 2076, 'reaches': 2077, 'reserves': 2078, 'Reserves': 2079, 'Perch': 2080, 'Dolphin': 2081, 'start': 2082, 'producing': 2083, 'Seahorse': 2084, 'Tarwhine': 2085, '*-36': 2086, '1987': 2087, 'excise': 2088, 'R.P.': 2089, 'Scherer': 2090, '10.2': 2091, 'Southern': 2092, 'Optical': 2093, 'subsidiary': 2094, 'Thomas': 2095, 'Sloan': 2096, 'Following': 2097, 'buy-out': 2098, 'Shearson': 2099, 'Lehman': 2100, 'Hutton': 2101, 'gelatin': 2102, 'capsules': 2103, 'divest': 2104, 'itself': 2105, 'certain': 2106, 'non-encapsulating': 2107, 'businesses': 2108, 'program': 2109, 'White': 2110, 'Bush': 2111, 'duty-free': 2112, '*T*-35': 2113, 'produced': 2114, 'quantities': 2115, 'Virgin': 2116, 'Islands': 2117, 'possessions': 2118, 'response': 2119, 'petition': 2120, 'Timex': 2121, 'changes': 2122, 'Generalized': 2123, 'Preferences': 2124, 'denied': 2125, '*-37': 2126, 'requested': 2127, 'covered': 2128, '58': 2129, 'tariff': 2130, 'classifications': 2131, 'grant': 2132, 'status': 2133, 'categories': 2134, 'injury': 2135, 'producer': 2136, 'seller': 2137, 'low-priced': 2138, 'battery-operated': 2139, 'assembled': 2140, 'Philippines': 2141, 'preferences': 2142, 'main': 2143, 'beneficiaries': 2144, '*T*-36': 2145, 'eligible': 2146, '37.3': 2147, 'aide': 2148, 'Magna': 2149, 'McAlpine': 2150, 'Frank': 2151, 'Stronach': 2152, 'stepping': 2153, 'turn': 2154, 'automotive-parts': 2155, 'manufacturer': 2156, 'effort': 2157, 'reduce': 2158, 'overhead': 2159, 'curb': 2160, 'satisfactory': 2161, 'level': 2162, 'achieved': 2163, 'maintained': 2164, 'Akerfeldt': 2165, 'finance': 2166, 'An': 2167, 'ambitious': 2168, 'expansion': 2169, 'left': 2170, 'excess': 2171, 'load': 2172, 'automotive': 2173, 'downturn': 2174, 'despite': 2175, 'steady': 2176, 'cut': 2177, 'quarterly': 2178, 'dividend': 2179, 'Class': 2180, 'wallowing': 2181, '52-week': 2182, '16.125': 2183, 'Canadian': 2184, 'dollars': 2185, 'US$': 2186, '13.73': 2187, '37.5': 2188, 'C$': 2189, '9.625': 2190, 'founder': 2191, 'controlling': 2192, 'shareholder': 2193, 'seek': 2194, 'unsuccessfully': 2195, 'seat': 2196, 'Parliament': 2197, 'resume': 2198, 'influential': 2199, 'role': 2200, 'running': 2201, 'throughout': 2202, 'organization': 2203, 'personally': 2204, 'restructuring': 2205, 'assisted': 2206, 'Manfred': 2207, 'Gingl': 2208, '*-38': 2209, 'consulting': 2210, 'career': 2211, 'clients': 2212, 'Lord': 2213, 'Chilver': 2214, '63-year-old': 2215, 'English': 2216, 'Clays': 2217, '*-39': 2218, 'chemical': 2219, 'nearly': 2220, 'single-handedly': 2221, 'bought': 2222, 'mortgage': 2223, 'securities-based': 2224, 'totaling': 2225, '701': 2226, 'Mortgage': 2227, 'purchases': 2228, 'mortgage-based': 2229, 'instruments': 2230, 'Fannie': 2231, 'Mae': 2232, 'O.': 2233, 'Maxwell': 2234, 'conference': 2235, '90': 2236, '*-40': 2237, 'institutional': 2238, 'rest': 2239, 'went': 2240, 'France': 2241, 'Hong': 2242, 'Kong': 2243, 'Earlier': 2244, 'snapped': 2245, 'similar': 2246, '570': 2247, 'mortgage-backed': 2248, 'put': 2249, '*-41': 2250, 'Blackstone': 2251, 'investment': 2252, 'bank': 2253, '*-42': 2254, 'jointly': 2255, 'Goldman': 2256, 'Sachs': 2257, 'Daiwa': 2258, 'Co': 2259, 'seven-year': 2260, 'offering': 2261, 'fixed-rate': 2262, 'floating-rate': 2263, 'linked': 2264, 'London': 2265, 'interbank': 2266, 'key': 2267, 'advantages': 2268, 'designed': 2269, 'eliminate': 2270, 'prepayment': 2271, '*-43': 2272, 'forces': 2273, 'redeploy': 2274, 'Second': 2275, 'channel': 2276, 'payments': 2277, 'semiannual': 2278, 'reducing': 2279, 'burden': 2280, 'addressing': 2281, 'extremely': 2282, 'attractive': 2283, 'Such': 2284, 'boosted': 2285, '900': 2286, 'outstanding': 2287, 'rapid': 2288, 'purchasers': 2289, 'buying': 2290, '2.4': 2291, 'tenth': 2292, 'issued': 2293, 'L.': 2294, 'Pate': 2295, '54-year-old': 2296, '*-44': 2297, 'oil': 2298, 'expanding': 2299, '14': 2300, 'members': 2301, 'LTV': 2302, 'judge': 2303, 'agreed': 2304, 'extend': 2305, 'steel': 2306, 'aerospace': 2307, 'energy': 2308, 'exclusive': 2309, 'file': 2310, 'Bankruptcy': 2311, 'Code': 2312, 'giving': 2313, 'creditors': 2314, 'lawsuits': 2315, 'debts': 2316, 'giant': 2317, 'Montedison': 2318, 'S.p.A.': 2319, 'Acquisition': 2320, 'indirect': 2321, '37-a-share': 2322, 'tender': 2323, 'Erbamont': 2324, 'incorporated': 2325, 'Netherlands': 2326, 'advertised': 2327, 'editions': 2328, 'expire': 2329, 'November': 2330, '72': 2331, '*-45': 2332, 'pursuant': 2333, 'gold': 2334, 'currencies': 2335, 'drawing': 2336, 'hefty': 2337, '1.82': 2338, '84.29': 2339, 'Finance': 2340, 'marks': 2341, 'sixth': 2342, 'consecutive': 2343, 'protracted': 2344, 'reflects': 2345, 'intensity': 2346, 'Bank': 2347, 'yen-support': 2348, 'intervention': 2349, 'June': 2350, 'currency': 2351, 'temporarily': 2352, 'surged': 2353, 'above': 2354, '150.00': 2355, 'yen': 2356, 'announcement': 2357, 'follows': 2358, 'sharper': 2359, '86.12': 2360, 'Pick': 2361, 'craze': 2362, 'sweeping': 2363, 'rash': 2364, 'closed-end': 2365, 'publicly': 2366, 'traded': 2367, 'portfolios': 2368, '*T*-37': 2369, 'invest': 2370, 'stocks': 2371, 'single': 2372, '24': 2373, 'regulators': 2374, 'triple': 2375, 'Charles': 2376, 'E.': 2377, 'Simon': 2378, 'Washington-based': 2379, 'turf': 2380, 'ranged': 2381, 'Chile': 2382, 'Austria': 2383, 'Portugal': 2384, 'Next': 2385, 'Philippine': 2386, 'capped': 2387, '*-46': 2388, 'visit': 2389, 'Corazon': 2390, 'Aquino': 2391, 'head': 2392, 'kicked': 2393, 'Board': 2394, 'here': 2395, 'province': 2396, '?': 2397, 'Anything': 2398, 'how': 2399, 'Guinea': 2400, 'quips': 2401, 'George': 2402, 'Foot': 2403, 'managing': 2404, 'partner': 2405, 'Newgate': 2406, 'Management': 2407, 'Associates': 2408, 'Northampton': 2409, 'Mass': 2410, 'explosion': 2411, 'mirrors': 2412, 'mania': 2413, '1920s': 2414, 'narrowly': 2415, 'focused': 2416, 'wildly': 2417, 'popular': 2418, 'oblivion': 2419, '1929': 2420, 'crash': 2421, 'Unlike': 2422, 'traditional': 2423, 'open-end': 2424, 'one-country': 2425, 'issuing': 2426, 'fixed': 2427, '*T*-38': 2428, 'surge': 2429, 'brings': 2430, '*T*-39': 2431, 'soon': 2432, 'listed': 2433, 'account': 2434, 'billions': 2435, 'People': 2436, 'claims': 2437, 'available': 2438, 'runs': 2439, 'Michael': 2440, 'Porter': 2441, 'analyst': 2442, 'Smith': 2443, 'Barney': 2444, 'Harris': 2445, 'Upham': 2446, 'Behind': 2447, 'hoopla': 2448, 'heavy-duty': 2449, 'As': 2450, 'individual': 2451, 'scrambled': 2452, 'find': 2453, 'brokers': 2454, '*T*-40': 2455, 'easy': 2456, 'sell': 2457, 'stretching': 2458, 'nets': 2459, 'wide': 2460, 'planners': 2461, 'often': 2462, 'urge': 2463, 'diversify': 2464, 'hold': 2465, 'smattering': 2466, 'emerging': 2467, 'markets': 2468, 'outpaced': 2469, 'mature': 2470, 'Country': 2471, 'get': 2472, 'taste': 2473, 'burned': 2474, 'Political': 2475, 'gyrations': 2476, 'whipsaw': 2477, 'Another': 2478, 'prices': 2479, 'tend': 2480, 'swing': 2481, 'broader': 2482, '7': 2483, 'Oct.': 2484, '13': 2485, 'instance': 2486, 'plunged': 2487, 'clobbered': 2488, '*-47': 2489, '*T*-41': 2490, 'wild': 2491, 'frenzy': 2492, 'historically': 2493, 'fat': 2494, 'premiums': 2495, 'discount': 2496, 'late': 2497, 'premium': 2498, '6': 2499, 'reason': 2500, 'Share': 2501, 'climbed': 2502, '*T*-42': 2503, '*T*-43': 2504, 'partially': 2505, 'specialists': 2506, 'European': 2507, 'skyrocketed': 2508, 'startling': 2509, 'targeted': 2510, '*-48': 2511, 'long-term': 2512, 'play': 2513, '1992': 2514, 'integration': 2515, '*T*-44': 2516, 'invested': 2517, 'jumped': 2518, \"'m\": 2519, 'alarmed': 2520, 'see': 2521, 'rich': 2522, 'valuations': 2523, 'newly': 2524, 'fattened': 2525, 'reflect': 2526, 'increasingly': 2527, 'global': 2528, 'suggests': 2529, 'Asia': 2530, 'Europe': 2531, 'foreign-stock': 2532, 'exposure': 2533, 'resistant': 2534, 'viewpoint': 2535, 'cast': 2536, 'Nonetheless': 2537, 'plenty': 2538, 'analysts': 2539, 'aghast': 2540, 'lofty': 2541, 'levels': 2542, 'buy': 2543, 'depositary': 2544, 'receipts': 2545, 'ADRs': 2546, 'represent': 2547, 'essentially': 2548, '*T*-45': 2549, 'insist': 2550, 'jumping': 2551, 'advice': 2552, 'folks': 2553, 'party': 2554, 'better': 2555, 'ready': 2556, 'quickly': 2557, 'Soviet': 2558, 'Union': 2559, 'technical': 2560, 'talks': 2561, 'repayment': 2562, 'Moscow': 2563, '188': 2564, 'pre-Communist': 2565, 'Russian': 2566, 'owed': 2567, 'Department': 2568, 'If': 2569, 'repaid': 2570, '*-49': 2571, 'clear': 2572, '*-50': 2573, 'Soviets': 2574, '*EXP*-1': 2575, 'happen': 2576, 'Coincident': 2577, 'permitted': 2578, 'branch': 2579, 'Foreign': 2580, 'Economic': 2581, 'Affairs': 2582, 'crippled': 2583, '*-51': 2584, 'unless': 2585, 'settle': 2586, 'lent': 2587, '*-52': 2588, 'short-lived': 2589, 'democratic': 2590, 'Kerensky': 2591, 'Communists': 2592, 'seized': 2593, '1917': 2594, '1934': 2595, 'Johnson': 2596, 'Debt': 2597, 'Default': 2598, 'Act': 2599, 'amended': 2600, '*EXP*-2': 2601, 'Americans': 2602, 'credit': 2603, 'Monetary': 2604, 'U.S.S.R.': 2605, 'belongs': 2606, 'neither': 2607, 'pre-1917': 2608, 'stressed': 2609, 'pre-1933': 2610, 'satisfying': 2611, 'legal': 2612, 'obstacles': 2613, 'hundreds': 2614, 'millions': 2615, 'War': 2616, 'lend-lease': 2617, 'reflection': 2618, 'leveling': 2619, 'manufactured': 2620, 'goods': 2621, 'failed': 2622, 'rise': 2623, 'Meanwhile': 2624, 'Purchasing': 2625, 'survey': 2626, 'indicated': 2627, 'Its': 2628, 'index': 2629, '47.6': 2630, '46': 2631, 'Any': 2632, 'reading': 2633, 'sector': 2634, 'generally': 2635, 'purchasing': 2636, 'however': 2637, 'Factories': 2638, 'booked': 2639, '236.74': 2640, '236.79': 2641, '59.6': 2642, 'defense': 2643, 'contractors': 2644, 'fallen': 2645, '2.1': 2646, 'separate': 2647, 'ran': 2648, '415.6': 2649, 'significantly': 2650, '415.8': 2651, 'Private': 2652, 'building': 2653, 'activity': 2654, 'adjusted': 2655, 'remove': 2656, 'effects': 2657, 'usual': 2658, 'seasonal': 2659, 'patterns': 2660, 'inflation': 2661, 'Kenneth': 2662, 'Mayland': 2663, 'economist': 2664, 'Society': 2665, 'Cleveland': 2666, 'taper': 2667, 'revive': 2668, 'residential': 2669, '*T*-46': 2670, 'pick': 2671, 'slack': 2672, 'asked': 2673, 'draw': 2674, 'blank': 2675, 'measures': 2676, 'slowly': 2677, 'payrolls': 2678, 'Reserve': 2679, 'industrial-production': 2680, 'Yet': 2681, 'economists': 2682, 'predicting': 2683, 'slip': 2684, 'recession': 2685, 'cite': 2686, 'lack': 2687, 'imbalances': 2688, '*T*-47': 2689, 'provide': 2690, 'warning': 2691, 'signals': 2692, 'Inventories': 2693, 'watched': 2694, 'clues': 2695, 'Economists': 2696, 'buildup': 2697, 'inventories': 2698, 'provoke': 2699, 'cutbacks': 2700, '*T*-48': 2701, 'lead': 2702, 'front': 2703, '0.1': 2704, 'conforms': 2705, '`': 2706, 'soft': 2707, 'landing': 2708, 'Elliott': 2709, 'Platt': 2710, 'Donaldson': 2711, 'Lufkin': 2712, 'Jenrette': 2713, 'excessive': 2714, 'slowdown': 2715, '*T*-49': 2716, 'eases': 2717, 'leading': 2718, 'nondurable': 2719, 'intended': 2720, '0.3': 2721, '109.73': 2722, 'climbing': 2723, '0.9': 2724, 'Orders': 2725, 'durable': 2726, '0.2': 2727, '127.03': 2728, '3.9': 2729, 'durable-goods': 2730, '1.6': 2731, '234.4': 2732, '5.4': 2733, 'Shipments': 2734, 'backlogs': 2735, 'unfilled': 2736, '0.5': 2737, '497.34': 2738, 'helped': 2739, 'strength': 2740, 'Excluding': 2741, 'declined': 2742, '*T*-50': 2743, 'accounts': 2744, '191.9': 2745, 'Berson': 2746, 'Bankers': 2747, 'predicted': 2748, 'eventually': 2749, 'boost': 2750, 'single-family': 2751, 'homes': 2752, 'Spending': 2753, 'private': 2754, 'nonresidential': 2755, '99.1': 2756, '4.3': 2757, '88': 2758, 'adjusting': 2759, 'change': 2760, 'contrast': 2761, 'McGraw-Hill': 2762, 'F.W.': 2763, 'Dodge': 2764, 'contracts': 2765, 'awarded': 2766, 'goverment': 2767, 'counts': 2768, '*-53': 2769, '*-54': 2770, 'renovation': 2771, 'slowing': 2772, 'signaling': 2773, 'imminent': 2774, 'Bretz': 2775, 'association': 2776, 'committee': 2777, 'materials': 2778, 'Pitney': 2779, 'Bowes': 2780, 'Stamford': 2781, 'low': 2782, '*-55': 2783, 'evidence': 2784, 'export': 2785, 'Only': 2786, 'purhasing': 2787, 'purchased': 2788, 'steeper': 2789, 'vendors': 2790, 'delivering': 2791, 'consider': 2792, 'inflationary': 2793, 'pressures': 2794, 'abating': 2795, 'suppliers': 2796, 'handle': 2797, 'delivery': 2798, 'lengthen': 2799, '*-56': 2800, 'provided': 2801, 'Each': 2802, 'indicators': 2803, 'gauges': 2804, 'difference': 2805, 'reporting': 2806, 'improvement': 2807, 'particular': 2808, 'worsening': 2809, 'polled': 2810, '73': 2811, '*T*-51': 2812, 'import': 2813, '10': 2814, 'acknowledging': 2815, 'trend': 2816, 'suspect': 2817, 'going': 2818, 'Items': 2819, 'short': 2820, 'supply': 2821, 'numbered': 2822, 'dozen': 2823, 'included': 2824, 'newcomer': 2825, 'milk': 2826, 'powder': 2827, 'odd': 2828, 'thing': 2829, 'row': 2830, 'shortage': 2831, 'nonfat': 2832, 'blamed': 2833, 'dairy': 2834, 'exceptionally': 2835, 'coupled': 2836, 'quotas': 2837, 'Pamela': 2838, 'Sebastian': 2839, 'contributed': 2840, 'article': 2841, 'Here': 2842, 'seasonally': 2843, 'manufacturers': 2844, 'Judging': 2845, 'Americana': 2846, 'Haruki': 2847, 'Murakami': 2848, 'Wild': 2849, 'Sheep': 2850, 'Chase': 2851, 'Kodansha': 2852, '320': 2853, '18.95': 2854, 'baby': 2855, 'boomers': 2856, 'sides': 2857, 'lot': 2858, 'novel': 2859, 'texture': 2860, 'entirely': 2861, 'especially': 2862, 'Characters': 2863, 'drink': 2864, 'Salty': 2865, 'Dogs': 2866, 'whistle': 2867, 'Johnny': 2868, 'Goode': 2869, 'Bugs': 2870, 'Bunny': 2871, 'reruns': 2872, 'read': 2873, 'Mickey': 2874, 'Spillane': 2875, 'talk': 2876, 'Groucho': 2877, 'Harpo': 2878, 'worry': 2879, 'careers': 2880, 'broken': 2881, 'marriages': 2882, 'desultory': 2883, 'affairs': 2884, 'reader': 2885, 'charm': 2886, 'engaging': 2887, 'recognizing': 2888, 'buttoned-down': 2889, 'society': 2890, 'contemporary': 2891, 'lore': 2892, 'refreshing': 2893, 'author': 2894, '*T*-52': 2895, 'belong': 2896, 'self-aggrandizing': 2897, 'we-Japanese': 2898, 'school': 2899, 'writers': 2900, '*T*-53': 2901, 'perpetuate': 2902, 'notion': 2903, 'unique': 2904, 'unfathomable': 2905, 'outsiders': 2906, 'carries': 2907, 'implicit': 2908, 'relations': 2909, 'think': 2910, 'nutty': 2911, 'plot': 2912, 'rooted': 2913, '*-57': 2914, 'reality': 2915, 'imaginative': 2916, 'funny': 2917, 'disaffected': 2918, 'hard-drinking': 2919, 'nearly-30': 2920, 'hero': 2921, 'snow': 2922, 'search': 2923, 'elusive': 2924, 'sheep': 2925, 'star': 2926, 'back': 2927, 'behest': 2928, 'sinister': 2929, 'erudite': 2930, 'mobster': 2931, 'Stanford': 2932, 'degree': 2933, 'tow': 2934, 'prescient': 2935, 'girlfriend': 2936, 'sassy': 2937, 'retorts': 2938, '*T*-54': 2939, 'mark': 2940, 'her': 2941, 'anything': 2942, 'docile': 2943, 'butterfly': 2944, 'meets': 2945, 'solicitous': 2946, 'Christian': 2947, 'chauffeur': 2948, '*T*-55': 2949, 'offers': 2950, 'God': 2951, 'phone': 2952, 'Man': 2953, 'sweet': 2954, 'roughhewn': 2955, 'figure': 2956, '*T*-56': 2957, 'wears': 2958, 'else': 2959, 'sheepskin': 2960, '40-year-old': 2961, 'sensation': 2962, 'Norwegian': 2963, 'Wood': 2964, 'seems': 2965, 'fluent': 2966, 'Beatles': 2967, 'lyrics': 2968, 'copies': 2969, 'published': 2970, 'youthful': 2971, 'Tokyo': 2972, 'brat': 2973, 'pack': 2974, '*T*-57': 2975, 'dominating': 2976, 'best-seller': 2977, 'charts': 2978, 'Their': 2979, 'books': 2980, 'written': 2981, 'idiomatic': 2982, 'language': 2983, 'usually': 2984, 'carry': 2985, 'dashes': 2986, 'Gotta': 2987, 'Have': 2988, 'Wa': 2989, 'Macmillan': 2990, '339': 2991, '17.95': 2992, 'baseball': 2993, 'Nipponese': 2994, 'version': 2995, 'call': 2996, 'game': 2997, 'describes': 2998, 'mirror': 2999, 'fabled': 3000, 'virtues': 3001, 'harmony': 3002, 'spirit': 3003, 'ballplayers': 3004, 'player': 3005, 'commitment': 3006, 'practice': 3007, 'image': 3008, 'important': 3009, 'batting': 3010, 'Polls': 3011, 'Giants': 3012, 'Tatsunori': 3013, 'Hara': 3014, 'humble': 3015, 'uncomplaining': 3016, 'obedient': 3017, 'soul': 3018, 'male': 3019, 'symbol': 3020, 'besuboru': 3021, 'played': 3022, 'ball': 3023, 'bat': 3024, 'unrecognizable': 3025, 'Fans': 3026, 'politely': 3027, 'foul': 3028, 'balls': 3029, 'stadium': 3030, 'ushers': 3031, 'strike': 3032, 'zone': 3033, 'expands': 3034, 'depending': 3035, 'size': 3036, 'hitter': 3037, 'ties': 3038, 'honorably': 3039, 'sidestep': 3040, 'shame': 3041, 'defeat': 3042, 'players': 3043, 'must': 3044, 'abide': 3045, 'strict': 3046, 'rules': 3047, 'conduct': 3048, 'lives': 3049, 'always': 3050, 'wear': 3051, 'road': 3052, 'amusing': 3053, 'chronicle': 3054, 'rationed': 3055, 'fare': 3056, 'enormous': 3057, 'sums': 3058, 'plate': 3059, 'run': 3060, 'Funny': 3061, 'Soho': 3062, '228': 3063, 'Katzenstein': 3064, 'petulant': 3065, 'complaint': 3066, 'impudent': 3067, 'whom': 3068, 'Sony': 3069, 'hosted': 3070, '*T*-58': 3071, 'Luce': 3072, 'Fellowship': 3073, 'regret': 3074, 'parties': 3075, 'sometimes': 3076, 'supercilious': 3077, 'vicious': 3078, 'passages': 3079, 'invades': 3080, 'mundane': 3081, 'aspects': 3082, 'regimented': 3083, 'employees': 3084, 'assigned': 3085, '*-59': 3086, 'lunch': 3087, 'partners': 3088, 'austere': 3089, 'dormitory': 3090, 'prying': 3091, 'caretaker': 3092, 'Some': 3093, 'observations': 3094, 'style': 3095, '*EXP*-3': 3096, 'salarymen': 3097, 'unproductive': 3098, 'overtime': 3099, 'sake': 3100, 'solidarity': 3101, 'hierarchical': 3102, 'assistant': 3103, 'chary': 3104, 'letting': 3105, 'young': 3106, 'employee': 3107, 'responsibility': 3108, 'enormously': 3109, 'frustrating': 3110, '*T*-59': 3111, 'science': 3112, 'raring': 3113, 'invent': 3114, 'Walkman': 3115, 'ultimately': 3116, 'lesson': 3117, 'fired': 3118, 'committed': 3119, 'social': 3120, 'crime': 3121, 'appointment': 3122, 'venerable': 3123, 'Akio': 3124, 'Morita': 3125, 'never': 3126, 'certainly': 3127, 'learned': 3128, 'something': 3129, 'Ms.': 3130, 'Kirkpatrick': 3131, 'deputy': 3132, 'editorial': 3133, 'features': 3134, 'corners': 3135, 'globe': 3136, 'becoming': 3137, 'tobacco': 3138, 'smoke': 3139, 'Singapore': 3140, 'entering': 3141, 'restaurants': 3142, 'stores': 3143, 'sports': 3144, 'centers': 3145, 'Discos': 3146, 'clubs': 3147, 'exempt': 3148, 'smoking': 3149, '*-60': 3150, 'bars': 3151, 'except': 3152, 'hours': 3153, 'bans': 3154, 'theaters': 3155, 'elevators': 3156, 'hospitals': 3157, 'fast-food': 3158, 'Siti': 3159, 'Zaharah': 3160, 'Sulaiman': 3161, 'minister': 3162, 'prime': 3163, 'No-Smoking': 3164, 'Week': 3165, 'Mara': 3166, 'Kuala': 3167, 'Lumpur': 3168, 'urged': 3169, 'on-campus': 3170, 'visiting': 3171, '26,000': 3172, 'stalls': 3173, 'posters': 3174, 'signboards': 3175, 'restricts': 3176, 'designated': 3177, 'indicates': 3178, 'consumers': 3179, 'materialistic': 3180, 'carried': 3181, 'Backer': 3182, 'Spielvogel': 3183, 'Bates': 3184, 'agency': 3185, 'colony': 3186, 'feel': 3187, 'pressured': 3188, 'surveyed': 3189, '*T*-60': 3190, 'espouse': 3191, 'identified': 3192, '*T*-61': 3193, 'one-third': 3194, 'great': 3195, 'deal': 3196, 'stress': 3197, 'Thai': 3198, 'cabinet': 3199, 'endorsed': 3200, 'Pramual': 3201, 'Sabhavasu': 3202, 'proposal': 3203, 'build': 3204, 'center': 3205, '*T*-62': 3206, '20,000': 3207, 'Bangkok': 3208, '*-61': 3209, 'Central': 3210, 'Plaza': 3211, 'Hotel': 3212, 'balked': 3213, 'conditions': 3214, 'undertaking': 3215, 'necessary': 3216, '*-62': 3217, 'Yasser': 3218, 'Arafat': 3219, 'Olympic': 3220, 'Committee': 3221, 'asking': 3222, 'Palestinian': 3223, 'Palestine': 3224, 'Liberation': 3225, 'Organization': 3226, 'WAFA': 3227, 'membership': 3228, '1979': 3229, 'renewed': 3230, 'application': 3231, 'PLO': 3232, 'organizations': 3233, 'win': 3234, 'Health': 3235, 'Tourism': 3236, 'Beijing': 3237, 'food-shop': 3238, 'mainland': 3239, 'Chinese': 3240, 'AIDS': 3241, 'sex': 3242, 'Daily': 3243, 'man': 3244, '*T*-63': 3245, 'disease': 3246, 'hospital': 3247, 'tests': 3248, 'Once': 3249, 'confirmed': 3250, '*-63': 3251, 'associates': 3252, 'family': 3253, 'tested': 3254, '*-64': 3255, 'newspaper': 3256, 'chaotic': 3257, 'life': 3258, 'Polish': 3259, 'charges': 3260, '150': 3261, 'gas': 3262, 'PAP': 3263, 'unrealistically': 3264, 'line': 3265, 'compensate': 3266, 'coal': 3267, 'happier': 3268, 'establishing': 3269, 'diplomatic': 3270, 'Poland': 3271, 'loans': 3272, 'financially': 3273, 'strapped': 3274, 'Warsaw': 3275, 'victory': 3276, 'environmentalists': 3277, 'Hungary': 3278, 'parliament': 3279, 'terminated': 3280, 'multibillion-dollar': 3281, 'River': 3282, 'Danube': 3283, 'dam': 3284, 'Austrian': 3285, 'Nagymaros': 3286, 'twinned': 3287, 'upstream': 3288, 'Czechoslovakia': 3289, 'ending': 3290, 'authorized': 3291, 'Prime': 3292, 'Miklos': 3293, 'Nemeth': 3294, 'modify': 3295, '*T*-64': 3296, 'environmental': 3297, 'damage': 3298, 'twin': 3299, 'dams': 3300, '*-67': 3301, 'planned': 3302, 'twindam': 3303, '*-68': 3304, 'Czech': 3305, 'ca': 3306, 'operated': 3307, '*-69': 3308, 'solely': 3309, 'peak': 3310, 'periods': 3311, 'painting': 3312, 'Strindberg': 3313, 'Scandinavian': 3314, 'Stockholm': 3315, '2.44': 3316, 'Lighthouse': 3317, 'painted': 3318, 'oils': 3319, 'playwright': 3320, '1901': 3321, 'weddings': 3322, 'upturn': 3323, '6,000': 3324, 'couples': 3325, 'exchanging': 3326, 'rings': 3327, 'national': 3328, 'statistics': 3329, '271,124': 3330, '400,000': 3331, '1972': 3332, 'BRAMALEA': 3333, '85.1': 3334, '10.5': 3335, 'debentures': 3336, 'due': 3337, '1999': 3338, '100,000': 3339, 'bond': 3340, 'warrants': 3341, 'Toronto-based': 3342, 'real': 3343, 'estate': 3344, 'warrant': 3345, 'entitles': 3346, 'holder': 3347, '1,000': 3348, 'par': 3349, 'accrued': 3350, 'date': 3351, 'swapped': 3352, '*-70': 3353, 'Lead': 3354, 'underwriters': 3355, 'Scotia': 3356, 'McLeod': 3357, 'RBC': 3358, 'Dominion': 3359, 'dealers': 3360, 'Bramalea': 3361, 'actor': 3362, 'Lane': 3363, 'inheritor': 3364, 'Charlie': 3365, 'Chaplin': 3366, 'Steve': 3367, 'Martin': 3368, 'laid': 3369, 'claim': 3370, 'writer': 3371, '*T*-65': 3372, 'obsessed': 3373, 'refitting': 3374, 'Little': 3375, 'Tramp': 3376, '1976': 3377, 'film': 3378, 'student': 3379, 'Purchase': 3380, 'campus': 3381, 'shot': 3382, 'Place': 3383, '36-minute': 3384, 'black-and-white': 3385, 'sketch': 3386, 'artist': 3387, 'streets': 3388, 'revived': 3389, 'Artist': 3390, 'full-length': 3391, 'Sidewalk': 3392, 'Stories': 3393, 'poignant': 3394, 'piece': 3395, 'modern-day': 3396, 'tramp': 3397, 'Of': 3398, 'contained': 3399, 'dialogue': 3400, '*-71': 3401, 'homeless': 3402, 'person': 3403, 'really': 3404, 'silent': 3405, 'Composer': 3406, 'Marc': 3407, 'Marder': 3408, 'college': 3409, 'friend': 3410, '*T*-66': 3411, 'earns': 3412, 'living': 3413, 'playing': 3414, 'double': 3415, 'bass': 3416, 'classical': 3417, 'music': 3418, 'ensembles': 3419, 'prepared': 3420, 'exciting': 3421, 'eclectic': 3422, 'score': 3423, '*T*-67': 3424, 'characters': 3425, 'thinking': 3426, 'feeling': 3427, 'precisely': 3428, 'intertitles': 3429, 'words': 3430, 'Much': 3431, 'takes': 3432, 'highly': 3433, 'romanticized': 3434, 'view': 3435, 'good-hearted': 3436, 'Filmed': 3437, 'lovely': 3438, 'black': 3439, 'white': 3440, 'Bill': 3441, 'Dill': 3442, 'seem': 3443, 'benign': 3444, 'women': 3445, 'walk': 3446, 'purpose': 3447, 'noticing': 3448, 'jostle': 3449, 'cabs': 3450, 'hangs': 3451, 'Greenwich': 3452, 'Village': 3453, 'strip': 3454, 'Sixth': 3455, 'Avenue': 3456, 'populated': 3457, 'jugglers': 3458, 'magicians': 3459, 'good-natured': 3460, 'hustlers': 3461, 'crack': 3462, 'dead-eyed': 3463, 'selling': 3464, 'four-year-old': 3465, 'Cosmopolitan': 3466, 'curled': 3467, 'cardboard': 3468, 'box': 3469, 'routine': 3470, 'spends': 3471, 'sketching': 3472, 'passers-by': 3473, 'night': 3474, 'returns': 3475, 'condemned': 3476, 'calls': 3477, 'His': 3478, 'skirmishes': 3479, 'competing': 3480, 'carefree': 3481, 'given': 3482, '*-72': 3483, 'blind': 3484, 'girl': 3485, 'cure': 3486, 'Lights': 3487, '*-73': 3488, 'charge': 3489, 'returning': 3490, 'two-year-old': 3491, 'waif': 3492, 'Nicole': 3493, 'Alysia': 3494, 'murdered': 3495, '*-74': 3496, 'thugs': 3497, 'mother': 3498, 'cute': 3499, 'child': 3500, 'turns': 3501, 'blessing': 3502, 'curse': 3503, 'sense': 3504, 'alerts': 3505, 'serious': 3506, 'inadequacy': 3507, 'vagrant': 3508, 'beds': 3509, 'Bowery': 3510, 'Mission': 3511, 'drearier': 3512, 'tuck': 3513, 'To': 3514, 'stakes': 3515, 'dreamed': 3516, 'improbable': 3517, 'romance': 3518, 'woman': 3519, '*T*-68': 3520, 'children': 3521, 'shop': 3522, '*T*-69': 3523, 'expensive': 3524, 'high-rise': 3525, 'apartment': 3526, 'resonate': 3527, 'strongly': 3528, 'camera': 3529, 'behind': 3530, 'final': 3531, 'glamorize': 3532, 'vagabond': 3533, 'existence': 3534, 'ends': 3535, 'sound': 3536, 'street': 3537, 'whimsical': 3538, 'enviable': 3539, 'rough': 3540, 'beaten': 3541, 'voices': 3542, 'French': 3543, 'Claude': 3544, 'Chabrol': 3545, 'managed': 3546, 'weird': 3547, 'achievement': 3548, 'Story': 3549, 'Women': 3550, 'harsh': 3551, 'brilliant': 3552, 'picture': 3553, '*T*-70': 3554, 'captivating': 3555, 'character': 3556, 'viewed': 3557, 'sympathetic': 3558, 'angle': 3559, 'disagreeable': 3560, 'Marie-Louise': 3561, 'Giraud': 3562, 'historical': 3563, 'significance': 3564, 'executed': 3565, 'Vichy': 3566, 'hypocrisy': 3567, 'collaborated': 3568, 'Germans': 3569, 'thousands': 3570, 'Resistance': 3571, 'fighters': 3572, 'Jews': 3573, 'needed': 3574, 'diversionary': 3575, 'symbolic': 3576, 'traitor': 3577, 'small-time': 3578, 'abortionist': 3579, 'accidentally': 3580, 'enabled': 3581, 'jam': 3582, 'cocoa': 3583, 'war-rationed': 3584, 'goodies': 3585, 'untrained': 3586, 'botched': 3587, 'job': 3588, 'killed': 3589, 'client': 3590, 'Her': 3591, 'remorse': 3592, 'shallow': 3593, 'playful': 3594, 'dreadful': 3595, 'war-damaged': 3596, 'husband': 3597, 'openly': 3598, 'lover': 3599, 'presented': 3600, 'thin-lipped': 3601, 'Isabelle': 3602, 'Huppert': 3603, 'Marie': 3604, 'Latour': 3605, 'nice': 3606, 'deserve': 3607, 'chopped': 3608, 'recommend': 3609, 'Old': 3610, 'Gringo': 3611, 'confused': 3612, 'rendering': 3613, 'Fuentes': 3614, 'Mexican': 3615, 'Revolution': 3616, 'Most': 3617, 'taken': 3618, 'endless': 3619, 'scenes': 3620, 'fighting': 3621, 'eating': 3622, 'drinking': 3623, 'celebrate': 3624, 'mention': 3625, 'movies': 3626, 'bright': 3627, 'spot': 3628, 'Peck': 3629, 'marvelously': 3630, 'loose': 3631, 'energetic': 3632, 'portrayal': 3633, '*T*-71': 3634, 'die': 3635, 'Video': 3636, 'Tip': 3637, 'Before': 3638, 'seeing': 3639, 'look': 3640, 'finest': 3641, 'Boeing': 3642, 'discussing': 3643, 'plans': 3644, 'regular': 3645, 'possibly': 3646, 'larger': 3647, '767': 3648, 'twin-jet': 3649, 'discussions': 3650, 'stages': 3651, 'specific': 3652, 'Seattle': 3653, 'Kawasaki': 3654, 'Heavy': 3655, 'Industries': 3656, 'Mitsubishi': 3657, 'Fuji': 3658, 'sections': 3659, 'accounting': 3660, 'aircraft': 3661, 'press': 3662, 'speculated': 3663, 'contribution': 3664, 'goes': 3665, 'ahead': 3666, 'plane': 3667, 'hit': 3668, 'mid-1990s': 3669, 'negative': 3670, 'secondary': 3671, 'campaigns': 3672, 'event': 3673, 'irony': 3674, 'attack': 3675, 'commercial': 3676, 'getting': 3677, 'presidential': 3678, 'campaign': 3679, 'off-off': 3680, 'election': 3681, 'contests': 3682, 'scattered': 3683, 'across': 3684, 'ads': 3685, 'hostility': 3686, 'fears': 3687, 'mudslinging': 3688, 'empty': 3689, 'issues': 3690, 'ushering': 3691, 'era': 3692, 'content': 3693, 'Napolitan': 3694, '*T*-72': 3695, 'stirrings': 3696, 'politics': 3697, 'dawn': 3698, 'sometimes-tawdry': 3699, 'art': 3700, 'stage': 3701, 'consultant': 3702, 'your': 3703, 'TV': 3704, 'needs': 3705, 'bold': 3706, 'entertaining': 3707, 'means': 3708, 'confrontational': 3709, 'truthful': 3710, 'fights': 3711, 'Take': 3712, 'commercials': 3713, '*T*-73': 3714, 'tone': 3715, 'elections': 3716, 'Jersey': 3717, 'Virginia': 3718, 'screen': 3719, 'fills': 3720, 'tight': 3721, 'facial': 3722, 'Dinkins': 3723, 'Democratic': 3724, 'candidate': 3725, 'mayor': 3726, 'income': 3727, 'straight': 3728, 'disembodied': 3729, 'voice': 3730, 'Republican': 3731, 'Giuliani': 3732, 'Roger': 3733, 'Ailes': 3734, 'master': 3735, 'gets': 3736, 'contributions': 3737, 'accurately': 3738, 'hid': 3739, 'links': 3740, 'insurance': 3741, 'convicted': 3742, 'kidnapper': 3743, 'phony': 3744, 'kicker': 3745, 'Why': 3746, 'wait': 3747, 'caught': 3748, 'Nasty': 3749, 'innuendoes': 3750, 'Siegal': 3751, 'prosecute': 3752, 'corruption': 3753, '*T*-74': 3754, 'simply': 3755, 'exist': 3756, 'Stung': 3757, 'consultants': 3758, 'Shrum': 3759, 'Doak': 3760, 'finally': 3761, 'unleashed': 3762, 'shows': 3763, 'distorted': 3764, 'photos': 3765, 'politicians': 3766, 'Compare': 3767, 'candidates': 3768, 'One': 3769, 'banning': 3770, 'cop-killer': 3771, 'bullets': 3772, 'opposed': 3773, 'pro-choice': 3774, 'choose': 3775, 'Who': 3776, 'telling': 3777, 'truth': 3778, 'Everybody': 3779, 'nobody': 3780, 'classic': 3781, 'situation': 3782, '*T*-75': 3783, 'accurate': 3784, 'fail': 3785, 'insists': 3786, 'voluntarily': 3787, 'admitted': 3788, 'oversight': 3789, 'secret': 3790, 'Campaign': 3791, 'refused': 3792, '95,142': 3793, 'matching': 3794, 'incomplete': 3795, 'errors': 3796, 'know': 3797, 'get-out-the-vote': 3798, 'kidnapping': 3799, 'Peter': 3800, 'Powers': 3801, 'deceptive': 3802, 'side': 3803, 'argues': 3804, 'knows': 3805, 'reservations': 3806, 'Lt.': 3807, 'Gov.': 3808, 'Wilder': 3809, 'gubernatorial': 3810, 'battle': 3811, 'Marshall': 3812, 'Coleman': 3813, 'abortion': 3814, 'Greer': 3815, 'persuasion': 3816, 'agree': 3817, 'tour': 3818, 'de': 3819, 'Against': 3820, 'Monticello': 3821, 'superimposed': 3822, 'flag': 3823, 'tradition': 3824, 'freedom': 3825, 'liberty': 3826, 'Virginians': 3827, 'nurtured': 3828, 'generations': 3829, 'statue': 3830, 'Jefferson': 3831, 'dissolves': 3832, '*T*-76': 3833, 'wanted': 3834, 'rape': 3835, 'incest': 3836, 'denies': 3837, 'dynamics': 3838, 'transforming': 3839, 'referendum': 3840, 'attorney': 3841, 'series': 3842, 'advertisements': 3843, 'created': 3844, 'Bob': 3845, 'Goodman': 3846, 'shake': 3847, '*T*-77': 3848, 'attracted': 3849, 'counterattack': 3850, 'featured': 3851, 'close-up': 3852, 'shadows': 3853, 'suggested': 3854, 'recalling': 3855, 'unpleasant': 3856, 'courtroom': 3857, 'ordeal': 3858, \"C'mon\": 3859, 'boyfriends': 3860, 'interjects': 3861, '*T*-78': 3862, 'introduced': 3863, 'bill': 3864, 'victims': 3865, 'younger': 3866, 'interrogated': 3867, 'lawyers': 3868, 'accused': 3869, 'rapists': 3870, 'tried': 3871, 'pass': 3872, 'constituent': 3873, 'legislative': 3874, 'technique': 3875, 'lawmakers': 3876, '1983': 3877, 'unfounded': 3878, 'interrogation': 3879, 'grown': 3880, 'tired': 3881, 'gotten': 3882, 'stigma': 3883, 'campaigner': 3884, 'Mark': 3885, 'Rozell': 3886, 'scientist': 3887, 'Mary': 3888, 'onus': 3889, 'campaigning': 3890, 'devote': 3891, 'remainder': 3892, 'season': 3893, 'positive': 3894, 'truce': 3895, 'lasted': 3896, 'stations': 3897, 'carrying': 3898, 'featuring': 3899, 'himself': 3900, 'questions': 3901, 'sensitivity': 3902, 'attacks': 3903, 'Rep.': 3904, 'Florio': 3905, 'aired': 3906, 'Pinocchio': 3907, 'photograph': 3908, 'Jim': 3909, 'Courter': 3910, 'Remember': 3911, 'female': 3912, 'Consider': 3913, 'Squier': 3914, 'mean': 3915, 'dirty': 3916, 'Pictures': 3917, 'rusted': 3918, 'drums': 3919, 'swim': 3920, 'focus': 3921, 'purrs': 3922, 'hazardous': 3923, 'waste': 3924, 'neighbors': 3925, 'suing': 3926, 'fraud': 3927, 'nose': 3928, 'grows': 3929, 'involved': 3930, 'cry': 3931, 'partisans': 3932, 'responded': 3933, 'photographs': 3934, 'lying': 3935, 'asks': 3936, 'barrel': 3937, 'land': 3938, 'heating': 3939, 'cleaned': 3940, 'pollution': 3941, 'shrinks': 3942, 'Salmore': 3943, 'Eagleton': 3944, 'Barrels': 3945, 'environment': 3946, 'Even': 3947, 'devastating': 3948, 'credibility': 3949, '1966': 3950, 'route': 3951, 're-election': 3952, 'rout': 3953, 'Democrat': 3954, \"O'Connor\": 3955, 'GOP': 3956, 'Nelson': 3957, 'Rockefeller': 3958, 'appeared': 3959, 'Chicago': 3960, '350,000': 3961, '16,000': 3962, 'Friday': 3963, 'Seats': 3964, 'quoted': 3965, '331,000': 3966, 'exchange': 3967, '550,000': 3968, 'Aug.': 3969, 'Southeast': 3970, 'propelling': 3971, 'region': 3972, 'toward': 3973, 'Interviews': 3974, 'suggest': 3975, 'cooperation': 3976, 'Asian': 3977, 'pursued': 3978, 'fits': 3979, 'starts': 3980, 'sparking': 3981, 'domination': 3982, 'posing': 3983, 'fresh': 3984, 'policy': 3985, 'flow': 3986, 'motion': 3987, 'whereby': 3988, 'economies': 3989, 'knitted': 3990, 'Hormats': 3991, 'tripled': 3992, 'commitments': 3993, '5.57': 3994, 'Investment': 3995, '705.6': 3996, 'steep': 3997, 'assistance': 3998, 'cash-rich': 3999, 'following': 4000, 'pumping': 4001, 'wages': 4002, 'forcing': 4003, 'sites': 4004, 'labor-intensive': 4005, 'known': 4006, 'tigers': 4007, 'contributing': 4008, 'influence': 4009, 'subordinate': 4010, 'recipient': 4011, 'jobs': 4012, 'spur': 4013, 'military': 4014, 'fearful': 4015, 'falling': 4016, 'hegemony': 4017, 'Because': 4018, 'budget': 4019, 'constraints': 4020, 'encourages': 4021, 'burdens': 4022, 'resists': 4023, 'ground': 4024, 'coming': 4025, 'decade': 4026, 'U.S.-Japanese': 4027, 'comes': 4028, 'behemoth': 4029, 'swelling': 4030, 'evolution': 4031, 'concentrated': 4032, '1990s': 4033, 'spurred': 4034, 'multinationals': 4035, 'plants': 4036, 'accommodate': 4037, 'decisions': 4038, 'offend': 4039, 'donor': 4040, 'lender': 4041, 'Drobnick': 4042, 'California': 4043, 'Graduate': 4044, 'School': 4045, 'cohesive': 4046, 'parallel': 4047, 'Common': 4048, 'Market': 4049, 'approach': 4050, 'Rather': 4051, 'sectors': 4052, 'Calder': 4053, 'specialist': 4054, 'East': 4055, 'Woodrow': 4056, 'Wilson': 4057, 'Internatonal': 4058, 'Princeton': 4059, 'tubes': 4060, 'assemble': 4061, 'Indonesia': 4062, 'effect': 4063, 'pull': 4064, 'integrated': 4065, 'Countries': 4066, 'framework': 4067, 'closer': 4068, 'ministers': 4069, 'discuss': 4070, 'regional': 4071, 'transportation': 4072, 'telecommunications': 4073, 'Participants': 4074, 'Zealand': 4075, 'Nations': 4076, 'Brunei': 4077, 'rim': 4078, 'speech': 4079, 'Baker': 4080, 'Hawke': 4081, 'reasserts': 4082, 'intention': 4083, 'taking': 4084, 'shape': 4085, 'friends': 4086, 'crucial': 4087, 'designing': 4088, 'architecture': 4089, 'difficult': 4090, 'dominance': 4091, 'outstrips': 4092, 'flows': 4093, 'outranks': 4094, 'remains': 4095, 'optimism': 4096, 'enlarged': 4097, 'convey': 4098, 'undertone': 4099, 'caution': 4100, 'understanding': 4101, 'functions': 4102, 'Farren': 4103, 'commerce': 4104, 'benevolent': 4105, 'altruistic': 4106, 'attitude': 4107, 'net': 4108, 'gain': 4109, 'everyone': 4110, 'apprehensive': 4111, 'step': 4112, 'ease': 4113, 'security': 4114, 'uncertainty': 4115, 'leases': 4116, 'bases': 4117, 'troop': 4118, 'Many': 4119, 'Asians': 4120, 'regard': 4121, 'desirable': 4122, 'counterweight': 4123, 'marbles': 4124, 'try': 4125, 'juggernaut': 4126, 'monopolize': 4127, 'sew': 4128, 'Chong-sik': 4129, 'Lee': 4130, 'Pennsylvania': 4131, 'Cathryn': 4132, 'Rice': 4133, 'hardly': 4134, 'eyes': 4135, 'Comprehensive': 4136, 'Test': 4137, 'Basic': 4138, 'Skills': 4139, 'ninth': 4140, 'graders': 4141, 'Greenville': 4142, 'High': 4143, 'spotted': 4144, 'crib': 4145, 'seen': 4146, 'cheating': 4147, 'notes': 4148, 'uncanny': 4149, 'stockbroker': 4150, 'profession': 4151, 'Germany': 4152, 'surrendered': 4153, 'Senate-House': 4154, 'passed': 4155, 'forms': 4156, 'Virtually': 4157, 'word': 4158, 'matched': 4159, 'answers': 4160, 'social-studies': 4161, 'section': 4162, 'test': 4163, 'protest': 4164, 'My': 4165, 'teacher': 4166, 'OK': 4167, 'me': 4168, 'Nancy': 4169, 'Yeargin': 4170, 'students': 4171, 'parents': 4172, 'Confronted': 4173, 'examination': 4174, 'low-ability': 4175, 'geography': 4176, 'classes': 4177, 'gone': 4178, 'display': 4179, 'projector': 4180, 'underline': 4181, 'prosecuted': 4182, 'unusual': 4183, 'Carolina': 4184, '*T*-79': 4185, 'breach': 4186, 'pleaded': 4187, 'guilty': 4188, 'alternative': 4189, 'jail': 4190, 'partly': 4191, 'downfall': 4192, 'unstinting': 4193, '*T*-80': 4194, 'won': 4195, 'laurels': 4196, 'inspired': 4197, 'teach': 4198, 'wake': 4199, 'bitterness': 4200, 'anger': 4201, '*T*-81': 4202, 'betrayer': 4203, 'colleagues': 4204, '*T*-82': 4205, '*T*-83': 4206, 'defended': 4207, 'treated': 4208, 'harshly': 4209, 'school-district': 4210, 'stunned': 4211, 'bald-faced': 4212, 'nature': 4213, 'actions': 4214, 'martyr': 4215, 'casts': 4216, 'light': 4217, 'dark': 4218, 'reform': 4219, 'teachers': 4220, 'high-stakes': 4221, 'testing': 4222, 'enhanced': 4223, 'temptation': 4224, 'cheat': 4225, 'statute': 4226, 'violated': 4227, 'enforce': 4228, 'provisions': 4229, 'school-improvement': 4230, 'laws': 4231, 'Prosecutors': 4232, 'alleged': 4233, 'bolster': 4234, 'scores': 4235, 'bonus': 4236, '1984': 4237, 'Education': 4238, 'Improvement': 4239, 'depended': 4240, 'ability': 4241, 'student-test': 4242, 'incredible': 4243, 'pressure': 4244, 'Walt': 4245, 'Haney': 4246, 'education': 4247, 'educators': 4248, '*T*-84': 4249, 'wrongdoing': 4250, '50-state': 4251, 'Friends': 4252, 'Albuquerque': 4253, 'N.M.': 4254, 'school-research': 4255, 'concluded': 4256, 'outright': 4257, 'standardized': 4258, 'greatly': 4259, 'inflated': 4260, 'Evidence': 4261, 'widespread': 4262, 'surfaced': 4263, 'states': 4264, 'suspects': 4265, 'adult': 4266, 'erasures': 4267, '*T*-85': 4268, 'wrong': 4269, 'ones': 4270, 'statewide': 4271, 'numerous': 4272, 'occurrences': 4273, 'revising': 4274, 'practices': 4275, 'test-coaching': 4276, 'booklets': 4277, 'classroom': 4278, 'instruction': 4279, 'booming': 4280, 'Macmillan\\\\/McGraw-Hill': 4281, 'Publishing': 4282, 'Scoring': 4283, 'Learning': 4284, 'Materials': 4285, 'nothing': 4286, 'sophisticated': 4287, 'academic': 4288, 'telegraph': 4289, 'beforehand': 4290, 'precise': 4291, 'areas': 4292, 'concentrate': 4293, 'Use': 4294, 'County': 4295, 'district': 4296, 'Experts': 4297, 'promotions': 4298, 'entire': 4299, 'districts': 4300, 'wrenching': 4301, 'state-supervised': 4302, 'interventions': 4303, '*T*-86': 4304, 'firings': 4305, 'extra': 4306, 'lab': 4307, 'grants': 4308, 'projects': 4309, 'superintendent': 4310, 'Since': 4311, 'reforms': 4312, 'Scholastic': 4313, 'Aptitude': 4314, 'posts': 4315, 'lowest': 4316, '*T*-87': 4317, 'SAT': 4318, 'primary': 4319, 'entrance': 4320, 'Critics': 4321, 'stressing': 4322, 'worst': 4323, 'Says': 4324, 'Cannell': 4325, 'prosecuting': 4326, 'administrators': 4327, 'seriously': 4328, 'Sandifer': 4329, 'allegations': 4330, 'purely': 4331, 'foundation': 4332, 'unfair': 4333, 'inferences': 4334, 'Partly': 4335, 'worries': 4336, 'abuse': 4337, 'keeping': 4338, 'track': 4339, 'achievement-test': 4340, 'preparation': 4341, 'Standing': 4342, 'shaded': 4343, 'hill': 4344, 'run-down': 4345, 'textile': 4346, 'educated': 4347, 'brightest': 4348, 'governors': 4349, 'Nobel': 4350, 'Prize': 4351, 'winning': 4352, 'physicist': 4353, 'Townes': 4354, 'actress': 4355, 'Joanne': 4356, 'Woodward': 4357, '1980s': 4358, 'glory': 4359, '*PPA*-1': 4360, 'faded': 4361, 'yellow': 4362, 'bricks': 4363, 'broad': 4364, 'facade': 4365, 'violence': 4366, 'gangs': 4367, 'kids': 4368, 'Linda': 4369, 'Ward': 4370, 'Crime': 4371, 'awful': 4372, 'enrollment': 4373, 'honors': 4374, 'programs': 4375, 'seventh': 4376, 'immediate': 4377, 'predecessor': 4378, 'suffered': 4379, 'nervous': 4380, 'breakdown': 4381, 'Prior': 4382, 'term': 4383, 'bled': 4384, 'death': 4385, 'halls': 4386, 'stabbed': 4387, 'Academically': 4388, 'trouble': 4389, 'serving': 4390, 'disparate': 4391, 'evenly': 4392, 'split': 4393, 'privileged': 4394, 'elite': 4395, 'monied': 4396, 'neighborhoods': 4397, 'blacks': 4398, 'inner': 4399, 'resolved': 4400, 'clean': 4401, 'deadwood': 4402, 'faculty': 4403, 'restore': 4404, 'safety': 4405, 'behalf': 4406, '*T*-88': 4407, 'overall': 4408, 'educational': 4409, 'funding': 4410, 'ushered': 4411, 'betterment': 4412, '*T*-89': 4413, 'ambitions': 4414, 'reformers': 4415, 'Being': 4416, 'my': 4417, '37-year-old': 4418, 'dismissal': 4419, 'loved': 4420, 'dreamt': 4421, 'things': 4422, 'restructured': 4423, 'staff': 4424, 'struggled': 4425, 'curriculum': 4426, '14-hour': 4427, 'fast': 4428, 'favorite': 4429, '1986-87': 4430, '1987-88': 4431, 'Encouraged': 4432, 'taught': 4433, 'cadet': 4434, 'creation': 4435, 'encourage': 4436, 'teaching': 4437, 'advised': 4438, 'cheerleaders': 4439, 'pep': 4440, 'club': 4441, 'Cultural': 4442, 'Literacy': 4443, 'Civilization': 4444, 'chosen': 4445, 'PTA': 4446, 'Teacher': 4447, 'Year': 4448, 'inspirational': 4449, 'lady': 4450, 'Laura': 4451, 'Dobson': 4452, 'freshman': 4453, '*T*-90': 4454, 'teacher-cadet': 4455, 'studying': 4456, 'Beth': 4457, 'Marchand': 4458, '11th': 4459, 'grader': 4460, \"'ve\": 4461, 'Kelli': 4462, 'Green': 4463, 'distinguished': 4464, 'herself': 4465, 'approaches': 4466, 'pair': 4467, 'college-bowl': 4468, 'competitions': 4469, 'weekends': 4470, 'prepare': 4471, 'polish': 4472, 'furniture': 4473, \"'d\": 4474, 'correcting': 4475, 'homework': 4476, 'stands': 4477, 'football': 4478, 'fellow': 4479, 'cocky': 4480, '*T*-91': 4481, 'grandstander': 4482, 'Pressures': 4483, 'told': 4484, 'pushing': 4485, 'deteriorating': 4486, 'hearing': 4487, 'feared': 4488, 'helping': 4489, 'earn': 4490, 'points': 4491, 'incentive-bonus': 4492, 'source': 4493, 'Huge': 4494, 'meant': 4495, '5,000': 4496, 'meaningful': 4497, 'salary': 4498, '23,000': 4499, 'Winning': 4500, 'third': 4501, 'others': 4502, 'eager': 4503, 'pride': 4504, 'Elizabeth': 4505, 'Ariail': 4506, '*T*-92': 4507, 'Indeed': 4508, 'interested': 4509, 'attending': 4510, 'seminar': 4511, 'returned': 4512, 'adequately': 4513, '48': 4514, 'copied': 4515, 'studies': 4516, 'admits': 4517, 'mistake': 4518, 'motives': 4519, 'correct': 4520, 'sociology': 4521, 'subjects': 4522, 'bottom': 4523, 'rankings': 4524, 'newspapers': 4525, 'Mostly': 4526, 'prevent': 4527, 'self-esteem': 4528, 'badly': 4529, 'broke': 4530, 'heart': 4531, 'whole': 4532, 'alive': 4533, 'desperately': 4534, 'somebody': 4535, '*T*-93': 4536, 'cared': 4537, '*T*-94': 4538, 'drag-down': 4539, 'blow': 4540, 'advanced': 4541, '*T*-95': 4542, 'pretty': 4543, 'defeats': 4544, 'inkling': 4545, 'underprivileged': 4546, 'Joe': 4547, 'Watson': 4548, 'prosecutor': 4549, '*T*-96': 4550, 'alumni': 4551, 'concedes': 4552, 'adding': 4553, 'Do': 4554, 'sympathy': 4555, '*T*-97': 4556, 'hands': 4557, 'discovered': 4558, 'avoid': 4559, 'morale-damaging': 4560, 'disclosure': 4561, 'trial': 4562, 'quiet': 4563, 'resignation': 4564, 'save': 4565, 'certificate': 4566, 'dumbfounded': 4567, 'recalls': 4568, 'someone': 4569, 'knife': 4570, 'astonishment': 4571, 'dismay': 4572, 'superiors': 4573, 'authorities': 4574, 'unpopularity': 4575, 'Mrs': 4576, 'school-board': 4577, 'dismissed': 4578, 'crowded': 4579, '*T*-98': 4580, 'testify': 4581, 'Supportive': 4582, 'callers': 4583, 'decried': 4584, 'radio': 4585, 'particulars': 4586, 'offense': 4587, 'policies': 4588, 'talk-show': 4589, 'host': 4590, 'Editorials': 4591, 'allowed': 4592, 'overused': 4593, 'enraged': 4594, 'first-time': 4595, 'offenders': 4596, '*T*-99': 4597, 'expunged': 4598, 'conviction': 4599, 'cranked': 4600, 'worthy': 4601, 'murder': 4602, 'Over': 4603, 'witnesses': 4604, 'mostly': 4605, 'interviewed': 4606, 'meanwhile': 4607, 'cheerleading': 4608, 'squad': 4609, 'crushed': 4610, 'explain': 4611, '17-year-old': 4612, 'Soon': 4613, 'T-shirts': 4614, 'corridors': 4615, 'familiar': 4616, 'red-and-white': 4617, 'GHS': 4618, 'logo': 4619, 'shirts': 4620, 'angry': 4621, 'harm': 4622, '*T*-100': 4623, 'damn': 4624, '*T*-101': 4625, 'aspersions': 4626, 'incident': 4627, 'doubt': 4628, 'wisdom': 4629, 'evaluating': 4630, 'Gayle': 4631, 'Key': 4632, 'mathematics': 4633, 'worms': 4634, 'realized': 4635, 'reinstatement': 4636, 'afraid': 4637, 'relieved': 4638, 'sentiment': 4639, 'favor': 4640, 'jury': 4641, 'chalk': 4642, 'touched': 4643, 'slate': 4644, 'schoolchildren': 4645, 'answer': 4646, 'workbooks': 4647, 'worksheets': 4648, 'prior': 4649, 'widely': 4650, 'Achievement': 4651, 'Roman': 4652, 'numeral': 4653, 'IX': 4654, 'add': 4655, 'two-sevenths': 4656, 'three-sevenths': 4657, 'Worksheets': 4658, 'test-practice': 4659, 'kit': 4660, 'instances': 4661, '*T*-102': 4662, 'parent': 4663, 'Britain': 4664, 'Communication': 4665, 'Close': 4666, 'parallels': 4667, 'Test-preparation': 4668, 'subindustry': 4669, 'critics': 4670, 'school-sponsored': 4671, 'justifying': 4672, 'Kaminski': 4673, 'Traverse': 4674, 'Mich.': 4675, '*T*-103': 4676, 'coaching': 4677, 'aids': 4678, '*T*-104': 4679, 'gauge': 4680, 'learning': 4681, 'everybody': 4682, 'aces': 4683, 'psychiatrist': 4684, '*T*-105': 4685, 'Standardized': 4686, 'kindergarten': 4687, 'eighth': 4688, 'grade': 4689, 'Macmillan\\\\/McGraw': 4690, 'CAT': 4691, 'Iowa': 4692, 'Houghton': 4693, 'Mifflin': 4694, 'Harcourt': 4695, 'Brace': 4696, 'Jovanovich': 4697, 'Metropolitan': 4698, 'test-prep': 4699, 'Arizona': 4700, 'Florida': 4701, 'Louisiana': 4702, 'Maryland': 4703, 'tools': 4704, 'test-preparation': 4705, 'binders': 4706, 'best-selling': 4707, 'Kean': 4708, 'CTB': 4709, '*T*-106': 4710, 'publishes': 4711, 'aimed': 4712, 'improving': 4713, 'replicated': 4714, 'referred': 4715, '*T*-107': 4716, 'coincidental': 4717, 'schoolteacher': 4718, 'Mehrens': 4719, 'Michigan': 4720, 'similarity': 4721, 'devised': 4722, '69-point': 4723, 'scale': 4724, 'awarding': 4725, 'subskill': 4726, 'measured': 4727, 'closeness': 4728, 'preparatives': 4729, 'fifth-grade': 4730, 'subskills': 4731, 'symmetry': 4732, 'geometrical': 4733, 'metric': 4734, 'measurement': 4735, 'volume': 4736, 'pie': 4737, 'bar': 4738, 'graphs': 4739, 'kits': 4740, 'replicate': 4741, 'intent': 4742, 'familiarization': 4743, '66.5': 4744, '69': 4745, '64.5': 4746, 'knowledge': 4747, 'two-letter': 4748, 'consonant': 4749, 'sounds': 4750, 'exclusion': 4751, 'contains': 4752, 'examples': 4753, 'matches': 4754, 'items': 4755, 'Rick': 4756, 'Brownell': 4757, 'ignoring': 4758, 'need': 4759, 'format': 4760, 'scrupulously': 4761, 'replicating': 4762, 'deny': 4763, 'publication': 4764, 'Random': 4765, 'outraged': 4766, 'advisory': 4767, 'represented': 4768, 'CTBS': 4769, '*T*-108': 4770, '*T*-109': 4771, 'unaware': 4772, 'discontinue': 4773, 'Alleghany': 4774, 'Sacramento': 4775, 'Savings': 4776, 'Loan': 4777, 'H.N.': 4778, 'Frances': 4779, 'C.': 4780, 'Berger': 4781, 'Foundation': 4782, 'Sacramento-based': 4783, 'S&L': 4784, '*T*-110': 4785, '44': 4786, 'offices': 4787, 'north': 4788, 'central': 4789, 'services': 4790, 'ancillary': 4791, 'Human': 4792, 'Services': 4793, 'moratorium': 4794, 'fetal-tissue': 4795, 'transplants': 4796, 'Medical': 4797, 'transplantation': 4798, 'fetal': 4799, 'tissue': 4800, 'humans': 4801, 'juvenile': 4802, 'diabetes': 4803, 'degenerative': 4804, 'Alzheimer': 4805, 'Parkinson': 4806, 'Huntington': 4807, 'anti-abortionists': 4808, 'oppose': 4809, 'therapies': 4810, 'abortions': 4811, 'Mason': 4812, 'secretary': 4813, 'health': 4814, 'transplant': 4815, 'indefinitely': 4816, 'wo': 4817, 'stop': 4818, 'privately': 4819, 'funded': 4820, 'tissue-transplant': 4821, 'federally': 4822, '*T*-111': 4823, 'involve': 4824, 'HHS': 4825, 'Louis': 4826, 'Sullivan': 4827, '*T*-112': 4828, 'letter': 4829, 'acting': 4830, 'Institutes': 4831, 'threatened': 4832, 'controversy': 4833, 'implications': 4834, 'implant': 4835, 'brain': 4836, 'patient': 4837, 'suffering': 4838, 'scientific': 4839, 'ethical': 4840, 'majority': 4841, 'NIH-appointed': 4842, 'panel': 4843, 'recommended': 4844, 'carefully': 4845, 'controlled': 4846, 'embroiled': 4847, 'anti-abortion': 4848, 'dispute': 4849, 'hampered': 4850, 'administration': 4851, 'recruit': 4852, 'prominent': 4853, 'doctors': 4854, 'fill': 4855, 'prestigious': 4856, 'helm': 4857, 'NIH': 4858, 'Centers': 4859, 'Disease': 4860, 'Control': 4861, 'Several': 4862, 'withdrawn': 4863, 'names': 4864, 'consideration': 4865, 'views': 4866, 'Antonio': 4867, 'Novello': 4868, 'nominated': 4869, '*T*-113': 4870, 'serve': 4871, 'surgeon': 4872, 'reportedly': 4873, 'assured': 4874, 'opposes': 4875, 'Child': 4876, 'Development': 4877, 'charged': 4878, 'imposing': 4879, 'ideological': 4880, 'defuse': 4881, 'CDC': 4882, 'judged': 4883, 'excellence': 4884, 'disturbs': 4885, 'moves': 4886, 'uncharted': 4887, '*ICH*-4': 4888, 'judgments': 4889, 'applications': 4890, 'Myron': 4891, 'Genel': 4892, 'associate': 4893, 'dean': 4894, 'Yale': 4895, 'debate': 4896, 'polarized': 4897, 'mechanism': 4898, 'exists': 4899, 'middle': 4900, 'conducting': 4901, 'warns': 4902, 'discourage': 4903, 'unavailability': 4904, 'climate': 4905, 'visible': 4906, 'foundations': 4907, 'flap': 4908, 'tissues': 4909, 'fronts': 4910, 'regenerate': 4911, 'damaged': 4912, 'genes': 4913, '*T*-114': 4914, 'cause': 4915, '*T*-115': 4916, 'Down': 4917, 'syndrome': 4918, 'mental': 4919, 'retardation': 4920, 'summary': 4921, 'Rekindled': 4922, 'interstate': 4923, 'banking': 4924, 'over-the-counter': 4925, 'slightly': 4926, 'lackluster': 4927, '1.01': 4928, '456.64': 4929, 'paltry': 4930, '118.6': 4931, 'inauspicious': 4932, 'Yesterday': 4933, 'turnover': 4934, 'daily': 4935, '133.8': 4936, 'busiest': 4937, 'averaged': 4938, 'roughly': 4939, '145': 4940, 'biggest': 4941, 'nonfinancial': 4942, 'gained': 4943, '1.39': 4944, '446.62': 4945, 'modestly': 4946, '1.28': 4947, '449.04': 4948, '*T*-116': 4949, 'tracks': 4950, '3.23': 4951, '436.01': 4952, 'Connecticut': 4953, 'Trust': 4954, 'regions': 4955, 'merge': 4956, 'Massachusetts': 4957, 'merged': 4958, 'traders': 4959, 'real-estate': 4960, 'loan': 4961, 'unattractive': 4962, 'takeover': 4963, 'targets': 4964, 'speculators': 4965, 'anticipating': 4966, 'approve': 4967, 'permitting': 4968, 'immediately': 4969, '*T*-117': 4970, 'water': 4971, 'saw': 4972, 'uptick': 4973, 'Jennison': 4974, 'trader': 4975, 'OTC': 4976, 'beneficiary': 4977, 'Bancorp': 4978, '*T*-118': 4979, '3\\\\/4': 4980, '*T*-119': 4981, 'expires': 4982, 'Ed': 4983, 'Macheski': 4984, 'Wilton': 4985, '*T*-120': 4986, 'green': 4987, 'fared': 4988, 'Constitution': 4989, '7\\\\/8': 4990, '1\\\\/4': 4991, 'signed': 4992, 'merger': 4993, 'WFRR': 4994, 'L.P.': 4995, 'GHKM': 4996, '273.5': 4997, '*T*-121': 4998, 'Centerbank': 4999, '5\\\\/8': 5000, 'NESB': 5001, 'London-based': 5002, 'Pennview': 5003, 'leapt': 5004, 'Univest': 5005, '25.50': 5006, 'third-quarter': 5007, '70.7': 5008, '89.9': 5009, 'pretax': 5010, 'mobile': 5011, 'Dan': 5012, 'Nelms': 5013, 'one-time': 5014, 'substantially': 5015, 'eliminates': 5016, 'losses': 5017, 'associated': 5018, 'core': 5019, 'assuming': 5020, 'dramatic': 5021, 'fluctuation': 5022, 'achieve': 5023, 'near-record': 5024, 'Weisfield': 5025, 'Ratners': 5026, 'definitive': 5027, '57.50': 5028, 'Also': 5029, 'Jaguar': 5030, '4.4': 5031, '78': 5032, 'Heritage': 5033, 'Media': 5034, 'acquiring': 5035, 'POP': 5036, 'Radio': 5037, 'swap': 5038, 'tumbled': 5039, '51': 5040, '*T*-122': 5041, 'Rally': 5042, 'lost': 5043, 'restaurant': 5044, 'operator': 5045, 'redeemed': 5046, 'Giant': 5047, 'resolve': 5048, 'Burt': 5049, 'Sugarman': 5050, 'Trotter': 5051, '42.5': 5052, 'nine-member': 5053, 'SCI': 5054, 'Systems': 5055, 'slipped': 5056, '858,000': 5057, 'Huntsville': 5058, 'Ala.': 5059, 'post': 5060, 'fiscal': 5061, 'quarter': 5062, 'Sept.': 5063, 'year-earlier': 5064, '225.6': 5065, 'Internal': 5066, 'Revenue': 5067, 'criminal': 5068, '*T*-123': 5069, 'detailed': 5070, '*T*-124': 5071, '10,000': 5072, 'warnings': 5073, 'attorneys': 5074, 'cities': 5075, 'outcry': 5076, 'organized': 5077, '*T*-125': 5078, 'protected': 5079, 'attorney-client': 5080, 'privilege': 5081, 'IRS': 5082, 'stem': 5083, '*T*-126': 5084, 'receives': 5085, 'customer': 5086, 'transactions': 5087, 'payment': 5088, 'document': 5089, 'Form': 5090, '8300': 5091, 'Social': 5092, 'Security': 5093, 'passport': 5094, 'Failure': 5095, 'punishable': 5096, 'misdemeanor': 5097, 'felony': 5098, 'prison': 5099, 'Attorneys': 5100, 'argued': 5101, '*T*-127': 5102, 'wish': 5103, 'identities': 5104, 'citing': 5105, 'rarely': 5106, 'acted': 5107, 'witness': 5108, 'Neal': 5109, 'Sonnett': 5110, 'Criminal': 5111, 'Defense': 5112, 'Lawyers': 5113, 'red-flag': 5114, 'Miami': 5115, '*T*-128': 5116, 'dozens': 5117, '*T*-129': 5118, 'letters': 5119, 'computer-generated': 5120, 'sent': 5121, 'certified': 5122, 'mail': 5123, '*T*-130': 5124, 'drug': 5125, '*T*-131': 5126, 'individuals': 5127, 'necessarily': 5128, 'hire': 5129, 'circumstances': 5130, 'retained': 5131, 'Filling': 5132, 'tip': 5133, 'spark': 5134, 'formed': 5135, 'chaired': 5136, 'Gerald': 5137, 'Lefcourt': 5138, 'Bar': 5139, 'Delegates': 5140, 'resolution': 5141, 'condemning': 5142, 'requirement': 5143, '*T*-132': 5144, 'ABA': 5145, 'grand': 5146, 'prohibited': 5147, 'code': 5148, 'ethics': 5149, 'disclosing': 5150, 'committing': 5151, 'Justice': 5152, '*T*-133': 5153, 'taxpayers': 5154, 'notice': 5155, 'moderate': 5156, 'stance': 5157, 'Christopher': 5158, 'Lezovich': 5159, 'Detroit': 5160, 'submit': 5161, 'summons': 5162, 'initiated': 5163, 'dating': 5164, 'correspondence': 5165, 'mailed': 5166, '8300s': 5167, 'Individuals': 5168, 'permission': 5169, 'obtained': 5170, 'develop': 5171, 'sending': 5172, 'assertions': 5173, 'relating': 5174, 'confidential': 5175, 'THE': 5176, 'WAR': 5177, 'OVER': 5178, 'FEDERAL': 5179, 'JUDICIAL': 5180, 'SALARIES': 5181, 'victim': 5182, 'Often': 5183, 'judges': 5184, 'lucrative': 5185, 'fanfare': 5186, 'Raul': 5187, 'Ramirez': 5188, 'Calif': 5189, 'quitting': 5190, 'San': 5191, 'Francisco': 5192, 'refusal': 5193, 'couple': 5194, 'clerks': 5195, 'quipped': 5196, '89,500': 5197, 'unjust': 5198, 'Judges': 5199, 'professional': 5200, 'accountants': 5201, 'blinks': 5202, 'eye': 5203, 'sudden': 5204, 'relegated': 5205, 'sum': 5206, 'litigation': 5207, 'Orrick': 5208, 'Herrington': 5209, 'Sutcliffe': 5210, 'detail': 5211, 'high-priced': 5212, 'DOONESBURY': 5213, \"CREATOR'S\": 5214, 'UNION': 5215, 'TROUBLES': 5216, 'laughing': 5217, 'Cartoonist': 5218, 'Garry': 5219, 'Trudeau': 5220, 'Writers': 5221, 'Guild': 5222, 'America': 5223, 'alleging': 5224, 'mounted': 5225, 'harass': 5226, 'punish': 5227, 'crossing': 5228, 'screenwriters': 5229, 'picket': 5230, 'involves': 5231, 'Darkhorse': 5232, 'Productions': 5233, 'co-owner': 5234, 'member': 5235, 'employed': 5236, '*T*-134': 5237, 'guild': 5238, 'collective-bargaining': 5239, 'lawsuit': 5240, 'illegally': 5241, 'cartoonist': 5242, 'union': 5243, 'reviewing': 5244, 'suit': 5245, 'disciplinary': 5246, 'K.': 5247, 'Samnick': 5248, 'harassment': 5249, 'consists': 5250, 'mainly': 5251, 'year-long': 5252, 'threats': 5253, '*T*-135': 5254, 'punishment': 5255, 'unjustified': 5256, 'damages': 5257, 'seeks': 5258, 'preventing': 5259, 'punishing': 5260, 'retaliating': 5261, 'ABORTION': 5262, 'RULING': 5263, 'UPHELD': 5264, 'family-planning': 5265, 'abortion-related': 5266, 'adopted': 5267, 'prohibits': 5268, 'Title': 5269, 'X': 5270, '*T*-136': 5271, 'assist': 5272, 'obtaining': 5273, 'counseling': 5274, 'referrals': 5275, 'activities': 5276, '*T*-137': 5277, 'promote': 5278, 'advocate': 5279, 'opinion': 5280, 'Appeals': 5281, 'restrictions': 5282, 'violate': 5283, 'care': 5284, 'providers': 5285, 'limits': 5286, 'pregnant': 5287, 'INQUIRY': 5288, 'CLEARS': 5289, 'TEXAS': 5290, 'JUDGE': 5291, 'bias': 5292, 'comments': 5293, 'homosexual': 5294, 'Dallas': 5295, 'District': 5296, 'Jack': 5297, 'Hampton': 5298, 'sparked': 5299, 'judicial': 5300, 'inquiry': 5301, 'remarks': 5302, 'December': 5303, 'sentencing': 5304, '18-year-old': 5305, 'defendant': 5306, 'killing': 5307, 'park': 5308, 'referring': 5309, 'queers': 5310, 'cruising': 5311, 'picking': 5312, 'teenage': 5313, 'boys': 5314, 'Murray': 5315, 'appointed': 5316, 'fairness': 5317, 'commenting': 5318, 'Observing': 5319, 'exhibited': 5320, 'prejudice': 5321, 'impartial': 5322, 'prostitute': 5323, 'discredit': 5324, 'judiciary': 5325, 'justice': 5326, 'Judicial': 5327, 'Conduct': 5328, '*T*-138': 5329, 'empowered': 5330, 'impose': 5331, 'GAF': 5332, 'TRIAL': 5333, 'stock-manipulation': 5334, 'opening': 5335, 'arguments': 5336, 'Manhattan': 5337, 'Lowe': 5338, 'eight-count': 5339, 'indictment': 5340, 'Wayne': 5341, 'N.J.': 5342, 'specialty': 5343, 'Vice': 5344, 'Chairman': 5345, 'Sherwin': 5346, 'attempting': 5347, 'manipulate': 5348, 'Carbide': 5349, 'trials': 5350, 'mistrials': 5351, 'SWITCHING': 5352, 'TO': 5353, 'DEFENSE': 5354, 'prosecution': 5355, 'Iran\\\\/Contra': 5356, 'affair': 5357, 'Mayer': 5358, 'Brown': 5359, 'Bromwich': 5360, 'three-lawyer': 5361, 'Oliver': 5362, 'North': 5363, 'D.C.': 5364, '520-lawyer': 5365, 'specialize': 5366, 'white-collar': 5367, 'served': 5368, 'narcotics': 5369, 'Cooper': 5370, 'Tire': 5371, 'Rubber': 5372, 'principle': 5373, 'Albany': 5374, 'Ga.': 5375, 'Bridgestone\\\\/Firestone': 5376, 'Inc': 5377, 'Terms': 5378, 'tire': 5379, 'consist': 5380, '1.8': 5381, 'square': 5382, 'feet': 5383, 'warehousing': 5384, '353': 5385, 'acres': 5386, 'apologizing': 5387, 'bids': 5388, 'apology': 5389, 'indulging': 5390, 'leaders': 5391, 'rebuked': 5392, 'fretted': 5393, 'statement': 5394, 'cutthroat': 5395, 'pricing': 5396, 'equivalent': 5397, 'penny': 5398, 'municipal': 5399, 'No.': 5400, 'alone': 5401, 'competitors': 5402, 'auctions': 5403, '*T*-139': 5404, 'tie-breaking': 5405, 'lottery': 5406, 'computer-system-design': 5407, 'summoned': 5408, 'sure': 5409, 'understood': 5410, 'ministry': 5411, 'Fair': 5412, 'investigating': 5413, 'antitrust-law': 5414, 'violations': 5415, 'apologize': 5416, 'Takuma': 5417, 'Yamamoto': 5418, 'packed': 5419, 'headquarters': 5420, 'contrary': 5421, 'sorry': 5422, 'embarrassing': 5423, 'situations': 5424, 'reputation': 5425, 'sacrificing': 5426, 'profits': 5427, '*T*-140': 5428, 'benefits': 5429, 'accepted': 5430, 'normal': 5431, 'accepting': 5432, 'gifts': 5433, 'businessmen': 5434, 'extramarital': 5435, 'fire': 5436, 'fueled': 5437, 'behavior': 5438, 'complaints': 5439, 'municipality': 5440, 'low-ball': 5441, 'touch': 5442, 'tense': 5443, 'Foreigners': 5444, 'complain': 5445, 'limited': 5446, 'access': 5447, 'procurement': 5448, 'unfairly': 5449, 'undercut': 5450, 'excessively': 5451, 'slashing': 5452, 'semiconductors': 5453, 'Asked': 5454, 'hurt': 5455, 'U.S.-Japan': 5456, 'minus': 5457, 'factor': 5458, 'one-yen': 5459, 'Hiroshima': 5460, 'design': 5461, 'map': 5462, 'waterworks': 5463, '77,000': 5464, 'library': 5465, 'Nagano': 5466, 'prefecture': 5467, 'Saitama': 5468, 'prefectural': 5469, 'Wakayama': 5470, 'municipalities': 5471, 'emerge': 5472, 'insisted': 5473, 'Other': 5474, 'contacted': 5475, 'Michio': 5476, 'Sasaki': 5477, 'Keidanren': 5478, 'Federation': 5479, 'Organizations': 5480, 'Profit': 5481, 'PAPERS': 5482, 'Backe': 5483, 'Atlantic': 5484, 'Publications': 5485, '*T*-141': 5486, 'community': 5487, 'papers': 5488, 'media': 5489, 'CBS': 5490, 'Price': 5491, 'Communications': 5492, 'NTG': 5493, 'retaining': 5494, 'Osborn': 5495, 'Desai': 5496, 'Capital': 5497, 'Michaels': 5498, 'Stores': 5499, '*T*-142': 5500, 'operates': 5501, 'retail': 5502, '14.6': 5503, '32.8': 5504, '28.6': 5505, '29.3': 5506, '28.4': 5507, 'Furukawa': 5508, 'machinery': 5509, 'belonging': 5510, 'Dresser': 5511, 'locally': 5512, 'hydraulically': 5513, 'shovels': 5514, 'wheel-loader': 5515, 'Heidelberg': 5516, 'German': 5517, '280': 5518, 'Structural': 5519, 'Dynamics': 5520, '*T*-143': 5521, 'computer-aided': 5522, 'automation': 5523, '*T*-144': 5524, 'productivity': 5525, '@': 5526, 'Deposits-a': 5527, '6.21': 5528, '-': 5529, 'thrifts': 5530, 'metropolitan': 5531, 'compiled': 5532, 'Rate': 5533, 'Monitor': 5534, 'b': 5535, 'Guaranteed': 5536, 'minimum': 5537, 'LSI': 5538, 'Logic': 5539, 'surprise': 5540, '35.7': 5541, '*T*-145': 5542, 'industry-wide': 5543, 'semiconductor': 5544, 'custom-chip': 5545, 'lagging': 5546, 'billings': 5547, 'cover': 5548, 'extended': 5549, 'weakness': 5550, 'switch': 5551, 'economical': 5552, 'techniques': 5553, 'Wilfred': 5554, 'Corrigan': 5555, 'midyear': 5556, 'phase': 5557, 'oldest': 5558, 'appropriate': 5559, 'equals': 5560, '86': 5561, 'counting': 5562, 'extraordinary': 5563, '42': 5564, '133.7': 5565, '94': 5566, 'older': 5567, 'five-inch': 5568, 'more-efficient': 5569, 'six-inch': 5570, 'silicon': 5571, 'wafers': 5572, 'fabricate': 5573, 'Related': 5574, 'converting': 5575, 'Santa': 5576, 'Clara': 5577, 'Calif.': 5578, 'facility': 5579, 'speculate': 5580, '*T*-146': 5581, 'additions': 5582, 'aggressively': 5583, 'suddenly': 5584, 'poorly': 5585, 'positioned': 5586, 'Stark': 5587, 'Robertson': 5588, 'Stephens': 5589, 'dead': 5590, 'facing': 5591, 'traditionally': 5592, 'Part': 5593, 'buyers': 5594, 'jitters': 5595, 'INGERSOLL-RAND': 5596, 'Woodcliff': 5597, 'Lake': 5598, 'N.J': 5599, 'G.': 5600, 'Kuhns': 5601, 'General': 5602, 'dollar': 5603, 'buoyed': 5604, 'cautiously': 5605, 'bearish': 5606, 'underpin': 5607, 'kept': 5608, 'plunging': 5609, 'locked': 5610, 'narrow': 5611, 'offset': 5612, 'resulting': 5613, 'stalemate': 5614, 'Jay': 5615, 'Goldinger': 5616, 'Insight': 5617, 'reasons': 5618, '77.70': 5619, '77.56': 5620, 'lure': 5621, 'Dollar-yen': 5622, 'driving': 5623, 'Tom': 5624, 'Trettien': 5625, 'Banque': 5626, 'Paribas': 5627, 'convinced': 5628, 'erode': 5629, '1.8500': 5630, '1.8415': 5631, '143.80': 5632, '142.85': 5633, 'Sterling': 5634, '1.5755': 5635, '1.5805': 5636, 'Thursday': 5637, '143.93': 5638, '143.08': 5639, 'Madison': 5640, 'Los': 5641, 'Angeles': 5642, 'traced': 5643, 'solid': 5644, 'trust': 5645, 'wave': 5646, 'waiting': 5647, 'wings': 5648, 'contends': 5649, 'perception': 5650, 'vitriolic': 5651, 'Columbia': 5652, 'Entertainment': 5653, 'mollified': 5654, 'cites': 5655, 'Estate': 5656, 'knight': 5657, 'undisclosed': 5658, 'Georgia-Pacific': 5659, 'Great': 5660, 'Northern': 5661, 'Nekoosa': 5662, 'forthcoming': 5663, '10-year': 5664, 'yen-denominated': 5665, 'valued': 5666, 'speculation': 5667, 'redeeming': 5668, 'unclear': 5669, 'rolled': 5670, 'prospect': 5671, 'lock': 5672, 'high-yield': 5673, 'unabated': 5674, 'recede': 5675, 'cues': 5676, 'merely': 5677, 'drifted': 5678, 'release': 5679, '*T*-147': 5680, '45.3': 5681, 'participants': 5682, 'expectations': 5683, '*T*-148': 5684, 'minimal': 5685, 'Commodity': 5686, '374.20': 5687, 'ounce': 5688, 'Estimated': 5689, '3.5': 5690, 'ounces': 5691, '374.19': 5692, 'Cosby': 5693, 'Show': 5694, 'ratings': 5695, 'NBC': 5696, 'debut': 5697, 'Huxtable': 5698, 'keeps': 5699, 'viewers': 5700, 'network': 5701, '*T*-149': 5702, '187': 5703, 'affiliates': 5704, '*T*-150': 5705, 'air': 5706, 'considerably': 5707, 'episodes': 5708, 'fuming': 5709, 'distributor': 5710, 'Viacom': 5711, 'ultimatum': 5712, 'Either': 5713, 'losing': 5714, 'persuade': 5715, 'Different': 5716, 'spin-off': 5717, '*T*-151': 5718, 'tactics': 5719, 'willing': 5720, 'negotiate': 5721, 'Gillespie': 5722, 'Midwest': 5723, 'tell': 5724, \"'ll\": 5725, 'syndication': 5726, 'flooded': 5727, '*-76': 5728, 'comedies': 5729, '*T*-152': 5730, 'networks': 5731, 'station': 5732, 'pre-emptive': 5733, '2-8': 5734, 'A.C.': 5735, 'Nielsen': 5736, 'Providence': 5737, 'R.I.': 5738, 'Raleigh': 5739, 'N.C.': 5740, 'Louisville': 5741, 'Ky.': 5742, 'renew': 5743, 'Dick': 5744, 'Lobo': 5745, 'WTVJ': 5746, 'NBC-owned': 5747, 'disappointment': 5748, '*-78': 5749, 'Kuvin': 5750, 'WHAS': 5751, 'pleased': 5752, 'adds': 5753, 'disappointed': 5754, 'uncomfortable': 5755, 'frankly': 5756, 'quite': 5757, 'Life': 5758, 'Insurance': 5759, 'Georgia': 5760, 'officially': 5761, 'Wu': 5762, 'representative': 5763, 'Atlanta-based': 5764, 'conventional': 5765, 'life-insurance': 5766, 'Nationale': 5767, 'Nederlanden': 5768, 'frantic': 5769, 'revenue-desperate': 5770, 'magazines': 5771, 'cozy': 5772, 'fawning': 5773, 'articles': 5774, 'advertorial': 5775, 'survive': 5776, 'downright': 5777, 'thumbing': 5778, 'Garbage': 5779, 'billed': 5780, 'Practical': 5781, 'Environment': 5782, 'Founded': 5783, 'Brooklyn': 5784, 'N.Y.': 5785, 'entrepreneur': 5786, 'Patricia': 5787, 'Poore': 5788, 'promise': 5789, 'scoop': 5790, 'crisis': 5791, 'combines': 5792, 'how-to': 5793, 'pieces': 5794, 'topics': 5795, 'backyard': 5796, 'composting': 5797, 'explanatory': 5798, 'essays': 5799, 'happens': 5800, 'flush': 5801, 'toilet': 5802, 'hard-hitting': 5803, 'editors': 5804, 'considerable': 5805, 'whirling': 5806, 'rampage': 5807, 'supermarket': 5808, 'aisles': 5809, 'identify': 5810, 'guys': 5811, 'feature': 5812, 'Dumpster': 5813, 'deem': 5814, 'offender': 5815, 'standpoint': 5816, '*T*-153': 5817, 'With': 5818, 'belt': 5819, 'alienated': 5820, 'would-be': 5821, 'ire': 5822, 'Campbell': 5823, 'Soup': 5824, 'furious': 5825, 'Souper': 5826, 'Combo': 5827, 'microwave': 5828, 'chastised': 5829, '*-79': 5830, 'premiere': 5831, 'column': 5832, 'diagram': 5833, 'arrows': 5834, 'pointing': 5835, 'packaging': 5836, 'polystyrene': 5837, 'foam': 5838, 'polyproplene': 5839, 'polyester': 5840, 'plastic': 5841, 'non-biodegradable': 5842, 'landfill': 5843, 'monster': 5844, 'wrote': 5845, 'practicing': 5846, 'journalistic': 5847, 'garbage': 5848, 'fumes': 5849, 'opportunity': 5850, 'Modifications': 5851, '*-80': 5852, 'printed': 5853, '*-81': 5854, 'portrayed': 5855, 'recyclability': 5856, 'surprisingly': 5857, 'advertise': 5858, 'experts': 5859, 'turning': 5860, 'spenders': 5861, 'Soups': 5862, 'Mike': 5863, 'DDB': 5864, 'Needham': 5865, 'economics': 5866, 'big-time': 5867, 'handful': 5868, 'Adolph': 5869, 'Coors': 5870, 'Waste': 5871, 'Bumkins': 5872, '*T*-154': 5873, 'spend': 5874, 'relied': 5875, 'haul': 5876, 'print': 5877, 'publisher': 5878, 'initially': 5879, 'subscription': 5880, 'revenues': 5881, 'Individual': 5882, '2.95': 5883, 'yearly': 5884, 'subscriptions': 5885, 'recycled': 5886, 'Old-House': 5887, '126,000': 5888, 'newsstands': 5889, '93,000': 5890, 'scared': 5891, '*-83': 5892, 'replies': 5893, 'sleep': 5894, 'Ad': 5895, 'Notes': 5896, 'INTERPUBLIC': 5897, 'ON': 5898, 'Interpublic': 5899, 'programming': 5900, 'expanded': 5901, '4,000': 5902, 'original': 5903, 'largely': 5904, '*-84': 5905, 'E.C.': 5906, 'Television': 5907, 'Fremantle': 5908, 'supplier': 5909, '*-85': 5910, '75': 5911, 'NEW': 5912, 'ACCOUNT': 5913, 'CoreStates': 5914, 'Philadelphia': 5915, 'Earle': 5916, 'Palmer': 5917, 'Spiro': 5918, 'handled': 5919, '*-86': 5920, 'VanSant': 5921, 'Dugdale': 5922, 'Baltimore': 5923, 'AT&T': 5924, 'FAX': 5925, 'Telephone': 5926, 'Telegraph': 5927, 'Fax': 5928, 'Ogilvy': 5929, 'Mather': 5930, 'WPP': 5931, 'Billings': 5932, '*T*-155': 5933, 'serviced': 5934, 'Young': 5935, 'Rubicam': 5936, 'FIRST': 5937, 'CAMPAIGN': 5938, 'Enterprise': 5939, 'Rent-A-Car': 5940, 'breaks': 5941, 'St.': 5942, 'specializes': 5943, 'replacement-car': 5944, 'rentals': 5945, 'accidents': 5946, 'Developed': 5947, 'Avrett': 5948, 'Free': 5949, 'Ginsberg': 5950, 'pitches': 5951, 'consumer-driven': 5952, 'pick-up': 5953, 'drop-off': 5954, 'LANDOR': 5955, 'ASSOCIATES': 5956, 'Landor': 5957, 'identity-management': 5958, 'ACQUISITION': 5959, 'Ketchum': 5960, 'Pittsburgh': 5961, 'Braun': 5962, 'investor-relations': 5963, 'marketing-communications': 5964, 'Sea': 5965, 'Containers': 5966, '70-a-share': 5967, 'buy-back': 5968, 'pressed': 5969, 'Temple': 5970, 'Holdings': 5971, '*T*-156': 5972, 'Hamilton': 5973, 'Bermuda-based': 5974, 'shipping': 5975, '1.1': 5976, 'proceeds': 5977, 'apiece': 5978, 'ward': 5979, 'hostile': 5980, 'Stena': 5981, 'Holding': 5982, 'AG': 5983, 'Tiphook': 5984, '777': 5985, 'sweetened': 5986, '963': 5987, 'Sherwood': 5988, 'asset-sale': 5989, 'approximately': 5990, '620': 5991, '490': 5992, 'allocated': 5993, '*-87': 5994, 'leaving': 5995, '130': 5996, 'flexibility': 5997, 'raises': 5998, 'leeway': 5999, 'criticized': 6000, 'characterizing': 6001, 'conditional': 6002, 'device': 6003, 'entrench': 6004, 'confuse': 6005, 'superior': 6006, 'asset': 6007, 'materialize': 6008, '36': 6009, 'converted': 6010, '*-88': 6011, 'possibility': 6012, 'subsidiaries': 6013, 'mired': 6014, 'Bermuda': 6015, 'barred': 6016, 'reaction': 6017, '62.625': 6018, '62.5': 6019, 'Transportation': 6020, 'responding': 6021, 'advocates': 6022, 'steps': 6023, 'vans': 6024, 'requirements': 6025, 'automobiles': 6026, 'requiring': 6027, 'roofs': 6028, 'minivans': 6029, 'equip': 6030, 'lap-shoulder': 6031, 'belts': 6032, 'rear': 6033, 'model': 6034, '*-89': 6035, 'Samuel': 6036, 'Skinner': 6037, 'represents': 6038, 'milestone': 6039, 'ongoing': 6040, 'vehicle': 6041, 'occupant': 6042, 'extension': 6043, 'car': 6044, 'equipped': 6045, '*-90': 6046, 'front-seat': 6047, 'headrests': 6048, '*-91': 6049, 'surprising': 6050, 'Safety': 6051, 'urging': 6052, 'car-safety': 6053, '*T*-157': 6054, 'classed': 6055, 'actually': 6056, 'cargo': 6057, 'therefore': 6058, 'luck': 6059, 'Reagan': 6060, 'fairly': 6061, 'systematic': 6062, 'address': 6063, 'Chuck': 6064, 'Hurley': 6065, 'communications': 6066, 'Highway': 6067, 'Sen.': 6068, 'Danforth': 6069, 'Mo': 6070, 'praised': 6071, 'noting': 6072, 'rollover': 6073, 'crashes': 6074, 'light-truck': 6075, 'fatalities': 6076, 'roof-crush': 6077, 'bags': 6078, 'automatic': 6079, 'side-crash': 6080, 'weighing': 6081, 'pounds': 6082, 'withstand': 6083, 'unloaded': 6084, 'weight': 6085, 'roof': 6086, 'depressed': 6087, '*-92': 6088, 'inches': 6089, 'rear-seat': 6090, 'lap': 6091, 'shoulder': 6092, 'phasing': 6093, 'installed': 6094, 'deadline': 6095, 'resistance': 6096, 'Leinonen': 6097, 'engineer': 6098, 'Ford': 6099, 'auto-safety': 6100, '1982': 6101, 'installing': 6102, 'F-series': 6103, 'Crew': 6104, 'Cab': 6105, 'pickups': 6106, 'Explorer': 6107, 'sport-utility': 6108, 'Rail': 6109, 'enclosed': 6110, 'railcars': 6111, 'transporting': 6112, 'autos': 6113, 'multilevel': 6114, 'Thrall': 6115, 'Manufacturing': 6116, 'Heights': 6117, 'Duchossois': 6118, 'Elmhurst': 6119, 'Ill': 6120, 'railroad': 6121, '850': 6122, 'Sir': 6123, 'Walters': 6124, '58-year-old': 6125, 'Petroleum': 6126, 'joins': 6127, 'cement': 6128, 'Milne': 6129, '65': 6130, '*T*-158': 6131, 'retires': 6132, 'Blue': 6133, 'Circle': 6134, 'formal': 6135, '*-93': 6136, 'longstanding': 6137, 'opposition': 6138, 'Later': 6139, 'senate': 6140, 'Currently': 6141, 'within': 6142, 'Driscoll': 6143, 'Dow': 6144, 'Jones': 6145, 'Professional': 6146, 'Investor': 6147, 'Certainly': 6148, '*T*-159': 6149, 'prospectively': 6150, 'options': 6151, '*T*-160': 6152, 'conversations': 6153, 'interesting': 6154, 'hot': 6155, '*-94': 6156, 'merger-related': 6157, 'prevailing': 6158, 'passage': 6159, '*-95': 6160, 'slump': 6161, '121.6': 6162, 'lay': 6163, 'altogether': 6164, 'employment': 6165, '18,000': 6166, 'exclusively': 6167, 'leasing': 6168, 'GOODY': 6169, 'PRODUCTS': 6170, '11.5': 6171, 'reduced': 6172, 'payable': 6173, 'Jan.': 6174, 'Kearny': 6175, 'N.J.-based': 6176, 'hair': 6177, 'accessories': 6178, 'cosmetic': 6179, '992,000': 6180, 'year-ago': 6181, '1.9': 6182, 'anti-takeover': 6183, 'Henderson': 6184, '51-year-old': 6185, 'U.K.': 6186, 'metals': 6187, 'succeeding': 6188, 'Ian': 6189, 'Butler': 6190, '*T*-161': 6191, 'retiring': 6192, '1\\\\/10th': 6193, 'cent': 6194, 'redemption': 6195, 'upon': 6196, '*-96': 6197, 'Warren': 6198, 'Winiarski': 6199, 'proprietor': 6200, 'Stag': 6201, 'Leap': 6202, 'Wine': 6203, 'Cellars': 6204, 'Napa': 6205, 'tag': 6206, 'Cask': 6207, 'Cabernet': 6208, 'wine': 6209, 'shops': 6210, 'wine-making': 6211, 'experience': 6212, 'declared': 6213, 'estimation': 6214, '700': 6215, 'Sauvignon': 6216, 'Diamond': 6217, 'Creek': 6218, 'Vineyard': 6219, 'weighed': 6220, 'sticker': 6221, 'bottle': 6222, 'fastest': 6223, 'segments': 6224, 'category': 6225, 'superpremiums': 6226, 'wines': 6227, 'exceptional': 6228, 'quality': 6229, 'perceived': 6230, 'exceedingly': 6231, 'stable': 6232, 'classics': 6233, 'Bordeaux': 6234, 'growths': 6235, 'Lafite-Rothschild': 6236, 'Haut-Brion': 6237, 'Petrus': 6238, 'Grand': 6239, 'Cru': 6240, 'Burgundies': 6241, 'Romanee-Conti': 6242, 'La': 6243, 'Tache': 6244, 'deluxe': 6245, 'Champagnes': 6246, 'Dom': 6247, 'Perignon': 6248, 'Roederer': 6249, 'Cristal': 6250, 'rarefied': 6251, 'Chateau': 6252, 'Yquem': 6253, 'Trockenbeerenauslesen': 6254, 'Rieslings': 6255, 'Biondi-Santi': 6256, 'Brunello': 6257, 'Riserva': 6258, 'Tuscany': 6259, 'magnitude': 6260, 'flashy': 6261, 'zoomed': 6262, 'priciest': 6263, 'releases': 6264, 'boast': 6265, 'lion': 6266, 'bottles': 6267, '80': 6268, 'smallest': 6269, '*T*-162': 6270, '!': 6271, 'vintages': 6272, 'Sauternes': 6273, 'lighter': 6274, 'vintage': 6275, 'spectacularly': 6276, '179': 6277, 'prestige': 6278, 'cuvees': 6279, 'inching': 6280, 'barrier': 6281, 'Salon': 6282, 'Mesnil': 6283, 'Blanc': 6284, 'Blancs': 6285, \"'82\": 6286, '115': 6287, 'Taittinger': 6288, 'Comtes': 6289, 'encroaching': 6290, 'reds': 6291, 'Rhone': 6292, 'soared': 6293, 'Guigal': 6294, 'Cote': 6295, 'Rotie': 6296, 'Landonne': 6297, 'None': 6298, 'steal': 6299, 'march': 6300, 'Burgundy': 6301, 'Domaine': 6302, 'la': 6303, 'precious': 6304, 'vineyard': 6305, 'anywhere': 6306, 'commanded': 6307, 'three-digit': 6308, 'tags': 6309, 'Richebourg': 6310, '180': 6311, '225': 6312, 'Coche-Dury': 6313, 'Corton-Charlemagne': 6314, '155': 6315, 'Angelo': 6316, 'Gaja': 6317, 'Barbaresco': 6318, 'Piero': 6319, 'Antinori': 6320, 'Solaia': 6321, '98': 6322, 'Vega': 6323, 'Secilia': 6324, 'Unico': 6325, '10th': 6326, 'Grange': 6327, 'Hermitage': 6328, 'cult': 6329, '*T*-163': 6330, 'command': 6331, 'Larry': 6332, 'Shapiro': 6333, 'Marty': 6334, '*T*-164': 6335, 'happening': 6336, 'scarce': 6337, 'exhausted': 6338, \"'40s\": 6339, \"'50s\": 6340, '*T*-165': 6341, '300': 6342, 'newer': 6343, 'bargain': 6344, 'grapes': 6345, 'ripen': 6346, 'perfectly': 6347, 'acre': 6348, '*T*-166': 6349, 'yielded': 6350, 'Owner': 6351, 'Al': 6352, 'Brownstein': 6353, 'originally': 6354, 'retailer': 6355, 'Is': 6356, 'wholesale': 6357, 're-thought': 6358, 'Offering': 6359, 'merchants': 6360, 'check': 6361, 'responses': 6362, 'yes': 6363, 'shipped': 6364, '*-97': 6365, 'six-bottle': 6366, 'instead': 6367, 'spread': 6368, '*-98': 6369, 'thin': 6370, '62': 6371, 'retailers': 6372, 'awfully': 6373, 'Pratt': 6374, 'Schaefer': 6375, 'Skokie': 6376, 'suburban': 6377, 'opinions': 6378, 'six-packs': 6379, 'remarked': 6380, 'thinks': 6381, 'dramatically': 6382, '*T*-167': 6383, 'wins': 6384, 'sticker-shock': 6385, 'talked': 6386, 'excited': 6387, 'astronomical': 6388, 'collection': 6389, 'sort': 6390, 'one-upsmanship': 6391, 'Red': 6392, 'Rock': 6393, 'Terrace': 6394, 'Cabernets': 6395, 'Dunn': 6396, 'Producers': 6397, '*T*-168': 6398, 'appeal': 6399, 'explains': 6400, 'rapidly': 6401, '*T*-169': 6402, 'knowledgeable': 6403, 'Cedric': 6404, 'Cellar': 6405, 'Orleans': 6406, 'Or': 6407, 'overpriced': 6408, '*-99': 6409, 'equally': 6410, 'Grgich': 6411, 'Chardonnay': 6412, '32': 6413, 'movement': 6414, 'Chardonnays': 6415, 'Image': 6416, '*T*-170': 6417, '*T*-171': 6418, 'forced': 6419, '*-100': 6420, 'push': 6421, 'le': 6422, 'lowering': 6423, 'beautiful': 6424, 'ideas': 6425, 'walking': 6426, 'door': 6427, \"'86\": 6428, 'Opus': 6429, 'Dominus': 6430, 'moment': 6431, 'wine-buying': 6432, 'looming': 6433, 'holidays': 6434, '*T*-172': 6435, 'Ensrud': 6436, 'free-lance': 6437, 'Signs': 6438, 'Fed': 6439, 'upward': 6440, 'moderated': 6441, 'Black': 6442, 'Richmond': 6443, 'posting': 6444, 'fourth': 6445, 'agrees': 6446, 'Kansas': 6447, 'Guffey': 6448, 'achieving': 6449, 'stated': 6450, 'objective': 6451, 'hopefully': 6452, 'downward': 6453, 'expecting': 6454, 'easier': 6455, '0.25': 6456, '8.75': 6457, 'plunge': 6458, 'shown': 6459, 'weak': 6460, 'slower': 6461, 'petroleum': 6462, 'Retail': 6463, 'discretionary': 6464, 'big-ticket': 6465, '*-101': 6466, 'halt': 6467, 'divided': 6468, '*-102': 6469, 'presidents': 6470, 'resisting': 6471, 'excesses': 6472, 'tilt': 6473, 'chance': 6474, 'Integra-A': 6475, 'Restaurant': 6476, '*-103': 6477, 'mailing': 6478, '105': 6479, '13.5': 6480, '1993': 6481, '23.5': 6482, '*T*-173': 6483, 'exercised': 6484, '*-104': 6485, 'Integra': 6486, '*T*-174': 6487, 'hotels': 6488, 'Hallwood': 6489, 'exercise': 6490, '*T*-175': 6491, 'merchant': 6492, 'Copperweld': 6493, 'steelmaker': 6494, '445': 6495, 'Shelby': 6496, 'Steelworkers': 6497, 'Local': 6498, '3057': 6499, 'Tube': 6500, 'expired': 6501, 'vote': 6502, 'reject': 6503, 'pact': 6504, '230-215': 6505, 'stoppage': 6506, 'postponed': 6507, '*-105': 6508, 'Basham': 6509, 'autions': 6510, 'rescheduled': 6511, '*-106': 6512, 'Unless': 6513, '13.8': 6514, '*T*-176': 6515, 'congressional': 6516, 'partisan': 6517, 'bickering': 6518, '*T*-177': 6519, 'entangled': 6520, 'fails': 6521, 'disruption': 6522, 'schedule': 6523, 'taxpayer': 6524, 'Nicholas': 6525, 'Brady': 6526, 'bankers': 6527, 'imperative': 6528, '*-107': 6529, 'redeem': 6530, 'maturing': 6531, 'refunding': 6532, 'three-year': 6533, 'auctioned': 6534, '*-108': 6535, '*-109': 6536, '30-year': 6537, '*-110': 6538, '2019': 6539, '36-day': 6540, 'when-issued': 6541, 'approves': 6542, 'clearing': 6543, '47.5': 6544, 'Auctions': 6545, '25.6': 6546, '21.9': 6547, '*-111': 6548, 'two-year': 6549, 'five-year': 6550, 'estimates': 6551, 'decides': 6552, 'aim': 6553, 'Lancaster': 6554, 'Colony': 6555, 'Reames': 6556, 'Foods': 6557, 'marketer': 6558, 'frozen': 6559, 'noodles': 6560, 'pre-cooked': 6561, 'pasta': 6562, 'Clive': 6563, 'Investors': 6564, 'advantage': 6565, 'rally': 6566, 'fractionally': 6567, 'Bond': 6568, 'Industrial': 6569, 'finished': 6570, '2645.90': 6571, 'advancing': 6572, 'tidily': 6573, '847': 6574, '644': 6575, 'Long-term': 6576, 'Continuing': 6577, '*-112': 6578, 'enthusiasm': 6579, '3.18': 6580, 'evaporated': 6581, 'rushed': 6582, 'sight': 6583, '*T*-178': 6584, 'Beige': 6585, 'Book': 6586, 'pattern': 6587, '154.2': 6588, 'benchmark': 6589, '2.50': 6590, '7.88': 6591, 'afternoon': 6592, 'Mitsui': 6593, 'Mining': 6594, 'Smelting': 6595, '5.276': 6596, '36.9': 6597, '3.253': 6598, 'Net': 6599, '4.898': 6600, '1.457': 6601, 'Eaton': 6602, 'Sierra': 6603, '200': 6604, 'supplies': 6605, 'Harold': 6606, 'Simmons': 6607, 'NL': 6608, 'Gulf': 6609, 'commodity': 6610, 'chemicals': 6611, 'restructure': 6612, '*T*-179': 6613, 'rebuffed': 6614, 'alternatives': 6615, 'proposals': 6616, 'Late': 6617, 'reviewed': 6618, 'regarding': 6619, 'combinations': 6620, 'eliminated': 6621, '*PPA*-2': 6622, 'various': 6623, 'proof': 6624, 'aggressive': 6625, '*-113': 6626, 'clamped': 6627, 'ankle': 6628, 'pit': 6629, 'bull': 6630, 'Leming': 6631, 'Morgan': 6632, 'Stanley': 6633, '9.9': 6634, 'Valhi': 6635, 'two-thirds': 6636, 'surprised': 6637, 'cited': 6638, 'becomes': 6639, '1.75': 6640, '51.25': 6641, 'unchanged': 6642, '22.75': 6643, 'Landis': 6644, 'proposing': 6645, '*T*-180': 6646, 'subordinated': 6647, 'junk-bond': 6648, 'collapsed': 6649, 'lessening': 6650, 'likelihood': 6651, 'hundred': 6652, 'agreeing': 6653, 'consent': 6654, 'Jerry': 6655, 'Satrum': 6656, 'respond': 6657, 'spurns': 6658, '*T*-181': 6659, 'solicitation': 6660, 'replacing': 6661, 'friendly': 6662, 'apparently': 6663, '*-114': 6664, 'nominal': 6665, '*-115': 6666, 'earned': 6667, '46.1': 6668, '1.85': 6669, '251.2': 6670, '278.7': 6671, 'licensing': 6672, 'representing': 6673, 'challenging': 6674, 'university': 6675, 'Retin-A': 6676, 'acne': 6677, 'medicine': 6678, 'Patents': 6679, 'Westport': 6680, 'punitive': 6681, 'license': 6682, 'elsewhere': 6683, 'Albert': 6684, 'Kligman': 6685, 'researcher': 6686, '*T*-182': 6687, '1960s': 6688, 'combat': 6689, 'patented': 6690, 'licensed': 6691, 'Brunswick': 6692, 'Criticism': 6693, 'acquisitions': 6694, 'Officials': 6695, 'skittishness': 6696, 'color': 6697, 'disagree': 6698, 'indeed': 6699, 'unfettered': 6700, 'Where': 6701, 'removal': 6702, 'perceives': 6703, '*T*-183': 6704, 'barriers': 6705, 'heated': 6706, 'stirred': 6707, 'focusing': 6708, 'differences': 6709, '*-116': 6710, 'Impediments': 6711, 'Initiative': 6712, 'rhetoric': 6713, 'signal': 6714, 'Dallara': 6715, '*T*-184': 6716, 'informally': 6717, 'impending': 6718, 'direct-investment': 6719, 'fret': 6720, 'rancor': 6721, 'nervousness': 6722, 'devoted': 6723, 'half-hour': 6724, 'briefing': 6725, 'journalists': 6726, 'vitally': 6727, 'emotions': 6728, 'Taizo': 6729, 'Watanabe': 6730, 'notably': 6731, 'Fears': 6732, 'escalated': 6733, 'Coca-Cola': 6734, 'owner': 6735, 'midtown': 6736, 'fuel': 6737, 'fires': 6738, 'discontent': 6739, 'stoked': 6740, 'publicized': 6741, 'Boone': 6742, 'Pickens': 6743, 'Jr': 6744, 'oilman': 6745, '26.2': 6746, '1.2': 6747, 'automotive-lighting': 6748, 'Koito': 6749, 'asserting': 6750, 'greenmailer': 6751, 'hay': 6752, 'troubles': 6753, 'Texan': 6754, 'Lloyd': 6755, 'Bentsen': 6756, 'highlight': 6757, '*T*-185': 6758, 'disproportionate': 6759, 'table': 6760, 'structures': 6761, 'litany': 6762, 'recommendations': 6763, 'anxious': 6764, 'successful': 6765, '*T*-186': 6766, 'clarified': 6767, '*T*-187': 6768, 'retort': 6769, 'concessions': 6770, 'Just': 6771, 'clarify': 6772, 'exactly': 6773, '*T*-188': 6774, 'sorting': 6775, 'specifics': 6776, 'quick': 6777, 'basic': 6778, 'MITI': 6779, 'crossed': 6780, 'gauging': 6781, 'sheaf': 6782, 'Elisabeth': 6783, 'Rubinfien': 6784, 'smaller': 6785, 'controversial': 6786, 'improves': 6787, 'provides': 6788, 'Candela': 6789, 'Laser': 6790, 'Wayland': 6791, 'high-tech': 6792, 'sights': 6793, 'myriad': 6794, 'penetrate': 6795, 'tiny': 6796, 'joint-venture': 6797, 'guided': 6798, 'bureaucratic': 6799, 'maze': 6800, 'secured': 6801, 'laser': 6802, '*T*-189': 6803, 'kidney': 6804, 'stones': 6805, '*T*-190': 6806, 'treats': 6807, 'skin': 6808, 'lesions': 6809, 'count': 6810, 'Olsen': 6811, 'milked': 6812, '*-117': 6813, 'bankroll': 6814, 'promising': 6815, 'frequently': 6816, 'putting': 6817, '*T*-191': 6818, 'financed': 6819, 'corporations': 6820, '214': 6821, 'minority': 6822, 'Venture': 6823, 'Economics': 6824, 'Heightened': 6825, 'acceleration': 6826, '*-118': 6827, '*T*-192': 6828, 'Center': 6829, 'deals': 6830, 'conspicuous': 6831, 'penetration': 6832, 'feed': 6833, 'anxieties': 6834, 'low-tech': 6835, 'glass': 6836, 'catch': 6837, 'fancy': 6838, 'strategic': 6839, 'fit': 6840, 'Glass': 6841, 'Warrenton': 6842, 'Va.': 6843, 'fabricator': 6844, 'architectural': 6845, 'foundering': 6846, 'Ronald': 6847, 'Bodner': 6848, 'chiefly': 6849, 'window': 6850, 'Ichiro': 6851, 'Wakui': 6852, 'merchandise': 6853, 'inside': 6854, 'Trading': 6855, 'Itoh': 6856, 'Nissho-Iwai': 6857, '*T*-193': 6858, 'counterpart': 6859, 'vertically': 6860, 'feudal': 6861, 'globally': 6862, 'commodities': 6863, 'ships': 6864, 'sogo-shosha': 6865, 'Klauser': 6866, 'U.S.A.': 6867, 'houses': 6868, 'Adds': 6869, 'Takeshi': 6870, 'Kondo': 6871, 'ventures': 6872, 'Silicon': 6873, '*-119': 6874, 'trading-company': 6875, 'goal': 6876, 'Strategic': 6877, 'objectives': 6878, 'drive': 6879, 'basis': 6880, 'performed': 6881, 'logjam': 6882, 'small-company': 6883, 'businessman': 6884, 'Davies': 6885, 'Alliance': 6886, 'queuing': 6887, 'unsympathetic': 6888, '*T*-194': 6889, 'relation': 6890, 'generate': 6891, 'extent': 6892, 'ai': 6893, 'Hudson': 6894, 'Stearn': 6895, '*-120': 6896, 'departure': 6897, '*T*-195': 6898, 'maintenance': 6899, 'fueling': 6900, 'airlines': 6901, 'airports': 6902, 'omitted': 6903, '*T*-196': 6904, 'duties': 6905, 'assumed': 6906, '*-121': 6907, 'Langner': 6908, 'Genie': 6909, 'Driskill': 6910, 'neighborhood': 6911, 'convenient': 6912, 'high-balance': 6913, 'pine': 6914, 'Crown': 6915, 'Account': 6916, 'package': 6917, 'checking': 6918, 'safe': 6919, 'deposit': 6920, 'card': 6921, 'installment': 6922, '15,000': 6923, 'qualify': 6924, 'loyalty': 6925, 'competitive': 6926, 'competed': 6927, 'deposits': 6928, 'bundling': 6929, 'packages': 6930, 'targeting': 6931, 'population': 6932, 'segmenting': 6933, 'Anne': 6934, 'Moore': 6935, 'Synergistics': 6936, 'NCNB': 6937, 'Charlotte': 6938, 'Connections': 6939, 'Program': 6940, 'adults': 6941, 'starting': 6942, 'pre-approved': 6943, 'throws': 6944, 'cash-flow': 6945, 'saving': 6946, 'Planters': 6947, 'Memphis': 6948, 'Tenn.': 6949, 'Edge': 6950, 'thirtysomething': 6951, 'crowd': 6952, '*T*-197': 6953, 'borrowed': 6954, 'aiming': 6955, 'elderly': 6956, 'demographic': 6957, 'segment': 6958, 'stepped': 6959, 'Judie': 6960, 'MacDonald': 6961, 'Barnett': 6962, 'Banks': 6963, 'Jacksonville': 6964, 'Fla.': 6965, 'sub-segments': 6966, 'tailoring': 6967, 'Seniors': 6968, 'Partners': 6969, 'styles': 6970, 'Varying': 6971, 'life-style': 6972, 'create': 6973, 'sub-markets': 6974, 'branches': 6975, 'athletic': 6976, 'travel': 6977, 'active': 6978, '55-year-old': 6979, 'Senior': 6980, 'games': 6981, '75-year-old': 6982, 'Panama': 6983, '1973': 6984, 'Wells': 6985, 'Fargo': 6986, '*T*-198': 6987, 'safe-deposit': 6988, 'travelers': 6989, 'checks': 6990, 'fee': 6991, 'begot': 6992, 'slew': 6993, 'copycats': 6994, 'promoting': 6995, 'margins': 6996, 'computerize': 6997, 'niches': 6998, '*T*-199': 6999, 'profitable': 7000, '*-122': 7001, 'mid-1970s': 7002, 'emphasis': 7003, 'switched': 7004, 'ways': 7005, 'enabling': 7006, 'analyze': 7007, 'deregulation': 7008, '*T*-200': 7009, '1970s': 7010, 'Deregulation': 7011, '*T*-201': 7012, 'high-rate': 7013, 'CDs': 7014, 'passbook': 7015, 'certificates': 7016, 'interest-bearing': 7017, 'staggering': 7018, 'bigger': 7019, 'Norwest': 7020, 'Chemical': 7021, 'market-share': 7022, 'battles': 7023, 'banker': 7024, 'worrying': 7025, 'money-center': 7026, 'unions': 7027, '*T*-202': 7028, 'scrambling': 7029, 'define': 7030, 'cultivated': 7031, 'savvier': 7032, '*T*-203': 7033, 'N.C': 7034, 'fragmentation': 7035, 'attracting': 7036, 'rate-sensitive': 7037, 'costly': 7038, 'Packages': 7039, 'rewarding': 7040, 'bulk': 7041, 'captive': 7042, 'audience': 7043, '*T*-204': 7044, '*-123': 7045, 'loyal': 7046, '*T*-205': 7047, 'borrowers': 7048, 'savers\\\\/investors': 7049, 'Packaging': 7050, 'drawbacks': 7051, 'personnel': 7052, 'training': 7053, 'promotional': 7054, 'ChemPlus': 7055, 'Jacob': 7056, 'comprehensive': 7057, 'Still': 7058, 'flourish': 7059, 'demanding': 7060, 'tailored': 7061, '*-124': 7062, 'moving': 7063, 'direction': 7064, 'Alvin': 7065, 'Sale': 7066, 'realize': 7067, 'boutique': 7068, 'IRAs': 7069, 'SHAREDATA': 7070, 'amend': 7071, 'registration': 7072, 'delete': 7073, '500,000': 7074, 'Chandler': 7075, 'Ariz.': 7076, 'resubmit': 7077, '2.3': 7078, 'exercisable': 7079, 'ShareData': 7080, '4.1': 7081, 'develops': 7082, 'low-cost': 7083, 'peripheral': 7084, 'Five': 7085, 'Buy': 7086, 'Chevrolet': 7087, 'Hawaiian': 7088, 'vacation': 7089, 'Send': 7090, 'diamond': 7091, 'necklace': 7092, 'Make': 7093, 'lasting': 7094, 'savings-and-loan': 7095, 'Foster': 7096, 'Corporate': 7097, 'Parents': 7098, 'pocket': 7099, 'ailing': 7100, 'teetering': 7101, 'insolvency': 7102, 'demise': 7103, 'Your': 7104, 'needy': 7105, 'solvent': 7106, 'Parent': 7107, 'Like': 7108, 'healthy': 7109, 'Performing': 7110, 'Institution': 7111, 'gift': 7112, '*T*-206': 7113, 'doors': 7114, 'joy': 7115, 'felt': 7116, 'Lewis': 7117, 'Ranieri': 7118, '*T*-207': 7119, 'builds': 7120, 'confidence': 7121, 'self': 7122, 'sufficiency': 7123, 'critical': 7124, 'institution': 7125, 'Every': 7126, 'delay': 7127, 'worse': 7128, 'Think': 7129, 'mid-size': 7130, 'semesters': 7131, 'send': 7132, '*T*-208': 7133, 'rap': 7134, 'sagging': 7135, 'morale': 7136, 'Baris': 7137, 'Mercantile': 7138, 'institute': 7139, 'circuit': 7140, 'breaker': 7141, 'stemming': 7142, 'slides': 7143, 'Phelan': 7144, 'subcommittee': 7145, 'halts': 7146, 'emergencies': 7147, 'reinstating': 7148, 'collar': 7149, 'arguing': 7150, 'limit': 7151, 'Merc': 7152, 'one-hour': 7153, 'Standard': 7154, 'Poor': 7155, 'stock-index': 7156, 'futures': 7157, 'S&P': 7158, '150-point': 7159, '20-point': 7160, '*-125': 7161, '1:30': 7162, 'p.m': 7163, '3:15': 7164, 'execute': 7165, 'trades': 7166, '*-126': 7167, 'tumultuous': 7168, 'industrials': 7169, 'skidded': 7170, 'hitting': 7171, '*T*-210': 7172, 'remained': 7173, 'session': 7174, 'existing': 7175, '30-minute': 7176, '12-point': 7177, 'equal': 7178, '*-127': 7179, 'Leo': 7180, 'Melamed': 7181, 'lessen': 7182, 'panic': 7183, 'reopened': 7184, 'subsequent': 7185, 'flood': 7186, '*T*-211': 7187, 'knocked': 7188, '30-point': 7189, 'intermediate': 7190, '*-128': 7191, 'synchronized': 7192, 'circuit-breaker': 7193, 'aggravated': 7194, 'directing': 7195, 'floor': 7196, '*-129': 7197, 'shortly': 7198, '*T*-212': 7199, 'respite': 7200, 'sell-offs': 7201, 'maximum': 7202, 'one-day': 7203, 'modification': 7204, '*-130': 7205, 'five-point': 7206, 'minutes': 7207, 'lapses': 7208, 'aides': 7209, 'congressmen': 7210, '*T*-213': 7211, 'executing': 7212, 'manually': 7213, 'post-hearing': 7214, '*T*-214': 7215, 'expressed': 7216, 'volatility': 7217, 'program-trading': 7218, 'comfortable': 7219, 'Capitol': 7220, 'legislators': 7221, 'shut': 7222, 'volatile': 7223, 'Breeden': 7224, 'breakers': 7225, '*T*-215': 7226, 'preset': 7227, 'trigger': 7228, 'vague': 7229, 'mushy': 7230, 'viewpoints': 7231, 'angered': 7232, 'Edward': 7233, 'Markey': 7234, 'beyond': 7235, '*-131': 7236, 'done': 7237, 'sensitive': 7238, '*-132': 7239, 'happy': 7240, 'writing': 7241, 'discussed': 7242, '*-133': 7243, 'annoyed': 7244, 'congressman': 7245, 'Fifteen': 7246, '26': 7247, 'attended': 7248, 'Dingell': 7249, '*T*-216': 7250, 'let': 7251, 'sources': 7252, 'jurisdictional': 7253, 'regulating': 7254, '*T*-217': 7255, 'regulated': 7256, '*-134': 7257, 'Futures': 7258, '*T*-218': 7259, 'Agriculture': 7260, 'committees': 7261, 'change-ringing': 7262, 'peculiar': 7263, 'peculiarities': 7264, 'unintelligible': 7265, 'Dorothy': 7266, 'Sayers': 7267, 'Nine': 7268, 'Tailors': 7269, 'ASLACTON': 7270, '*T*-219': 7271, 'evoke': 7272, 'rural': 7273, 'loveliest': 7274, 'ancient': 7275, 'stone': 7276, 'church': 7277, 'bells': 7278, 'cascading': 7279, 'tower': 7280, 'calling': 7281, 'faithful': 7282, 'evensong': 7283, 'parishioners': 7284, 'Angels': 7285, 'chat': 7286, 'rhythmically': 7287, 'ropes': 7288, '*T*-220': 7289, 'sounded': 7290, '1614': 7291, 'discordant': 7292, 'modern': 7293, 'Aslacton': 7294, '*-135': 7295, 'church-goers': 7296, 'enjoying': 7297, 'peal': 7298, 'cool': 7299, 'autumn': 7300, 'churches': 7301, 'band': 7302, 'ringers': 7303, '*T*-221': 7304, 'herald': 7305, 'Sunday': 7306, 'ringer': 7307, 'Derek': 7308, 'Hammond': 7309, 'live': 7310, 'octogenarians': 7311, 'youngsters': 7312, '*T*-222': 7313, 'sometimes-exhausting': 7314, 'sounding': 7315, 'belfries': 7316, 'Anglia': 7317, 'ring': 7318, 'scrape': 7319, 'water-authority': 7320, 'worker': 7321, 'train': 7322, 'discos': 7323, 'dances': 7324, 'drift': 7325, 'flightiness': 7326, 'youth': 7327, 'diminish': 7328, 'ranks': 7329, 'Anglian': 7330, '*T*-223': 7331, 'pealing': 7332, 'History': 7333, 'nationwide': 7334, 'rung': 7335, 'Sundays': 7336, 'tunes': 7337, 'carillons': 7338, 'continental': 7339, '*-136': 7340, 'childish': 7341, 'foreigners': 7342, 'Change-ringing': 7343, 'mind-boggling': 7344, 'invented': 7345, '380': 7346, 'physical': 7347, 'dexterity': 7348, 'weigh': 7349, 'ton': 7350, 'concentration': 7351, 'Proper': 7352, 'rounds': 7353, 'highest-pitched': 7354, 'bell': 7355, 'descending': 7356, 'altering': 7357, 'rhythm': 7358, 'variation': 7359, 'Ringers': 7360, 'memorize': 7361, 'methods': 7362, '*T*-224': 7363, 'odd-sounding': 7364, 'Treble': 7365, 'Major': 7366, 'Grandsire': 7367, 'Caters': 7368, 'Abbot': 7369, 'Kensington': 7370, 'Ten': 7371, 'shirt-sleeved': 7372, 'circle': 7373, 'foot': 7374, 'prize-fighter': 7375, 'pulling': 7376, 'rope': 7377, '*T*-225': 7378, 'disappears': 7379, 'hole': 7380, 'ringing': 7381, 'chamber': 7382, 'speaks': 7383, 'snaking': 7384, 'muffled': 7385, 'Totally': 7386, 'absorbed': 7387, 'stare': 7388, 'vision': 7389, 'rope-sight': 7390, 'thus': 7391, 'pulls': 7392, 'Far': 7393, 'belfry': 7394, 'bronze': 7395, 'wheels': 7396, 'madly': 7397, '360': 7398, 'inverted': 7399, 'mouth-up': 7400, 'Skilled': 7401, 'wrists': 7402, 'retard': 7403, 'well-known': 7404, 'detective-story': 7405, 'novelist': 7406, 'passion': 7407, 'finds': 7408, 'satisfaction': 7409, 'mathematical': 7410, 'completeness': 7411, 'perfection': 7412, 'filled': 7413, 'solemn': 7414, 'intoxication': 7415, '*T*-226': 7416, 'intricate': 7417, 'ritual': 7418, 'faultlessly': 7419, 'Ringing': 7420, 'bit': 7421, 'obsession': 7422, 'Stephanie': 7423, 'Pattenden': 7424, '*T*-227': 7425, 'stays': 7426, 'stuck': 7427, '*-137': 7428, 'sweat': 7429, 'skip': 7430, 'pub': 7431, 'worship': 7432, 'sit': 7433, 'clerics': 7434, 'Church': 7435, 'steadily': 7436, 'dwindling': 7437, 'strong-willed': 7438, 'vicars': 7439, 'pressing': 7440, 'non-religious': 7441, 'attend': 7442, 'Two': 7443, 'Rev.': 7444, 'Jeremy': 7445, 'Hummerstone': 7446, 'vicar': 7447, 'Torrington': 7448, 'Devon': 7449, '*T*-228': 7450, 'sacked': 7451, 'promptly': 7452, 'self-perpetuating': 7453, '*T*-229': 7454, 'premises': 7455, 'Vicar': 7456, 'congregation': 7457, 'eight': 7458, 'Ilminster': 7459, 'Somerset': 7460, 'dust-up': 7461, 'attendance': 7462, 'W.D.': 7463, 'refuses': 7464, 'reopen': 7465, 'wound': 7466, 'C.J.B.': 7467, 'nearby': 7468, 'fault': 7469, 'stairs': 7470, '*-138': 7471, 'altar': 7472, 'crunch': 7473, 'bang': 7474, 'obvious': 7475, 'exit': 7476, 'prayer': 7477, 'feelings': 7478, 'bell-ringer': 7479, 'drawn': 7480, '*-139': 7481, 'fuller': 7482, 'Council': 7483, 'Bell': 7484, 'aims': 7485, 'Baldwin': 7486, 'speak': 7487, 'theological': 7488, 'colleges': 7489, 'joys': 7490, 'publish': 7491, 'booklet': 7492, 'entitled': 7493, 'Bells': 7494, 'Care': 7495, 'attacking': 7496, 'bellringers': 7497, '40,000': 7498, '*-140': 7499, 'parishes': 7500, 'inner-city': 7501, 'council': 7502, 'attract': 7503, 'Right': 7504, 'lucky': 7505, 'male-dominated': 7506, 'everywhere': 7507, 'bell-ringing': 7508, 'Ancient': 7509, 'Youths': 7510, 'founded': 7511, '1637': 7512, 'male-only': 7513, '*T*-230': 7514, 'galling': 7515, 'sole': 7516, 'Cathedral': 7517, 'Westminster': 7518, 'Abbey': 7519, 'equal-opportunity': 7520, 'weekly': 7521, 'signing': 7522, 'Red-blooded': 7523, 'balanced': 7524, 'frequency': 7525, 'fainting': 7526, 'peals': 7527, 'tea': 7528, 'torrent': 7529, 'Solihull': 7530, 'observed': 7531, 'desired': 7532, '*-141': 7533, 'dressed': 7534, 'decorated': 7535, 'beer-belly': 7536, 'unwashed': 7537, 'unbearably': 7538, 'flatulent': 7539, 'Sheffield': 7540, 'faint': 7541, 'bless': 7542, 'unsettled': 7543, 'comfort': 7544, 'predictable': 7545, 'arrival': 7546, 'payouts': 7547, 'breathe': 7548, 'warn': 7549, 'strongest': 7550, 'stock-market': 7551, 'trap': 7552, 'unwary': 7553, 'Bernstein': 7554, 'quantitative': 7555, 'Merrill': 7556, 'Lynch': 7557, 'Strong': 7558, 'widow': 7559, 'reference': 7560, 'spiders': 7561, '*T*-231': 7562, 'males': 7563, 'kill': 7564, 'mating': 7565, 'Boesel': 7566, 'Growth': 7567, 'Income': 7568, 'robustly': 7569, 'Invariably': 7570, 'recessionary': 7571, 'environments': 7572, 'hospitable': 7573, 'risen': 7574, 'cyclical': 7575, 'peaks': 7576, '500-stock': 7577, 'sliding': 7578, 'watchers': 7579, 'Payouts': 7580, 'double-digit': 7581, 'trends': 7582, 'smartly': 7583, 'advances': 7584, '*T*-232': 7585, 'unenticing': 7586, 'Put': 7587, 'relative': 7588, '3.3': 7589, 'exits': 7590, 'sustained': 7591, 'rebound': 7592, 'pushes': 7593, 'tanked': 7594, 'Always': 7595, 'exception': 7596, 'W.': 7597, 'Perritt': 7598, 'Stockholders': 7599, '*T*-233': 7600, 'hint': 7601, 'escaped': 7602, 'debacle': 7603, '1933': 7604, '1961': 7605, '1965': 7606, '1968': 7607, '1971': 7608, 'sharp': 7609, 'troublesome': 7610, 'behaving': 7611, 'manner': 7612, 'Coxon': 7613, 'Cigna': 7614, 'Philadelphia-based': 7615, 'insurer': 7616, 'Einhorn': 7617, 'co-chairman': 7618, '3.6': 7619, 'tad': 7620, '*T*-234': 7621, 'single-digit': 7622, 'weakening': 7623, 'PaineWebber': 7624, 'forecasting': 7625, 'slowdowns': 7626, 'Doerflinger': 7627, 'argument': 7628, 'wherewithal': 7629, 'declare': 7630, 'weaken': 7631, 'Dividend': 7632, '*-142': 7633, 'bulls': 7634, 'expenditures': 7635, 'tally': 7636, '139': 7637, 'basically': 7638, '138': 7639, 'trailed': 7640, 'slippage': 7641, 'harbinger': 7642, 'deliver': 7643, 'appreciation': 7644, 'vs.': 7645, '*T*-235': 7646, 'Having': 7647, 'supportive': 7648, 'element': 7649, 'outlook': 7650, 'upside': 7651, 'page-one': 7652, 'plight': 7653, 'Alexander': 7654, 'Graham': 7655, 'invention': 7656, 'supposedly': 7657, 'communication': 7658, 'replace': 7659, 'father-in-law': 7660, 'Gardner': 7661, 'Hubbard': 7662, 'wealthy': 7663, 'well-connected': 7664, 'microphone': 7665, 'sued': 7666, 'grandfather': 7667, 'Emile': 7668, 'Berliner': 7669, '*-144': 7670, 'princely': 7671, '50,000': 7672, 'infringed': 7673, 'established': 7674, 'caveat': 7675, '*-145': 7676, 'enter': 7677, 'Beverly': 7678, 'Troubled': 7679, 'NBI': 7680, 'discontinuing': 7681, '*T*-236': 7682, 'quarters': 7683, 'Altogether': 7684, '266': 7685, 'Boulder': 7686, '176': 7687, 'Kingdom': 7688, 'Jerritts': 7689, 'commit': 7690, 'Further': 7691, 'structurally': 7692, 'radically': 7693, 'servicing': 7694, 'word-processing': 7695, 'Legend': 7696, '*T*-237': 7697, 'lacked': 7698, 'Series': 7699, 'hired': 7700, '93': 7701, 'Nixon': 7702, '*T*-238': 7703, 'historic': 7704, 'rapprochement': 7705, 'spoke': 7706, 'length': 7707, 'nowhere': 7708, 'easing': 7709, 'strains': 7710, '*T*-239': 7711, 'afflicted': 7712, 'Sino-U.S.': 7713, 'relationship': 7714, 'bloody': 7715, 'suppression': 7716, 'pro-democracy': 7717, 'demonstrators': 7718, 'harped': 7719, 'outrage': 7720, 'massacre': 7721, 'interference': 7722, 'Legal': 7723, '*T*-240': 7724, 'normally': 7725, 'proponent': 7726, 'peaceful': 7727, 'phrase': 7728, 'seduce': 7729, 'socialist': 7730, 'capitalist': 7731, 'sphere': 7732, 'tension': 7733, 'evident': 7734, 'banquet': 7735, 'toast': 7736, 'reciting': 7737, 'platitudes': 7738, 'eternal': 7739, 'friendship': 7740, 'reminded': 7741, 'Yang': 7742, 'Shangkun': 7743, 'assault': 7744, '3-4': 7745, '*T*-241': 7746, 'States': 7747, 'crackdown': 7748, '*T*-242': 7749, 'ordering': 7750, 'respect': 7751, 'undiplomatic': 7752, 'fashion': 7753, 'killings': 7754, 'prominently': 7755, 'demonstrations': 7756, 'supreme': 7757, 'Deng': 7758, 'Xiaoping': 7759, 'Frankly': 7760, 'speaking': 7761, '*-146': 7762, 'deeply': 7763, 'turmoil': 7764, 'counterrevolutionary': 7765, 'rebellion': 7766, '*T*-243': 7767, 'occurred': 7768, 'reprove': 7769, 'exchanges': 7770, 'mend': 7771, '*T*-244': 7772, 'deteriorated': 7773, 'greatest': 7774, 'Chinese-American': 7775, 'Relations': 7776, 'dissident': 7777, 'Fang': 7778, 'Lizhi': 7779, 'wife': 7780, 'Li': 7781, 'Shuxian': 7782, 'refuge': 7783, 'Embassy': 7784, 'Shortly': 7785, 'afterwards': 7786, 'anti-China': 7787, 'suspension': 7788, 'high-level': 7789, 'codified': 7790, '*-147': 7791, 'traveling': 7792, 'citizen': 7793, 'unofficial': 7794, 'envoy': 7795, 'Brent': 7796, 'Scowcroft': 7797, 'Saturday': 7798, 'top-level': 7799, 'participation': 7800, 'Fulbright': 7801, 'government-funded': 7802, 'pulled': 7803, 'acknowledge': 7804, 'welcome': 7805, 'infusion': 7806, 'contacts': 7807, 'Ideas': 7808, 'borders': 7809, 'SDI': 7810, 'weapon': 7811, '*T*-245': 7812, 'shoot': 7813, 'minor': 7814, 'concession': 7815, 'Premier': 7816, 'Peng': 7817, 'hoped': 7818, 'encounter': 7819, 'guards': 7820, 'guns': 7821, 'Sure': 7822, 'arrived': 7823, 'embassy': 7824, 'machine-gun-toting': 7825, 'blocks': 7826, 'ambassador': 7827, 'residence': 7828, 'encircling': 7829, 'discarded': 7830, 'Uzi-model': 7831, 'arms': 7832, 'pistols': 7833, 'contingent': 7834, 'plainclothes': 7835, 'unmarked': 7836, 'soldiers': 7837, '*T*-246': 7838, 'protests': 7839, 'rifles': 7840, 'diplomats': 7841, 'clicked': 7842, 'loaded': 7843, 'Firms': 7844, 'Lure': 7845, 'Science': 7846, 'Graduates': 7847, 'accusing': 7848, 'jeopardizing': 7849, 'barking': 7850, 'tree': 7851, 'passing': 7852, 'buck': 7853, '*T*-247': 7854, 'everything': 7855, 'volunteer': 7856, 'unethical': 7857, 'higher-salaried': 7858, 'Unfortunately': 7859, 'compensation': 7860, 'impression': 7861, 'harder': 7862, 'visited': 7863, '*-149': 7864, 'images': 7865, 'changing': 7866, 'perceptions': 7867, 'salaries': 7868, 'vacations': 7869, 'accept': 7870, 'Hiroshi': 7871, 'Asada': 7872, 'Barbara': 7873, 'Earns': 7874, 'Higher': 7875, 'Ratings': 7876, 'Than': 7877, 'regrettable': 7878, 'continually': 7879, 'negatives': 7880, 'liberals': 7881, 'progressive': 7882, 'Prof': 7883, 'Ethel': 7884, 'Klein': 7885, 'puts': 7886, 'professionals': 7887, '76': 7888, 'favorable': 7889, '*T*-248': 7890, 'voters': 7891, 'disapprove': 7892, 'spouse': 7893, 'imply': 7894, 'three-quarters': 7895, '85': 7896, 'assumption': 7897, 'distasteful': 7898, 'newsworthy': 7899, 'perpetuates': 7900, 'insidious': 7901, 'stereotyped': 7902, 'perspective': 7903, 'defined': 7904, 'denominator': 7905, 'Preston': 7906, 'Birmingham': 7907, 'Ala': 7908, 'self-regulatory': 7909, 'disciplined': 7910, 'expelled': 7911, '*-150': 7912, 'NASD': 7913, 'fined': 7914, '*-151': 7915, 'Fernando': 7916, 'Vargas': 7917, 'Marina': 7918, 'del': 7919, 'Rey': 7920, '*-152': 7921, '*-153': 7922, 'telephone-information': 7923, 'listing': 7924, 'J.L.': 7925, 'Henry': 7926, 'I.': 7927, 'Otero': 7928, '30,000': 7929, 'improper': 7930, '*-154': 7931, '*T*-249': 7932, 'unpublished': 7933, '*-155': 7934, 'Biscayne': 7935, 'Lauderhill': 7936, 'Rosenblum': 7937, 'Plantation': 7938, '10-day': 7939, 'suspensions': 7940, '*T*-250': 7941, '*-156': 7942, 'Triton': 7943, 'Danville': 7944, 'Delwin': 7945, 'settlement': 7946, 'admitting': 7947, 'denying': 7948, 'consented': 7949, 'connection': 7950, 'limited-partnership': 7951, '*-157': 7952, 'Crane': 7953, 'Mount': 7954, 'Clemens': 7955, 'Glenn': 7956, 'escrow': 7957, 'record-keeping': 7958, 'Canepa': 7959, 'two-week': 7960, 'inaccurately': 7961, 'inaccurate': 7962, 'Weatherly': 7963, 'principals': 7964, 'Dell': 7965, 'Eugene': 7966, 'Keehn': 7967, 'Northy': 7968, 'Prater': 7969, 'Mercer': 7970, 'Island': 7971, 'Wash.': 7972, 'McFall': 7973, 'Reached': 7974, 'implication': 7975, 'inappropriate': 7976, 'timing': 7977, 'rectified': 7978, 'W.N.': 7979, 'Whelen': 7980, 'Georgetown': 7981, 'Del.': 7982, 'N.': 7983, 'transacting': 7984, 'differ': 7985, 'meaning': 7986, 'markup': 7987, 'markdown': 7988, '*T*-251': 7989, '62%-owned': 7990, 'Express': 7991, 'timely': 7992, 'requests': 7993, 'Except': 7994, 'Andrew': 7995, 'Derel': 7996, 'Adams': 7997, 'Killeen': 7998, 'Francis': 7999, 'Angier': 8000, 'Reddington': 8001, 'Shores': 8002, 'Anthony': 8003, 'Arlington': 8004, 'Stirlen': 8005, '7,500': 8006, 'Fred': 8007, 'Bonnell': 8008, '2,500': 8009, 'Boorse': 8010, 'Horsham': 8011, 'Pa.': 8012, 'Chiodo': 8013, 'Camille': 8014, 'Chafic': 8015, 'Cotran': 8016, '25,000': 8017, 'disgorge': 8018, 'one-year': 8019, 'Davis': 8020, 'Colonsville': 8021, 'Miss.': 8022, '200,000': 8023, 'Jeffrey': 8024, 'Gerard': 8025, 'Dompierre': 8026, 'Valrico': 8027, 'Felten': 8028, '16,072': 8029, 'Marion': 8030, 'Stewart': 8031, 'Spitler': 8032, '18,444': 8033, '*T*-252': 8034, 'amounted': 8035, 'parking': 8036, 'ticket': 8037, 'complaining': 8038, 'sizable': 8039, 'anybody': 8040, 'Fishman': 8041, 'Longwood': 8042, 'Floyd': 8043, 'Houston': 8044, 'Bronx': 8045, 'Amin': 8046, 'Jalaalwalikraam': 8047, 'Glenham': 8048, '60,000': 8049, 'Knapp': 8050, 'Deborah': 8051, 'Renee': 8052, 'Muscolina': 8053, 'Palisades': 8054, 'Park': 8055, 'Najarian': 8056, 'Minn.': 8057, 'Norwick': 8058, 'Nesconset': 8059, 'Phipps': 8060, 'Sr.': 8061, 'Scott': 8062, 'Rankin': 8063, 'Mo.': 8064, 'Leigh': 8065, 'Sanderoff': 8066, 'Gaithersburg': 8067, 'Md.': 8068, '45,000': 8069, '12,252': 8070, 'Sandra': 8071, 'Ann': 8072, 'Ridgefield': 8073, 'Spence': 8074, 'Aloha': 8075, 'Ore.': 8076, 'Mona': 8077, 'Sun': 8078, 'Jamaica': 8079, 'Estates': 8080, 'Swearingen': 8081, 'Bew': 8082, 'Wong': 8083, 'Rabia': 8084, 'Zayed': 8085, 'Veselich': 8086, 'Enright': 8087, 'Rolling': 8088, '11,762': 8089, 'Stuart': 8090, 'Russel': 8091, 'Glendale': 8092, '14,821': 8093, 'Nilson': 8094, 'Dahl': 8095, 'Fountain': 8096, '82,389': 8097, 'screwed': 8098, 'breaking': 8099, 'agents': 8100, '*-158': 8101, 'reps': 8102, 'compliance': 8103, 'security-type': 8104, 'stupid': 8105, 'mistakes': 8106, 'Cole': 8107, 'Jackson': 8108, 'Rita': 8109, 'Rae': 8110, 'Cross': 8111, 'Denver': 8112, 'Meinders': 8113, '2,000': 8114, 'five-day': 8115, 'eight-month': 8116, 'Cutrer': 8117, 'Baton': 8118, 'Rouge': 8119, 'La.': 8120, 'one-month': 8121, 'Karl': 8122, 'Grant': 8123, 'Hale': 8124, 'Midvale': 8125, 'Utah': 8126, 'Clinton': 8127, 'Hayne': 8128, 'one-week': 8129, 'Kane': 8130, 'Coconut': 8131, '250,000': 8132, 'Merrick': 8133, 'Aurora': 8134, 'Miller': 8135, 'Randolph': 8136, 'Pace': 8137, '90-day': 8138, 'Brian': 8139, 'Pitcher': 8140, 'Russo': 8141, 'Bridgeville': 8142, '15-day': 8143, 'Orville': 8144, 'Leroy': 8145, 'Sandberg': 8146, '3,500': 8147, 'Marchese': 8148, 'Las': 8149, 'Vegas': 8150, 'Nev.': 8151, 'Eric': 8152, 'Monchecourt': 8153, 'Gerhard': 8154, 'Carson': 8155, 'actively': 8156, 'engaged': 8157, 'fond': 8158, 'blocked': 8159, '*-159': 8160, 'emigrate': 8161, 'computer-driven': 8162, 'plays': 8163, 'hurdles': 8164, 'loom': 8165, 'resist': 8166, 'onslaught': 8167, 'shrug': 8168, 'furor': 8169, 'marching': 8170, 'abroad': 8171, 'overlap': 8172, 'American-style': 8173, 'arbitrage': 8174, '*T*-253': 8175, 'exploit': 8176, '11.6': 8177, 'imagine': 8178, 'racing': 8179, 'Chicago-style': 8180, 'scrutinizing': 8181, '*-160': 8182, 'cope': 8183, 'Makato': 8184, 'Utsumi': 8185, 'home-market': 8186, 'Osaka': 8187, 'wary': 8188, 'forgotten': 8189, 'leap': 8190, 'bout': 8191, 'foreign-led': 8192, 'drove': 8193, 'skyward': 8194, '*T*-254': 8195, 'mechanisms': 8196, 'operators': 8197, 'suspend': 8198, 'Maybe': 8199, 'tightened': 8200, 'index-related': 8201, 'catch-up': 8202, 'Salomon': 8203, 'reaped': 8204, 'chunk': 8205, '*T*-255': 8206, 'Deryck': 8207, 'Maughan': 8208, '*T*-256': 8209, 'S.': 8210, 'Wadsworth': 8211, '*T*-257': 8212, 'ascribe': 8213, 'futures-related': 8214, 'strategies': 8215, 'disruptive': 8216, '*RNR*-2': 8217, 'liquid': 8218, 'impact': 8219, 'Index-arbitrage': 8220, 'serves': 8221, 'conduit': 8222, 'attractions': 8223, 'counter': 8224, 'tapes': 8225, 'unwind': 8226, 'begins': 8227, 'pegged': 8228, 'privacy': 8229, 'brokerage': 8230, 'index-arbitrage': 8231, '*-161': 8232, 'Barfield': 8233, 'Assurance': 8234, '*T*-258': 8235, 'manages': 8236, '#': 8237, '23.72': 8238, 'Times-Stock': 8239, '100-share': 8240, 'option': 8241, '*-162': 8242, 'Traded': 8243, 'Options': 8244, 'FT-SE': 8245, 'tenfold': 8246, '9,118': 8247, '4,645': 8248, '917': 8249, 'index-options': 8250, 'compares': 8251, 'derivatives': 8252, 'wage': 8253, '382-37': 8254, 'compromise': 8255, 'backed': 8256, 'replete': 8257, 'proponents': 8258, 'Advocates': 8259, '90-cent-an-hour': 8260, '4.25': 8261, 'hour': 8262, 'opponents': 8263, 'reflected': 8264, 'Republicans': 8265, 'bend': 8266, '*T*-259': 8267, 'lifting': 8268, 'four-year': 8269, 'enacted': 8270, '*-163': 8271, '3.35': 8272, '2.65': 8273, '3.80': 8274, 'smiles': 8275, 'Pat': 8276, 'Williams': 8277, 'Mont': 8278, '*-164': 8279, 'Marge': 8280, 'Roukema': 8281, 'acceptance': 8282, 'subminimum': 8283, 'administrations': 8284, 'sought': 8285, 'Adopting': 8286, 'training-wage': 8287, 'nickel': 8288, 'diming': 8289, 'Policy': 8290, 'lately': 8291, 'touted': 8292, 'impart': 8293, 'skills': 8294, 'entrants': 8295, 'Labor': 8296, 'Democrats': 8297, 'fought': 8298, 'acceded': 8299, 'insistence': 8300, '3.61': 8301, 'Employers': 8302, 'restriction': 8303, '*NOT*': 8304, 'government-certified': 8305, 'covers': 8306, '*T*-260': 8307, 'unrestricted': 8308, '*-165': 8309, 'Chamber': 8310, 'mininum-wage': 8311, 'impossible': 8312, 'employers': 8313, 'elimination': 8314, 'Zenith': 8315, 'Data': 8316, 'Electronics': 8317, '534': 8318, 'Navy': 8319, 'microcomputers': 8320, '84-month': 8321, 'Rockwell': 8322, '130.7': 8323, 'Air': 8324, 'Force': 8325, 'AC-130U': 8326, 'gunship': 8327, 'replacement': 8328, 'Marietta': 8329, '*-166': 8330, '29.9': 8331, 'low-altitude': 8332, 'navigation': 8333, '29.4': 8334, 'intelligence': 8335, 'Hahn': 8336, 'mode': 8337, 'gentle': 8338, 'Can': 8339, 'hard-charging': 8340, 'Teddy': 8341, 'Roosevelt': 8342, '62-year-old': 8343, 'forest-product': 8344, 'unsolicited': 8345, '3.19': 8346, 'cold': 8347, 'faced': 8348, 'negotiated': 8349, 'entice': 8350, 'negotiating': 8351, 'surrender': 8352, 'tough': 8353, 'completion': 8354, 'opens': 8355, 'war': 8356, 'implies': 8357, 'dilemma': 8358, 'Given': 8359, 'observers': 8360, 'overpaying': 8361, 'fold': 8362, 'courage': 8363, 'A.D.': 8364, 'Correll': 8365, 'pulp': 8366, 'long-time': 8367, 'Griffin': 8368, 'WTD': 8369, 'consensus': 8370, 'insiders': 8371, 'onto': 8372, 'knew': 8373, 'picked': 8374, 'careful': 8375, 'Polytechnic': 8376, 'Assuming': 8377, 'universities': 8378, 'Strother': 8379, 'researching': 8380, 'willingness': 8381, '1970': 8382, 'arrest': 8383, 'protesters': 8384, 'occupying': 8385, 'impressed': 8386, 'Pamplin': 8387, 'fundraising': 8388, 'enticed': 8389, 'joining': 8390, 'befuddled': 8391, 'administrator': 8392, 'transition': 8393, 'swiftly': 8394, 'demonstrating': 8395, 'raw': 8396, 'possessed': 8397, 'son': 8398, 'skipped': 8399, 'classmates': 8400, 'Moving': 8401, 'graduated': 8402, 'Phi': 8403, 'Beta': 8404, 'Kappa': 8405, 'Kentucky': 8406, 'doctorate': 8407, 'physics': 8408, 'retentive': 8409, 'understatement': 8410, 'photographic': 8411, 'engineered': 8412, 'turnaround': 8413, 'Taking': 8414, 'inherited': 8415, 'recession-inspired': 8416, 'building-products': 8417, 'non-core': 8418, 'vinyl': 8419, 'checkbook': 8420, 'refocusing': 8421, 'repair': 8422, 'remodeling': 8423, 'new-home': 8424, 'cycles': 8425, 'formula': 8426, '9.5': 8427, 'reins': 8428, '467': 8429, 'attributes': 8430, 'philosophy': 8431, 'concentrating': 8432, 'diversified': 8433, 'impressive': 8434, 'diversification': 8435, 'match': 8436, 'high-quality': 8437, 'forest-products': 8438, 'waters': 8439, 'Kathryn': 8440, 'McAuley': 8441, 'House-Senate': 8442, 'portions': 8443, 'relies': 8444, '240': 8445, 'guarantees': 8446, 'stimulating': 8447, 'appropriators': 8448, 'Overseas': 8449, 'initiatives': 8450, 'contrasts': 8451, 'provoked': 8452, 'veto': 8453, 'confined': 8454, 'shaping': 8455, 'authorizing': 8456, 'appropriations': 8457, 'decisive': 8458, 'Appropriations': 8459, 'reallocate': 8460, 'Pentagon': 8461, 'separately': 8462, '220': 8463, 'planning': 8464, 'Population': 8465, 'portion': 8466, 'warming': 8467, 'African': 8468, 'elephant': 8469, 'draws': 8470, 'variety': 8471, 'amendments': 8472, 'exemption': 8473, 'airplane': 8474, 'intriguing': 8475, 'struggle': 8476, 'sugar': 8477, 'fate': 8478, 'quota': 8479, 'stripped': 8480, 'Noriega': 8481, 'regime': 8482, '30,537': 8483, 'tons': 8484, '21-month': 8485, 'reallocated': 8486, '23,403': 8487, 'growers': 8488, 'pound': 8489, '9.3': 8490, 'Majority': 8491, 'Whip': 8492, 'Gray': 8493, 'Pa': 8494, 'English-speaking': 8495, 'Caribbean': 8496, 'Barbados': 8497, 'conservative': 8498, 'Californian': 8499, 'Bolivia': 8500, 'broadened': 8501, 'Basin': 8502, 'initiate': 8503, 'powerful': 8504, 'Hawaii': 8505, 'Inouye': 8506, 'upsetting': 8507, 'allies': 8508, 'instructed': 8509, 'lobbyist': 8510, 'abandon': 8511, 'drafted': 8512, 'insert': 8513, 'waived': 8514, 'supplemental': 8515, 'anti-drug': 8516, '27.1': 8517, 'airline': 8518, 'flights': 8519, 'leadership': 8520, 'bounce': 8521, '17.3': 8522, 'departments': 8523, 'Beauty': 8524, 'Takes': 8525, 'Backseat': 8526, 'Bridges': 8527, 'EVERYONE': 8528, 'AGREES': 8529, 'bridges': 8530, 'repaired': 8531, 'disagreement': 8532, 'ornamental': 8533, 'railings': 8534, 'crashing': 8535, 'lose': 8536, 'railing': 8537, 'scenic': 8538, 'planner': 8539, 'prefer': 8540, 'install': 8541, 'F': 8542, 'four-foot-high': 8543, 'concrete': 8544, 'slab': 8545, 'openings': 8546, 'Ind.': 8547, 'arched': 8548, 'G': 8549, 'Bridge': 8550, 'Garret': 8551, 'teaches': 8552, 'Earlham': 8553, 'structure': 8554, 'ugly': 8555, 'bridge': 8556, 'Charter': 8557, 'Oak': 8558, 'cast-iron': 8559, 'medallions': 8560, 'Compromises': 8561, 'Citizens': 8562, 'Peninsula': 8563, 'upset': 8564, 'floral': 8565, 'Similarly': 8566, 'highway': 8567, 'sidewalk': 8568, 'Tray': 8569, 'Bon': 8570, 'Drink': 8571, 'Carrier': 8572, 'Competes': 8573, 'Cartons': 8574, 'PORTING': 8575, 'POTABLES': 8576, 'Scypher': 8577, 'Cup-Tote': 8578, 'beverage': 8579, 'carrier': 8580, 'trays': 8581, 'outlets': 8582, 'resembles': 8583, 'loops': 8584, 'beer': 8585, 'hang': 8586, 'web': 8587, 'tote': 8588, 'cups': 8589, 'Inventor': 8590, 'Claire': 8591, 'Marvin': 8592, 'spilling': 8593, 'Lids': 8594, 'carriers': 8595, 'acknowledges': 8596, 'driver': 8597, 'sunlight': 8598, 'recyclable': 8599, 'Spirit': 8600, 'Perestroika': 8601, 'Touches': 8602, 'Design': 8603, 'AN': 8604, 'EXCHANGE': 8605, 'designers': 8606, 'promises': 8607, 'gamut': 8608, 'blender': 8609, 'chairs': 8610, 'Citicorp': 8611, 'Carnegie-Mellon': 8612, 'Leningrad': 8613, 'Mutchin': 8614, 'Droz': 8615, 'sees': 8616, 'learn': 8617, 'corkscrews': 8618, 'maybe': 8619, 'Seed': 8620, 'Jail': 8621, 'Solution': 8622, 'Fails': 8623, 'Root': 8624, 'IT': 8625, \"'S\": 8626, 'TWO': 8627, 'BIRDS': 8628, 'Eggers': 8629, 'architects': 8630, 'propose': 8631, 'grain': 8632, 'house': 8633, 'prisoners': 8634, 'overcrowding': 8635, 'preserving': 8636, 'solutions': 8637, 'cell': 8638, 'Grain': 8639, \"'30s\": 8640, 'walls': 8641, 'tubular': 8642, 'semicircular': 8643, 'cells': 8644, 'muster': 8645, 'visits': 8646, 'aesthetic': 8647, 'famed': 8648, 'architect': 8649, 'pyramids': 8650, 'Egypt': 8651, 'vacant': 8652, 'altered': 8653, 'inmates': 8654, 'upstate': 8655, 'efficient': 8656, 'USX': 8657, 'fines': 8658, 'penalty': 8659, 'workplace': 8660, 'employer': 8661, 'Occupational': 8662, 'Administration': 8663, '6.1': 8664, 'Fairless': 8665, 'mill': 8666, 'penalties': 8667, 'OSHA': 8668, '1,500': 8669, 'electrical': 8670, 'crane-safety': 8671, 'citation': 8672, 'covering': 8673, 'Clairton': 8674, 'coke': 8675, 'electrical-safety': 8676, 'Dole': 8677, 'citations': 8678, 'hazards': 8679, 'resulted': 8680, 'indifference': 8681, 'severe': 8682, 'Scannell': 8683, 'deficiencies': 8684, 'counteract': 8685, 'Particularly': 8686, 'flagrant': 8687, 'failures': 8688, 'properly': 8689, 'injuries': 8690, 'spite': 8691, 'corporate-wide': 8692, 'discrepancies': 8693, 'evaluation': 8694, 'cooperating': 8695, 'corrected': 8696, 'promised': 8697, 'stiffer': 8698, 'proved': 8699, 'unwilling': 8700, 'manpower': 8701, 'removing': 8702, 'safeguarding': 8703, 'Anku': 8704, 'contest': 8705, 'Review': 8706, 'Morrell': 8707, 'meatpacking': 8708, 'Brands': 8709, 'Cincinnati': 8710, 'contesting': 8711, 'Due': 8712, 'editing': 8713, 'error': 8714, 'edition': 8715, 'Hallett': 8716, 'mistakenly': 8717, 'NRDC': 8718, 'Natural': 8719, 'Resources': 8720, 'Homeless': 8721, 'implied': 8722, 'homelessness': 8723, 'numbers': 8724, 'mentally': 8725, 'ill': 8726, 'substance-abusing': 8727, 'alcoholics': 8728, 'causes': 8729, 'complex': 8730, 'quoting': 8731, 'emphasized': 8732, 'prevalance': 8733, 'illness': 8734, 'alcoholism': 8735, 'examined': 8736, 'multitude': 8737, 'disorders': 8738, 'psychiatric': 8739, 'malnutrition': 8740, 'chest': 8741, 'cardiovascular': 8742, 'infectious': 8743, 'aftereffects': 8744, 'assaults': 8745, 'shelter': 8746, 'elementary': 8747, 'necessities': 8748, 'nutrition': 8749, 'cleanliness': 8750, 'predispose': 8751, 'consequence': 8752, 'composed': 8753, 'lacks': 8754, 'adequate': 8755, 'interactions': 8756, 'defying': 8757, 'generalizations': 8758, 'possess': 8759, 'Breakey': 8760, 'M.D.': 8761, 'Fischer': 8762, 'Psychiatry': 8763, 'Johns': 8764, 'Hopkins': 8765, 'Tulane': 8766, 'Prof.': 8767, 'Wright': 8768, 'array': 8769, 'thread': 8770, 'poverty': 8771, 'exhibits': 8772, 'combination': 8773, 'alcohol': 8774, 'simultaneously': 8775, 'housing': 8776, 'disaffiliation': 8777, 'welfare': 8778, 'decay': 8779, 'intimately': 8780, 'connected': 8781, 'persons': 8782, 'Leighton': 8783, 'Cluff': 8784, 'quote': 8785, 'regarded': 8786, 'drop-in': 8787, 'fear': 8788, 'robbed': 8789, 'deprivation': 8790, 'scarcely': 8791, 'unable': 8792, 'fend': 8793, 'yourself': 8794, 'obviously': 8795, 'pre-existing': 8796, 'addiction': 8797, 'cracks': 8798, 'grim': 8799, 'brutal': 8800, 'escape': 8801, 'drugs': 8802, 'insanity': 8803, 'R.D.': 8804, 'Vos': 8805, 'N.Y': 8806, 'dismiss': 8807, 'sentimental': 8808, 'housing-assistance': 8809, '77': 8810, 'sleeping': 8811, 'Reagan-Bush': 8812, 'bothered': 8813, 'inverse': 8814, 'logic': 8815, 'namely': 8816, 'consequences': 8817, 'assertion': 8818, 'Jenkins': 8819, 'Cambridge': 8820, 'sponsors': 8821, 'chose': 8822, 'Home': 8823, 'Builders': 8824, 'Bricklayers': 8825, 'Allied': 8826, 'Craftsmen': 8827, 'insinuating': 8828, 'self-serving': 8829, 'crusade': 8830, 'greed': 8831, 'motive': 8832, 'desire': 8833, 'subscribe': 8834, 'YMCA': 8835, 'YWCA': 8836, 'Catholic': 8837, 'Charities': 8838, 'USA': 8839, 'nonprofit': 8840, 'participated': 8841, '203': 8842, 'underwent': 8843, 'examinations': 8844, 'Choose': 8845, 'deprived': 8846, 'families': 8847, 'predict': 8848, 'Thunderbird': 8849, 'substitute': 8850, 'Chivas': 8851, 'Regal': 8852, 'phobias': 8853, 'depressions': 8854, 'Ruth': 8855, 'Cullowhee': 8856, 'ROGERS': 8857, 'COMMUNICATIONS': 8858, '175': 8859, '148.9': 8860, '153.3': 8861, 'placement': 8862, 'perpetual': 8863, 'Perpetual': 8864, 'retractable': 8865, 'Rogers': 8866, 'B': 8867, 'conversion': 8868, 'cable': 8869, 'coupon': 8870, 'leveraged': 8871, 'buy-outs': 8872, 'undesirable': 8873, 'intrusion': 8874, '300-113': 8875, 'supporters': 8876, 'override': 8877, 'brakes': 8878, 'impede': 8879, 'Hammerschmidt': 8880, 'Ark': 8881, 'Works': 8882, 'impaired': 8883, 'diminished': 8884, 'airline-related': 8885, 'overriding': 8886, 'benefit': 8887, 'amendment': 8888, 'DeFazio': 8889, 'criteria': 8890, 'Traficant': 8891, '271-147': 8892, 'occasionally': 8893, 'dubbed': 8894, 'labor-backed': 8895, 'two-time-losers': 8896, 'Lorenzo': 8897, 'Follow-up': 8898, 'Voice': 8899, 'text': 8900, 'broadcasting': 8901, 'tune': 8902, 'extensive': 8903, 'reporter': 8904, 'scholar': 8905, 'broadcasts': 8906, 'ordinary': 8907, 'democracy': 8908, 'cousins': 8909, 'hither': 8910, 'yon': 8911, 'censorship': 8912, 'outrageous': 8913, 'propaganda': 8914, 'propagandize': 8915, 'neat': 8916, 'propagandizes': 8917, 'speeches': 8918, 'briefings': 8919, 'tours': 8920, 'facilities': 8921, 'publications': 8922, 'sorts': 8923, 'Propaganda': 8924, 'beauty': 8925, 'enables': 8926, 'hear': 8927, 'mind': 8928, 'viewing': 8929, 'dissemination': 8930, 'absurd': 8931, 'inform': 8932, 'columns': 8933, 'clipped': 8934, 'refrigerator': 8935, 'facts': 8936, 'languages': 8937, 'listeners': 8938, 'first-rate': 8939, '184': 8940, '*-30': 8941, '1948': 8942, 'scholars': 8943, 'reporters': 8944, 'texts': 8945, 'VOA': 8946, 'copying': 8947, 'How': 8948, 'copy': 8949, 'photocopying': 8950, 'short-wave': 8951, 'transcribe': 8952, 'Nor': 8953, 'reprint': 8954, 'Des': 8955, 'Moines': 8956, 'happened': 8957, 'USIA': 8958, 'absolute': 8959, 'disseminate': 8960, 'scholarly': 8961, 'McCormick': 8962, 'memo': 8963, 'intend': 8964, 'preclude': 8965, 'plaintiffs': 8966, 'disseminating': 8967, 'domestically': 8968, 'mentioned': 8969, 'notwithstanding': 8970, 'statutory': 8971, 'designations': 8972, 'credentials': 8973, 'appearing': 8974, 'requesting': 8975, 'examine': 8976, 'verbatim': 8977, 'determine': 8978, 'helpful': 8979, 'disagreed': 8980, 'Amendment': 8981, 'proscribes': 8982, 'abridging': 8983, \"O'Brien\": 8984, 'prescribe': 8985, 'duty': 8986, 'assure': 8987, 'scripts': 8988, 'laboriously': 8989, 'surreptitiously': 8990, 'Xerox': 8991, 'public-relations': 8992, 'sends': 8993, 'stuff': 8994, 'conclude': 8995, 'Section': 8996, '501': 8997, 'Educational': 8998, 'shall': 8999, 'thanks': 9000, 'photocopy': 9001, 'trivial': 9002, 'ought': 9003, 'answered': 9004, 'Z.': 9005, 'Wick': 9006, 'Gartner': 9007, 'Tribune': 9008, 'Ames': 9009, 'Gordon': 9010, 'McGovern': 9011, 'Dorrance': 9012, 'wield': 9013, 'reshaping': 9014, 'Herbert': 9015, 'Baum': 9016, '53-year-old': 9017, 'Edwin': 9018, 'Harper': 9019, 'dividing': 9020, 'responsibilities': 9021, 'successor': 9022, 'searching': 9023, 'food-industry': 9024, 'reacted': 9025, 'favorably': 9026, '3.375': 9027, '47.125': 9028, 'McMillin': 9029, 'Prudential-Bache': 9030, 'oriented': 9031, 'distant': 9032, 'foods': 9033, 'Freshbake': 9034, 'biscuit': 9035, 'operation': 9036, 'Lazzaroni': 9037, 'overproduction': 9038, 'skill': 9039, 'seasoned': 9040, 'rapport': 9041, 'Pepperidge': 9042, 'Farm': 9043, 'veteran': 9044, 'mediocre': 9045, 'dominated': 9046, 'heirs': 9047, 'pushed': 9048, 'profitability': 9049, '343': 9050, 'closing': 9051, 'eliminating': 9052, '3,600': 9053, 'disappointing': 9054, 'impatient': 9055, 'CEO': 9056, 'succession': 9057, 'retirement': 9058, 'agenda': 9059, 'repeatedly': 9060, 'stay': 9061, '877,663': 9062, 'pension': 9063, '244,000': 9064, 'fringe': 9065, 'nine-year': 9066, '5.7': 9067, '2.8': 9068, '274': 9069, 'advocated': 9070, 'convince': 9071, 'worthiness': 9072, 'tremendous': 9073, 'duo': 9074, 'naming': 9075, 'bottom-line': 9076, 'applaud': 9077, 'exuded': 9078, 'champions': 9079, 'sitting': 9080, 'guide': 9081, 'PRIME': 9082, 'RATE': 9083, 'FUNDS': 9084, 'overnight': 9085, 'Source': 9086, 'Fulton': 9087, 'Prebon': 9088, 'U.S.A': 9089, 'DISCOUNT': 9090, 'depository': 9091, 'CALL': 9092, 'MONEY': 9093, 'collateral': 9094, 'COMMERCIAL': 9095, 'PAPER': 9096, 'Motors': 9097, 'Acceptance': 9098, '8.55': 9099, '8.25': 9100, '89': 9101, '119': 9102, '149': 9103, '7.80': 9104, '7.55': 9105, '270': 9106, 'High-grade': 9107, 'unsecured': 9108, 'multiples': 9109, '8.65': 9110, '8.575': 9111, '8.50': 9112, 'CERTIFICATES': 9113, 'OF': 9114, 'DEPOSIT': 9115, '8.07': 9116, '8.06': 9117, '7.95': 9118, 'negotiable': 9119, 'C.D.s': 9120, 'Typical': 9121, '8.60': 9122, '8.35': 9123, 'BANKERS': 9124, 'ACCEPTANCES': 9125, '8.48': 9126, '8.30': 9127, '8.15': 9128, 'Negotiable': 9129, 'bank-backed': 9130, 'LONDON': 9131, 'LATE': 9132, 'EURODOLLARS': 9133, '13\\\\/16': 9134, '11\\\\/16': 9135, '7\\\\/16': 9136, '3\\\\/8': 9137, 'INTERBANK': 9138, 'OFFERED': 9139, 'RATES': 9140, 'LIBOR': 9141, 'quotations': 9142, 'FOREIGN': 9143, '13.50': 9144, '4.875': 9145, 'Switzerland': 9146, 'indications': 9147, 'lending': 9148, 'location': 9149, 'TREASURY': 9150, 'BILLS': 9151, 'Results': 9152, '7.78': 9153, '7.62': 9154, 'HOME': 9155, 'LOAN': 9156, 'MORTGAGE': 9157, 'CORP': 9158, 'Freddie': 9159, 'Mac': 9160, 'Posted': 9161, '9.82': 9162, 'mortgages': 9163, 'adjustable': 9164, 'Telerate': 9165, 'NATIONAL': 9166, 'ASSOCIATION': 9167, '9.75': 9168, '8.70': 9169, '6\\\\/2': 9170, 'MERRILL': 9171, 'LYNCH': 9172, 'READY': 9173, 'ASSETS': 9174, 'TRUST': 9175, '8.64': 9176, 'Annualized': 9177, 'clashed': 9178, 'S.I.': 9179, 'Newhouse': 9180, 'Advance': 9181, 'Abrupt': 9182, 'departures': 9183, 'unheard': 9184, 'empire': 9185, 'evolved': 9186, 'Si': 9187, 'Sometimes': 9188, 'gut': 9189, 'unhappy': 9190, '800': 9191, 'tenure': 9192, 'brilliantly': 9193, 'natural': 9194, 'enjoyed': 9195, 'spectacular': 9196, 'smoothly': 9197, 'succeeded': 9198, 'Bennett': 9199, 'Cerf': 9200, '1925': 9201, 'Speculation': 9202, 'Possible': 9203, 'Susan': 9204, 'Petersen': 9205, 'Ballantine\\\\/Del': 9206, 'Rey\\\\/Fawcett': 9207, 'paperback': 9208, 'Cheetham': 9209, 'Century': 9210, 'Hutchinson': 9211, 'powerhouse': 9212, 'Gottlieb': 9213, 'Alfred': 9214, 'Knopf': 9215, 'Yorker': 9216, 'most-likely-successor': 9217, 'Joni': 9218, 'Evans': 9219, 'recruited': 9220, 'Sonny': 9221, 'Mehta': 9222, 'divisions': 9223, 'full-time': 9224, 'less-than-brilliant': 9225, 'rumored': 9226, 'tall': 9227, 'respected': 9228, 'intimidate': 9229, 'uttering': 9230, 'Provided': 9231, 'pretext': 9232, 'guarding': 9233, 'purse': 9234, 'prerogatives': 9235, 'specified': 9236, 'Article': 9237, 'species': 9238, 'predicated': 9239, 'interpretation': 9240, 'clause': 9241, 'erroneous': 9242, 'unconstitutional': 9243, 'Consequence': 9244, 'Law': 9245, 'omnipresent': 9246, 'conceivable': 9247, 'withhold': 9248, 'Iran-Contra': 9249, 'understand': 9250, 'broadly': 9251, 'construed': 9252, 'emasculate': 9253, 'presidency': 9254, 'swallow': 9255, 'separation': 9256, 'powers': 9257, 'supported': 9258, 'framers': 9259, 'Constitutional': 9260, 'Convention': 9261, '1787': 9262, 'ensure': 9263, 'accountability': 9264, 'unitary': 9265, 'independence': 9266, 'perform': 9267, 'Confederation': 9268, 'Articles': 9269, 'contradict': 9270, 'technically': 9271, 'limitation': 9272, 'placing': 9273, 'leash': 9274, 'deliberating': 9275, 'breathtaking': 9276, 'rewrite': 9277, 'containing': 9278, 'alternatively': 9279, 'declaring': 9280, 'intrusions': 9281, 'violation': 9282, 'void': 9283, 'severable': 9284, 'appointments': 9285, 'nominate': 9286, 'Advice': 9287, 'Consent': 9288, 'appoint': 9289, 'ambassadors': 9290, 'empowers': 9291, 'recess': 9292, 'Power': 9293, 'Vacancies': 9294, 'Recess': 9295, 'granting': 9296, 'Commissions': 9297, 'End': 9298, 'Session': 9299, '605': 9300, 'appropriation': 9301, 'filling': 9302, 'nomination': 9303, 'Thus': 9304, 'repeals': 9305, 'imposes': 9306, 'choosing': 9307, 'rider': 9308, 'nominee': 9309, 'Anti-Deficiency': 9310, 'voluntary': 9311, 'muzzling': 9312, 'recommendation': 9313, 'Muzzling': 9314, 'blindfold': 9315, 'recommending': 9316, 'discretion': 9317, 'select': 9318, 'inquiring': 9319, 'market-oriented': 9320, 'regulations': 9321, 'Probably': 9322, 'egregious': 9323, 'proviso': 9324, 'prevents': 9325, 'Office': 9326, 'Budget': 9327, 'subjecting': 9328, 'agricultural': 9329, 'cost-benefit': 9330, 'inherently': 9331, 'prohibiting': 9332, 'wasted': 9333, 'Perhaps': 9334, 'illustrates': 9335, 'usurp': 9336, '609': 9337, 'executive-office': 9338, 'implement': 9339, 'administer': 9340, 'disapproved': 9341, '*-58': 9342, 'disapproval': 9343, 'duly': 9344, 'accordance': 9345, 'applicable': 9346, 'execution': 9347, 'one-house': 9348, 'bicameral': 9349, 'presentation': 9350, 'signature': 9351, 'INS': 9352, 'v.': 9353, 'Chadha': 9354, 'vetoes': 9355, 'kinds': 9356, 'discharge': 9357, 'invite': 9358, 'purposes': 9359, 'custom': 9360, 'undo': 9361, 'then-Speaker': 9362, 'Mikhail': 9363, 'Gorbachev': 9364, 'ratified': 9365, 'SALT': 9366, 'unworkable': 9367, 'unfunded': 9368, 'assert': 9369, 'excision': 9370, 'restricting': 9371, 'expressly': 9372, 'Excision': 9373, 'riders': 9374, 'trespass': 9375, 'prerogative': 9376, 'line-item': 9377, 'context': 9378, 'characterized': 9379, 'constitutional': 9380, 'objectionable': 9381, 'conflict': 9382, 'applicability': 9383, 'item': 9384, 'exerting': 9385, 'downside': 9386, 'asserts': 9387, 'establish': 9388, 'sue': 9389, 'vindication': 9390, 'entrusted': 9391, 'loses': 9392, 'Morrison': 9393, 'Olson': 9394, 'electorate': 9395, 'valuable': 9396, 'civics': 9397, 'presumes': 9398, 'Federalist': 9399, 'legislature': 9400, 'extending': 9401, 'impetuous': 9402, 'vortex': 9403, 'Sidak': 9404, 'analysis': 9405, 'Duke': 9406, 'droughts': 9407, '59.9': 9408, '57.7': 9409, 'farmers': 9410, 'pockets': 9411, 'deducting': 9412, 'gross': 9413, 'drought': 9414, 'crop': 9415, 'farm': 9416, 'Midwestern': 9417, 'Corn': 9418, 'northern': 9419, 'Plains': 9420, 'saved': 9421, 'reclaim': 9422, 'crops': 9423, 'mortgaged': 9424, 'price-support': 9425, 'soaring': 9426, 'reclaimed': 9427, '240-page': 9428, 'parched': 9429, 'profited': 9430, 'hardest-hit': 9431, 'Nebraska': 9432, 'Dakotas': 9433, 'attributed': 9434, 'disaster-assistance': 9435, 'confirms': 9436, 'depression': 9437, 'helps': 9438, 'reluctance': 9439, 'lobbies': 9440, 'curtailed': 9441, 'land-idling': 9442, 'price-depressing': 9443, 'surpluses': 9444, 'wheat': 9445, 'corn': 9446, 'strengthened': 9447, 'Keith': 9448, 'Collins': 9449, 'Farmers': 9450, 'livestock': 9451, 'cattle': 9452, 'inventory': 9453, 'agriculture': 9454, '6.5': 9455, '3.4': 9456, 'Minnesota': 9457, '2.7': 9458, 'log': 9459, 'disaster': 9460, 'relief': 9461, 'farms': 9462, 'cultivation': 9463, 'soybeans': 9464, 'cushioned': 9465, '14.5': 9466, '16.7': 9467, 'Payments': 9468, 'struggling': 9469, 'Herald': 9470, 'Examiner': 9471, 'Hearst': 9472, 'unsuccessful': 9473, '238,000-circulation': 9474, 'exceeding': 9475, '700,000': 9476, 'second-largest': 9477, 'one-newspaper': 9478, 'senses': 9479, 'Times': 9480, 'dominates': 9481, 'Orange': 9482, 'Register': 9483, '300,000': 9484, '170,000': 9485, 'Nearby': 9486, 'Pasadena': 9487, 'Long': 9488, 'Beach': 9489, 'dailies': 9490, 'attempted': 9491, 'McCabe': 9492, 'materialized': 9493, 'stream': 9494, 'tire-kickers': 9495, 'lookee-loos': 9496, 'prospective': 9497, 'newsstand': 9498, 'freeway': 9499, 'inevitable': 9500, 'sprawling': 9501, 'balkanized': 9502, 'mammoth': 9503, 'limbo': 9504, 'torn': 9505, 'editorially': 9506, 'old-time': 9507, 'readership': 9508, 'blue-collar': 9509, 'sports-oriented': 9510, 'sprightly': 9511, 'upscale': 9512, 'staid': 9513, 'flirted': 9514, 'tabloid': 9515, 'News-American': 9516, 'folded': 9517, 'Herald-American': 9518, 'cornerstones': 9519, 'abandoned': 9520, 'marginally': 9521, 'fanciful': 9522, 'Julia': 9523, 'castle': 9524, 'Simeon': 9525, 'Spanish': 9526, 'Renaissance-style': 9527, 'condition': 9528, 'survivor': 9529, 'bygone': 9530, 'Kendrick': 9531, 'Noble': 9532, 'Actually': 9533, 'deterioration': 9534, 'looks': 9535, '1903': 9536, 'bitter': 9537, 'decade-long': 9538, '1967': 9539, 'Financially': 9540, 'recovered': 9541, 'moments': 9542, 'Bellows': 9543, 'brightened': 9544, 'Dolan': 9545, 'restored': 9546, 'limping': 9547, 'accomplishments': 9548, 'notable': 9549, 'consistently': 9550, 'much-larger': 9551, 'disclosures': 9552, 'Bradley': 9553, 'dealings': 9554, 'coverage': 9555, 'arts': 9556, 'criticism': 9557, 'Danzig': 9558, 'Newspapers': 9559, 'newsroom': 9560, '730': 9561, 'long-tenured': 9562, 'Hours': 9563, 'representatives': 9564, 'recruiting': 9565, 'emotional': 9566, 'crying': 9567, 'L.A.': 9568, 'headline': 9569, 'beers': 9570, 'drunk': 9571, 'Andy': 9572, 'Furillo': 9573, 'preference': 9574, 'Outside': 9575, 'pressman': 9576, 'headlined': 9577, 'Closes': 9578, 'Forget': 9579, 'handed': 9580, 'Olympia': 9581, 'Broadcasting': 9582, '1.64': 9583, '23.4': 9584, 'radio-station': 9585, 'programmer': 9586, 'lenders': 9587, 'Buick': 9588, 'slogan': 9589, 'beleaguered': 9590, 'promotion': 9591, 'boosting': 9592, 'encouraging': 9593, 'four-day': 9594, 'begun': 9595, 'explaining': 9596, 'disclose': 9597, 'approached': 9598, 'doctor': 9599, 'broaden': 9600, 'Traditionally': 9601, '*-66': 9602, 'entertainment': 9603, 'Phillip': 9604, 'Riese': 9605, 'car-care': 9606, 'gasoline': 9607, 'truth-in-lending': 9608, 'GM': 9609, 'GMAC': 9610, 'billing': 9611, 'considers': 9612, 'direct-mail': 9613, 'marketers': 9614, 'maximize': 9615, 'capability': 9616, 'nameplate': 9617, 'screened': 9618, 'card-member': 9619, 'incomes': 9620, 'missed': 9621, '3.8': 9622, 'preapproved': 9623, '6.9': 9624, 'Visa': 9625, 'cards': 9626, 'tie-in': 9627, 'Express-Buick': 9628, 'establishment': 9629, 'responsible': 9630, 'accommodations': 9631, 'tickets': 9632, 'meals': 9633, 'Destinations': 9634, 'Honolulu': 9635, 'Orlando': 9636, 'buyer': 9637, 'chooses': 9638, 'fly': 9639, 'destination': 9640, 'companion': 9641, 'Airlines': 9642, 'lieu': 9643, 'prizes': 9644, 'clock': 9645, 'stereo': 9646, 'recorder': 9647, 'Card': 9648, 'sweepstakes': 9649, 'test-drive': 9650, 'calculator': 9651, 'travel-related': 9652, 'round-trip': 9653, 'Trans': 9654, 'Riviera': 9655, 'luxury': 9656, 'interest-rate': 9657, 'borough': 9658, 'cancellation': 9659, 'Borough': 9660, 'Hammersmith': 9661, 'Fulham': 9662, 'gilt': 9663, 'recovering': 9664, 'Gilts': 9665, 'retraced': 9666, '600': 9667, 'soured': 9668, 'accounted': 9669, 'sterling': 9670, 'engage': 9671, 'betting': 9672, 'obligated': 9673, 'swaps': 9674, 'Hazell': 9675, 'auditor': 9676, 'councils': 9677, 'vested': 9678, 'capital-markets': 9679, 'persuasive': 9680, 'solicitor': 9681, 'Already': 9682, 'Barclays': 9683, 'Midland': 9684, 'Citibank': 9685, 'avenues': 9686, 'illegality': 9687, 'recover': 9688, 'arrangements': 9689, 'aftermath': 9690, 'gut-wrenching': 9691, '190-point': 9692, 'Kidder': 9693, 'Peabody': 9694, '1,400': 9695, 'stockbrokers': 9696, 'letter-writing': 9697, 'quashing': 9698, 'wrath': 9699, 'minicrash': 9700, 'shaken': 9701, 'resentment': 9702, 'lightning-fast': 9703, 'baskets': 9704, 'reeling': 9705, 'reap': 9706, 'academics': 9707, 'labeled': 9708, 'evil': 9709, 'exacerbated': 9710, 'ascendency': 9711, 'Guard': 9712, 'consisting': 9713, 'wizards': 9714, 'immense': 9715, 'pools': 9716, 'fast-growing': 9717, 'Defending': 9718, 'ramparts': 9719, 'stock-picking': 9720, 'tens': 9721, 'clannish': 9722, 'successfully': 9723, 'mobilizing': 9724, 'bludgeon': 9725, 'tormentors': 9726, 'layer': 9727, 'gigantic': 9728, 'crapshoot': 9729, 'refuse': 9730, 'practitioners': 9731, 'broad-based': 9732, 'livelihood': 9733, 'Neuberger': 9734, 'Berman': 9735, 'racket': 9736, 'palace': 9737, 'revolt': 9738, 'Wohlstetter': 9739, 'Contel': 9740, 'rallying': 9741, 'anti-program': 9742, 'countless': 9743, 'universally': 9744, 'Kill': 9745, 'consistent': 9746, 'wedded': 9747, 'waited': 9748, 'sneaked': 9749, 'conceding': 9750, 'headed': 9751, 'curbed': 9752, 'casino': 9753, 'civil': 9754, 'contradictions': 9755, 'pitting': 9756, 'floors': 9757, 'Corporations': 9758, 'denounce': 9759, 'premier': 9760, 'entrenched': 9761, 'tooth': 9762, 'nail': 9763, 'basket': 9764, 'facilitate': 9765, 'Again': 9766, 'theme': 9767, 'greedy': 9768, 'manipulators': 9769, 'shambles': 9770, 'free-enterprise': 9771, 'gambling': 9772, 'den': 9773, 'odds': 9774, 'stacked': 9775, 'Off-Track': 9776, 'Betting': 9777, 'Brean': 9778, 'portray': 9779, 'old-fashioned': 9780, 'pickers': 9781, 'Neanderthals': 9782, 'witches': 9783, 'boogieman': 9784, 'Advanced': 9785, 'unknown': 9786, 'beg': 9787, 'computer-assisted': 9788, 'momentary': 9789, 'divergence': 9790, 'occurs': 9791, 'constitute': 9792, 'whichever': 9793, 'cheaper': 9794, 'seconds': 9795, 'razor-thin': 9796, 'seize': 9797, 'movements': 9798, 'profess': 9799, 'despise': 9800, 'frightened': 9801, 'lotter': 9802, 'Zicklin': 9803, 'iota': 9804, 'Vanderbilt': 9805, 'Hans': 9806, 'Stoll': 9807, 'Volatility': 9808, 'unraveling': 9809, '6.79': 9810, 'UAL': 9811, 'Unable': 9812, 'unload': 9813, 'takeover-stock': 9814, 'arbitragers': 9815, 'blue-chip': 9816, 'halted': 9817, 'Del': 9818, 'Signore': 9819, 'Travelers': 9820, 'speculator': 9821, 'arbs': 9822, 'overleveraged': 9823, 'apart': 9824, 'traditionalists': 9825, 'bundles': 9826, 'derisively': 9827, 'jockeys': 9828, 'Traditional': 9829, 'manage': 9830, 'benchmarks': 9831, 'old-style': 9832, 'juggle': 9833, 'indexers': 9834, 'pennies': 9835, 'pension-fund': 9836, 'automated': 9837, 'threatens': 9838, 'dinosaurs': 9839, 'stock-specialist': 9840, 'virtue': 9841, 'monopoly': 9842, 'knell': 9843, 'nonetheless': 9844, 'striving': 9845, 'dislike': 9846, 'printers': 9847, 'spooked': 9848, 'swings': 9849, 'Small': 9850, 'absolutely': 9851, 'dismayed': 9852, 'stacking': 9853, 'deck': 9854, 'scaring': 9855, 'Raymond': 9856, 'broker': 9857, 'Legg': 9858, 'Stockbrokers': 9859, '71,309': 9860, 'resent': 9861, 'transformed': 9862, '*-75': 9863, 'nameless': 9864, 'Index': 9865, 'complains': 9866, 'Sigler': 9867, 'Champion': 9868, 'sweatshirts': 9869, 'sparkplugs': 9870, 'Oh': 9871, 'bloods': 9872, 'Brothers': 9873, 'publicity': 9874, 'orchestrated': 9875, 'strategy': 9876, 'hunker': 9877, 'lynch-mob': 9878, 'psychology': 9879, 'cow': 9880, 'gored': 9881, 'proven': 9882, 'Too': 9883, 'fastest-growing': 9884, 'minted': 9885, 'millionaires': 9886, '20s': 9887, '30s': 9888, 'anti-programmers': 9889, 'thunder': 9890, 'Sit': 9891, 'jeopardy': 9892, 'unlikely': 9893, 'anytime': 9894, 'genie': 9895, '*-77': 9896, 'Short': 9897, 'middle-ground': 9898, 'enjoy': 9899, 'margin': 9900, 'good-faith': 9901, 'potentially': 9902, 'speculative': 9903, 'chase': 9904, 'Crash': 9905, 'protects': 9906, 'relentlessly': 9907, 'sellers': 9908, 'destroy': 9909, 'efficiency': 9910, 'Fundamentalists': 9911, 'Jihad': 9912, 'stock-price': 9913, 'band-wagon': 9914, 'picks': 9915, 'impetus': 9916, 'practiced': 9917, 'locations': 9918, 'widgets': 9919, 'widget': 9920, 'constantly': 9921, 'performing': 9922, 'Few': 9923, 'index-fund': 9924, 'leveraging': 9925, 'owning': 9926, 'cheapest': 9927, 'fundamental': 9928, 'vast': 9929, 'fundamentalist': 9930, 'contribute': 9931, 'hysteria': 9932, 'surrounding': 9933, 'opportunities': 9934, 'arise': 9935, 'cumbersome': 9936, 'desires': 9937, 'inefficiencies': 9938, 'evolve': 9939, 'creature': 9940, 'evoking': 9941, 'curses': 9942, 'implemented': 9943, 'unneeded': 9944, 'harmful': 9945, 'Reducing': 9946, 'sufficient': 9947, 'Arbitrage': 9948, 'responds': 9949, 'initiating': 9950, 'transfers': 9951, 'functioning': 9952, 'fundamentally': 9953, 'ownership': 9954, 'hypothetical': 9955, 'sacrifice': 9956, 'subtraction': 9957, 'finite': 9958, 'liquidity': 9959, 'Eliminate': 9960, 'cleaner': 9961, 'loathsome': 9962, 'tablets': 9963, 'Encouraging': 9964, 'cautious': 9965, 'labeling': 9966, 'Policies': 9967, 'akin': 9968, 'Buyers': 9969, 'please': 9970, 'ultimate': 9971, 'sufficiently': 9972, 'tolerate': 9973, 'annualized': 9974, 'deviation': 9975, 'Periods': 9976, 'advent': 9977, 'undergoing': 9978, '1973-75': 9979, '1937-40': 9980, '1928-33': 9981, 'scream': 9982, 'hailing': 9983, 'abounding': 9984, 'Could': 9985, 'deeds': 9986, 'goblins': 9987, 'fixes': 9988, 'whipping': 9989, 'boy': 9990, 'wooing': 9991, 'stock-selection': 9992, 'bringing': 9993, 'damaging': 9994, 'Getting': 9995, 'abolishing': 9996, 'merits': 9997, 'championing': 9998, 'loudest': 9999, 'cater': 10000, 'advise': 10001, 'commissions': 10002, 'amass': 10003, 'somehow': 10004, 'noble': 10005, 'expert': 10006, 'studiously': 10007, 'devouring': 10008, 'clippings': 10009, 'Almost': 10010, 'guy': 10011, 'invariably': 10012, 'spreads': 10013, 'surely': 10014, 'mutual-fund': 10015, 'sad': 10016, 'stellar': 10017, 'performers': 10018, 'grapple': 10019, '*PPA*-3': 10020, 'Cost-effective': 10021, 'sexy': 10022, 'roadblock': 10023, '*-82': 10024, 'high-volume': 10025, 'Legislating': 10026, 'Left': 10027, 'profitably': 10028, 'Spreads': 10029, 'temporary': 10030, 'watchdogs': 10031, 'friction': 10032, 'two-tiered': 10033, 'taxation': 10034, 'etc.': 10035, 'loser': 10036, 'inviting': 10037, 'transfer': 10038, 'executes': 10039, 'antitrust': 10040, 'agencies': 10041, 'affect': 10042, 'filings': 10043, 'mergers': 10044, 'Brooks': 10045, 'cuts': 10046, 'FTC': 10047, 'augment': 10048, 'Rill': 10049, 'Antitrust': 10050, 'Division': 10051, '34': 10052, 'appropriated': 10053, 'offsetting': 10054, 'Hart-Scott-Rodino': 10055, 'notify': 10056, 'completing': 10057, 'Proponents': 10058, 'Don': 10059, 'Edwards': 10060, 'stifle': 10061, 'staffs': 10062, 'drastically': 10063, 'dismal': 10064, 'inhibit': 10065, 'Though': 10066, 'acquirers': 10067, 'noticed': 10068, 'FALL': 10069, 'BALLOT': 10070, 'ISSUES': 10071, 'off-year': 10072, 'Odd-year': 10073, 'ballot': 10074, 'ratcheting': 10075, 'referenda': 10076, 'Patrick': 10077, 'McGuigan': 10078, 'Family': 10079, 'Democracy': 10080, 'citizen-sparked': 10081, 'ballots': 10082, 'odd-year': 10083, 'Ballot': 10084, 'Maine': 10085, 'initiative': 10086, 'Cruise': 10087, 'missiles': 10088, 'Dakota': 10089, 'Schmidt': 10090, 'Citizen': 10091, 'Lawmakers': 10092, 'Oklahoma': 10093, 'cue': 10094, 'backing': 10095, 'Magleby': 10096, 'Brigham': 10097, 'PHOTOGRAPH': 10098, 'COLLECTING': 10099, 'Christie': 10100, 'folio': 10101, 'prints': 10102, 'Stieglitz': 10103, 'Equivalents': 10104, '396,000': 10105, 'single-lot': 10106, 'variables': 10107, 'documented': 10108, 'anecdotal': 10109, 'Gates-Warren': 10110, 'Sotheby': 10111, 'museums': 10112, 'stability': 10113, 'Persky': 10114, 'Photograph': 10115, 'Collector': 10116, 'masters': 10117, 'Ray': 10118, 'fetching': 10119, 'Miles': 10120, 'Barth': 10121, 'Photography': 10122, 'DIALING': 10123, 'million-a-year': 10124, 'Joel': 10125, 'Gross': 10126, 'caller': 10127, 'celebrity': 10128, 'chatter': 10129, 'horoscopes': 10130, 'lines': 10131, 'Andrea': 10132, 'tutorials': 10133, 'Colleges': 10134, 'eyeing': 10135, 'break': 10136, 'merchandising': 10137, 'migrate': 10138, 'predicts': 10139, 'Lawless': 10140, 'US': 10141, 'Sprint': 10142, 'FAMILY': 10143, 'PETS': 10144, 'recovery': 10145, 'patients': 10146, 'Hospital': 10147, 'Milwaukee': 10148, 'Patients': 10149, 'canine': 10150, 'feline': 10151, 'blood': 10152, 'appetite': 10153, 'receptive': 10154, 'therapy': 10155, \"O'Loughlin\": 10156, 'coordinator': 10157, 'TIRED': 10158, 'TRIMMING': 10159, 'Hammacher': 10160, 'Schlemmer': 10161, 'fiber-optic': 10162, 'Christmas': 10163, 'string': 10164, '6,500': 10165, 'continuously': 10166, 'colored': 10167, 'fiber-end': 10168, 'bunches': 10169, 'MEDICINE': 10170, 'TRANSPLANT': 10171, 'prompts': 10172, 'Israel': 10173, 'bilingual': 10174, 'Funded': 10175, 'Tokio': 10176, 'Marine': 10177, 'Fire': 10178, 'follow': 10179, 'protocols': 10180, 'preventative': 10181, 'DIAPER': 10182, 'SERVICES': 10183, 'comeback': 10184, 'Concerned': 10185, 'shrinking': 10186, 'landfills': 10187, 'super-absorbent': 10188, 'disposables': 10189, 'cloth': 10190, 'diaper': 10191, 'Tiny': 10192, 'Tots': 10193, '1,200': 10194, 'Mogavero': 10195, 'Piscataway': 10196, 'Syracuse': 10197, 'DyDee': 10198, 'stresses': 10199, 'awareness': 10200, 'day-care': 10201, 'spurned': 10202, 'Diaper': 10203, '672': 10204, 'inquiries': 10205, 'Elisa': 10206, 'Hollis': 10207, 'shortages': 10208, 'Stork': 10209, 'Springfield': 10210, 'spurring': 10211, 'Velcro': 10212, 'fasteners': 10213, 'pins': 10214, 'BRIEFS': 10215, '57.6': 10216, 'Yorkers': 10217, 'viewership': 10218, 'Impact': 10219, 'Columbus': 10220, 'FreudToy': 10221, 'pillow': 10222, 'likeness': 10223, 'Sigmund': 10224, 'Freud': 10225, 'marketed': 10226, '24.95': 10227, 'tool': 10228, 'do-it-yourself': 10229, 'Egnuss': 10230, 'doubts': 10231, 'echoed': 10232, 'quantity': 10233, 'heading': 10234, 'blames': 10235, 'overvalued': 10236, 'junk': 10237, 'Arighi': 10238, 'interior': 10239, 'decorator': 10240, 'Arnold': 10241, 'spook': 10242, 'creates': 10243, 'deviant': 10244, 'inherent': 10245, 'curbing': 10246, 'darned': 10247, 'Schwab': 10248, 'Buckhead': 10249, 'skepticism': 10250, 'Citing': 10251, 'Anderson': 10252, '59-year-old': 10253, 'fluctuations': 10254, 'heebie-jeebies': 10255, 'outlawing': 10256, 'Wamre': 10257, '31-year-old': 10258, 'disappear': 10259, 'dealing': 10260, 'decries': 10261, 'limiting': 10262, 'strictly': 10263, 'denouncing': 10264, 'capitalism': 10265, 'adapting': 10266, 'Britta': 10267, '25-year-old': 10268, 'factoring': 10269, 'immune': 10270, 'rigors': 10271, 'Silverman': 10272, 'insurance-company': 10273, 'culprit': 10274, 'Arbitraging': 10275, 'leery': 10276, 'Enzor': 10277, 'defends': 10278, 'Taccetta': 10279, 'accountant': 10280, 'recouped': 10281, 'flim-flammery': 10282, 'weather': 10283, 'storm': 10284, 'Lucille': 10285, 'Gorman': 10286, '84-year-old': 10287, 'housewife': 10288, 'amazingly': 10289, 'jolts': 10290, 'hunted': 10291, 'bargains': 10292, 'sky': 10293, 'wholesaler': 10294, 'spirits': 10295, 'corporation': 10296, 'Underwood': 10297, 'Underwoods': 10298, 'Researchers': 10299, 'Laboratories': 10300, 'current-carrying': 10301, 'superconductor': 10302, 'crystals': 10303, 'crystal-lattice': 10304, 'superconductors': 10305, 'amps': 10306, 'centimeter': 10307, 'moderately': 10308, 'magnetic': 10309, 'yttrium-containing': 10310, 'cooled': 10311, 'liquid-nitrogen': 10312, 'temperature': 10313, '321': 10314, 'Fahrenheit': 10315, 'journal': 10316, 'Nature': 10317, 'wires': 10318, 'motors': 10319, 'magnets': 10320, 'generators': 10321, 'Scientists': 10322, 'Superconductors': 10323, 'ceramic': 10324, 'technologies': 10325, 'generation': 10326, 'aspect': 10327, 'overcome': 10328, 'cautioned': 10329, 'van': 10330, 'Dover': 10331, 'multi-crystal': 10332, 'samples': 10333, 'practical': 10334, 'crystal': 10335, 'bombarding': 10336, 'neutrons': 10337, 'radioactivity': 10338, 'feasible': 10339, 'large-scale': 10340, 'breathed': 10341, 'collective': 10342, 'sigh': 10343, 'demonstrates': 10344, 'flux': 10345, 'pinning': 10346, 'undercutting': 10347, 'Determining': 10348, 'enable': 10349, 'combine': 10350, 'melt-textured': 10351, 'processes': 10352, 'Walbrecher': 10353, 'Francisco-based': 10354, '1st': 10355, 'Nationwide': 10356, 'Citadel': 10357, 'Fidelity': 10358, 'Taylor': 10359, 'versus': 10360, '5.3': 10361, '1.61': 10362, 'write-downs': 10363, 'after-tax': 10364, '4.9': 10365, '45.75': 10366, 'offerings': 10367, 'pricings': 10368, 'non-U.S.': 10369, 'syndicate': 10370, 'Markets': 10371, '750': 10372, '99': 10373, '8.467': 10374, 'non-callable': 10375, '57': 10376, '1\\\\/8': 10377, 'bellwether': 10378, 'Rated': 10379, 'triple-A': 10380, 'Moody': 10381, 'obligation': 10382, 'distributable': 10383, '1991-2000': 10384, '2009': 10385, 'tentatively': 10386, '6.20': 10387, '7.272': 10388, '81.8': 10389, '7.20': 10390, 'Serial': 10391, '2000': 10392, 'insured': 10393, 'triple-A-rated': 10394, 'Ana': 10395, 'Community': 10396, 'Redevelopment': 10397, '107': 10398, 'allocation': 10399, 'A-D': 10400, '1991-1999': 10401, '6.40': 10402, '7.458': 10403, '7.422': 10404, '7.15': 10405, 'rated': 10406, 'single-A': 10407, 'underwriter': 10408, 'Housing': 10409, '80.8': 10410, '6.25': 10411, '7.74': 10412, '2029': 10413, '30.9': 10414, '1992-1999': 10415, '2017': 10416, 'Fourth': 10417, 'serial': 10418, '7.40': 10419, '7.45': 10420, '7.50': 10421, '49.9': 10422, '2005': 10423, 'Bonds': 10424, '7.65': 10425, 'double-A': 10426, 'rating': 10427, 'Heiwado': 10428, 'Eurobonds': 10429, 'equity-purchase': 10430, 'indicating': 10431, 'Fees': 10432, 'Svenska': 10433, 'Intecknings': 10434, 'Garanti': 10435, 'Aktiebolaget': 10436, 'Sweden': 10437, '1994': 10438, '6.03': 10439, 'Handelsbanken': 10440, 'Takashima': 10441, 'Swiss': 10442, 'francs': 10443, 'Yamaichi': 10444, '3.43': 10445, 'franc': 10446, 'Pencil': 10447, '106': 10448, '3.42': 10449, 'Koizumi': 10450, 'Sangyo': 10451, '1996': 10452, 'Dai-Ichi': 10453, 'Kangyo': 10454, 'Schweiz': 10455, 'Guarantee': 10456, 'Lurie': 10457, 'avid': 10458, 'fan': 10459, 'proposition': 10460, 'Candlestick': 10461, 'wonder': 10462, 'sink': 10463, 'digs': 10464, 'Pretty': 10465, 'afford': 10466, 'major-league': 10467, 'Something': 10468, 'stadiums': 10469, 'ranging': 10470, 'Petersburg': 10471, 'boosters': 10472, 'complexes': 10473, 'moneymakers': 10474, 'Pepperdine': 10475, 'Dean': 10476, 'Baim': 10477, 'scoffs': 10478, 'looked': 10479, 'Dodger': 10480, 'Stadium': 10481, 'Stadiums': 10482, 'redistribute': 10483, 'wealth': 10484, 'Voters': 10485, 'mega-stadium': 10486, 'ballpark': 10487, 'Phoenix': 10488, 'thumbs': 10489, 'backers': 10490, 'fielded': 10491, 'concede': 10492, 'polls': 10493, 'endorse': 10494, 'claimed': 10495, 'spaces': 10496, 'Dolphins': 10497, 'Robbie': 10498, 'disagrees': 10499, 'city-owned': 10500, 'Bowl': 10501, 'coliseum': 10502, 'Moon': 10503, 'Landrieu': 10504, 'cavernous': 10505, 'money-losing': 10506, 'Superdome': 10507, 'relevance': 10508, 'faith': 10509, 'Egyptian': 10510, 'Pharaoh': 10511, 'justified': 10512, 'civilization': 10513, 'schemes': 10514, 'pharaohs': 10515, 'erect': 10516, 'playgrounds': 10517, 'passions': 10518, 'Reed': 10519, '89.7': 10520, '141.9': 10521, 'pence': 10522, '94.8': 10523, '149.9': 10524, '118': 10525, '130.6': 10526, 'discontinued': 10527, 'Pretax': 10528, '3.7': 10529, '128': 10530, '133': 10531, '135': 10532, '388': 10533, '4.6': 10534, '722': 10535, 'Earnings': 10536, 'disposal': 10537, 'Risks': 10538, 'erodes': 10539, 'downgrading': 10540, 'CS': 10541, 'downgrade': 10542, 'shivers': 10543, 'shudders': 10544, 'maintain': 10545, 'issuers': 10546, 'IOUs': 10547, 'warned': 10548, 'borrowings': 10549, 'Mahoney': 10550, 'Drexel': 10551, 'Burnham': 10552, 'Lambert': 10553, 'difficulty': 10554, 'shoring': 10555, 'credit-rating': 10556, 'financings': 10557, 'Whereas': 10558, 'structured': 10559, 'penchant': 10560, 'stretch': 10561, 'disarray': 10562, 'longer-term': 10563, 'delays': 10564, 'Bowman': 10565, 'downgraded': 10566, 'Catch-22': 10567, 'Merchant': 10568, 'riskier': 10569, 'collapse': 10570, 'acquires': 10571, 'expectation': 10572, 'generated': 10573, 'overcapacity': 10574, 'managements': 10575, 'reliance': 10576, 'squeeze': 10577, 'Campeau': 10578, 'proving': 10579, 'arranged': 10580, 'high-risk': 10581, 'Mattress': 10582, 'bedding': 10583, 'Total': 10584, 'Suisse': 10585, 'participant': 10586, 'rebounding': 10587, 'overstated': 10588, '1.7': 10589, 'goodwill': 10590, 'competes': 10591, 'disadvantage': 10592, 'rivals': 10593, 'toll': 10594, 'settlements': 10595, 'plea': 10596, 'felonies': 10597, 'insider-trading': 10598, 'scandal': 10599, 'workforce': 10600, 'Recently': 10601, 'circulated': 10602, 'moreover': 10603, 'confident': 10604, 'creditworthiness': 10605, 'uncertainties': 10606, 'vicissitudes': 10607, 'Veraldi': 10608, 'Taurus': 10609, 'Mercury': 10610, 'Sable': 10611, 'experiencing': 10612, 'creator': 10613, 'car-development': 10614, 'midsized': 10615, 'instrumental': 10616, 'eclipse': 10617, 'top-selling': 10618, 'Team': 10619, 'involvement': 10620, 'assembly-line': 10621, 'cycle': 10622, 'bureaucracy': 10623, 'responsive': 10624, 'demands': 10625, 'new-car': 10626, 'Cougar': 10627, 'American-made': 10628, 'parts-engineering': 10629, 'absurdity': 10630, 'stretched': 10631, 'notch': 10632, 'defendants': 10633, 'compassion': 10634, 'Solomonic': 10635, 'stark': 10636, 'policy-making': 10637, 'innovation': 10638, 'compelling': 10639, '1940s': 10640, 'synthetic': 10641, 'hormone': 10642, 'diethylstilbestrol': 10643, 'DES': 10644, 'miscarriages': 10645, 'sickness': 10646, 'Food': 10647, 'Drug': 10648, 'generic': 10649, 'labels': 10650, 'daughters': 10651, 'mothers': 10652, 'thousand': 10653, 'recall': 10654, 'brand': 10655, 'Beginning': 10656, '1980': 10657, 'common-law': 10658, 'liable': 10659, 'Courts': 10660, 'pills': 10661, 'assessed': 10662, 'proportion': 10663, 'duck': 10664, 'liability': 10665, 'identical': 10666, 'slippery': 10667, 'slope': 10668, 'alike': 10669, 'differently': 10670, 'warranties': 10671, 'Hymowitz': 10672, 'Lilly': 10673, 'Mindy': 10674, 'pill': 10675, 'Van': 10676, 'Alstyne': 10677, 'reasoning': 10678, 'apple': 10679, 'apples': 10680, 'uncompensated': 10681, 'takings': 10682, 'guarantee': 10683, 'twisting': 10684, 'doctrine': 10685, 'reversed': 10686, 'justices': 10687, 'chilled': 10688, 'prescription': 10689, 'hidden': 10690, 'favors': 10691, 'beneficial': 10692, 'accompany': 10693, 'pain': 10694, 'unanimous': 10695, 'anti-morning-sickness': 10696, 'Bendectin': 10697, 'Huber': 10698, 'introduces': 10699, 'anti-miscarriage': 10700, 'tort': 10701, 'lousy': 10702, 'anyway': 10703, 'contingency-fee': 10704, 'vaccines': 10705, 'predictably': 10706, 'Everyone': 10707, 'understands': 10708, 'utterly': 10709, 'incapable': 10710, 'deserving': 10711, 'billion-dollar': 10712, 'morass': 10713, 'trash': 10714, 'Odyssey': 10715, 'Limited': 10716, 'Partnership': 10717, 'Caldor': 10718, 'Norwalk': 10719, 'N.V': 10720, 'DSM': 10721, '235': 10722, 'guilders': 10723, '113.2': 10724, '6.70': 10725, '144': 10726, '4.10': 10727, 'outlay': 10728, '2.46': 10729, '2.42': 10730, 'Allergan': 10731, 'PhacoFlex': 10732, 'intraocular': 10733, 'lens': 10734, 'foldable': 10735, 'silicone': 10736, 'cataract': 10737, 'surgery': 10738, 'len': 10739, 'foldability': 10740, 'inserted': 10741, 'incisions': 10742, 'Cataracts': 10743, 'refer': 10744, 'clouding': 10745, 'EC': 10746, 'Ackerman': 10747, 'harmed': 10748, 'El': 10749, 'Salvador': 10750, 'intentioned': 10751, 'habit': 10752, 'wrecking': 10753, 'incentives': 10754, 'smothering': 10755, 'unfocused': 10756, 'kindness': 10757, 'Elco': 10758, 'estimate': 10759, '1.65': 10760, '7.8': 10761, '1.125': 10762, '13.625': 10763, 'Oshkosh': 10764, 'Truck': 10765, 'Wis.': 10766, '4.5': 10767, 'truck': 10768, '1.92': 10769, '352.9': 10770, 'start-up': 10771, 'chassis': 10772, 'softer': 10773, 'motor-home': 10774, 'Deere': 10775, 'anticipation': 10776, 'larger-than-normal': 10777, 'edged': 10778, 'Nikkei': 10779, 'selected': 10780, '132': 10781, '14.99': 10782, '35564.43': 10783, '63.79': 10784, '35500.64': 10785, '909': 10786, 'Declining': 10787, 'outnumbered': 10788, '454': 10789, '451': 10790, 'incentive-backed': 10791, 'rumors': 10792, 'untrue': 10793, 'ample': 10794, 'directionless': 10795, 'Institutions': 10796, 'sidelines': 10797, 'Topix': 10798, '16.05': 10799, '1.46': 10800, '0.05': 10801, '2691.19': 10802, '6.84': 10803, '5.92': 10804, '0.16': 10805, '3648.82': 10806, 'Volume': 10807, 'Nomura': 10808, '8.5': 10809, 'clearer': 10810, 'comfortably': 10811, 'participate': 10812, 'Tokyu': 10813, 'profit-taking': 10814, 'dominant': 10815, 'Yasuda': 10816, '56': 10817, '1,880': 10818, '13.15': 10819, 'continuingly': 10820, 'directed': 10821, 'mining': 10822, 'defensive': 10823, 'Teikoku': 10824, 'stimulated': 10825, '1,460': 10826, 'Showa': 10827, 'Shell': 10828, '1,570': 10829, 'Sumitomo': 10830, 'Metal': 10831, '692': 10832, 'Nippon': 10833, '960': 10834, 'winners': 10835, 'Shokubai': 10836, '2,410': 10837, 'Marubeni': 10838, '890': 10839, 'bolstered': 10840, 'affecting': 10841, '17.5': 10842, '2160.1': 10843, 'intraday': 10844, '2141.7': 10845, '2163.2': 10846, 'tempted': 10847, 'overdone': 10848, 'reversal': 10849, 'FT': 10850, '30-share': 10851, '1738.1': 10852, '372.9': 10853, '334.5': 10854, 'hugging': 10855, 'indication': 10856, '879': 10857, '13.90': 10858, 'shed': 10859, 'waive': 10860, 'protective': 10861, 'golden': 10862, 'waiver': 10863, 'B.A.T': 10864, 'Goldsmith': 10865, 'Hoylake': 10866, 'Investments': 10867, '753': 10868, 'sweeten': 10869, 'highs': 10870, '397': 10871, 'Stocks': 10872, 'market-makers': 10873, 'shopping': 10874, 'Carlton': 10875, '778': 10876, 'notched': 10877, 'searched': 10878, 'qualities': 10879, 'Wellcome': 10880, '666': 10881, 'Glaxo': 10882, '14.13': 10883, 'Amsterdam': 10884, 'Frankfurt': 10885, 'Zurich': 10886, 'Paris': 10887, 'Brussels': 10888, 'Milan': 10889, 'holiday': 10890, 'Elsewhere': 10891, 'Wellington': 10892, 'Sydney': 10893, 'Manila': 10894, 'calculated': 10895, 'Perspective': 10896, 'Geneva': 10897, '1969': 10898, 'equaling': 10899, 'Intermec': 10900, '1,050,000': 10901, 'Piper': 10902, 'Jaffray': 10903, 'Hopwood': 10904, 'Middlesex': 10905, 'Water': 10906, '150,000': 10907, 'Walker': 10908, 'Howard': 10909, 'Weil': 10910, 'Labouisse': 10911, 'Friedrichs': 10912, 'Midwesco': 10913, 'Filter': 10914, '830,000': 10915, 'Nylev': 10916, 'Municipal': 10917, 'Occidental': 10918, 'shelf': 10919, 'Inns': 10920, 'zero': 10921, 'Montgomery': 10922, 'Fracturing': 10923, 'Lovett': 10924, 'Mitchell': 10925, 'Webb': 10926, 'Garrison': 10927, 'Blunt': 10928, 'Ellis': 10929, 'Loewi': 10930, 'Gas': 10931, '3,250,000': 10932, '3,040,000': 10933, '210,000': 10934, 'Funding': 10935, 'Hanifen': 10936, 'Imhoff': 10937, 'Hold': 10938, 'Putty': 10939, 'lipsticks': 10940, 'liners': 10941, 'lotions': 10942, 'creams': 10943, 'tackle': 10944, 'paint': 10945, 'spackle': 10946, \"D'Amico\": 10947, 'Diceon': 10948, 'Chatsworth': 10949, 'charging': 10950, 'Irvine': 10951, 'Calif.-based': 10952, 'circuit-board': 10953, 'disposed': 10954, 'acid': 10955, 'caustic': 10956, 'sewer': 10957, 'leaky': 10958, 'unlabeled': 10959, 'open-top': 10960, 'containers': 10961, 'Named': 10962, 'Roland': 10963, 'Matthews': 10964, 'Jonas': 10965, 'hearings': 10966, 'inspection': 10967, 'Arraignments': 10968, 'Consumer': 10969, 'stayed': 10970, 'unsettling': 10971, 'Fabian': 10972, 'Linden': 10973, 'Conference': 10974, 'Survey': 10975, 'industry-supported': 10976, 'Confidence': 10977, '116.4': 10978, 'barely': 10979, 'revised': 10980, '116.3': 10981, '116.9': 10982, '112.9': 10983, '120.7': 10984, 'present': 10985, '19.6': 10986, '18.3': 10987, 'worsen': 10988, 'Fewer': 10989, '21.1': 10990, '16.9': 10991, '17.4': 10992, '18.6': 10993, '26.8': 10994, '28.5': 10995, 'day-to-day': 10996, 'Unemployment': 10997, 'paycheck': 10998, 'reasonably': 10999, 'households': 11000, 'conducted': 11001, 'Opinion': 11002, 'Toledo': 11003, 'Buying': 11004, '6.7': 11005, 'respondents': 11006, '8.1': 11007, '2.9': 11008, '30.6': 11009, '27.4': 11010, '26.5': 11011, 'deluge': 11012, 'abuzz': 11013, 'Kathleen': 11014, 'Camilli': 11015, 'fixed-income': 11016, 'investment-grade': 11017, 'rare': 11018, 'Ednie': 11019, 'ranked': 11020, 'infrequent': 11021, 'Syndicate': 11022, 'scant': 11023, 'Whether': 11024, 'Lieberman': 11025, 'Hanover': 11026, 'blurred': 11027, 'Open': 11028, '14.': 11029, 'varied': 11030, 'industries': 11031, 'diverse': 11032, 'enhances': 11033, 'importance': 11034, 'tomorrow': 11035, 'non-farm': 11036, '152,000': 11037, 'unemployment': 11038, '29year': 11039, 'nine-month': 11040, '102': 11041, '22\\\\/32': 11042, '12\\\\/32': 11043, '16\\\\/32': 11044, 'three-month': 11045, '7.79': 11046, '7.52': 11047, '7.60': 11048, 'Issues': 11049, 'debenture': 11050, 'compilation': 11051, 'compare': 11052, 'topped': 11053, '16.5': 11054, 'Junk': 11055, '7.2': 11056, 'risk-free': 11057, 'outdistanced': 11058, 'Lonski': 11059, 'wanting': 11060, '4.2': 11061, 'Mortgage-Backed': 11062, 'Ginnie': 11063, '2\\\\/32': 11064, '9.32': 11065, '12-year': 11066, 'Activity': 11067, 'derivative': 11068, '114': 11069, 'Facilities': 11070, 'Financing': 11071, 'Authority': 11072, 'relaunched': 11073, '107.03': 11074, 'repriced': 11075, 'Bucking': 11076, 'drew': 11077, 'unenthusiastic': 11078, 'Rumors': 11079, 'Bund': 11080, '111': 11081, '1998': 11082, '95.09': 11083, '5.435': 11084, '2003\\\\/2007': 11085, '14\\\\/32': 11086, '10.19': 11087, '1995': 11088, '9\\\\/32': 11089, '103': 11090, '11.10': 11091, 'double-C': 11092, 'triple-C': 11093, 'clothing': 11094, 'expense': 11095, 'exceeds': 11096, 'Hurricane': 11097, 'Hugo': 11098, '94.2': 11099, '83': 11100, 'earthquake': 11101, 'fourth-quarter': 11102, 'pre-tax': 11103, 'property\\\\/casualty': 11104, '306': 11105, '415': 11106, 'underperforming': 11107, 'Michelin': 11108, 'Tyre': 11109, 'Monopolies': 11110, 'Mergers': 11111, 'tires': 11112, 'BTR': 11113, '221.4': 11114, 'S.A': 11115, 'referral': 11116, '420': 11117, 'clean-air': 11118, 'unveil': 11119, 'centerpiece': 11120, 'rain': 11121, 'lobbyists': 11122, 'weaker': 11123, 'emissions': 11124, 'utilities': 11125, 'chaos': 11126, 'single-handed': 11127, 'seven-million-ton': 11128, 'sulfur-dioxide': 11129, 'cap': 11130, 'hailed': 11131, 'despised': 11132, 'innovative': 11133, 'market-based': 11134, 'polluters': 11135, 'cost-sharing': 11136, 'subsidize': 11137, 'clean-up': 11138, 'dirtiest': 11139, 'coal-fired': 11140, 'sparing': 11141, 'exorbitant': 11142, 'jumps': 11143, 'sticking': 11144, 'vow': 11145, 'avoiding': 11146, 'staunchly': 11147, 'acid-rain': 11148, 'appease': 11149, 'high-polluting': 11150, 'cleanup': 11151, 'burn': 11152, 'cleaner-burning': 11153, 'fuels': 11154, 'quietly': 11155, 'devise': 11156, 'tinker': 11157, 'Journals': 11158, 'Russell': 11159, 'resign': 11160, 'relocate': 11161, 'co-founded': 11162, 'Mo.-based': 11163, 'Shaw': 11164, 'E.W.': 11165, 'Scripps': 11166, 'nickname': 11167, 'coordinate': 11168, 'deliberately': 11169, 'disconnect': 11170, 'heightened': 11171, 'routes': 11172, 'scans': 11173, 'resumes': 11174, 'falls': 11175, 'DOT': 11176, 'Designated': 11177, 'Order': 11178, 'Turnaround': 11179, 'high-speed': 11180, 'processing': 11181, 'SuperDot': 11182, 'Used': 11183, 'zip': 11184, 'handles': 11185, 'Contracts': 11186, 'Obligations': 11187, 'instrument': 11188, 'agreed-upon': 11189, 'nullified': 11190, 'opposite': 11191, 'Indexing': 11192, 'mix': 11193, 'barometer': 11194, 'swapping': 11195, 'simultaneous': 11196, 'Quant': 11197, 'Generally': 11198, 'quantitive': 11199, 'newest': 11200, 'breed': 11201, 'rocket': 11202, 'backgrounds': 11203, 'hedging': 11204, 'popularly': 11205, 'Stock-index': 11206, 'Traders': 11207, 'fleeting': 11208, 'arbitrager': 11209, 'multiplying': 11210, '20-stock': 11211, 'mimics': 11212, 'chicago': 11213, 'certin': 11214, 'indexes': 11215, 'Uptick': 11216, 'expression': 11217, 'signifying': 11218, 'financier': 11219, 'Saul': 11220, 'Steinberg': 11221, 'doubted': 11222, 'Reliance': 11223, 'labor-management': 11224, 'clearance': 11225, 'Takeover': 11226, 'puzzled': 11227, 'definitely': 11228, 'Wolf': 11229, 'Airways': 11230, '300-a-share': 11231, '110': 11232, '4.7': 11233, '282': 11234, 'formally': 11235, 'twist': 11236, 'Coniston': 11237, '177': 11238, '1.50': 11239, 'notified': 11240, 'skeptical': 11241, 'tapping': 11242, 'Tiger': 11243, 'acquirer': 11244, 'accord': 11245, 'pilots': 11246, 'machinists': 11247, 'A.L.': 11248, 'Primerica': 11249, 'cleared': 11250, '472': 11251, 'financial-services': 11252, '0.82': 11253, 'delisted': 11254, '23.25': 11255, '28.25': 11256, 'Duluth': 11257, 'liabilities': 11258, 'Intelogic': 11259, 'Trace': 11260, 'unaffiliated': 11261, '3.625': 11262, 'Asher': 11263, 'Edelman': 11264, '16.2': 11265, 'computer-services': 11266, 'oust': 11267, 'Datapoint': 11268, 'explore': 11269, '2.75': 11270, 'specify': 11271, 'above-market': 11272, '18-a-share': 11273, 'p.m.': 11274, 'EST': 11275, '576': 11276, '95': 11277, '24,000': 11278, 'tendered': 11279, '19.50': 11280, 'Barron': 11281, 'printing-press': 11282, 'Beall': 11283, 'first-half': 11284, 'trail': 11285, 'heavy-truck': 11286, 'passenger-car': 11287, '630.9': 11288, '126.1': 11289, '132.9': 11290, 'prior-year': 11291, 'adjustment': 11292, 'B-1B': 11293, 'bomber': 11294, 'sewing-machine': 11295, '185.9': 11296, '3.28': 11297, '3.16': 11298, 'Overall': 11299, '107.9': 11300, '96.4': 11301, 'emerged': 11302, 'muscling': 11303, 'graphics': 11304, 'singled': 11305, '79': 11306, '42.1': 11307, 'Colorliner': 11308, 'newspaper-printing': 11309, 'Aerospace': 11310, 'sagged': 11311, 'bombers': 11312, 'resumption': 11313, 'shuttle': 11314, 'expendable': 11315, 'launch-vehicle': 11316, 'engines': 11317, 'hits': 11318, 'fixed-price': 11319, 'weapons-modernization': 11320, 'C-130': 11321, '734.9': 11322, '811.9': 11323, '3.04': 11324, '2.47': 11325, '7.4': 11326, '2.30': 11327, '12.52': 11328, '11.95': 11329, 'Austin': 11330, 'Texas-based': 11331, '210': 11332, '512': 11333, 'kilobytes': 11334, '40-megabyte': 11335, 'monitor': 11336, '2,099': 11337, 'more-advanced': 11338, 'Intel': 11339, '386': 11340, 'microprocessor': 11341, 'megabytes': 11342, '100-megabyte': 11343, '5,699': 11344, '6,799': 11345, 'Personal': 11346, '286': 11347, 'microprocessors': 11348, 'grower': 11349, 'exporter': 11350, 'ship': 11351, 'Prices': 11352, 'rumor': 11353, 'Brazilian': 11354, 'life-of-contract': 11355, '14.54': 11356, '14.28': 11357, '14.53': 11358, '0.56': 11359, 'restraints': 11360, '0.54': 11361, '14.26': 11362, 'permissible': 11363, '0.50': 11364, '14.00': 11365, 'near-limit': 11366, '1989-90': 11367, '1990-91': 11368, 'automobile': 11369, 'Stevenson': 11370, 'regardless': 11371, 'third-largest': 11372, 'fifth-largest': 11373, 'shift': 11374, 'drastic': 11375, '1988-89': 11376, '645,000': 11377, 'Judith': 11378, 'Ganes': 11379, 'granted': 11380, 'licenses': 11381, 'planting': 11382, 'orange': 11383, 'trees': 11384, 'cane': 11385, 'Oxnard': 11386, 'Hackensack': 11387, 'am': 11388, 'curtail': 11389, 'Above': 11390, 'confirm': 11391, 'atmosphere': 11392, 'ethanol': 11393, 'fleet': 11394, 'importer': 11395, 'ENERGY': 11396, '1.25': 11397, '60.36': 11398, 'gallon': 11399, 'Gasoline': 11400, 'Intermediate': 11401, '20.07': 11402, 'firmness': 11403, 'colder': 11404, 'GRAINS': 11405, 'AND': 11406, 'SOYBEANS': 11407, 'muted': 11408, 'observance': 11409, 'Saints': 11410, 'Day': 11411, 'Continued': 11412, 'buys': 11413, 'grains': 11414, 'verge': 11415, 'designation': 11416, 'generous': 11417, '310': 11418, 'bushels': 11419, 'COPPER': 11420, '1.1650': 11421, 'ignored': 11422, 'Chilean': 11423, 'mine': 11424, 'Disputado': 11425, 'mines': 11426, 'Reuter': 11427, 'Papua-New': 11428, 'emergency': 11429, 'copper-rich': 11430, 'Bougainville': 11431, 'copper': 11432, 'inoperative': 11433, 'native': 11434, 'landowners': 11435, 'secede': 11436, 'Younkers': 11437, 'Equitable': 11438, 'Cos.': 11439, '36-store': 11440, 'fair': 11441, 'rang': 11442, '313': 11443, 'Hubbell': 11444, 'Tony': 11445, 'Lama': 11446, 'Equus': 11447, '13.65': 11448, 'all-cash': 11449, 'liquidation': 11450, 'Paso': 11451, 'boots': 11452, 'leather': 11453, 'accrue': 11454, 'Reuters': 11455, 'Reupke': 11456, 'unspecified': 11457, 'termed': 11458, 'amicable': 11459, '27-year': 11460, 'information-services': 11461, 'several-year': 11462, 'stemmed': 11463, 'directorship': 11464, 'eight-person': 11465, 'Shepperd': 11466, 'UBS': 11467, 'Drew': 11468, 'irrelevant': 11469, '913': 11470, '14.43': 11471, '43.875': 11472, 'Nigel': 11473, 'Judah': 11474, 'Holland': 11475, 'Mannix': 11476, 'DD': 11477, 'partnership': 11478, 'Unicorp': 11479, 'Kingsbridge': 11480, 'Cara': 11481, '45-a-share': 11482, \"Dunkin'\": 11483, 'Donuts': 11484, '50.1': 11485, 'diluted': 11486, 'poison': 11487, 'Delaware': 11488, 'Dunkin': 11489, 'deter': 11490, '38.5': 11491, 'receipt': 11492, 'Savin': 11493, '35.2': 11494, 'Conn.based': 11495, 'magnified': 11496, 'nonrecurring': 11497, '8.2': 11498, 'asset-valuation': 11499, 'adjustments': 11500, '85.7': 11501, '93.3': 11502, 'softening': 11503, 'Hadson': 11504, 'natural-gas': 11505, 'reserve': 11506, 'reimbursed': 11507, 'write': 11508, 'exploration': 11509, 'amortization': 11510, '169.9': 11511, 'blue-chips': 11512, 'brunt': 11513, '41.60': 11514, '500-Stock': 11515, '0.84': 11516, '341.20': 11517, 'Equity': 11518, '0.99': 11519, '319.75': 11520, 'Composite': 11521, '0.60': 11522, '188.84': 11523, 'Advancing': 11524, 'decliners': 11525, '154,240,000': 11526, '176.1': 11527, 'subdued': 11528, 'somewhat': 11529, 'arrive': 11530, 'firmed': 11531, 'faltered': 11532, 'pains': 11533, 'Philip': 11534, 'Puccio': 11535, 'Uncertainty': 11536, 'Arbitrage-related': 11537, 'awaits': 11538, 'reluctant': 11539, 'stick': 11540, 'necks': 11541, 'Eakle': 11542, 'revival': 11543, 'Woolworth': 11544, 'Avon': 11545, 'Products': 11546, 'Paramount': 11547, 'Ferro': 11548, 'Upjohn': 11549, 'early-retirement': 11550, 'AMR': 11551, 'developer': 11552, 'Trump': 11553, 'mount': 11554, 'withdrew': 11555, '120-a-share': 11556, 'Derchin': 11557, '5.1': 11558, 'Mead': 11559, '39': 11560, 'Paper': 11561, 'Louisiana-Pacific': 11562, 'Texaco': 11563, '5.6': 11564, 'ex-dividend': 11565, 'Fe': 11566, 'GenCorp': 11567, 'Value': 11568, '1.56': 11569, '372.14': 11570, '11,390,000': 11571, 'Spaghetti': 11572, 'Warehouse': 11573, 'Freeport-McMoRan': 11574, 'convert': 11575, 'adverse': 11576, 'otherwise': 11577, 'Orleans-based': 11578, 'yet-to-be-formed': 11579, 'entity': 11580, 'liquidated': 11581, 'distributed': 11582, 'unitholders': 11583, 'Unitholders': 11584, 'cents-a-unit': 11585, '108': 11586, 'Nissan': 11587, '88.32': 11588, '618.1': 11589, '77.6': 11590, 'backdrop': 11591, 'continuous': 11592, '40.21': 11593, '16.09': 11594, '28.36': 11595, '11.72': 11596, '1.916': 11597, '1.637': 11598, 'seven-yen': 11599, 'Atsushi': 11600, 'Muramatsu': 11601, 'experienced': 11602, 'remarkable': 11603, 'difficulties': 11604, 'firmly': 11605, 'Depending': 11606, '2.35': 11607, '14.75': 11608, '1.76': 11609, 'in-store': 11610, 'customized': 11611, 'simulates': 11612, 'accident': 11613, 'unexpected': 11614, 'Fairlawn': 11615, 'Ohio-based': 11616, 'full-year': 11617, '148': 11618, '2.19': 11619, 'Harry': 11620, 'Millis': 11621, 'McDonald': 11622, 'unanticipated': 11623, 'government-owned': 11624, 'assembly': 11625, 'subcontractor': 11626, 'cluster': 11627, 'bombs': 11628, 'Aerojet': 11629, 'Ordnance': 11630, 'Transamerica': 11631, '93.9': 11632, '1.19': 11633, '92.9': 11634, '1.18': 11635, '6.4': 11636, 'RMS': 11637, 'Hasbrouk': 11638, 'waivers': 11639, 'distributes': 11640, 'produces': 11641, 'literature': 11642, 'displays': 11643, '158,666': 11644, '26,956': 11645, '608,413': 11646, '967,809': 11647, '8.9': 11648, 'Meridian': 11649, '750,000': 11650, '1.35': 11651, 'multinational': 11652, 'Haden': 11653, 'MacLellan': 11654, 'Surrey': 11655, 'Feniger': 11656, 'acquisition-minded': 11657, 'jeweler': 11658, 'Seattle-based': 11659, '62.1': 11660, 'outbid': 11661, 'Ratner': 11662, 'mid-afternoon': 11663, '1.26': 11664, '260': 11665, 'acceptances': 11666, '87-store': 11667, 'derived': 11668, 'Carnival': 11669, 'Lines': 11670, 'cruise': 11671, 'Finland': 11672, 'averted': 11673, 'Miami-based': 11674, 'Waertsilae': 11675, 'Finnish': 11676, 'shipyard': 11677, 'shipbuilding': 11678, 'Fantasy': 11679, '2,050-passenger': 11680, 'slated': 11681, 'delivered': 11682, '12.09': 11683, 'Nuys': 11684, '132,000': 11685, 'write-off': 11686, 'capitalized': 11687, 'realestate': 11688, '6.6': 11689, '361.8': 11690, 'Peoria': 11691, 'adopt': 11692, 'Kalamazoo': 11693, 'Mich.-based': 11694, 'severance': 11695, 'staying': 11696, 'Coleco': 11697, 'high-flying': 11698, 'toy': 11699, 'peaked': 11700, '430': 11701, '92': 11702, 'reorganized': 11703, 'Ranger': 11704, '225,000': 11705, 'unveiled': 11706, 'Adam': 11707, 'plagued': 11708, 'glitches': 11709, 'fortunes': 11710, 'bounced': 11711, 'Cabbage': 11712, 'Patch': 11713, 'dolls': 11714, 'winner': 11715, 'bankruptcy-law': 11716, 'ORTEGA': 11717, 'ENDED': 11718, 'Contras': 11719, 'Nicaraguan': 11720, 'U.S.-backed': 11721, 'rebels': 11722, '19-month-old': 11723, 'cease-fire': 11724, 'reaffirmed': 11725, 'Ortega': 11726, 'thwart': 11727, 'balloting': 11728, 'demobilize': 11729, 'deplorable': 11730, 'brushed': 11731, 'renewing': 11732, 'insurgents': 11733, 'Contra': 11734, 'Honduras': 11735, 'Sandinista': 11736, 'troops': 11737, 'offensive': 11738, 'rebel': 11739, 'Krenz': 11740, 'freedoms': 11741, 'socialism': 11742, 'Communist': 11743, 'Party': 11744, 'Thousands': 11745, 'fled': 11746, 'Berlin': 11747, 'cross-border': 11748, 'massive': 11749, 'exodus': 11750, 'emigres': 11751, 'discussion': 11752, 'conferees': 11753, 'Africa': 11754, 'armed': 11755, 'Namibian': 11756, 'nationalist': 11757, 'guerrillas': 11758, 'neighboring': 11759, 'Angola': 11760, 'violating': 11761, 'U.N.-supervised': 11762, 'peace': 11763, 'territory': 11764, 'Pretoria': 11765, 'alert': 11766, 'Guerrilla': 11767, 'sabotage': 11768, 'Namibia': 11769, 'Gunmen': 11770, 'Lebanon': 11771, 'assassinated': 11772, 'Arabian': 11773, 'pro-Iranian': 11774, 'Islamic': 11775, 'slaying': 11776, 'avenge': 11777, 'beheading': 11778, 'terrorists': 11779, 'Riyadh': 11780, 'Beirut': 11781, 'Moslem': 11782, 'implements': 11783, 'rulers': 11784, 'Salinas': 11785, 'pledged': 11786, 'modernization': 11787, 'impeding': 11788, 'Pakistan': 11789, 'Bhutto': 11790, 'defeated': 11791, 'no-confidence': 11792, '42-year': 11793, '11-month-old': 11794, 'votes': 11795, 'Islamabad': 11796, '237-seat': 11797, 'rigged': 11798, 'shipboard': 11799, 'Malta': 11800, '2-3': 11801, 'tete-a-tete': 11802, 'trafficking': 11803, 'Andean': 11804, 'coffee': 11805, 'Pan': 11806, 'Am': 11807, 'subpoenaed': 11808, 'CIA': 11809, 'FBI': 11810, 'bomb': 11811, 'planted': 11812, 'aboard': 11813, 'exploded': 11814, 'Scotland': 11815, 'Died': 11816, 'Attwood': 11817, 'Mutual': 11818, 'acute': 11819, 'anemic': 11820, 'tendering': 11821, '99.3': 11822, 'studio': 11823, '3.55': 11824, '1.4': 11825, 'unresolved': 11826, 'Jon': 11827, 'Peters': 11828, 'Guber': 11829, 'Guber\\\\/Peters': 11830, 'Crum': 11831, 'Forster': 11832, 'laying': 11833, 'centralized': 11834, 'cost-cutting': 11835, 'comparison': 11836, '492': 11837, '4.55': 11838, '12.97': 11839, 'Property\\\\/casualty': 11840, 'disasters': 11841, 'Komatsu': 11842, 'unconsolidated': 11843, 'Sept.30': 11844, '16.68': 11845, '116.7': 11846, '12.68': 11847, '292.32': 11848, '263.07': 11849, '7.63': 11850, '5.82': 11851, 'Per-share': 11852, '7.84': 11853, '6.53': 11854, 'Brisk': 11855, 'Domestic': 11856, 'bulldozers': 11857, '142.84': 11858, '126.15': 11859, 'Demand': 11860, 'climb': 11861, '566.54': 11862, '28.53': 11863, '12.82': 11864, 'ECONOMIC': 11865, 'GROWTH': 11866, 'APPEARS': 11867, 'outlays': 11868, 'shrank': 11869, 'apparent': 11870, 'drops': 11871, 'crises': 11872, '55-a-share': 11873, 'minimum-wage': 11874, 'resigning': 11875, 'depends': 11876, 'Light': 11877, '1206.26': 11878, '220.45': 11879, '3436.58': 11880, 'Commodities': 11881, '129.91': 11882, '0.28': 11883, '131.01': 11884, '1.17': 11885, '0.95': 11886, '0.0085': 11887, 'Junk-bond': 11888, 'markdowns': 11889, 'fizzled': 11890, 'pall': 11891, 'high-rolling': 11892, '43-year-old': 11893, 'Spiegel': 11894, '12.7': 11895, 'Bears': 11896, 'shaky': 11897, 'flies': 11898, 'planes': 11899, 'reaching': 11900, 'salable': 11901, '458': 11902, 'cushion': 11903, 'Carl': 11904, 'Lindner': 11905, 'Irwin': 11906, 'Jacobs': 11907, 'latter': 11908, 'mulling': 11909, 'mitigate': 11910, 'distinct': 11911, 'reserved': 11912, '227': 11913, 'till': 11914, 'issuer': 11915, 'bust': 11916, 'restructures': 11917, 'longtime': 11918, 'battered': 11919, 'Gillett': 11920, 'Possibly': 11921, 'unrealized': 11922, 'restructurings': 11923, 'balloon': 11924, 'floated': 11925, 'Mellon': 11926, 'shopped': 11927, 'spun': 11928, 'workable': 11929, 'capitalize': 11930, 'bread-and-butter': 11931, 'Jonathan': 11932, 'Sanford': 11933, 'Pauline': 11934, 'Yoshihashi': 11935, 'NYSE': 11936, 'Symbol': 11937, 'CSV': 11938, '1.49': 11939, 'Third': 11940, '11.57': 11941, '83,206': 11942, 'Note': 11943, 'per-share': 11944, 'Genetics': 11945, 'Interleukin-3': 11946, 'bone': 11947, 'morphogenetic': 11948, 'protein': 11949, 'recombinant': 11950, 'DNA': 11951, 'Sandoz': 11952, 'preclinical': 11953, 'treating': 11954, 'marrow': 11955, 'blood-cell': 11956, 'protein-1': 11957, 'induce': 11958, 'formation': 11959, 'cartilage': 11960, 'BMP-1': 11961, 'proteins': 11962, 'compositions': 11963, 'defects': 11964, 'BMP': 11965, 'fracture': 11966, 'healing': 11967, 'periodontal': 11968, 'cancers': 11969, 'Clarence': 11970, 'qualified': 11971, 'Judiciary': 11972, 'liberal': 11973, 'Equal': 11974, 'Employment': 11975, 'Opportunity': 11976, 'Groups': 11977, 'advocating': 11978, 'narrowed': 11979, 'discrimination': 11980, 'Fourteen': 11981, 'jurisdiction': 11982, 'EEOC': 11983, 'judgment': 11984, 'Runkel': 11985, 'nominees': 11986, 'satisfactorily': 11987, 'bench': 11988, 'vacancy': 11989, 'Metallgesellschaft': 11990, 'Lentjes': 11991, 'Ferdinand': 11992, 'Germany-based': 11993, 'specialized': 11994, 'boilers': 11995, 'pipes': 11996, 'Lurgi': 11997, 'G.m.b': 11998, 'shedding': 11999, '434.4': 12000, 'backlog': 12001, 'rulings': 12002, 'anti-dumping': 12003, 'sweaters': 12004, 'injuring': 12005, 'investigate': 12006, 'sweater': 12007, 'defines': 12008, 'ITC': 12009, 'assess': 12010, 'apparel': 12011, 'agreements': 12012, 'manmade-fiber': 12013, '405': 12014, 'Wilmington': 12015, 'neoprene': 12016, 'rubber': 12017, '1,100': 12018, 'implementation': 12019, 'Theodore': 12020, 'headcount-control': 12021, 'questioned': 12022, 'Gelles': 12023, 'Wertheim': 12024, 'Schroder': 12025, 'trim': 12026, '275': 12027, '350': 12028, '21,000': 12029, '87.5': 12030, '38.875': 12031, 'bidder': 12032, 'shareholder-rights': 12033, 'unwanted': 12034, 'suitors': 12035, 'cost-control': 12036, 'staff-reduction': 12037, 'trimmed': 12038, 'INTER-TEL': 12039, 'Chapman': 12040, 'WayMar': 12041, 'Feeding': 12042, 'Frenzy': 12043, 'Holt': 12044, '326': 12045, '19.95': 12046, 'Wedtech': 12047, 'reassuring': 12048, 'preface': 12049, 'co-author': 12050, 'Sternberg': 12051, 'integrity': 12052, 'trip': 12053, 'mindful': 12054, 'plaintive': 12055, 'high-minded': 12056, 'assurance': 12057, 'sticky': 12058, 'fingers': 12059, 'sweaty': 12060, 'scammers': 12061, 'Bribe': 12062, 'bribe': 12063, 'Matthew': 12064, 'Harrison': 12065, 'path': 12066, 'traveled': 12067, 'inception': 12068, 'full-fledged': 12069, 'vital': 12070, 'Army': 12071, 'revolves': 12072, 'Mariotta': 12073, 'rolling': 12074, 'Johnson-era': 12075, 'mandates': 12076, 'noncompetitively': 12077, 'ancestry': 12078, 'born': 12079, 'Puerto': 12080, 'Rico': 12081, 'falsify': 12082, '50\\\\/50': 12083, 'races': 12084, 'minority-owned': 12085, 'blighted': 12086, 'famous': 12087, 'Jimmy': 12088, 'Carter': 12089, 'plugged': 12090, 'rebuilding': 12091, \"'80s\": 12092, 'Starting': 12093, 'Congressman': 12094, 'Mario': 12095, 'Biaggi': 12096, 'sentence': 12097, 'bribing': 12098, 'Wallach': 12099, 'Attorney': 12100, 'Meese': 12101, 'fashioned': 12102, 'bribery': 12103, 'peddling': 12104, 'politically': 12105, 'respectable': 12106, 'confidant': 12107, 'Lyn': 12108, 'Nofzinger': 12109, 'bribed': 12110, 'corrupt': 12111, 'scheme': 12112, 'bag': 12113, 'crook': 12114, 'befell': 12115, 'semiliterate': 12116, 'sensational': 12117, 'revelations': 12118, 'breezy': 12119, 'easy-to-read': 12120, 'gripping': 12121, 'scams': 12122, 'ingenuity': 12123, 'Auditors': 12124, 'crookery': 12125, 'garden-variety': 12126, 'lifes': 12127, 'Mercedes': 12128, 'clothes': 12129, 'wrestling': 12130, 'intelligent': 12131, 'insane': 12132, 'Irving': 12133, 'Lobsenz': 12134, 'pediatrician': 12135, 'Rusty': 12136, 'gambler': 12137, 'blackjack': 12138, 'arrested': 12139, 'Absorbed': 12140, 'doling': 12141, 'tidbits': 12142, 'gloss': 12143, 'root': 12144, 'auspices': 12145, 'rigid': 12146, 'affirmative': 12147, 'Programs': 12148, 'expressing': 12149, 'thieves': 12150, 'Numerous': 12151, 'scandals': 12152, 'HUD': 12153, 'characteristics': 12154, 'tailor-made': 12155, 'insider': 12156, 'whenever': 12157, 'redistributing': 12158, 'influencing': 12159, 'brokering': 12160, 'bloc': 12161, 'Nomenklatura': 12162, 'Stern': 12163, 'Urban': 12164, '1983-85': 12165, 'bankrupt': 12166, 'Oy': 12167, 'Everything': 12168, 'Andersson': 12169, 'finalized': 12170, 'state-appointed': 12171, 'receivers': 12172, 'lease': 12173, 'Subcontractors': 12174, 'swift': 12175, 'avert': 12176, 'skilled': 12177, 'shipyards': 12178, 'injecting': 12179, 'markkaa': 12180, 'Customers': 12181, 'undelivered': 12182, '170': 12183, 'Helsinki': 12184, 'dashed': 12185, 'repay': 12186, 'Nichol': 12187, 'Karns': 12188, 'Concurrent': 12189, 'Norfolk': 12190, 'sputtered': 12191, 'Ralston': 12192, 'Purina': 12193, 'pet': 12194, '45.2': 12195, '84.9': 12196, '1.24': 12197, '422.5': 12198, '6.44': 12199, '387.8': 12200, '5.63': 12201, '70.2': 12202, 'seafood': 12203, '5.8': 12204, 'phase-out': 12205, 'battery': 12206, 'Hostess': 12207, 'cake': 12208, 'bakery': 12209, 'rechargeable': 12210, 'cadmium': 12211, 'carbon': 12212, 'zinc': 12213, 'ingredients': 12214, 'cereal': 12215, 'Continental': 12216, 'Baking': 12217, 'bread': 12218, 'Eveready': 12219, '80.50': 12220, 'Companies': 12221, 'five-cent': 12222, 'percent': 12223, 'Otherwise': 12224, '300-day': 12225, '55.1': 12226, 'cash-and-stock': 12227, 'Ravenswood': 12228, 'corn-buying': 12229, 'binge': 12230, 'bottlenecks': 12231, 'pipeline': 12232, 'exporters': 12233, 'river': 12234, 'barges': 12235, 'trains': 12236, 'harvested': 12237, 'ports': 12238, 'loading': 12239, 'barge': 12240, 'Railroad': 12241, 'reaping': 12242, 'windfall': 12243, 'gyrate': 12244, 'scrounge': 12245, 'strain': 12246, 'Mississippi': 12247, 'Dunton': 12248, 'upper': 12249, 'trimming': 12250, 'tows': 12251, 'south': 12252, 'Corps': 12253, 'Engineers': 12254, 'Missouri': 12255, 'feeds': 12256, 'reservoirs': 12257, 'Barge': 12258, 'sank': 12259, 'alleviate': 12260, 'slowed': 12261, 'Similar': 12262, 'hamstrung': 12263, 'budding': 12264, 'logistical': 12265, 'bushel': 12266, '2.375': 12267, 'harvest': 12268, 'rebuild': 12269, 'stockpiles': 12270, 'depleted': 12271, 'winding': 12272, 'speculating': 12273, 'gather': 12274, 'storage': 12275, 'permits': 12276, '2.15': 12277, 'Lyle': 12278, 'Waterloo': 12279, 'one-fifth': 12280, 'Biedermann': 12281, 'Allendale': 12282, 'port': 12283, 'Ports': 12284, 'Lakes': 12285, 'Coast': 12286, 'relieve': 12287, 'hauling': 12288, 'compressed': 12289, 'delayed': 12290, 'refinery': 12291, 'tightening': 12292, 'Heating': 12293, '58.64': 12294, '19.94': 12295, 'sell-off': 12296, 'PRECIOUS': 12297, 'METALS': 12298, '3.20': 12299, '377.60': 12300, 'silver': 12301, '6.50': 12302, '5.2180': 12303, 'platinum': 12304, '5.70': 12305, '494.50': 12306, 'Precious': 12307, 'influenced': 12308, \"O'Neill\": 12309, 'Elders': 12310, 'equities': 12311, 'Silver': 12312, 'warehouses': 12313, '170,262': 12314, '226,570,380': 12315, 'miners': 12316, '1.20': 12317, '1.14': 12318, 'Bronces': 12319, 'Soldado': 12320, 'Exxon-owned': 12321, 'Minera': 12322, 'Disputada': 12323, 'Reasons': 12324, 'walkout': 12325, 'procedural': 12326, 'metal': 12327, 'upbeat': 12328, 'mood': 12329, 'precedes': 12330, '51.6': 12331, 'readings': 12332, '47.1': 12333, 'NCR': 12334, 'Tower': 12335, 'midrange': 12336, 'networking': 12337, 'hub': 12338, 'Novell': 12339, 'NetWare': 12340, 'riding': 12341, 'industrywide': 12342, 'chunks': 12343, 'Marcus': 12344, 'appliance': 12345, 'steelmakers': 12346, 'Lorain': 12347, '50-50': 12348, 'Kobe': 12349, 'earning': 12350, 'Bethlehem': 12351, '54': 12352, 'Inland': 12353, 'plummeted': 12354, '34.625': 12355, 'exceeded': 12356, 'projections': 12357, 'Bradford': 12358, 'richer': 12359, 'pipe': 12360, 'galvanized': 12361, 'coated': 12362, 'lower-priced': 12363, 'structural': 12364, 'Marathon': 12365, '198': 12366, 'soliciting': 12367, 'TXO': 12368, 'Proceeds': 12369, '15.5': 12370, '257': 12371, 'Icahn': 12372, '13.1': 12373, '721': 12374, '2.62': 12375, '598': 12376, '2.07': 12377, 'Barrett': 12378, 'Leon': 12379, 'Level': 12380, 'McFarlan': 12381, 'DiLoreto': 12382, 'container': 12383, 'Delmont': 12384, 'constitutional-law': 12385, 'Professors': 12386, 'Kurland': 12387, 'Laurence': 12388, 'Tribe': 12389, 'procedure': 12390, 'scuttle': 12391, 'implicitly': 12392, 'Kennedy': 12393, 'professors': 12394, 'spectrum': 12395, 'authorizes': 12396, 'partial': 12397, 'Civil': 12398, 'shared': 12399, 'lawmaking': 12400, 'supports': 12401, 'reckless': 12402, 'Trinity': 12403, 'railcar': 12404, 'platforms': 12405, 'Trailer': 12406, 'Train': 12407}"
     ]
    },
    {
     "name": "stdout",
     "output_type": "stream",
     "text": [
      "\n",
      "{'NNP': 0, ',': 1, 'CD': 2, 'NNS': 3, 'JJ': 4, 'MD': 5, 'VB': 6, 'DT': 7, 'NN': 8, 'IN': 9, '.': 10, 'VBZ': 11, 'VBG': 12, 'CC': 13, 'VBD': 14, 'VBN': 15, '-NONE-': 16, 'RB': 17, 'TO': 18, 'PRP': 19, 'RBR': 20, 'WDT': 21, 'VBP': 22, 'RP': 23, 'PRP$': 24, 'JJS': 25, 'POS': 26, '``': 27, 'EX': 28, \"''\": 29, 'WP': 30, ':': 31, 'JJR': 32, 'WRB': 33, '$': 34, 'NNPS': 35, 'WP$': 36, '-LRB-': 37, '-RRB-': 38, 'PDT': 39, 'RBS': 40, 'FW': 41, 'UH': 42, 'SYM': 43, 'LS': 44, '#': 45}\n"
     ]
    }
   ],
   "source": [
    "word_to_ix = {}\n",
    "tag_to_ix = {}\n",
    "ix_to_tag = {}\n",
    "for sent, tags in data:\n",
    "    for word in sent:\n",
    "        if word not in word_to_ix:\n",
    "            word_to_ix[word] = len(word_to_ix)\n",
    "    for tag in tags:\n",
    "        if tag not in tag_to_ix:\n",
    "            tag_to_ix[tag] = len(tag_to_ix)\n",
    "            ix_to_tag[len(tag_to_ix)-1]=tag\n",
    "            \n",
    "print(word_to_ix)\n",
    "print(tag_to_ix)\n",
    "# These will usually be more like 32 or 64 dimensional.\n",
    "# We will keep them small, so we can see how the weights change as we train.\n",
    "EMBEDDING_DIM = 64\n",
    "HIDDEN_DIM = 64"
   ]
  },
  {
   "cell_type": "code",
   "execution_count": 22,
   "metadata": {},
   "outputs": [],
   "source": [
    "EMBEDDING_DIM = 64\n",
    "HIDDEN_DIM = 128\n",
    "CHAR_EMB_DIM = 64\n",
    "CHAR_HIDDEN_DIM = 128 "
   ]
  },
  {
   "cell_type": "code",
   "execution_count": 23,
   "metadata": {},
   "outputs": [],
   "source": [
    "class LSTMCharTagger(nn.Module):\n",
    "\n",
    "    def __init__(self, embedding_dim, hidden_dim, char_emb_dim, char_hidden_dim, vocab_size, char_size, tagset_size):\n",
    "        super().__init__()\n",
    "        self.hidden_dim = hidden_dim\n",
    "        self.char_hidden_dim = char_hidden_dim\n",
    "        self.embedding_dim = embedding_dim\n",
    "\n",
    "        self.word_embeddings = nn.Embedding(vocab_size, embedding_dim)\n",
    "        self.char_embeddings = nn.Embedding(char_size, char_emb_dim)\n",
    "\n",
    "        # The LSTM takes word embeddings as inputs, and outputs hidden states\n",
    "        # with dimensionality hidden_dim.\n",
    "        self.char_lstm = nn.LSTM(char_emb_dim, char_hidden_dim)\n",
    "        self.lstm = nn.LSTM(embedding_dim+char_emb_dim, hidden_dim)\n",
    "\n",
    "        # The linear layer that maps from hidden state space to tag space\n",
    "        self.hidden2tag = nn.Linear(hidden_dim, tagset_size)\n",
    "\n",
    "    def forward(self, sentence):\n",
    "        embeds = self.word_embeddings(prepare_sequence(sentence,word_to_ix))\n",
    "        res = []\n",
    "        for word in sentence:\n",
    "            char_emb = self.char_embeddings(word_to_char_ix_tensor(word))\n",
    "            hidden, _ = self.char_lstm(char_emb.view(len(word),1,-1))\n",
    "            res.append(hidden[-1])\n",
    "        res = torch.cat(res)\n",
    "        vec = torch.cat((embeds, res),dim=1)\n",
    "       \n",
    "        lstm_out, _ = self.lstm(vec.view(len(sentence), 1, -1))\n",
    "       \n",
    "        tag_space = self.hidden2tag(lstm_out.view(len(sentence), -1))\n",
    "        tag_scores = F.log_softmax(tag_space, dim=1)\n",
    "        return tag_scores"
   ]
  },
  {
   "cell_type": "code",
   "execution_count": 24,
   "metadata": {},
   "outputs": [],
   "source": [
    "model = LSTMCharTagger(EMBEDDING_DIM, HIDDEN_DIM, char_dim, char_dim, len(word_to_ix), len(character_to_ix), len(tag_to_ix))\n",
    "loss_function = nn.NLLLoss()\n",
    "optimizer = optim.Adam(model.parameters(), lr=0.1)"
   ]
  },
  {
   "cell_type": "code",
   "execution_count": 57,
   "metadata": {},
   "outputs": [
    {
     "name": "stdout",
     "output_type": "stream",
     "text": [
      "tensor([[-3.7344, -3.9005, -3.7731, -3.8801, -3.8895, -3.8074, -4.0374, -3.8008,\n",
      "         -3.8104, -3.7294, -3.8751, -3.7962, -3.8265, -3.7550, -3.7460, -3.8504,\n",
      "         -3.8253, -3.7725, -3.8026, -3.9645, -3.8119, -3.8607, -3.9561, -3.7763,\n",
      "         -3.7812, -3.9031, -3.8919, -3.8813, -3.7572, -3.8866, -3.8622, -3.7470,\n",
      "         -3.7864, -3.7949, -3.8941, -3.8938, -3.7851, -3.8512, -3.7881, -3.8103,\n",
      "         -3.8257, -3.8744, -3.8127, -3.7259, -3.7743, -3.9094],\n",
      "        [-3.8168, -3.9156, -3.7655, -3.8499, -3.8481, -3.7835, -4.0177, -3.7456,\n",
      "         -3.7312, -3.8146, -3.9228, -3.7400, -3.9654, -3.7770, -3.7876, -3.9606,\n",
      "         -3.8277, -3.8645, -3.7323, -3.8638, -3.7553, -3.8553, -3.9267, -3.7693,\n",
      "         -3.7995, -3.8569, -3.8479, -3.8609, -3.6865, -3.9427, -3.9638, -3.7663,\n",
      "         -3.7664, -3.7257, -3.8755, -3.9674, -3.8785, -3.7826, -3.7363, -3.8389,\n",
      "         -3.8302, -3.8829, -3.8833, -3.6931, -3.7382, -3.9066],\n",
      "        [-3.7725, -3.8899, -3.6758, -3.9133, -3.7687, -3.7827, -4.0305, -3.7396,\n",
      "         -3.7383, -3.8163, -3.8951, -3.8277, -3.9030, -3.7508, -3.8169, -3.9397,\n",
      "         -3.8032, -3.9045, -3.7575, -3.8775, -3.7718, -3.8588, -3.9588, -3.7159,\n",
      "         -3.8168, -3.8550, -3.8277, -3.8317, -3.7926, -3.9111, -3.9262, -3.8041,\n",
      "         -3.7887, -3.7775, -3.9305, -3.9727, -3.9518, -3.7882, -3.7091, -3.7954,\n",
      "         -3.8398, -3.9264, -3.8399, -3.7107, -3.7332, -3.8259],\n",
      "        [-3.7360, -3.8486, -3.7762, -3.7846, -3.7424, -3.7477, -3.8992, -3.8300,\n",
      "         -3.7481, -3.8545, -3.9062, -3.8102, -3.9694, -3.6837, -3.7052, -3.9534,\n",
      "         -3.9118, -3.7929, -3.7734, -3.8864, -3.8335, -3.8080, -3.9463, -3.7514,\n",
      "         -3.7788, -3.9316, -3.9139, -3.9210, -3.7461, -3.9230, -4.0711, -3.7800,\n",
      "         -3.8163, -3.7808, -3.8771, -3.9560, -3.8393, -3.8134, -3.7096, -3.8164,\n",
      "         -3.9143, -3.9395, -3.7283, -3.7330, -3.8197, -3.7747],\n",
      "        [-3.8168, -3.8355, -3.8029, -3.8984, -3.7904, -3.7775, -3.9018, -3.7709,\n",
      "         -3.7909, -3.9000, -3.9136, -3.8205, -3.8528, -3.6464, -3.7199, -3.9423,\n",
      "         -3.9883, -3.7559, -3.7864, -3.9295, -3.8295, -3.9093, -3.9096, -3.7505,\n",
      "         -3.7959, -3.9915, -3.8488, -3.8961, -3.7220, -3.9854, -3.9344, -3.8275,\n",
      "         -3.8295, -3.7534, -3.8287, -3.8474, -3.8328, -3.8022, -3.5337, -3.8455,\n",
      "         -3.8824, -3.9325, -3.7217, -3.8184, -3.8411, -3.7871],\n",
      "        [-3.7783, -3.8333, -3.7173, -3.8896, -3.8107, -3.7474, -3.9927, -3.8397,\n",
      "         -3.8554, -3.8048, -3.8530, -3.7838, -3.8702, -3.6604, -3.7650, -3.7850,\n",
      "         -3.9089, -3.7450, -3.7369, -3.9827, -3.9037, -4.0223, -3.9230, -3.8579,\n",
      "         -3.7275, -4.0012, -3.9497, -3.9016, -3.7564, -3.9747, -3.8405, -3.8618,\n",
      "         -3.8114, -3.6884, -3.8966, -3.8103, -3.7490, -3.8646, -3.6690, -3.8085,\n",
      "         -3.8927, -3.8450, -3.7345, -3.8104, -3.7748, -3.8577],\n",
      "        [-3.7552, -3.8531, -3.6410, -3.9334, -3.7625, -3.7617, -3.9969, -3.7740,\n",
      "         -3.8346, -3.8118, -3.8680, -3.8657, -3.8531, -3.6850, -3.7802, -3.8348,\n",
      "         -3.8474, -3.8515, -3.7353, -3.9240, -3.8590, -3.9242, -3.9772, -3.7836,\n",
      "         -3.7814, -3.9185, -3.8804, -3.8775, -3.8504, -3.9116, -3.8517, -3.8748,\n",
      "         -3.7955, -3.7554, -3.9123, -3.8887, -3.9043, -3.8111, -3.7055, -3.7692,\n",
      "         -3.8423, -3.9105, -3.7566, -3.7801, -3.7491, -3.8081],\n",
      "        [-3.7182, -3.8805, -3.7017, -3.9156, -3.6519, -3.8102, -3.8507, -3.8096,\n",
      "         -3.7866, -3.8540, -3.8877, -3.8660, -3.8748, -3.6748, -3.8207, -3.8201,\n",
      "         -3.8425, -3.8211, -3.8169, -3.9111, -3.8048, -3.9019, -3.9484, -3.7782,\n",
      "         -3.7812, -3.9739, -3.9098, -3.8761, -3.7814, -3.9791, -3.8730, -3.8686,\n",
      "         -3.8408, -3.7554, -3.7898, -3.9409, -3.8254, -3.7925, -3.7701, -3.8404,\n",
      "         -3.9090, -3.9651, -3.6983, -3.7768, -3.7784, -3.7783],\n",
      "        [-3.6714, -3.8009, -3.7083, -3.8425, -3.8107, -3.8007, -3.8932, -3.8646,\n",
      "         -3.8162, -3.8049, -3.8382, -3.8222, -3.8342, -3.7814, -3.7302, -3.8356,\n",
      "         -3.8557, -3.7370, -3.8250, -4.0681, -3.8240, -3.9344, -4.1144, -3.7503,\n",
      "         -3.7620, -3.9600, -3.9668, -3.9482, -3.7503, -3.9690, -3.8261, -3.8357,\n",
      "         -3.7847, -3.7334, -3.8631, -3.8099, -3.7023, -3.7676, -3.7720, -3.8685,\n",
      "         -3.8672, -3.8886, -3.6690, -3.8420, -3.8199, -3.9342],\n",
      "        [-3.7189, -3.8190, -3.7821, -3.8629, -3.8160, -3.7885, -3.9339, -3.8509,\n",
      "         -3.8255, -3.7944, -3.8864, -3.6879, -3.8840, -3.8029, -3.7785, -3.7529,\n",
      "         -3.8383, -3.7406, -3.7842, -3.9442, -3.8302, -3.9357, -4.0322, -3.8215,\n",
      "         -3.8096, -3.9434, -3.9320, -3.8759, -3.7211, -3.9259, -3.8806, -3.8096,\n",
      "         -3.8170, -3.7739, -3.8283, -3.8934, -3.7473, -3.8124, -3.6915, -3.8273,\n",
      "         -3.9270, -3.9087, -3.7395, -3.7841, -3.8260, -3.8565],\n",
      "        [-3.7470, -3.8616, -3.7949, -3.9171, -3.7485, -3.7932, -3.9183, -3.8601,\n",
      "         -3.9091, -3.6831, -3.9018, -3.7371, -3.9056, -3.6913, -3.7604, -3.7520,\n",
      "         -3.8307, -3.7394, -3.7517, -4.0047, -3.8338, -3.8584, -3.9241, -3.8598,\n",
      "         -3.7709, -3.9200, -3.9105, -3.8414, -3.7481, -3.8983, -3.8592, -3.9348,\n",
      "         -3.9045, -3.6972, -3.9541, -3.8698, -3.7262, -3.8688, -3.6686, -3.8951,\n",
      "         -3.8780, -3.8824, -3.7116, -3.8300, -3.9021, -3.8207],\n",
      "        [-3.8213, -3.7730, -3.7600, -3.8826, -3.7152, -3.7826, -3.8891, -3.8570,\n",
      "         -3.8649, -3.8886, -3.8905, -3.7123, -3.8856, -3.7085, -3.8153, -3.7706,\n",
      "         -3.9333, -3.6424, -3.7076, -3.9313, -3.8712, -4.0257, -3.9076, -3.8264,\n",
      "         -3.8353, -3.9495, -3.9315, -3.8624, -3.7052, -3.9598, -3.8260, -3.8961,\n",
      "         -3.7984, -3.7055, -3.8283, -3.9412, -3.6710, -3.8879, -3.6791, -3.9421,\n",
      "         -3.8838, -3.9556, -3.6940, -3.8148, -3.8817, -3.8010],\n",
      "        [-3.7364, -3.8782, -3.7777, -3.9315, -3.6814, -3.7852, -3.9904, -3.7533,\n",
      "         -3.8181, -3.9194, -3.8713, -3.6926, -3.8049, -3.7730, -3.9074, -3.8334,\n",
      "         -3.9242, -3.7229, -3.7471, -3.9464, -3.8521, -3.9887, -3.9815, -3.7005,\n",
      "         -3.8000, -3.8247, -3.9432, -3.8788, -3.7517, -3.9359, -3.8712, -3.7900,\n",
      "         -3.7753, -3.7460, -3.8108, -3.9480, -3.7212, -3.8014, -3.6950, -3.9075,\n",
      "         -3.8473, -3.9452, -3.7119, -3.7815, -3.9450, -3.8505],\n",
      "        [-3.7493, -3.8712, -3.7669, -3.9618, -3.7081, -3.8006, -3.9659, -3.7623,\n",
      "         -3.8262, -3.8917, -3.8966, -3.6835, -3.8280, -3.7750, -3.8729, -3.7521,\n",
      "         -3.9582, -3.7482, -3.7871, -3.9399, -3.8545, -3.8689, -3.9586, -3.7000,\n",
      "         -3.8054, -3.8867, -3.9624, -3.8879, -3.7744, -3.9457, -3.8955, -3.8450,\n",
      "         -3.7907, -3.7683, -3.7814, -3.7977, -3.7246, -3.7647, -3.6766, -3.8274,\n",
      "         -3.9198, -3.9031, -3.7288, -3.8157, -3.9424, -3.9040],\n",
      "        [-3.8179, -3.8317, -3.8405, -3.9262, -3.7788, -3.7916, -3.9431, -3.7391,\n",
      "         -3.7804, -3.9395, -3.8955, -3.7253, -3.8610, -3.8217, -3.9489, -3.8564,\n",
      "         -3.7872, -3.7555, -3.6989, -3.9002, -3.8019, -3.9364, -3.8635, -3.7312,\n",
      "         -3.7597, -3.8728, -3.9155, -3.8827, -3.7321, -3.9237, -3.8655, -3.8727,\n",
      "         -3.7954, -3.7177, -3.8044, -3.8617, -3.7836, -3.8779, -3.6561, -3.7866,\n",
      "         -3.9267, -3.9167, -3.7642, -3.7470, -3.9319, -3.8831],\n",
      "        [-3.7397, -3.8673, -3.7816, -3.9332, -3.7858, -3.8134, -3.9030, -3.7974,\n",
      "         -3.7778, -3.8510, -3.9671, -3.7982, -3.9004, -3.8074, -3.7989, -3.8290,\n",
      "         -3.8401, -3.8308, -3.7370, -3.9346, -3.8205, -3.9028, -3.8802, -3.7775,\n",
      "         -3.7253, -3.8326, -3.9654, -3.8576, -3.7217, -3.9508, -3.9141, -3.9556,\n",
      "         -3.7645, -3.6823, -3.9213, -3.8435, -3.7524, -3.8594, -3.6375, -3.7792,\n",
      "         -3.9425, -3.8434, -3.7450, -3.7898, -3.8641, -3.8321],\n",
      "        [-3.7588, -3.9209, -3.7339, -3.9205, -3.7974, -3.7566, -3.9898, -3.7129,\n",
      "         -3.8711, -3.8645, -3.8844, -3.7697, -3.8166, -3.9023, -3.8156, -3.7801,\n",
      "         -3.8938, -3.7912, -3.7097, -4.0782, -3.8667, -3.8570, -3.9565, -3.7748,\n",
      "         -3.7891, -3.9078, -3.8099, -3.8457, -3.7733, -3.9988, -3.9583, -3.8809,\n",
      "         -3.6735, -3.7055, -3.9929, -3.8775, -3.8634, -3.8616, -3.6299, -3.6913,\n",
      "         -3.8298, -3.7895, -3.6754, -3.7695, -3.9611, -3.8244],\n",
      "        [-3.7084, -3.9694, -3.7318, -3.8722, -3.7902, -3.8496, -3.9911, -3.7267,\n",
      "         -3.8271, -3.9098, -3.7886, -3.7490, -3.9015, -3.8248, -3.7918, -3.6189,\n",
      "         -3.9580, -3.7496, -3.7260, -4.0255, -3.9220, -3.8801, -4.0073, -3.7544,\n",
      "         -3.7750, -3.8549, -3.8914, -3.9232, -3.8206, -3.9179, -3.8813, -3.8960,\n",
      "         -3.6282, -3.7731, -3.9776, -3.8946, -3.7517, -3.8387, -3.7414, -3.8740,\n"
     ]
    },
    {
     "name": "stdout",
     "output_type": "stream",
     "text": [
      "         -3.7548, -3.8383, -3.7017, -3.8051, -3.9420, -3.7751]])\n"
     ]
    },
    {
     "ename": "TypeError",
     "evalue": "unsupported operand type(s) for -: 'list' and 'float'",
     "output_type": "error",
     "traceback": [
      "\u001b[1;31m---------------------------------------------------------------------------\u001b[0m",
      "\u001b[1;31mTypeError\u001b[0m                                 Traceback (most recent call last)",
      "\u001b[1;32m<ipython-input-57-14d29f2d4db9>\u001b[0m in \u001b[0;36m<module>\u001b[1;34m\u001b[0m\n\u001b[0;32m     29\u001b[0m \u001b[1;33m\u001b[0m\u001b[0m\n\u001b[0;32m     30\u001b[0m \u001b[1;33m\u001b[0m\u001b[0m\n\u001b[1;32m---> 31\u001b[1;33m \u001b[0melapsed\u001b[0m \u001b[1;33m=\u001b[0m \u001b[0mtt\u001b[0m\u001b[1;33m-\u001b[0m \u001b[0mtime\u001b[0m\u001b[1;33m.\u001b[0m\u001b[0mtime\u001b[0m\u001b[1;33m(\u001b[0m\u001b[1;33m)\u001b[0m\u001b[1;33m\u001b[0m\u001b[1;33m\u001b[0m\u001b[0m\n\u001b[0m\u001b[0;32m     32\u001b[0m \u001b[0mprint\u001b[0m\u001b[1;33m(\u001b[0m\u001b[0melapsed\u001b[0m\u001b[1;33m)\u001b[0m\u001b[1;33m\u001b[0m\u001b[1;33m\u001b[0m\u001b[0m\n\u001b[0;32m     33\u001b[0m \u001b[1;31m# See what the scores are after training\u001b[0m\u001b[1;33m\u001b[0m\u001b[1;33m\u001b[0m\u001b[1;33m\u001b[0m\u001b[0m\n",
      "\u001b[1;31mTypeError\u001b[0m: unsupported operand type(s) for -: 'list' and 'float'"
     ]
    }
   ],
   "source": [
    "# See what the scores are before training\n",
    "# Note that element i,j of the output is the score for tag j for word i.\n",
    "# Here we don't need to train, so the code is wrapped in torch.no_grad()\n",
    "with torch.no_grad():\n",
    "    inputs = data[0][0]\n",
    "    tag_scores = model(inputs)\n",
    "    print(tag_scores)\n",
    "\n",
    "for epoch in range(3):  # again, normally you would NOT do 300 epochs, it is toy data\n",
    "    for sentence, tags in data:\n",
    "        # Step 1. Remember that Pytorch accumulates gradients.\n",
    "        # We need to clear them out before each instance\n",
    "        model.zero_grad()\n",
    "\n",
    "        # Step 2. Get our inputs ready for the network, that is, turn them into\n",
    "        # Tensors of word indices.\n",
    "        sentence_in = sentence\n",
    "        targets = prepare_sequence(tags, tag_to_ix)\n",
    "\n",
    "        # Step 3. Run our forward pass.\n",
    "        tag_scores = model(sentence_in)\n",
    "\n",
    "        # Step 4. Compute the loss, gradients, and update the parameters by\n",
    "        #  calling optimizer.step()\n",
    "        loss = loss_function(tag_scores, targets)\n",
    "        loss.backward()\n",
    "        optimizer.step()\n",
    "\n",
    "        "
   ]
  },
  {
   "cell_type": "code",
   "execution_count": 59,
   "metadata": {},
   "outputs": [
    {
     "name": "stdout",
     "output_type": "stream",
     "text": [
      "tensor([ 0,  0,  1,  2,  3,  4,  1,  5,  6,  7,  8,  9,  7,  4,  8,  0,  2, 10])\n",
      "tensor([[-3.5678e+00, -4.9737e+01, -4.3227e+00, -1.4063e+00, -1.4275e+00,\n",
      "         -3.5408e+01, -5.5141e+00, -1.4202e+01, -1.0534e+00, -4.8636e+00,\n",
      "         -6.5475e+01, -5.6267e+00, -2.8334e+00, -4.4211e+01, -3.5878e+00,\n",
      "         -6.3130e+00, -1.6342e+01, -3.9241e+00, -4.2419e+01, -2.1314e+01,\n",
      "         -1.6051e+01, -5.0322e+01, -1.1362e+01, -2.5206e+01, -3.1555e+01,\n",
      "         -3.5585e+01, -4.5091e+01, -4.9898e+01, -5.3415e+01, -5.8657e+01,\n",
      "         -4.2977e+01, -2.7701e+01, -6.7174e+00, -3.9132e+01, -4.0839e+01,\n",
      "         -8.5999e+00, -6.5209e+01, -6.6028e+01, -7.3303e+01, -6.5591e+01,\n",
      "         -8.3057e+01, -5.4793e+01, -4.1426e+01, -4.9163e+01, -4.7126e+01,\n",
      "         -8.2382e+01],\n",
      "        [-3.3978e+00, -7.8052e+01, -2.1189e+00, -6.5698e+00, -8.9828e-01,\n",
      "         -1.5113e+01, -1.9816e+00, -1.7752e+01, -1.3884e+00, -5.6294e+00,\n",
      "         -4.9994e+01, -3.2028e+00, -5.6290e+00, -3.7419e+01, -8.5601e+00,\n",
      "         -6.4058e+00, -7.3205e+00, -9.7079e+00, -6.2606e+01, -3.1471e+01,\n",
      "         -2.8721e+01, -3.3670e+01, -1.1221e+01, -2.1275e+01, -2.6926e+01,\n",
      "         -2.5871e+01, -5.6696e+01, -7.4165e+01, -6.5351e+01, -3.9821e+01,\n",
      "         -3.7439e+01, -5.5216e+01, -2.3029e+01, -2.8832e+01, -3.8857e+01,\n",
      "         -2.1720e+01, -8.8545e+01, -4.3518e+01, -8.1075e+01, -3.0196e+01,\n",
      "         -7.2857e+01, -5.1817e+01, -5.1872e+01, -6.5023e+01, -4.8017e+01,\n",
      "         -6.5804e+01],\n",
      "        [-3.3858e+01,  0.0000e+00, -3.7148e+01, -3.8365e+01, -3.8249e+01,\n",
      "         -6.2156e+01, -3.6842e+01, -5.1585e+01, -3.3939e+01, -4.1460e+01,\n",
      "         -8.2751e+01, -3.8030e+01, -4.3841e+01, -5.1979e+01, -3.9689e+01,\n",
      "         -3.7749e+01, -4.4390e+01, -4.3276e+01, -9.6236e+01, -5.4733e+01,\n",
      "         -5.0883e+01, -9.1192e+01, -3.2758e+01, -5.8072e+01, -7.2582e+01,\n",
      "         -7.6154e+01, -7.8371e+01, -1.1572e+02, -8.8838e+01, -1.0214e+02,\n",
      "         -7.3164e+01, -6.4935e+01, -5.2382e+01, -7.9032e+01, -6.7346e+01,\n",
      "         -4.4380e+01, -1.0248e+02, -8.3717e+01, -9.5412e+01, -9.5122e+01,\n",
      "         -8.5433e+01, -9.3105e+01, -8.5823e+01, -9.1854e+01, -7.7859e+01,\n",
      "         -1.0396e+02],\n",
      "        [-8.7529e+00, -3.1688e+01, -4.7538e-01, -6.1716e+00, -9.0164e+00,\n",
      "         -4.8292e+01, -8.6227e+00, -3.0908e+01, -6.3772e+00, -9.7261e+00,\n",
      "         -4.1288e+01, -2.2722e+01, -1.5243e+01, -3.5216e+01, -4.5480e+00,\n",
      "         -1.0122e+00, -2.1104e+01, -1.1534e+01, -7.2628e+01, -1.5641e+01,\n",
      "         -2.3123e+01, -4.2298e+01, -1.1075e+01, -2.2314e+01, -6.5205e+01,\n",
      "         -5.2467e+01, -4.7949e+01, -5.5829e+01, -8.0710e+01, -4.7848e+01,\n",
      "         -5.7862e+01, -5.1908e+01, -3.9140e+01, -3.4763e+01, -7.2843e+01,\n",
      "         -2.8591e+01, -7.1610e+01, -4.4025e+01, -5.9538e+01, -3.8970e+01,\n",
      "         -7.6441e+01, -6.9426e+01, -4.8442e+01, -6.4389e+01, -5.2049e+01,\n",
      "         -8.0747e+01],\n",
      "        [-5.9512e+00, -6.6246e+01, -1.9434e+00, -3.4557e+00, -1.3690e+00,\n",
      "         -3.1729e+01, -2.5844e+00, -2.7559e+01, -9.7908e-01, -9.9728e+00,\n",
      "         -6.1506e+01, -1.3235e+01, -8.3612e+00, -3.5047e+01, -2.7518e+00,\n",
      "         -2.9531e+00, -2.2147e+01, -7.9083e+00, -5.3159e+01, -1.4594e+01,\n",
      "         -1.0320e+01, -6.0258e+01, -1.0758e+01, -4.2950e+01, -3.2811e+01,\n",
      "         -4.0458e+01, -4.6240e+01, -5.7072e+01, -7.9031e+01, -2.9538e+01,\n",
      "         -7.3039e+01, -4.9280e+01, -7.6997e+00, -2.6146e+01, -4.4296e+01,\n",
      "         -2.7152e+01, -6.3065e+01, -4.7261e+01, -5.4912e+01, -3.2266e+01,\n",
      "         -5.2332e+01, -6.5128e+01, -4.6112e+01, -5.1111e+01, -4.3876e+01,\n",
      "         -5.1744e+01],\n",
      "        [-4.0469e+00, -7.5052e+01, -8.8054e+00, -4.6909e+00, -1.4685e+00,\n",
      "         -2.4086e+01, -1.1581e+01, -1.2287e+01, -3.4378e+00, -8.2632e+00,\n",
      "         -6.5571e+01, -1.3056e+01, -2.8782e+00, -4.4087e+01, -7.6179e+00,\n",
      "         -5.7009e+00, -1.1274e+01, -7.3372e+00, -8.9854e+01, -1.1434e+01,\n",
      "         -2.9947e+01, -5.4537e+01, -9.8459e+00, -2.0770e+01, -4.4766e+01,\n",
      "         -5.1835e+01, -3.7264e+01, -5.9229e+01, -7.7610e+01, -7.8125e+01,\n",
      "         -6.9477e+01, -4.9336e+01, -2.2574e+00, -3.0275e+01, -7.8404e+01,\n",
      "         -6.0682e-01, -7.1140e+01, -7.6977e+01, -4.3682e+01, -3.9061e+01,\n",
      "         -7.3088e+01, -5.2476e+01, -5.5887e+01, -6.7562e+01, -7.7388e+01,\n",
      "         -7.7511e+01],\n",
      "        [-3.1373e+01,  0.0000e+00, -3.6611e+01, -3.7081e+01, -3.5125e+01,\n",
      "         -5.6473e+01, -3.8361e+01, -5.0594e+01, -3.3122e+01, -4.2617e+01,\n",
      "         -1.1208e+02, -3.6535e+01, -3.9832e+01, -5.1564e+01, -3.7204e+01,\n",
      "         -3.5244e+01, -4.9593e+01, -3.8284e+01, -8.3686e+01, -5.3145e+01,\n",
      "         -5.4177e+01, -9.1432e+01, -3.4798e+01, -6.1173e+01, -7.5515e+01,\n",
      "         -6.8101e+01, -8.1800e+01, -1.0395e+02, -9.9642e+01, -1.0757e+02,\n",
      "         -8.0951e+01, -7.1493e+01, -4.7910e+01, -7.6162e+01, -7.4242e+01,\n",
      "         -3.4908e+01, -9.3583e+01, -1.1223e+02, -7.3701e+01, -8.7597e+01,\n",
      "         -8.0947e+01, -9.6411e+01, -8.2938e+01, -8.3219e+01, -6.8380e+01,\n",
      "         -9.8860e+01],\n",
      "        [-1.6569e+01, -7.3984e+01, -2.0049e+01, -1.9196e+01, -2.1524e+01,\n",
      "          0.0000e+00, -2.6787e+01, -3.1610e+01, -1.4138e+01, -2.8379e+01,\n",
      "         -7.2280e+01, -1.8466e+01, -2.0447e+01, -2.6348e+01, -2.5404e+01,\n",
      "         -2.2239e+01, -2.1558e+01, -2.4561e+01, -6.0886e+01, -3.1187e+01,\n",
      "         -3.2879e+01, -4.8234e+01, -2.6241e+01, -2.7880e+01, -4.5751e+01,\n",
      "         -4.0746e+01, -8.1699e+01, -8.1521e+01, -5.3399e+01, -8.4083e+01,\n",
      "         -4.4712e+01, -6.5131e+01, -3.4024e+01, -5.7375e+01, -6.3817e+01,\n",
      "         -3.3627e+01, -9.3804e+01, -6.4608e+01, -7.3007e+01, -5.1890e+01,\n",
      "         -4.9248e+01, -6.7174e+01, -5.5523e+01, -6.0305e+01, -6.3236e+01,\n",
      "         -6.6817e+01],\n",
      "        [-4.1496e+00, -6.3808e+01, -6.8489e+00, -4.9389e+00, -1.0795e+01,\n",
      "         -3.2628e+01, -7.3431e-02, -2.1760e+01, -7.0639e+00, -1.6374e+01,\n",
      "         -3.4966e+01, -1.2058e+01, -3.2310e+00, -4.6575e+01, -1.0400e+01,\n",
      "         -9.1616e+00, -1.4566e+01, -1.6219e+01, -6.3109e+01, -1.4521e+01,\n",
      "         -3.5660e+01, -5.9080e+01, -5.4435e+00, -2.7407e+01, -6.3336e+01,\n",
      "         -1.6700e+01, -6.3476e+01, -6.4649e+01, -2.7695e+01, -8.2839e+01,\n",
      "         -5.9239e+01, -2.6603e+01, -6.2442e+00, -4.2109e+01, -5.4402e+01,\n",
      "         -1.2322e+01, -3.9364e+01, -6.8681e+01, -2.6285e+01, -2.8688e+01,\n",
      "         -2.2157e+01, -4.4039e+01, -2.8536e+01, -4.9128e+01, -3.7975e+01,\n",
      "         -3.5706e+01],\n",
      "        [-1.0396e+01, -9.1543e+01, -1.6461e+01, -1.3966e+01, -9.8329e+00,\n",
      "         -5.4320e+01, -9.1829e+00, -2.2125e-04, -1.0949e+01, -1.6644e+01,\n",
      "         -5.1729e+01, -1.1484e+01, -1.7942e+01, -5.6275e+01, -1.2311e+01,\n",
      "         -1.4190e+01, -1.5512e+01, -1.4337e+01, -8.7584e+01, -4.8488e+01,\n",
      "         -6.0206e+01, -5.9863e+01, -1.9030e+01, -3.4502e+01, -5.0073e+01,\n",
      "         -2.0421e+01, -6.3001e+01, -2.2622e+01, -5.0104e+01, -6.3555e+01,\n",
      "         -5.4396e+01, -4.9276e+01, -2.7468e+01, -7.3163e+01, -8.5082e+01,\n",
      "         -2.9143e+01, -7.3244e+01, -6.9966e+01, -1.0255e+02, -5.2194e+01,\n",
      "         -8.4083e+01, -6.0897e+01, -4.9578e+01, -6.7118e+01, -6.9421e+01,\n",
      "         -1.2005e+02],\n",
      "        [-1.8627e+00, -7.2293e+01, -6.7137e+00, -7.8440e+00, -3.6309e+00,\n",
      "         -4.7276e+01, -8.8020e+00, -2.2743e+01, -3.4818e-01, -1.2366e+01,\n",
      "         -5.1809e+01, -1.0218e+01, -8.1126e+00, -3.0584e+01, -2.3490e+00,\n",
      "         -9.3618e+00, -1.2618e+01, -4.2250e+00, -4.5091e+01, -3.1904e+01,\n",
      "         -3.1397e+01, -4.6224e+01, -1.1412e+01, -3.4745e+01, -5.4476e+01,\n",
      "         -3.1344e+01, -2.8029e+01, -5.2325e+01, -5.4764e+01, -6.0542e+01,\n",
      "         -6.3163e+01, -4.1409e+01, -1.6328e+01, -1.5554e+01, -5.3952e+01,\n",
      "         -2.9070e+01, -4.8906e+01, -6.7735e+01, -9.4493e+01, -5.2739e+01,\n",
      "         -6.8310e+01, -3.3316e+01, -2.7129e+01, -4.7516e+01, -5.1016e+01,\n",
      "         -8.6331e+01],\n",
      "        [-8.5251e+00, -9.5315e+01, -1.1003e+01, -8.7190e+00, -4.7413e+00,\n",
      "         -3.1011e+01, -1.2901e+01, -3.0685e+01, -4.2485e+00, -1.4940e+00,\n",
      "         -8.2359e+01, -1.3640e+01, -1.0168e+01, -3.4968e+01, -1.0991e+01,\n",
      "         -1.0213e+00, -1.5476e+01, -9.3665e-01, -6.8729e+01, -4.0958e+01,\n",
      "         -4.0082e+01, -5.0390e+01, -1.0959e+01, -2.8606e+01, -7.2497e+01,\n",
      "         -3.1330e+01, -3.3742e+01, -4.0479e+01, -6.7887e+01, -4.8271e+01,\n",
      "         -8.0941e+01, -1.5027e+01, -1.4100e+01, -6.1232e+01, -6.6363e+01,\n",
      "         -2.3068e+01, -5.7529e+01, -8.1632e+01, -6.9500e+01, -5.5674e+01,\n",
      "         -7.8170e+01, -4.2492e+01, -4.0328e+01, -6.5269e+01, -4.1844e+01,\n",
      "         -8.6457e+01],\n",
      "        [-7.5638e+00, -8.3530e+01, -1.0341e+01, -1.1068e+01, -2.4346e+00,\n",
      "         -2.8844e+01, -1.5670e+01, -1.0668e-01, -4.3632e+00, -1.8915e+01,\n",
      "         -7.1435e+01, -8.5389e+00, -1.3315e+01, -2.8946e+01, -1.5002e+01,\n",
      "         -1.5508e+01, -2.1767e+01, -9.8509e+00, -4.8529e+01, -1.5404e+01,\n",
      "         -3.3750e+01, -3.2112e+01, -2.0277e+01, -3.7149e+01, -5.1703e+01,\n",
      "         -5.0574e+01, -5.2320e+01, -4.7599e+01, -9.1219e+01, -9.7017e+01,\n",
      "         -5.3547e+01, -6.1673e+01, -2.7167e+01, -2.3642e+01, -7.7650e+01,\n",
      "         -2.3114e+01, -5.2408e+01, -4.2813e+01, -8.2052e+01, -4.9623e+01,\n",
      "         -6.8039e+01, -5.2314e+01, -4.1093e+01, -5.5711e+01, -4.2985e+01,\n",
      "         -6.8837e+01],\n",
      "        [-5.2635e+00, -8.2895e+01, -5.3141e+00, -7.3133e+00, -1.0049e+00,\n",
      "         -3.0676e+01, -4.1703e+00, -7.6290e+00, -7.0111e-01, -1.5483e+01,\n",
      "         -5.6142e+01, -1.2308e+01, -2.2193e+00, -6.9301e+01, -8.7878e+00,\n",
      "         -1.1838e+01, -2.6231e+01, -6.0620e+00, -5.6754e+01, -1.5123e+01,\n",
      "         -3.6350e+01, -3.9157e+01, -1.3971e+01, -4.3683e+01, -5.5050e+01,\n",
      "         -4.5481e+01, -7.9897e+01, -3.4447e+01, -6.1110e+01, -1.0045e+02,\n",
      "         -6.1326e+01, -4.6147e+01, -2.4458e+01, -2.3609e+01, -8.4229e+01,\n",
      "         -3.0687e+01, -6.5130e+01, -7.7866e+01, -4.8556e+01, -4.3719e+01,\n",
      "         -4.3996e+01, -3.1562e+01, -2.8116e+01, -5.9160e+01, -5.6721e+01,\n",
      "         -6.3183e+01],\n",
      "        [-5.0378e-01, -4.9345e+01, -5.0087e+00, -5.3307e+00, -3.3357e+00,\n",
      "         -3.8405e+01, -4.5039e+00, -1.4867e+01, -1.1782e+00, -5.0002e+00,\n",
      "         -5.2273e+01, -1.5651e+01, -5.9054e+00, -6.5294e+01, -6.7821e+00,\n",
      "         -8.9881e+00, -2.2449e+01, -4.0253e+00, -7.5576e+01, -3.0676e+01,\n",
      "         -3.5639e+01, -5.1766e+01, -6.7560e+00, -3.4538e+01, -4.7444e+01,\n",
      "         -3.3504e+01, -3.4267e+01, -4.2829e+01, -6.0426e+01, -3.2976e+01,\n",
      "         -5.8838e+01, -5.4149e+01, -1.7360e+01, -2.9872e+01, -5.8216e+01,\n",
      "         -2.3654e+01, -5.6528e+01, -6.4331e+01, -4.9449e+01, -5.5779e+01,\n",
      "         -3.6467e+01, -3.2054e+01, -3.2029e+01, -5.3256e+01, -5.2903e+01,\n",
      "         -7.8738e+01],\n",
      "        [-1.1869e+00, -6.9332e+01, -4.3189e+00, -2.7714e+00, -5.9219e+00,\n",
      "         -2.0870e+01, -9.0354e+00, -7.4797e+00, -1.2472e+00, -8.5595e+00,\n",
      "         -4.3816e+01, -5.4441e+00, -7.9378e+00, -4.5181e+01, -8.1711e+00,\n",
      "         -8.3250e+00, -1.1972e+01, -1.2125e+00, -4.7624e+01, -3.6606e+01,\n",
      "         -4.7754e+01, -2.4238e+01, -9.2058e+00, -2.3462e+01, -2.5765e+01,\n",
      "         -3.6766e+00, -8.3280e+01, -5.8482e+01, -4.8509e+01, -6.2976e+01,\n",
      "         -5.3196e+01, -4.5535e+01, -3.4683e+01, -3.7634e+01, -6.3990e+01,\n",
      "         -4.5125e+01, -4.8453e+01, -8.2859e+01, -8.1132e+01, -5.9077e+01,\n",
      "         -4.7481e+01, -4.5690e+01, -2.3774e+01, -4.7076e+01, -4.6962e+01,\n",
      "         -8.6988e+01],\n",
      "        [-7.0084e+00, -6.3827e+01, -8.9716e+00, -1.1767e+00, -8.2462e+00,\n",
      "         -4.1422e+01, -1.7296e+01, -1.0786e+01, -5.0777e+00, -4.8314e-01,\n",
      "         -3.3929e+01, -1.3644e+01, -4.3429e+00, -3.5590e+01, -8.9131e+00,\n",
      "         -6.0005e+00, -2.7446e+01, -5.4971e+00, -5.2975e+01, -3.0462e+00,\n",
      "         -4.6905e+01, -4.9237e+01, -1.9998e+01, -4.8818e+01, -9.8972e+00,\n",
      "         -2.3107e+01, -7.9421e+01, -7.8744e+01, -6.6117e+01, -3.5727e+01,\n",
      "         -6.3436e+01, -3.2159e+01, -3.0294e+01, -2.0225e+01, -6.2878e+01,\n",
      "         -3.0904e+01, -6.4752e+01, -3.7224e+01, -9.4066e+01, -3.9680e+01,\n",
      "         -4.8255e+01, -7.5276e+01, -2.5401e+01, -3.9069e+01, -4.5311e+01,\n",
      "         -9.7854e+01],\n",
      "        [-6.7456e+01, -1.5427e+02, -7.2582e+01, -6.9644e+01, -7.2887e+01,\n",
      "         -9.0515e+01, -6.8742e+01, -7.6951e+01, -6.5531e+01, -7.3002e+01,\n",
      "          0.0000e+00, -7.6008e+01, -6.9067e+01, -8.5993e+01, -7.3229e+01,\n",
      "         -7.4515e+01, -8.3754e+01, -7.4690e+01, -1.1917e+02, -9.7017e+01,\n",
      "         -1.1551e+02, -8.4511e+01, -8.6454e+01, -1.0168e+02, -9.3422e+01,\n",
      "         -8.3662e+01, -1.2187e+02, -1.0749e+02, -8.6219e+01, -1.0156e+02,\n",
      "         -1.0652e+02, -1.2080e+02, -9.7820e+01, -1.1302e+02, -9.7444e+01,\n",
      "         -8.9125e+01, -1.0715e+02, -1.0009e+02, -1.2868e+02, -6.7922e+01,\n",
      "         -1.0366e+02, -1.0386e+02, -9.6516e+01, -1.0693e+02, -9.8307e+01,\n"
     ]
    },
    {
     "name": "stdout",
     "output_type": "stream",
     "text": [
      "         -1.5653e+02]])\n"
     ]
    }
   ],
   "source": [
    "\n",
    "# See what the scores are after training\n",
    "with torch.no_grad():\n",
    "    inputs = data[0][0]\n",
    "    tag_scores = model(inputs)\n",
    "    print(prepare_sequence(data[0][1], tag_to_ix))\n",
    "\n",
    "    # The sentence is \"the dog ate the apple\".  i,j corresponds to score for tag j\n",
    "    # for word i. The predicted tag is the maximum scoring tag.\n",
    "    # Here, we can see the predicted sequence below is 0 1 2 0 1\n",
    "    # since 0 is index of the maximum value of row 1,\n",
    "    # 1 is the index of maximum value of row 2, etc.\n",
    "    # Which is DET NOUN VERB DET NOUN, the correct sequence!\n",
    "    print(tag_scores)"
   ]
  },
  {
   "cell_type": "code",
   "execution_count": 61,
   "metadata": {},
   "outputs": [],
   "source": [
    "torch.save(model.state_dict(), 'char_lstm_3pochs.pkl')"
   ]
  },
  {
   "cell_type": "code",
   "execution_count": 26,
   "metadata": {},
   "outputs": [
    {
     "data": {
      "text/plain": [
       "IncompatibleKeys(missing_keys=[], unexpected_keys=[])"
      ]
     },
     "execution_count": 26,
     "metadata": {},
     "output_type": "execute_result"
    }
   ],
   "source": [
    "model.load_state_dict(torch.load('char_lstm_3pochs.pkl'))"
   ]
  },
  {
   "cell_type": "code",
   "execution_count": 50,
   "metadata": {},
   "outputs": [],
   "source": [
    "def pos_sampling(sent):\n",
    "    ans = ''\n",
    "    exam = sent.split()\n",
    "    for i in model(exam):\n",
    "        ans+=ix_to_tag[int(torch.argmax(i))]+' '\n",
    "    print(ans)"
   ]
  },
  {
   "cell_type": "code",
   "execution_count": 51,
   "metadata": {
    "scrolled": true
   },
   "outputs": [
    {
     "name": "stdout",
     "output_type": "stream",
     "text": [
      "VBD TO VB PRP \n"
     ]
    }
   ],
   "source": [
    "pos_sampling('nice to meet you')"
   ]
  },
  {
   "cell_type": "code",
   "execution_count": 57,
   "metadata": {},
   "outputs": [
    {
     "name": "stdout",
     "output_type": "stream",
     "text": [
      "VBZ JJ TO NNP NNP \n"
     ]
    }
   ],
   "source": [
    "pos_sampling('we need to study hard') # 한계가 있다! study는 명사 동사 모두 가능"
   ]
  },
  {
   "cell_type": "code",
   "execution_count": 60,
   "metadata": {},
   "outputs": [
    {
     "name": "stdout",
     "output_type": "stream",
     "text": [
      "NNP NN PRP NN \n"
     ]
    }
   ],
   "source": [
    "pos_sampling('I enjoy watching movies')"
   ]
  },
  {
   "cell_type": "markdown",
   "metadata": {},
   "source": [
    "POS tagger의 정의는 다음과 같다.\n",
    "\n",
    "|Number|Tag|Description|\n",
    "|:-:|:-:|:-:|\n",
    "|1|CC|Coordinating conjunction|\n",
    "|2|CD|Cardinal number|\n",
    "|3|DT|Determiner|\n",
    "|4|EX|Existential there|\n",
    "|5|FW|Foreign word|\n",
    "|6|IN|Preposition or subordinating conjunction|\n",
    "|7|JJ|Adjective|\n",
    "|8|JJR|Adjective, comparative|\n",
    "|9|JJS|Adjective, superlative|\n",
    "|10|LS|List item marker|\n",
    "|11|MD|Modal|\n",
    "|12|NN|Noun, singular or mass|\n",
    "|13|NNS|Noun, plural|\n",
    "|14|NNP|Proper noun, singular|\n",
    "|15|NNPS|Proper noun, plural|\n",
    "|16|PDT|Predeterminer|\n",
    "|17|POS|Possessive ending|\n",
    "|18|PRP|Personal pronoun|\n",
    "|19|PRP_dollar|Possessive pronoun|\n",
    "|20|RB|Adverb|\n",
    "|21|RBR|Adverb, comparative|\n",
    "|22|RBS|Adverb, superlative|\n",
    "|23|RP|Particle|\n",
    "|24|SYM|Symbol|\n",
    "|25|TO|to|\n",
    "|26|UH|Interjection|\n",
    "|27|VB|Verb, base form|\n",
    "|28|VBD|Verb, past tense|\n",
    "|29|VBG|Verb, gerund or present participle|\n",
    "|30|VBN|Verb, past participle|\n",
    "|31|VBP|Verb, non-3rd person singular present|\n",
    "|32|VBZ|Verb, 3rd person singular present|\n",
    "|33|WDT|Wh-determiner|\n",
    "|34|WP|Wh-pronoun|\n",
    "|35|WP_dollar|Possessive wh-pronoun|\n",
    "|36|WRB|Wh-adverb|\n"
   ]
  }
 ],
 "metadata": {
  "kernelspec": {
   "display_name": "Python 3",
   "language": "python",
   "name": "python3"
  },
  "language_info": {
   "codemirror_mode": {
    "name": "ipython",
    "version": 3
   },
   "file_extension": ".py",
   "mimetype": "text/x-python",
   "name": "python",
   "nbconvert_exporter": "python",
   "pygments_lexer": "ipython3",
   "version": "3.7.4"
  }
 },
 "nbformat": 4,
 "nbformat_minor": 1
}
