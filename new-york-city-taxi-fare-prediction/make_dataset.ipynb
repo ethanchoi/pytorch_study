{
 "cells": [
  {
   "cell_type": "code",
   "execution_count": 1,
   "metadata": {},
   "outputs": [],
   "source": [
    "from __future__ import absolute_import, division, print_function, unicode_literals\n",
    "\n",
    "#!pip install -q tensorflow==2.0.0-beta1\n",
    "import sys, os\n",
    "import pandas as pd\n",
    "import numpy as np\n",
    "import matplotlib.pyplot as plt"
   ]
  },
  {
   "cell_type": "markdown",
   "metadata": {},
   "source": [
    "The original size of train data is so big, 55423856, it has about 55M rows<br>\n",
    "Only 10% of the samples are imported for this exercise <br>\n",
    "And then it will be divided into train_s and test_s data set for your modeling."
   ]
  },
  {
   "cell_type": "code",
   "execution_count": 2,
   "metadata": {},
   "outputs": [
    {
     "name": "stdout",
     "output_type": "stream",
     "text": [
      "The size of train data = (5542386, 7)\n"
     ]
    }
   ],
   "source": [
    "train_original = './train.csv'\n",
    "df = pd.read_csv(train_original, index_col=0)\n",
    "df = df.sample(frac=0.1, replace=True, random_state=1)\n",
    "print('The size of train data =', df.shape)"
   ]
  },
  {
   "cell_type": "code",
   "execution_count": 3,
   "metadata": {},
   "outputs": [],
   "source": [
    "# Now, let's divide it into train, test (10% of size of train)\n",
    "train = df.sample(frac=0.9, random_state=2)\n",
    "test = df.drop(train.index)"
   ]
  },
  {
   "cell_type": "code",
   "execution_count": 4,
   "metadata": {},
   "outputs": [
    {
     "name": "stdout",
     "output_type": "stream",
     "text": [
      "(506503, 7)\n",
      "(506497, 7)\n"
     ]
    }
   ],
   "source": [
    "# Remove NaN \n",
    "print(test.shape)\n",
    "test = test.dropna(how = 'any')\n",
    "print(test.shape)"
   ]
  },
  {
   "cell_type": "code",
   "execution_count": 5,
   "metadata": {},
   "outputs": [
    {
     "data": {
      "text/html": [
       "<div>\n",
       "<style scoped>\n",
       "    .dataframe tbody tr th:only-of-type {\n",
       "        vertical-align: middle;\n",
       "    }\n",
       "\n",
       "    .dataframe tbody tr th {\n",
       "        vertical-align: top;\n",
       "    }\n",
       "\n",
       "    .dataframe thead th {\n",
       "        text-align: right;\n",
       "    }\n",
       "</style>\n",
       "<table border=\"1\" class=\"dataframe\">\n",
       "  <thead>\n",
       "    <tr style=\"text-align: right;\">\n",
       "      <th></th>\n",
       "      <th>fare_amount</th>\n",
       "      <th>pickup_longitude</th>\n",
       "      <th>pickup_latitude</th>\n",
       "      <th>dropoff_longitude</th>\n",
       "      <th>dropoff_latitude</th>\n",
       "      <th>passenger_count</th>\n",
       "    </tr>\n",
       "  </thead>\n",
       "  <tbody>\n",
       "    <tr>\n",
       "      <th>count</th>\n",
       "      <td>506497.000000</td>\n",
       "      <td>506497.000000</td>\n",
       "      <td>506497.000000</td>\n",
       "      <td>506497.000000</td>\n",
       "      <td>506497.000000</td>\n",
       "      <td>506497.000000</td>\n",
       "    </tr>\n",
       "    <tr>\n",
       "      <th>mean</th>\n",
       "      <td>11.339383</td>\n",
       "      <td>-72.486084</td>\n",
       "      <td>39.911749</td>\n",
       "      <td>-72.490447</td>\n",
       "      <td>39.905778</td>\n",
       "      <td>1.683046</td>\n",
       "    </tr>\n",
       "    <tr>\n",
       "      <th>std</th>\n",
       "      <td>9.762299</td>\n",
       "      <td>12.954916</td>\n",
       "      <td>10.037512</td>\n",
       "      <td>12.173096</td>\n",
       "      <td>10.212929</td>\n",
       "      <td>1.337888</td>\n",
       "    </tr>\n",
       "    <tr>\n",
       "      <th>min</th>\n",
       "      <td>-52.000000</td>\n",
       "      <td>-3325.981737</td>\n",
       "      <td>-3110.304580</td>\n",
       "      <td>-3325.981737</td>\n",
       "      <td>-3116.318955</td>\n",
       "      <td>0.000000</td>\n",
       "    </tr>\n",
       "    <tr>\n",
       "      <th>25%</th>\n",
       "      <td>6.000000</td>\n",
       "      <td>-73.992054</td>\n",
       "      <td>40.734932</td>\n",
       "      <td>-73.991402</td>\n",
       "      <td>40.734023</td>\n",
       "      <td>1.000000</td>\n",
       "    </tr>\n",
       "    <tr>\n",
       "      <th>50%</th>\n",
       "      <td>8.500000</td>\n",
       "      <td>-73.981796</td>\n",
       "      <td>40.752665</td>\n",
       "      <td>-73.980195</td>\n",
       "      <td>40.753115</td>\n",
       "      <td>1.000000</td>\n",
       "    </tr>\n",
       "    <tr>\n",
       "      <th>75%</th>\n",
       "      <td>12.500000</td>\n",
       "      <td>-73.967062</td>\n",
       "      <td>40.767153</td>\n",
       "      <td>-73.963757</td>\n",
       "      <td>40.768084</td>\n",
       "      <td>2.000000</td>\n",
       "    </tr>\n",
       "    <tr>\n",
       "      <th>max</th>\n",
       "      <td>356.000000</td>\n",
       "      <td>2469.179042</td>\n",
       "      <td>2892.864787</td>\n",
       "      <td>2119.671525</td>\n",
       "      <td>2532.172577</td>\n",
       "      <td>208.000000</td>\n",
       "    </tr>\n",
       "  </tbody>\n",
       "</table>\n",
       "</div>"
      ],
      "text/plain": [
       "         fare_amount  pickup_longitude  pickup_latitude  dropoff_longitude  \\\n",
       "count  506497.000000     506497.000000    506497.000000      506497.000000   \n",
       "mean       11.339383        -72.486084        39.911749         -72.490447   \n",
       "std         9.762299         12.954916        10.037512          12.173096   \n",
       "min       -52.000000      -3325.981737     -3110.304580       -3325.981737   \n",
       "25%         6.000000        -73.992054        40.734932         -73.991402   \n",
       "50%         8.500000        -73.981796        40.752665         -73.980195   \n",
       "75%        12.500000        -73.967062        40.767153         -73.963757   \n",
       "max       356.000000       2469.179042      2892.864787        2119.671525   \n",
       "\n",
       "       dropoff_latitude  passenger_count  \n",
       "count     506497.000000    506497.000000  \n",
       "mean          39.905778         1.683046  \n",
       "std           10.212929         1.337888  \n",
       "min        -3116.318955         0.000000  \n",
       "25%           40.734023         1.000000  \n",
       "50%           40.753115         1.000000  \n",
       "75%           40.768084         2.000000  \n",
       "max         2532.172577       208.000000  "
      ]
     },
     "execution_count": 5,
     "metadata": {},
     "output_type": "execute_result"
    }
   ],
   "source": [
    "test.describe()"
   ]
  },
  {
   "cell_type": "markdown",
   "metadata": {},
   "source": [
    "**Drop data which is out of Area of original test data** <br>\n",
    "lon_min, lon_max, lat_min, lat_max = (-74.263242 -72.990963 40.568973 41.696683)"
   ]
  },
  {
   "cell_type": "code",
   "execution_count": 6,
   "metadata": {},
   "outputs": [],
   "source": [
    "lon_min, lon_max, lat_min, lat_max = (-74.263242, -72.990963, 40.568973, 41.696683)"
   ]
  },
  {
   "cell_type": "code",
   "execution_count": 7,
   "metadata": {},
   "outputs": [
    {
     "name": "stdout",
     "output_type": "stream",
     "text": [
      "(495446, 7)\n"
     ]
    }
   ],
   "source": [
    "test = \\\n",
    "    test[(test.pickup_longitude >= lon_min) & (test.pickup_longitude <= lon_max) &\n",
    "    (test.dropoff_longitude >= lon_min) & (test.dropoff_longitude <= lon_max) &\n",
    "    (test.pickup_latitude >= lat_min) & (test.pickup_latitude <= lat_max) &\n",
    "    (test.dropoff_latitude >= lat_min) & (test.dropoff_latitude <= lat_max)]\n",
    "\n",
    "print(test.shape)"
   ]
  },
  {
   "cell_type": "code",
   "execution_count": 8,
   "metadata": {},
   "outputs": [
    {
     "data": {
      "image/png": "[encoded data removed]",
      "text/plain": [
       "<Figure size 432x288 with 1 Axes>"
      ]
     },
     "metadata": {
      "needs_background": "light"
     },
     "output_type": "display_data"
    }
   ],
   "source": [
    "test['passenger_count'].value_counts().plot.bar();\n",
    "plt.title('Histogram of passenger counts'); plt.xlabel('Passenger counts'); plt.ylabel('Count');"
   ]
  },
  {
   "cell_type": "code",
   "execution_count": 9,
   "metadata": {},
   "outputs": [
    {
     "data": {
      "text/plain": [
       "passenger_count\n",
       "0      1768\n",
       "1    343016\n",
       "2     73053\n",
       "3     21658\n",
       "4     10684\n",
       "5     34952\n",
       "6     10315\n",
       "dtype: int64"
      ]
     },
     "execution_count": 9,
     "metadata": {},
     "output_type": "execute_result"
    }
   ],
   "source": [
    "test.groupby('passenger_count').size()"
   ]
  },
  {
   "cell_type": "markdown",
   "metadata": {},
   "source": [
    "Let's remove passenger_count 0 data as there is no data like this in original test set"
   ]
  },
  {
   "cell_type": "code",
   "execution_count": 10,
   "metadata": {},
   "outputs": [],
   "source": [
    "test = test[test.passenger_count > 0]"
   ]
  },
  {
   "cell_type": "code",
   "execution_count": 11,
   "metadata": {},
   "outputs": [
    {
     "data": {
      "image/png": "[encoded data removed]",
      "text/plain": [
       "<Figure size 432x288 with 1 Axes>"
      ]
     },
     "metadata": {
      "needs_background": "light"
     },
     "output_type": "display_data"
    }
   ],
   "source": [
    "# fare_amount\n",
    "plt.hist(test.fare_amount, 1000, alpha=0.8)\n",
    "plt.xlabel('Fare amount')\n",
    "plt.title('Histogram of fare amount')\n",
    "plt.show();"
   ]
  },
  {
   "cell_type": "code",
   "execution_count": 12,
   "metadata": {},
   "outputs": [],
   "source": [
    "# Let's remove fare_amount lower than basic fare 2.5$\n",
    "test = test[test.fare_amount >= 2.5]"
   ]
  },
  {
   "cell_type": "code",
   "execution_count": 13,
   "metadata": {},
   "outputs": [
    {
     "name": "stdout",
     "output_type": "stream",
     "text": [
      "the size of test= (493647, 7)\n"
     ]
    },
    {
     "data": {
      "text/html": [
       "<div>\n",
       "<style scoped>\n",
       "    .dataframe tbody tr th:only-of-type {\n",
       "        vertical-align: middle;\n",
       "    }\n",
       "\n",
       "    .dataframe tbody tr th {\n",
       "        vertical-align: top;\n",
       "    }\n",
       "\n",
       "    .dataframe thead th {\n",
       "        text-align: right;\n",
       "    }\n",
       "</style>\n",
       "<table border=\"1\" class=\"dataframe\">\n",
       "  <thead>\n",
       "    <tr style=\"text-align: right;\">\n",
       "      <th></th>\n",
       "      <th>fare_amount</th>\n",
       "      <th>pickup_longitude</th>\n",
       "      <th>pickup_latitude</th>\n",
       "      <th>dropoff_longitude</th>\n",
       "      <th>dropoff_latitude</th>\n",
       "      <th>passenger_count</th>\n",
       "    </tr>\n",
       "  </thead>\n",
       "  <tbody>\n",
       "    <tr>\n",
       "      <th>count</th>\n",
       "      <td>493647.000000</td>\n",
       "      <td>493647.000000</td>\n",
       "      <td>493647.000000</td>\n",
       "      <td>493647.000000</td>\n",
       "      <td>493647.000000</td>\n",
       "      <td>493647.000000</td>\n",
       "    </tr>\n",
       "    <tr>\n",
       "      <th>mean</th>\n",
       "      <td>11.317944</td>\n",
       "      <td>-73.975116</td>\n",
       "      <td>40.751118</td>\n",
       "      <td>-73.974371</td>\n",
       "      <td>40.751465</td>\n",
       "      <td>1.688300</td>\n",
       "    </tr>\n",
       "    <tr>\n",
       "      <th>std</th>\n",
       "      <td>9.597547</td>\n",
       "      <td>0.038448</td>\n",
       "      <td>0.029516</td>\n",
       "      <td>0.037402</td>\n",
       "      <td>0.032704</td>\n",
       "      <td>1.303675</td>\n",
       "    </tr>\n",
       "    <tr>\n",
       "      <th>min</th>\n",
       "      <td>2.500000</td>\n",
       "      <td>-74.260653</td>\n",
       "      <td>40.570152</td>\n",
       "      <td>-74.258545</td>\n",
       "      <td>40.569730</td>\n",
       "      <td>1.000000</td>\n",
       "    </tr>\n",
       "    <tr>\n",
       "      <th>25%</th>\n",
       "      <td>6.000000</td>\n",
       "      <td>-73.992270</td>\n",
       "      <td>40.736595</td>\n",
       "      <td>-73.991594</td>\n",
       "      <td>40.735594</td>\n",
       "      <td>1.000000</td>\n",
       "    </tr>\n",
       "    <tr>\n",
       "      <th>50%</th>\n",
       "      <td>8.500000</td>\n",
       "      <td>-73.982098</td>\n",
       "      <td>40.753420</td>\n",
       "      <td>-73.980644</td>\n",
       "      <td>40.753830</td>\n",
       "      <td>1.000000</td>\n",
       "    </tr>\n",
       "    <tr>\n",
       "      <th>75%</th>\n",
       "      <td>12.500000</td>\n",
       "      <td>-73.968300</td>\n",
       "      <td>40.767581</td>\n",
       "      <td>-73.965452</td>\n",
       "      <td>40.768390</td>\n",
       "      <td>2.000000</td>\n",
       "    </tr>\n",
       "    <tr>\n",
       "      <th>max</th>\n",
       "      <td>218.330000</td>\n",
       "      <td>-72.997301</td>\n",
       "      <td>41.508675</td>\n",
       "      <td>-73.021558</td>\n",
       "      <td>41.589828</td>\n",
       "      <td>6.000000</td>\n",
       "    </tr>\n",
       "  </tbody>\n",
       "</table>\n",
       "</div>"
      ],
      "text/plain": [
       "         fare_amount  pickup_longitude  pickup_latitude  dropoff_longitude  \\\n",
       "count  493647.000000     493647.000000    493647.000000      493647.000000   \n",
       "mean       11.317944        -73.975116        40.751118         -73.974371   \n",
       "std         9.597547          0.038448         0.029516           0.037402   \n",
       "min         2.500000        -74.260653        40.570152         -74.258545   \n",
       "25%         6.000000        -73.992270        40.736595         -73.991594   \n",
       "50%         8.500000        -73.982098        40.753420         -73.980644   \n",
       "75%        12.500000        -73.968300        40.767581         -73.965452   \n",
       "max       218.330000        -72.997301        41.508675         -73.021558   \n",
       "\n",
       "       dropoff_latitude  passenger_count  \n",
       "count     493647.000000    493647.000000  \n",
       "mean          40.751465         1.688300  \n",
       "std            0.032704         1.303675  \n",
       "min           40.569730         1.000000  \n",
       "25%           40.735594         1.000000  \n",
       "50%           40.753830         1.000000  \n",
       "75%           40.768390         2.000000  \n",
       "max           41.589828         6.000000  "
      ]
     },
     "execution_count": 13,
     "metadata": {},
     "output_type": "execute_result"
    }
   ],
   "source": [
    "print('the size of test=', test.shape)\n",
    "test.describe()"
   ]
  },
  {
   "cell_type": "markdown",
   "metadata": {},
   "source": [
    "### Save it to train_s.csv and test_s.csv"
   ]
  },
  {
   "cell_type": "code",
   "execution_count": 14,
   "metadata": {},
   "outputs": [],
   "source": [
    "train.to_csv('./train_s.csv')\n",
    "test.to_csv('./test_s.csv')"
   ]
  },
  {
   "cell_type": "code",
   "execution_count": null,
   "metadata": {},
   "outputs": [],
   "source": []
  }
 ],
 "metadata": {
  "kernelspec": {
   "display_name": "Python 3",
   "language": "python",
   "name": "python3"
  },
  "language_info": {
   "codemirror_mode": {
    "name": "ipython",
    "version": 3
   },
   "file_extension": ".py",
   "mimetype": "text/x-python",
   "name": "python",
   "nbconvert_exporter": "python",
   "pygments_lexer": "ipython3",
   "version": "3.7.3"
  }
 },
 "nbformat": 4,
 "nbformat_minor": 2
}
