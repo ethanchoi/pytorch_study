{
 "cells": [
  {
   "cell_type": "markdown",
   "metadata": {},
   "source": [
    "## New York City Taxi Fare Prediction\n",
    "### Can you predict a rider's taxi fare?\n",
    "\n",
    "\n",
    "This is one of the Kaggle Competition for biginner, alredy completed.\n",
    "Even it is very simple and straitforward for estimation, i thought it will be a good example to practice estimation problem from the scrath. \n",
    "\n",
    "You can refer to here for details, https://www.kaggle.com/c/new-york-city-taxi-fare-prediction "
   ]
  },
  {
   "cell_type": "code",
   "execution_count": 1,
   "metadata": {},
   "outputs": [],
   "source": [
    "import os\n",
    "import sys\n",
    "import time\n",
    "import torch\n",
    "import torch.nn as nn\n",
    "import torch.nn.functional as F\n",
    "\n",
    "import pandas as pd\n",
    "import numpy as np\n",
    "import matplotlib.pyplot as plt\n",
    "\n",
    "from torch.utils.data import Dataset, DataLoader"
   ]
  },
  {
   "cell_type": "code",
   "execution_count": 2,
   "metadata": {},
   "outputs": [
    {
     "data": {
      "text/plain": [
       "['make_dataset.ipynb',\n",
       " 'test_s.csv',\n",
       " 'train_s.csv',\n",
       " '.DS_Store',\n",
       " 'NewYork_City_Taxi_Fare_Prediction_tf_1.ipynb',\n",
       " 'NewYork_City_Taxi_Fare_Prediction_tf.ipynb',\n",
       " 'test.csv',\n",
       " 'submission.csv',\n",
       " 'GCP-Coupons-Instructions.rtf',\n",
       " 'train.csv',\n",
       " '.ipynb_checkpoints',\n",
       " 'sample_submission.csv',\n",
       " 'NewYork_City_Taxi_Fare_Prediction.ipynb']"
      ]
     },
     "execution_count": 2,
     "metadata": {},
     "output_type": "execute_result"
    }
   ],
   "source": [
    "files = os.listdir('./')\n",
    "files"
   ]
  },
  {
   "cell_type": "markdown",
   "metadata": {},
   "source": [
    "### Please download pre-created train_s file which samples 10% of the original file randomly\n",
    "**train_s.csv file download** \n",
    "[train_s.csv](https://drive.google.com/uc?export=download&id=1AbO1jfrwJ0IKSJQactC6msPNub131LAh)\n",
    "<br>**test.csv file download**\n",
    "[test_s.csv](https://drive.google.com/uc?export=download&id=1iE_JilybsBIBpaTveD6vX8AfwaZzI8i8)"
   ]
  },
  {
   "cell_type": "markdown",
   "metadata": {},
   "source": [
    "### Let's read csv data into pandas dataframe\n",
    "It will take some time to load as train_s.csv is a bit huge, about 601MB"
   ]
  },
  {
   "cell_type": "code",
   "execution_count": 3,
   "metadata": {},
   "outputs": [],
   "source": [
    "train_df = pd.read_csv('./train_s.csv', index_col=0)\n",
    "test_df = pd.read_csv('./test_s.csv', index_col=0)"
   ]
  },
  {
   "cell_type": "markdown",
   "metadata": {},
   "source": [
    "**Let's see what the data looks like**"
   ]
  },
  {
   "cell_type": "code",
   "execution_count": 4,
   "metadata": {},
   "outputs": [
    {
     "data": {
      "text/html": [
       "<div>\n",
       "<style scoped>\n",
       "    .dataframe tbody tr th:only-of-type {\n",
       "        vertical-align: middle;\n",
       "    }\n",
       "\n",
       "    .dataframe tbody tr th {\n",
       "        vertical-align: top;\n",
       "    }\n",
       "\n",
       "    .dataframe thead th {\n",
       "        text-align: right;\n",
       "    }\n",
       "</style>\n",
       "<table border=\"1\" class=\"dataframe\">\n",
       "  <thead>\n",
       "    <tr style=\"text-align: right;\">\n",
       "      <th></th>\n",
       "      <th>fare_amount</th>\n",
       "      <th>pickup_datetime</th>\n",
       "      <th>pickup_longitude</th>\n",
       "      <th>pickup_latitude</th>\n",
       "      <th>dropoff_longitude</th>\n",
       "      <th>dropoff_latitude</th>\n",
       "      <th>passenger_count</th>\n",
       "    </tr>\n",
       "    <tr>\n",
       "      <th>key</th>\n",
       "      <th></th>\n",
       "      <th></th>\n",
       "      <th></th>\n",
       "      <th></th>\n",
       "      <th></th>\n",
       "      <th></th>\n",
       "      <th></th>\n",
       "    </tr>\n",
       "  </thead>\n",
       "  <tbody>\n",
       "    <tr>\n",
       "      <th>2011-07-27 19:31:00.000000138</th>\n",
       "      <td>11.7</td>\n",
       "      <td>2011-07-27 19:31:00 UTC</td>\n",
       "      <td>-73.950722</td>\n",
       "      <td>40.779295</td>\n",
       "      <td>-73.97878</td>\n",
       "      <td>40.743513</td>\n",
       "      <td>1</td>\n",
       "    </tr>\n",
       "    <tr>\n",
       "      <th>2012-09-02 17:31:00.000000153</th>\n",
       "      <td>8.9</td>\n",
       "      <td>2012-09-02 17:31:00 UTC</td>\n",
       "      <td>-73.992025</td>\n",
       "      <td>40.735335</td>\n",
       "      <td>-74.00752</td>\n",
       "      <td>40.717647</td>\n",
       "      <td>1</td>\n",
       "    </tr>\n",
       "  </tbody>\n",
       "</table>\n",
       "</div>"
      ],
      "text/plain": [
       "                               fare_amount          pickup_datetime  \\\n",
       "key                                                                   \n",
       "2011-07-27 19:31:00.000000138         11.7  2011-07-27 19:31:00 UTC   \n",
       "2012-09-02 17:31:00.000000153          8.9  2012-09-02 17:31:00 UTC   \n",
       "\n",
       "                               pickup_longitude  pickup_latitude  \\\n",
       "key                                                                \n",
       "2011-07-27 19:31:00.000000138        -73.950722        40.779295   \n",
       "2012-09-02 17:31:00.000000153        -73.992025        40.735335   \n",
       "\n",
       "                               dropoff_longitude  dropoff_latitude  \\\n",
       "key                                                                  \n",
       "2011-07-27 19:31:00.000000138          -73.97878         40.743513   \n",
       "2012-09-02 17:31:00.000000153          -74.00752         40.717647   \n",
       "\n",
       "                               passenger_count  \n",
       "key                                             \n",
       "2011-07-27 19:31:00.000000138                1  \n",
       "2012-09-02 17:31:00.000000153                1  "
      ]
     },
     "execution_count": 4,
     "metadata": {},
     "output_type": "execute_result"
    }
   ],
   "source": [
    "train_df.head(2)"
   ]
  },
  {
   "cell_type": "markdown",
   "metadata": {},
   "source": [
    "### Removing Nan and Outliers"
   ]
  },
  {
   "cell_type": "code",
   "execution_count": 5,
   "metadata": {},
   "outputs": [
    {
     "name": "stdout",
     "output_type": "stream",
     "text": [
      "fare_amount           0\n",
      "pickup_datetime       0\n",
      "pickup_longitude      0\n",
      "pickup_latitude       0\n",
      "dropoff_longitude    27\n",
      "dropoff_latitude     27\n",
      "passenger_count       0\n",
      "dtype: int64 fare_amount          0\n",
      "pickup_datetime      0\n",
      "pickup_longitude     0\n",
      "pickup_latitude      0\n",
      "dropoff_longitude    0\n",
      "dropoff_latitude     0\n",
      "passenger_count      0\n",
      "dtype: int64\n"
     ]
    }
   ],
   "source": [
    "# Let's look over train data if there are Nan in any of features\n",
    "print(train_df.isnull().sum() , test_df.isnull().sum())"
   ]
  },
  {
   "cell_type": "code",
   "execution_count": 6,
   "metadata": {},
   "outputs": [],
   "source": [
    "# Remove missing values\n",
    "train_df = train_df.dropna(how = 'any')"
   ]
  },
  {
   "cell_type": "markdown",
   "metadata": {},
   "source": [
    "### From [the starter code](https://www.kaggle.com/dster/nyc-taxi-fare-starter-kernel-simple-linear-model) \n",
    "\n",
    "Add columns\n",
    "\n",
    "```\n",
    "# Given a dataframe, add two new features 'abs_diff_longitude' and\n",
    "# 'abs_diff_latitude' reprensenting the \"Manhattan vector\" from\n",
    "# the pickup location to the dropoff location.\n",
    "def add_travel_vector_features(df):\n",
    "    df['abs_diff_longitude'] = (df.dropoff_longitude - df.pickup_longitude).abs()\n",
    "    df['abs_diff_latitude'] = (df.dropoff_latitude - df.pickup_latitude).abs()\n",
    "\n",
    "add_travel_vector_features(train_df)\n",
    "```"
   ]
  },
  {
   "cell_type": "code",
   "execution_count": 7,
   "metadata": {},
   "outputs": [],
   "source": [
    "def add_travel_vector_features(df):\n",
    "    df['abs_diff_longitude'] = (df.dropoff_longitude - df.pickup_longitude).abs()\n",
    "    df['abs_diff_latitude'] = (df.dropoff_latitude - df.pickup_latitude).abs()\n",
    "\n",
    "# add longitude, latitude difference to column features\n",
    "add_travel_vector_features(train_df)\n",
    "add_travel_vector_features(test_df)"
   ]
  },
  {
   "cell_type": "markdown",
   "metadata": {},
   "source": [
    "### Filtering out outliers\n",
    "From the starter code<br>\n",
    "\"We expect most of these values to be very small (likely between 0 and 1) since it should all be differences between GPS coordinates within one city. For reference, one degree of latitude is about 69 miles. However, we can see the dataset has extreme values which do not make sense. Let's remove those values from our training set. Based on the scatterplot, it looks like we can safely exclude values above 5\""
   ]
  },
  {
   "cell_type": "code",
   "execution_count": 8,
   "metadata": {},
   "outputs": [],
   "source": [
    "train_df = train_df[(train_df.abs_diff_longitude < 5.0) & (train_df.abs_diff_latitude < 5.0)]"
   ]
  },
  {
   "cell_type": "code",
   "execution_count": 9,
   "metadata": {},
   "outputs": [
    {
     "name": "stdout",
     "output_type": "stream",
     "text": [
      "The size of train data = 4977770\n",
      "The size of test = 493647\n",
      "The types of data = fare_amount           float64\n",
      "pickup_datetime        object\n",
      "pickup_longitude      float64\n",
      "pickup_latitude       float64\n",
      "dropoff_longitude     float64\n",
      "dropoff_latitude      float64\n",
      "passenger_count         int64\n",
      "abs_diff_longitude    float64\n",
      "abs_diff_latitude     float64\n",
      "dtype: object\n"
     ]
    }
   ],
   "source": [
    "## Let's see the size of data again now\n",
    "print('The size of train data =', len(train_df))\n",
    "print('The size of test =', len(test_df))\n",
    "print('The types of data =', train_df.dtypes)"
   ]
  },
  {
   "cell_type": "markdown",
   "metadata": {},
   "source": [
    "### Let's implement your own pytorch code here"
   ]
  },
  {
   "cell_type": "code",
   "execution_count": null,
   "metadata": {},
   "outputs": [],
   "source": []
  }
 ],
 "metadata": {
  "kernelspec": {
   "display_name": "Python 3",
   "language": "python",
   "name": "python3"
  },
  "language_info": {
   "codemirror_mode": {
    "name": "ipython",
    "version": 3
   },
   "file_extension": ".py",
   "mimetype": "text/x-python",
   "name": "python",
   "nbconvert_exporter": "python",
   "pygments_lexer": "ipython3",
   "version": "3.7.3"
  }
 },
 "nbformat": 4,
 "nbformat_minor": 2
}
